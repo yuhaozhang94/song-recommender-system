{
 "cells": [
  {
   "cell_type": "code",
   "execution_count": 1,
   "metadata": {
    "ExecuteTime": {
     "end_time": "2020-07-24T13:17:02.855164Z",
     "start_time": "2020-07-24T13:17:01.148884Z"
    }
   },
   "outputs": [],
   "source": [
    "import numpy as np\n",
    "import pandas as pd"
   ]
  },
  {
   "cell_type": "code",
   "execution_count": 2,
   "metadata": {
    "ExecuteTime": {
     "end_time": "2020-07-24T13:17:08.253784Z",
     "start_time": "2020-07-24T13:17:02.857142Z"
    }
   },
   "outputs": [],
   "source": [
    "data = pd.read_csv('D:/CS608 Project/filtered_triplets.csv', sep=\"\\t\", names=['user_id', 'song_id', 'play_count'])\n",
    "songid = data[['song_id']].drop_duplicates()\n",
    "\n",
    "songs = pd.read_csv('D:/CS608 Project/songs.csv')\n",
    "\n",
    "genre_df = pd.read_csv('D:/CS608 Project/track_genre.txt', header=None, sep='\\t', names=['track_id', 'genre'])\n",
    "genre_df = pd.merge(genre_df, songs[['track_id', 'song_id']], on='track_id', how='inner')\n",
    "genre_df = pd.merge(genre_df, songid, on='song_id', how='inner')\n",
    "genre_df = genre_df[['song_id', 'genre']]\n",
    "\n",
    "data = pd.merge(genre_df[['song_id']], data, on='song_id', how='inner')"
   ]
  },
  {
   "cell_type": "code",
   "execution_count": 3,
   "metadata": {
    "ExecuteTime": {
     "end_time": "2020-07-24T13:17:11.029710Z",
     "start_time": "2020-07-24T13:17:10.539990Z"
    }
   },
   "outputs": [
    {
     "data": {
      "text/html": [
       "<div>\n",
       "<style scoped>\n",
       "    .dataframe tbody tr th:only-of-type {\n",
       "        vertical-align: middle;\n",
       "    }\n",
       "\n",
       "    .dataframe tbody tr th {\n",
       "        vertical-align: top;\n",
       "    }\n",
       "\n",
       "    .dataframe thead th {\n",
       "        text-align: right;\n",
       "    }\n",
       "</style>\n",
       "<table border=\"1\" class=\"dataframe\">\n",
       "  <thead>\n",
       "    <tr style=\"text-align: right;\">\n",
       "      <th></th>\n",
       "      <th>user_id</th>\n",
       "      <th>song_id</th>\n",
       "    </tr>\n",
       "  </thead>\n",
       "  <tbody>\n",
       "    <tr>\n",
       "      <th>count</th>\n",
       "      <td>985609</td>\n",
       "      <td>985609</td>\n",
       "    </tr>\n",
       "    <tr>\n",
       "      <th>unique</th>\n",
       "      <td>41933</td>\n",
       "      <td>93828</td>\n",
       "    </tr>\n",
       "    <tr>\n",
       "      <th>top</th>\n",
       "      <td>b7c24f770be6b802805ac0e2106624a517643c17</td>\n",
       "      <td>SOFRQTD12A81C233C0</td>\n",
       "    </tr>\n",
       "    <tr>\n",
       "      <th>freq</th>\n",
       "      <td>231</td>\n",
       "      <td>4035</td>\n",
       "    </tr>\n",
       "  </tbody>\n",
       "</table>\n",
       "</div>"
      ],
      "text/plain": [
       "                                         user_id             song_id\n",
       "count                                     985609              985609\n",
       "unique                                     41933               93828\n",
       "top     b7c24f770be6b802805ac0e2106624a517643c17  SOFRQTD12A81C233C0\n",
       "freq                                         231                4035"
      ]
     },
     "execution_count": 3,
     "metadata": {},
     "output_type": "execute_result"
    }
   ],
   "source": [
    "data[['user_id', 'song_id']].describe()"
   ]
  },
  {
   "cell_type": "code",
   "execution_count": 4,
   "metadata": {
    "ExecuteTime": {
     "end_time": "2020-07-24T13:17:17.402954Z",
     "start_time": "2020-07-24T13:17:16.579126Z"
    }
   },
   "outputs": [
    {
     "data": {
      "text/html": [
       "<div>\n",
       "<style scoped>\n",
       "    .dataframe tbody tr th:only-of-type {\n",
       "        vertical-align: middle;\n",
       "    }\n",
       "\n",
       "    .dataframe tbody tr th {\n",
       "        vertical-align: top;\n",
       "    }\n",
       "\n",
       "    .dataframe thead th {\n",
       "        text-align: right;\n",
       "    }\n",
       "</style>\n",
       "<table border=\"1\" class=\"dataframe\">\n",
       "  <thead>\n",
       "    <tr style=\"text-align: right;\">\n",
       "      <th></th>\n",
       "      <th>user_id</th>\n",
       "      <th>song_id</th>\n",
       "    </tr>\n",
       "  </thead>\n",
       "  <tbody>\n",
       "    <tr>\n",
       "      <th>count</th>\n",
       "      <td>819961</td>\n",
       "      <td>819961</td>\n",
       "    </tr>\n",
       "    <tr>\n",
       "      <th>unique</th>\n",
       "      <td>41906</td>\n",
       "      <td>21840</td>\n",
       "    </tr>\n",
       "    <tr>\n",
       "      <th>top</th>\n",
       "      <td>b7c24f770be6b802805ac0e2106624a517643c17</td>\n",
       "      <td>SOFRQTD12A81C233C0</td>\n",
       "    </tr>\n",
       "    <tr>\n",
       "      <th>freq</th>\n",
       "      <td>203</td>\n",
       "      <td>4035</td>\n",
       "    </tr>\n",
       "  </tbody>\n",
       "</table>\n",
       "</div>"
      ],
      "text/plain": [
       "                                         user_id             song_id\n",
       "count                                     819961              819961\n",
       "unique                                     41906               21840\n",
       "top     b7c24f770be6b802805ac0e2106624a517643c17  SOFRQTD12A81C233C0\n",
       "freq                                         203                4035"
      ]
     },
     "execution_count": 4,
     "metadata": {},
     "output_type": "execute_result"
    }
   ],
   "source": [
    "user_per_song = data[['user_id', 'song_id']].groupby('song_id').count().reset_index()\n",
    "user_per_song.columns = ['song_id', 'count_user']\n",
    "user_per_song = user_per_song[user_per_song['count_user']>7]\n",
    "\n",
    "data_new = pd.merge(data, user_per_song[['song_id']], on='song_id', how='inner')\n",
    "data_new = data_new[['user_id', 'song_id', 'play_count']]\n",
    "data_new[['user_id', 'song_id']].describe()"
   ]
  },
  {
   "cell_type": "code",
   "execution_count": null,
   "metadata": {},
   "outputs": [],
   "source": [
    "# data_new.to_csv('D:/CS608 Project/triplets_sample.csv', index=None, encoding='UTF-8')"
   ]
  },
  {
   "cell_type": "code",
   "execution_count": 5,
   "metadata": {
    "ExecuteTime": {
     "end_time": "2020-07-24T13:19:21.197642Z",
     "start_time": "2020-07-24T13:19:14.454627Z"
    }
   },
   "outputs": [],
   "source": [
    "df = data_new\n",
    "from sklearn.model_selection import train_test_split\n",
    "X = df[['user_id', 'song_id']].values\n",
    "Y = df[['play_count']].values\n",
    "\n",
    "x_train, x_test, y_train, y_test = train_test_split(X, Y, test_size=0.2, stratify=Y, random_state=2020)"
   ]
  },
  {
   "cell_type": "code",
   "execution_count": 6,
   "metadata": {
    "ExecuteTime": {
     "end_time": "2020-07-24T13:19:22.941025Z",
     "start_time": "2020-07-24T13:19:22.853745Z"
    }
   },
   "outputs": [
    {
     "name": "stdout",
     "output_type": "stream",
     "text": [
      "(655968, 3) (163993, 3)\n"
     ]
    }
   ],
   "source": [
    "triplets_train = pd.concat([pd.DataFrame(x_train), pd.DataFrame(y_train)], axis=1)\n",
    "triplets_test = pd.concat([pd.DataFrame(x_test), pd.DataFrame(y_test)], axis=1)\n",
    "\n",
    "triplets_train.columns = ['user_id', 'song_id', 'play_count']\n",
    "triplets_test.columns = ['user_id', 'song_id', 'play_count']\n",
    "print(triplets_train.shape, triplets_test.shape)"
   ]
  },
  {
   "cell_type": "code",
   "execution_count": null,
   "metadata": {},
   "outputs": [],
   "source": [
    "# triplets_train.to_csv('D:/CS608 Project/triplets_train.csv', index=None)\n",
    "# triplets_test.to_csv('D:/CS608 Project/triplets_test.csv', index=None)"
   ]
  }
 ],
 "metadata": {
  "kernelspec": {
   "display_name": "Python 3",
   "language": "python",
   "name": "python3"
  },
  "language_info": {
   "codemirror_mode": {
    "name": "ipython",
    "version": 3
   },
   "file_extension": ".py",
   "mimetype": "text/x-python",
   "name": "python",
   "nbconvert_exporter": "python",
   "pygments_lexer": "ipython3",
   "version": "3.7.4"
  }
 },
 "nbformat": 4,
 "nbformat_minor": 2
}
