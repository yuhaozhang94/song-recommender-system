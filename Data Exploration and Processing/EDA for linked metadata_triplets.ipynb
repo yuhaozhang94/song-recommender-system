{
 "cells": [
  {
   "cell_type": "markdown",
   "metadata": {},
   "source": [
    "## Data"
   ]
  },
  {
   "cell_type": "code",
   "execution_count": 1,
   "metadata": {},
   "outputs": [],
   "source": [
    "import pandas as pd\n",
    "import sqlite3\n",
    "import matplotlib as plt\n",
    "from pandas import DataFrame\n",
    "import seaborn as sns\n",
    "sns.set_style(\"darkgrid\")"
   ]
  },
  {
   "cell_type": "code",
   "execution_count": 3,
   "metadata": {},
   "outputs": [
    {
     "data": {
      "text/html": [
       "<div>\n",
       "<style scoped>\n",
       "    .dataframe tbody tr th:only-of-type {\n",
       "        vertical-align: middle;\n",
       "    }\n",
       "\n",
       "    .dataframe tbody tr th {\n",
       "        vertical-align: top;\n",
       "    }\n",
       "\n",
       "    .dataframe thead th {\n",
       "        text-align: right;\n",
       "    }\n",
       "</style>\n",
       "<table border=\"1\" class=\"dataframe\">\n",
       "  <thead>\n",
       "    <tr style=\"text-align: right;\">\n",
       "      <th></th>\n",
       "      <th>user_id</th>\n",
       "      <th>song_id</th>\n",
       "      <th>play_count</th>\n",
       "    </tr>\n",
       "  </thead>\n",
       "  <tbody>\n",
       "    <tr>\n",
       "      <td>0</td>\n",
       "      <td>b80344d063b5ccb3212f76538f3d9e43d87dca9e</td>\n",
       "      <td>SOAKIMP12A8C130995</td>\n",
       "      <td>1</td>\n",
       "    </tr>\n",
       "    <tr>\n",
       "      <td>1</td>\n",
       "      <td>b80344d063b5ccb3212f76538f3d9e43d87dca9e</td>\n",
       "      <td>SOAPDEY12A81C210A9</td>\n",
       "      <td>1</td>\n",
       "    </tr>\n",
       "    <tr>\n",
       "      <td>2</td>\n",
       "      <td>b80344d063b5ccb3212f76538f3d9e43d87dca9e</td>\n",
       "      <td>SOBBMDR12A8C13253B</td>\n",
       "      <td>2</td>\n",
       "    </tr>\n",
       "    <tr>\n",
       "      <td>3</td>\n",
       "      <td>b80344d063b5ccb3212f76538f3d9e43d87dca9e</td>\n",
       "      <td>SOBFNSP12AF72A0E22</td>\n",
       "      <td>1</td>\n",
       "    </tr>\n",
       "    <tr>\n",
       "      <td>4</td>\n",
       "      <td>b80344d063b5ccb3212f76538f3d9e43d87dca9e</td>\n",
       "      <td>SOBFOVM12A58A7D494</td>\n",
       "      <td>1</td>\n",
       "    </tr>\n",
       "    <tr>\n",
       "      <td>...</td>\n",
       "      <td>...</td>\n",
       "      <td>...</td>\n",
       "      <td>...</td>\n",
       "    </tr>\n",
       "    <tr>\n",
       "      <td>48373581</td>\n",
       "      <td>b7815dbb206eb2831ce0fe040d0aa537e2e800f7</td>\n",
       "      <td>SOUHHHH12AF729E4AF</td>\n",
       "      <td>2</td>\n",
       "    </tr>\n",
       "    <tr>\n",
       "      <td>48373582</td>\n",
       "      <td>b7815dbb206eb2831ce0fe040d0aa537e2e800f7</td>\n",
       "      <td>SOUJVIT12A8C1451C1</td>\n",
       "      <td>1</td>\n",
       "    </tr>\n",
       "    <tr>\n",
       "      <td>48373583</td>\n",
       "      <td>b7815dbb206eb2831ce0fe040d0aa537e2e800f7</td>\n",
       "      <td>SOUSMXX12AB0185C24</td>\n",
       "      <td>1</td>\n",
       "    </tr>\n",
       "    <tr>\n",
       "      <td>48373584</td>\n",
       "      <td>b7815dbb206eb2831ce0fe040d0aa537e2e800f7</td>\n",
       "      <td>SOWYSKH12AF72A303A</td>\n",
       "      <td>3</td>\n",
       "    </tr>\n",
       "    <tr>\n",
       "      <td>48373585</td>\n",
       "      <td>b7815dbb206eb2831ce0fe040d0aa537e2e800f7</td>\n",
       "      <td>SOYYFLV12A58A7A88F</td>\n",
       "      <td>1</td>\n",
       "    </tr>\n",
       "  </tbody>\n",
       "</table>\n",
       "<p>48373586 rows × 3 columns</p>\n",
       "</div>"
      ],
      "text/plain": [
       "                                           user_id             song_id  \\\n",
       "0         b80344d063b5ccb3212f76538f3d9e43d87dca9e  SOAKIMP12A8C130995   \n",
       "1         b80344d063b5ccb3212f76538f3d9e43d87dca9e  SOAPDEY12A81C210A9   \n",
       "2         b80344d063b5ccb3212f76538f3d9e43d87dca9e  SOBBMDR12A8C13253B   \n",
       "3         b80344d063b5ccb3212f76538f3d9e43d87dca9e  SOBFNSP12AF72A0E22   \n",
       "4         b80344d063b5ccb3212f76538f3d9e43d87dca9e  SOBFOVM12A58A7D494   \n",
       "...                                            ...                 ...   \n",
       "48373581  b7815dbb206eb2831ce0fe040d0aa537e2e800f7  SOUHHHH12AF729E4AF   \n",
       "48373582  b7815dbb206eb2831ce0fe040d0aa537e2e800f7  SOUJVIT12A8C1451C1   \n",
       "48373583  b7815dbb206eb2831ce0fe040d0aa537e2e800f7  SOUSMXX12AB0185C24   \n",
       "48373584  b7815dbb206eb2831ce0fe040d0aa537e2e800f7  SOWYSKH12AF72A303A   \n",
       "48373585  b7815dbb206eb2831ce0fe040d0aa537e2e800f7  SOYYFLV12A58A7A88F   \n",
       "\n",
       "          play_count  \n",
       "0                  1  \n",
       "1                  1  \n",
       "2                  2  \n",
       "3                  1  \n",
       "4                  1  \n",
       "...              ...  \n",
       "48373581           2  \n",
       "48373582           1  \n",
       "48373583           1  \n",
       "48373584           3  \n",
       "48373585           1  \n",
       "\n",
       "[48373586 rows x 3 columns]"
      ]
     },
     "execution_count": 3,
     "metadata": {},
     "output_type": "execute_result"
    }
   ],
   "source": [
    "triplets = pd.read_csv('train_triplets.txt', names=['user_id', 'song_id', 'play_count'], header=None, sep='\\t')\n",
    "triplets"
   ]
  },
  {
   "cell_type": "code",
   "execution_count": 4,
   "metadata": {},
   "outputs": [
    {
     "data": {
      "text/plain": [
       "<sqlite3.Cursor at 0x2c167288f10>"
      ]
     },
     "execution_count": 4,
     "metadata": {},
     "output_type": "execute_result"
    }
   ],
   "source": [
    "conn = sqlite3.connect('track_metadata.db')\n",
    "conn.commit()\n",
    "\n",
    "c = conn.cursor()\n",
    "c.execute('''  \n",
    "SELECT * FROM songs\n",
    "          ''')"
   ]
  },
  {
   "cell_type": "code",
   "execution_count": 5,
   "metadata": {},
   "outputs": [
    {
     "data": {
      "text/html": [
       "<div>\n",
       "<style scoped>\n",
       "    .dataframe tbody tr th:only-of-type {\n",
       "        vertical-align: middle;\n",
       "    }\n",
       "\n",
       "    .dataframe tbody tr th {\n",
       "        vertical-align: top;\n",
       "    }\n",
       "\n",
       "    .dataframe thead th {\n",
       "        text-align: right;\n",
       "    }\n",
       "</style>\n",
       "<table border=\"1\" class=\"dataframe\">\n",
       "  <thead>\n",
       "    <tr style=\"text-align: right;\">\n",
       "      <th></th>\n",
       "      <th>track_id</th>\n",
       "      <th>title</th>\n",
       "      <th>song_id</th>\n",
       "      <th>release</th>\n",
       "      <th>artist_id</th>\n",
       "      <th>artist_mbid</th>\n",
       "      <th>artist_name</th>\n",
       "      <th>duration</th>\n",
       "      <th>artist_familiarity</th>\n",
       "      <th>artist_hottness</th>\n",
       "      <th>year</th>\n",
       "      <th>track_7digitalid</th>\n",
       "      <th>shs_perf</th>\n",
       "      <th>shs_work</th>\n",
       "    </tr>\n",
       "  </thead>\n",
       "  <tbody>\n",
       "    <tr>\n",
       "      <td>0</td>\n",
       "      <td>TRMMMYQ128F932D901</td>\n",
       "      <td>Silent Night</td>\n",
       "      <td>SOQMMHC12AB0180CB8</td>\n",
       "      <td>Monster Ballads X-Mas</td>\n",
       "      <td>ARYZTJS1187B98C555</td>\n",
       "      <td>357ff05d-848a-44cf-b608-cb34b5701ae5</td>\n",
       "      <td>Faster Pussy cat</td>\n",
       "      <td>252.05506</td>\n",
       "      <td>0.649822</td>\n",
       "      <td>0.394032</td>\n",
       "      <td>2003</td>\n",
       "      <td>7032331</td>\n",
       "      <td>-1</td>\n",
       "      <td>0</td>\n",
       "    </tr>\n",
       "    <tr>\n",
       "      <td>1</td>\n",
       "      <td>TRMMMKD128F425225D</td>\n",
       "      <td>Tanssi vaan</td>\n",
       "      <td>SOVFVAK12A8C1350D9</td>\n",
       "      <td>Karkuteillä</td>\n",
       "      <td>ARMVN3U1187FB3A1EB</td>\n",
       "      <td>8d7ef530-a6fd-4f8f-b2e2-74aec765e0f9</td>\n",
       "      <td>Karkkiautomaatti</td>\n",
       "      <td>156.55138</td>\n",
       "      <td>0.439604</td>\n",
       "      <td>0.356992</td>\n",
       "      <td>1995</td>\n",
       "      <td>1514808</td>\n",
       "      <td>-1</td>\n",
       "      <td>0</td>\n",
       "    </tr>\n",
       "    <tr>\n",
       "      <td>2</td>\n",
       "      <td>TRMMMRX128F93187D9</td>\n",
       "      <td>No One Could Ever</td>\n",
       "      <td>SOGTUKN12AB017F4F1</td>\n",
       "      <td>Butter</td>\n",
       "      <td>ARGEKB01187FB50750</td>\n",
       "      <td>3d403d44-36ce-465c-ad43-ae877e65adc4</td>\n",
       "      <td>Hudson Mohawke</td>\n",
       "      <td>138.97098</td>\n",
       "      <td>0.643681</td>\n",
       "      <td>0.437504</td>\n",
       "      <td>2006</td>\n",
       "      <td>6945353</td>\n",
       "      <td>-1</td>\n",
       "      <td>0</td>\n",
       "    </tr>\n",
       "    <tr>\n",
       "      <td>3</td>\n",
       "      <td>TRMMMCH128F425532C</td>\n",
       "      <td>Si Vos Querés</td>\n",
       "      <td>SOBNYVR12A8C13558C</td>\n",
       "      <td>De Culo</td>\n",
       "      <td>ARNWYLR1187B9B2F9C</td>\n",
       "      <td>12be7648-7094-495f-90e6-df4189d68615</td>\n",
       "      <td>Yerba Brava</td>\n",
       "      <td>145.05751</td>\n",
       "      <td>0.448501</td>\n",
       "      <td>0.372349</td>\n",
       "      <td>2003</td>\n",
       "      <td>2168257</td>\n",
       "      <td>-1</td>\n",
       "      <td>0</td>\n",
       "    </tr>\n",
       "    <tr>\n",
       "      <td>4</td>\n",
       "      <td>TRMMMWA128F426B589</td>\n",
       "      <td>Tangle Of Aspens</td>\n",
       "      <td>SOHSBXH12A8C13B0DF</td>\n",
       "      <td>Rene Ablaze Presents Winter Sessions</td>\n",
       "      <td>AREQDTE1269FB37231</td>\n",
       "      <td></td>\n",
       "      <td>Der Mystic</td>\n",
       "      <td>514.29832</td>\n",
       "      <td>0.000000</td>\n",
       "      <td>0.000000</td>\n",
       "      <td>0</td>\n",
       "      <td>2264873</td>\n",
       "      <td>-1</td>\n",
       "      <td>0</td>\n",
       "    </tr>\n",
       "    <tr>\n",
       "      <td>...</td>\n",
       "      <td>...</td>\n",
       "      <td>...</td>\n",
       "      <td>...</td>\n",
       "      <td>...</td>\n",
       "      <td>...</td>\n",
       "      <td>...</td>\n",
       "      <td>...</td>\n",
       "      <td>...</td>\n",
       "      <td>...</td>\n",
       "      <td>...</td>\n",
       "      <td>...</td>\n",
       "      <td>...</td>\n",
       "      <td>...</td>\n",
       "      <td>...</td>\n",
       "    </tr>\n",
       "    <tr>\n",
       "      <td>999995</td>\n",
       "      <td>TRYYYUS12903CD2DF0</td>\n",
       "      <td>O Samba Da Vida</td>\n",
       "      <td>SOTXAME12AB018F136</td>\n",
       "      <td>Pacha V.I.P.</td>\n",
       "      <td>AR7Z4J81187FB3FC59</td>\n",
       "      <td>9d50cb20-7e42-45cc-b0dd-154c3e92a577</td>\n",
       "      <td>Kiko Navarro</td>\n",
       "      <td>217.44281</td>\n",
       "      <td>0.528617</td>\n",
       "      <td>0.411595</td>\n",
       "      <td>0</td>\n",
       "      <td>7522478</td>\n",
       "      <td>-1</td>\n",
       "      <td>0</td>\n",
       "    </tr>\n",
       "    <tr>\n",
       "      <td>999996</td>\n",
       "      <td>TRYYYJO128F426DA37</td>\n",
       "      <td>Jago Chhadeo</td>\n",
       "      <td>SOXQYIQ12A8C137FBB</td>\n",
       "      <td>Naale Baba Lassi Pee Gya</td>\n",
       "      <td>ART5FZD1187B9A7FCF</td>\n",
       "      <td>2357c400-9109-42b6-b3fe-9e2d9f8e3872</td>\n",
       "      <td>Kuldeep Manak</td>\n",
       "      <td>244.16608</td>\n",
       "      <td>0.401500</td>\n",
       "      <td>0.374866</td>\n",
       "      <td>0</td>\n",
       "      <td>1632096</td>\n",
       "      <td>-1</td>\n",
       "      <td>0</td>\n",
       "    </tr>\n",
       "    <tr>\n",
       "      <td>999997</td>\n",
       "      <td>TRYYYMG128F4260ECA</td>\n",
       "      <td>Novemba</td>\n",
       "      <td>SOHODZI12A8C137BB3</td>\n",
       "      <td>Dub_Connected: electronic music</td>\n",
       "      <td>ARZ3R6M1187B9AF750</td>\n",
       "      <td>8b97e9c8-61f5-4615-9a96-276f24204e34</td>\n",
       "      <td>Gabriel Le Mar</td>\n",
       "      <td>553.03791</td>\n",
       "      <td>0.556918</td>\n",
       "      <td>0.336914</td>\n",
       "      <td>0</td>\n",
       "      <td>2219291</td>\n",
       "      <td>-1</td>\n",
       "      <td>0</td>\n",
       "    </tr>\n",
       "    <tr>\n",
       "      <td>999998</td>\n",
       "      <td>TRYYYDJ128F9310A21</td>\n",
       "      <td>Faraday</td>\n",
       "      <td>SOLXGOR12A81C21EB7</td>\n",
       "      <td>The Trance Collection Vol. 2</td>\n",
       "      <td>ARCMCOK1187B9B1073</td>\n",
       "      <td>4ac5f3de-c5ad-475e-ad50-41f1ef9dba20</td>\n",
       "      <td>Elude</td>\n",
       "      <td>484.51873</td>\n",
       "      <td>0.403668</td>\n",
       "      <td>0.256935</td>\n",
       "      <td>0</td>\n",
       "      <td>5472456</td>\n",
       "      <td>-1</td>\n",
       "      <td>0</td>\n",
       "    </tr>\n",
       "    <tr>\n",
       "      <td>999999</td>\n",
       "      <td>TRYYYVU12903CD01E3</td>\n",
       "      <td>Fernweh feat. Sektion Kuchikäschtli</td>\n",
       "      <td>SOWXJXQ12AB0189F43</td>\n",
       "      <td>So Oder So</td>\n",
       "      <td>AR7PLM21187B990D08</td>\n",
       "      <td>3af2b07e-c91c-4160-9bda-f0b9e3144ed3</td>\n",
       "      <td>Texta</td>\n",
       "      <td>295.07873</td>\n",
       "      <td>0.552977</td>\n",
       "      <td>0.454869</td>\n",
       "      <td>2004</td>\n",
       "      <td>8486723</td>\n",
       "      <td>-1</td>\n",
       "      <td>0</td>\n",
       "    </tr>\n",
       "  </tbody>\n",
       "</table>\n",
       "<p>1000000 rows × 14 columns</p>\n",
       "</div>"
      ],
      "text/plain": [
       "                  track_id                                title  \\\n",
       "0       TRMMMYQ128F932D901                         Silent Night   \n",
       "1       TRMMMKD128F425225D                          Tanssi vaan   \n",
       "2       TRMMMRX128F93187D9                    No One Could Ever   \n",
       "3       TRMMMCH128F425532C                        Si Vos Querés   \n",
       "4       TRMMMWA128F426B589                     Tangle Of Aspens   \n",
       "...                    ...                                  ...   \n",
       "999995  TRYYYUS12903CD2DF0                      O Samba Da Vida   \n",
       "999996  TRYYYJO128F426DA37                         Jago Chhadeo   \n",
       "999997  TRYYYMG128F4260ECA                              Novemba   \n",
       "999998  TRYYYDJ128F9310A21                              Faraday   \n",
       "999999  TRYYYVU12903CD01E3  Fernweh feat. Sektion Kuchikäschtli   \n",
       "\n",
       "                   song_id                               release  \\\n",
       "0       SOQMMHC12AB0180CB8                 Monster Ballads X-Mas   \n",
       "1       SOVFVAK12A8C1350D9                           Karkuteillä   \n",
       "2       SOGTUKN12AB017F4F1                                Butter   \n",
       "3       SOBNYVR12A8C13558C                               De Culo   \n",
       "4       SOHSBXH12A8C13B0DF  Rene Ablaze Presents Winter Sessions   \n",
       "...                    ...                                   ...   \n",
       "999995  SOTXAME12AB018F136                          Pacha V.I.P.   \n",
       "999996  SOXQYIQ12A8C137FBB              Naale Baba Lassi Pee Gya   \n",
       "999997  SOHODZI12A8C137BB3       Dub_Connected: electronic music   \n",
       "999998  SOLXGOR12A81C21EB7          The Trance Collection Vol. 2   \n",
       "999999  SOWXJXQ12AB0189F43                            So Oder So   \n",
       "\n",
       "                 artist_id                           artist_mbid  \\\n",
       "0       ARYZTJS1187B98C555  357ff05d-848a-44cf-b608-cb34b5701ae5   \n",
       "1       ARMVN3U1187FB3A1EB  8d7ef530-a6fd-4f8f-b2e2-74aec765e0f9   \n",
       "2       ARGEKB01187FB50750  3d403d44-36ce-465c-ad43-ae877e65adc4   \n",
       "3       ARNWYLR1187B9B2F9C  12be7648-7094-495f-90e6-df4189d68615   \n",
       "4       AREQDTE1269FB37231                                         \n",
       "...                    ...                                   ...   \n",
       "999995  AR7Z4J81187FB3FC59  9d50cb20-7e42-45cc-b0dd-154c3e92a577   \n",
       "999996  ART5FZD1187B9A7FCF  2357c400-9109-42b6-b3fe-9e2d9f8e3872   \n",
       "999997  ARZ3R6M1187B9AF750  8b97e9c8-61f5-4615-9a96-276f24204e34   \n",
       "999998  ARCMCOK1187B9B1073  4ac5f3de-c5ad-475e-ad50-41f1ef9dba20   \n",
       "999999  AR7PLM21187B990D08  3af2b07e-c91c-4160-9bda-f0b9e3144ed3   \n",
       "\n",
       "             artist_name   duration  artist_familiarity  artist_hottness  \\\n",
       "0       Faster Pussy cat  252.05506            0.649822         0.394032   \n",
       "1       Karkkiautomaatti  156.55138            0.439604         0.356992   \n",
       "2         Hudson Mohawke  138.97098            0.643681         0.437504   \n",
       "3            Yerba Brava  145.05751            0.448501         0.372349   \n",
       "4             Der Mystic  514.29832            0.000000         0.000000   \n",
       "...                  ...        ...                 ...              ...   \n",
       "999995      Kiko Navarro  217.44281            0.528617         0.411595   \n",
       "999996     Kuldeep Manak  244.16608            0.401500         0.374866   \n",
       "999997    Gabriel Le Mar  553.03791            0.556918         0.336914   \n",
       "999998             Elude  484.51873            0.403668         0.256935   \n",
       "999999             Texta  295.07873            0.552977         0.454869   \n",
       "\n",
       "        year  track_7digitalid  shs_perf  shs_work  \n",
       "0       2003           7032331        -1         0  \n",
       "1       1995           1514808        -1         0  \n",
       "2       2006           6945353        -1         0  \n",
       "3       2003           2168257        -1         0  \n",
       "4          0           2264873        -1         0  \n",
       "...      ...               ...       ...       ...  \n",
       "999995     0           7522478        -1         0  \n",
       "999996     0           1632096        -1         0  \n",
       "999997     0           2219291        -1         0  \n",
       "999998     0           5472456        -1         0  \n",
       "999999  2004           8486723        -1         0  \n",
       "\n",
       "[1000000 rows x 14 columns]"
      ]
     },
     "execution_count": 5,
     "metadata": {},
     "output_type": "execute_result"
    }
   ],
   "source": [
    "metadata = DataFrame(c.fetchall(), columns=['track_id','title','song_id','release','artist_id','artist_mbid','artist_name','duration','artist_familiarity','artist_hottness','year','track_7digitalid','shs_perf','shs_work'])\n",
    "metadata"
   ]
  },
  {
   "cell_type": "markdown",
   "metadata": {},
   "source": [
    "Since we only can link the metadata and triplet by song_id but link other dataset by track_id. I only keep one trick_id for one song."
   ]
  },
  {
   "cell_type": "code",
   "execution_count": 6,
   "metadata": {},
   "outputs": [],
   "source": [
    "metadata_uniquesong = metadata.drop_duplicates(subset='song_id', keep=\"first\")"
   ]
  },
  {
   "cell_type": "code",
   "execution_count": 7,
   "metadata": {},
   "outputs": [
    {
     "data": {
      "text/html": [
       "<div>\n",
       "<style scoped>\n",
       "    .dataframe tbody tr th:only-of-type {\n",
       "        vertical-align: middle;\n",
       "    }\n",
       "\n",
       "    .dataframe tbody tr th {\n",
       "        vertical-align: top;\n",
       "    }\n",
       "\n",
       "    .dataframe thead th {\n",
       "        text-align: right;\n",
       "    }\n",
       "</style>\n",
       "<table border=\"1\" class=\"dataframe\">\n",
       "  <thead>\n",
       "    <tr style=\"text-align: right;\">\n",
       "      <th></th>\n",
       "      <th>user_id</th>\n",
       "      <th>song_id</th>\n",
       "      <th>play_count</th>\n",
       "      <th>track_id</th>\n",
       "      <th>title</th>\n",
       "      <th>release</th>\n",
       "      <th>artist_id</th>\n",
       "      <th>artist_mbid</th>\n",
       "      <th>artist_name</th>\n",
       "      <th>duration</th>\n",
       "      <th>artist_familiarity</th>\n",
       "      <th>artist_hottness</th>\n",
       "      <th>year</th>\n",
       "      <th>track_7digitalid</th>\n",
       "      <th>shs_perf</th>\n",
       "      <th>shs_work</th>\n",
       "    </tr>\n",
       "  </thead>\n",
       "  <tbody>\n",
       "    <tr>\n",
       "      <td>0</td>\n",
       "      <td>b80344d063b5ccb3212f76538f3d9e43d87dca9e</td>\n",
       "      <td>SOAKIMP12A8C130995</td>\n",
       "      <td>1</td>\n",
       "      <td>TRIQAUQ128F42435AD</td>\n",
       "      <td>The Cove</td>\n",
       "      <td>Thicker Than Water</td>\n",
       "      <td>ARC8CQZ1187B98DECA</td>\n",
       "      <td>ff6e677f-91dd-4986-a174-8db0474b1799</td>\n",
       "      <td>Jack Johnson</td>\n",
       "      <td>112.63955</td>\n",
       "      <td>0.832012</td>\n",
       "      <td>0.677482</td>\n",
       "      <td>0</td>\n",
       "      <td>2093263</td>\n",
       "      <td>-1</td>\n",
       "      <td>0</td>\n",
       "    </tr>\n",
       "    <tr>\n",
       "      <td>1</td>\n",
       "      <td>b80344d063b5ccb3212f76538f3d9e43d87dca9e</td>\n",
       "      <td>SOAPDEY12A81C210A9</td>\n",
       "      <td>1</td>\n",
       "      <td>TRIRLYL128F42539D1</td>\n",
       "      <td>Nothing from Nothing</td>\n",
       "      <td>To Die For</td>\n",
       "      <td>ARHYUI71187FB48366</td>\n",
       "      <td>8a7cf497-dc5c-4523-932d-3fcbc9a69d38</td>\n",
       "      <td>Billy Preston</td>\n",
       "      <td>153.59955</td>\n",
       "      <td>0.580555</td>\n",
       "      <td>0.482492</td>\n",
       "      <td>1974</td>\n",
       "      <td>3072847</td>\n",
       "      <td>-1</td>\n",
       "      <td>0</td>\n",
       "    </tr>\n",
       "    <tr>\n",
       "      <td>2</td>\n",
       "      <td>b80344d063b5ccb3212f76538f3d9e43d87dca9e</td>\n",
       "      <td>SOBBMDR12A8C13253B</td>\n",
       "      <td>2</td>\n",
       "      <td>TRMHBXZ128F4238406</td>\n",
       "      <td>Entre Dos Aguas</td>\n",
       "      <td>Flamenco Para Niños</td>\n",
       "      <td>ARC1SF21187FB51D0F</td>\n",
       "      <td>7bc8dd01-35ea-4b18-a64d-3a364dc76a52</td>\n",
       "      <td>Paco De Lucia</td>\n",
       "      <td>358.24281</td>\n",
       "      <td>0.633119</td>\n",
       "      <td>0.417718</td>\n",
       "      <td>1976</td>\n",
       "      <td>2631392</td>\n",
       "      <td>-1</td>\n",
       "      <td>0</td>\n",
       "    </tr>\n",
       "    <tr>\n",
       "      <td>3</td>\n",
       "      <td>b80344d063b5ccb3212f76538f3d9e43d87dca9e</td>\n",
       "      <td>SOBFNSP12AF72A0E22</td>\n",
       "      <td>1</td>\n",
       "      <td>TRYQMNI128F147C1C7</td>\n",
       "      <td>Under Cold Blue Stars</td>\n",
       "      <td>Under Cold Blue Stars</td>\n",
       "      <td>ARMS97V1187B99DD98</td>\n",
       "      <td>023d64c9-93db-4a20-8c5c-2efa1a53481a</td>\n",
       "      <td>Josh Rouse</td>\n",
       "      <td>266.34404</td>\n",
       "      <td>0.675339</td>\n",
       "      <td>0.509058</td>\n",
       "      <td>2002</td>\n",
       "      <td>413957</td>\n",
       "      <td>-1</td>\n",
       "      <td>0</td>\n",
       "    </tr>\n",
       "    <tr>\n",
       "      <td>4</td>\n",
       "      <td>b80344d063b5ccb3212f76538f3d9e43d87dca9e</td>\n",
       "      <td>SOBFOVM12A58A7D494</td>\n",
       "      <td>1</td>\n",
       "      <td>TRAHZNE128F9341B86</td>\n",
       "      <td>Riot Radio (Soundtrack Version)</td>\n",
       "      <td>Nick &amp; Norah's Infinite Playlist - Original Mo...</td>\n",
       "      <td>ARI4V0E1187B9B6FC2</td>\n",
       "      <td>87ebbe67-3910-4521-a418-4fe53eb912b7</td>\n",
       "      <td>The Dead 60s</td>\n",
       "      <td>141.42649</td>\n",
       "      <td>0.650281</td>\n",
       "      <td>0.451749</td>\n",
       "      <td>0</td>\n",
       "      <td>5674853</td>\n",
       "      <td>-1</td>\n",
       "      <td>0</td>\n",
       "    </tr>\n",
       "    <tr>\n",
       "      <td>...</td>\n",
       "      <td>...</td>\n",
       "      <td>...</td>\n",
       "      <td>...</td>\n",
       "      <td>...</td>\n",
       "      <td>...</td>\n",
       "      <td>...</td>\n",
       "      <td>...</td>\n",
       "      <td>...</td>\n",
       "      <td>...</td>\n",
       "      <td>...</td>\n",
       "      <td>...</td>\n",
       "      <td>...</td>\n",
       "      <td>...</td>\n",
       "      <td>...</td>\n",
       "      <td>...</td>\n",
       "      <td>...</td>\n",
       "    </tr>\n",
       "    <tr>\n",
       "      <td>48373581</td>\n",
       "      <td>b7815dbb206eb2831ce0fe040d0aa537e2e800f7</td>\n",
       "      <td>SOUHHHH12AF729E4AF</td>\n",
       "      <td>2</td>\n",
       "      <td>TRKUAEO128F933ABFC</td>\n",
       "      <td>We're Back</td>\n",
       "      <td>Eminem Presents The Re-Up</td>\n",
       "      <td>ARTH9041187FB43E1F</td>\n",
       "      <td>b95ce3ff-3d05-4e87-9e01-c97b66af13d4</td>\n",
       "      <td>Eminem / Obie Trice / Stat Quo / Bobby Creekwa...</td>\n",
       "      <td>239.69914</td>\n",
       "      <td>0.871011</td>\n",
       "      <td>0.804830</td>\n",
       "      <td>0</td>\n",
       "      <td>4129364</td>\n",
       "      <td>-1</td>\n",
       "      <td>0</td>\n",
       "    </tr>\n",
       "    <tr>\n",
       "      <td>48373582</td>\n",
       "      <td>b7815dbb206eb2831ce0fe040d0aa537e2e800f7</td>\n",
       "      <td>SOUJVIT12A8C1451C1</td>\n",
       "      <td>1</td>\n",
       "      <td>TRRNFHH128F92D262D</td>\n",
       "      <td>Savior</td>\n",
       "      <td>Appeal To Reason</td>\n",
       "      <td>ARZWK2R1187B98F09F</td>\n",
       "      <td>606bf117-494f-4864-891f-09d63ff6aa4b</td>\n",
       "      <td>Rise Against</td>\n",
       "      <td>242.25914</td>\n",
       "      <td>0.847082</td>\n",
       "      <td>0.625080</td>\n",
       "      <td>2008</td>\n",
       "      <td>3609716</td>\n",
       "      <td>-1</td>\n",
       "      <td>0</td>\n",
       "    </tr>\n",
       "    <tr>\n",
       "      <td>48373583</td>\n",
       "      <td>b7815dbb206eb2831ce0fe040d0aa537e2e800f7</td>\n",
       "      <td>SOUSMXX12AB0185C24</td>\n",
       "      <td>1</td>\n",
       "      <td>TRSLDDC12903CC36E7</td>\n",
       "      <td>OMG</td>\n",
       "      <td>OMG - The Remixes</td>\n",
       "      <td>ARPDVPJ1187B9ADBE9</td>\n",
       "      <td>3414d446-735a-443c-931f-10634f57e5b9</td>\n",
       "      <td>Usher featuring will.i.am</td>\n",
       "      <td>395.72853</td>\n",
       "      <td>0.856449</td>\n",
       "      <td>0.854638</td>\n",
       "      <td>2010</td>\n",
       "      <td>8909867</td>\n",
       "      <td>-1</td>\n",
       "      <td>0</td>\n",
       "    </tr>\n",
       "    <tr>\n",
       "      <td>48373584</td>\n",
       "      <td>b7815dbb206eb2831ce0fe040d0aa537e2e800f7</td>\n",
       "      <td>SOWYSKH12AF72A303A</td>\n",
       "      <td>3</td>\n",
       "      <td>TRNJQAM128F14557AF</td>\n",
       "      <td>Downfall (Album Version)</td>\n",
       "      <td>More Than You Think You Are</td>\n",
       "      <td>ARVLXWP1187FB5B94A</td>\n",
       "      <td>75af9d25-cf32-49c0-9192-60bd8e9784e6</td>\n",
       "      <td>matchbox twenty</td>\n",
       "      <td>248.29342</td>\n",
       "      <td>0.768229</td>\n",
       "      <td>0.593682</td>\n",
       "      <td>2002</td>\n",
       "      <td>225112</td>\n",
       "      <td>-1</td>\n",
       "      <td>0</td>\n",
       "    </tr>\n",
       "    <tr>\n",
       "      <td>48373585</td>\n",
       "      <td>b7815dbb206eb2831ce0fe040d0aa537e2e800f7</td>\n",
       "      <td>SOYYFLV12A58A7A88F</td>\n",
       "      <td>1</td>\n",
       "      <td>TRKSGQU128F14824E9</td>\n",
       "      <td>Lying From You (Album Version)</td>\n",
       "      <td>Meteora</td>\n",
       "      <td>ARQUMH41187B9AF699</td>\n",
       "      <td>f59c5520-5f46-4d2c-b2c4-822eabf53419</td>\n",
       "      <td>Linkin Park</td>\n",
       "      <td>175.38567</td>\n",
       "      <td>0.887386</td>\n",
       "      <td>0.791143</td>\n",
       "      <td>2003</td>\n",
       "      <td>449736</td>\n",
       "      <td>-1</td>\n",
       "      <td>0</td>\n",
       "    </tr>\n",
       "  </tbody>\n",
       "</table>\n",
       "<p>48373586 rows × 16 columns</p>\n",
       "</div>"
      ],
      "text/plain": [
       "                                           user_id             song_id  \\\n",
       "0         b80344d063b5ccb3212f76538f3d9e43d87dca9e  SOAKIMP12A8C130995   \n",
       "1         b80344d063b5ccb3212f76538f3d9e43d87dca9e  SOAPDEY12A81C210A9   \n",
       "2         b80344d063b5ccb3212f76538f3d9e43d87dca9e  SOBBMDR12A8C13253B   \n",
       "3         b80344d063b5ccb3212f76538f3d9e43d87dca9e  SOBFNSP12AF72A0E22   \n",
       "4         b80344d063b5ccb3212f76538f3d9e43d87dca9e  SOBFOVM12A58A7D494   \n",
       "...                                            ...                 ...   \n",
       "48373581  b7815dbb206eb2831ce0fe040d0aa537e2e800f7  SOUHHHH12AF729E4AF   \n",
       "48373582  b7815dbb206eb2831ce0fe040d0aa537e2e800f7  SOUJVIT12A8C1451C1   \n",
       "48373583  b7815dbb206eb2831ce0fe040d0aa537e2e800f7  SOUSMXX12AB0185C24   \n",
       "48373584  b7815dbb206eb2831ce0fe040d0aa537e2e800f7  SOWYSKH12AF72A303A   \n",
       "48373585  b7815dbb206eb2831ce0fe040d0aa537e2e800f7  SOYYFLV12A58A7A88F   \n",
       "\n",
       "          play_count            track_id                            title  \\\n",
       "0                  1  TRIQAUQ128F42435AD                         The Cove   \n",
       "1                  1  TRIRLYL128F42539D1             Nothing from Nothing   \n",
       "2                  2  TRMHBXZ128F4238406                  Entre Dos Aguas   \n",
       "3                  1  TRYQMNI128F147C1C7            Under Cold Blue Stars   \n",
       "4                  1  TRAHZNE128F9341B86  Riot Radio (Soundtrack Version)   \n",
       "...              ...                 ...                              ...   \n",
       "48373581           2  TRKUAEO128F933ABFC                       We're Back   \n",
       "48373582           1  TRRNFHH128F92D262D                           Savior   \n",
       "48373583           1  TRSLDDC12903CC36E7                              OMG   \n",
       "48373584           3  TRNJQAM128F14557AF         Downfall (Album Version)   \n",
       "48373585           1  TRKSGQU128F14824E9   Lying From You (Album Version)   \n",
       "\n",
       "                                                    release  \\\n",
       "0                                        Thicker Than Water   \n",
       "1                                                To Die For   \n",
       "2                                       Flamenco Para Niños   \n",
       "3                                     Under Cold Blue Stars   \n",
       "4         Nick & Norah's Infinite Playlist - Original Mo...   \n",
       "...                                                     ...   \n",
       "48373581                          Eminem Presents The Re-Up   \n",
       "48373582                                   Appeal To Reason   \n",
       "48373583                                  OMG - The Remixes   \n",
       "48373584                        More Than You Think You Are   \n",
       "48373585                                            Meteora   \n",
       "\n",
       "                   artist_id                           artist_mbid  \\\n",
       "0         ARC8CQZ1187B98DECA  ff6e677f-91dd-4986-a174-8db0474b1799   \n",
       "1         ARHYUI71187FB48366  8a7cf497-dc5c-4523-932d-3fcbc9a69d38   \n",
       "2         ARC1SF21187FB51D0F  7bc8dd01-35ea-4b18-a64d-3a364dc76a52   \n",
       "3         ARMS97V1187B99DD98  023d64c9-93db-4a20-8c5c-2efa1a53481a   \n",
       "4         ARI4V0E1187B9B6FC2  87ebbe67-3910-4521-a418-4fe53eb912b7   \n",
       "...                      ...                                   ...   \n",
       "48373581  ARTH9041187FB43E1F  b95ce3ff-3d05-4e87-9e01-c97b66af13d4   \n",
       "48373582  ARZWK2R1187B98F09F  606bf117-494f-4864-891f-09d63ff6aa4b   \n",
       "48373583  ARPDVPJ1187B9ADBE9  3414d446-735a-443c-931f-10634f57e5b9   \n",
       "48373584  ARVLXWP1187FB5B94A  75af9d25-cf32-49c0-9192-60bd8e9784e6   \n",
       "48373585  ARQUMH41187B9AF699  f59c5520-5f46-4d2c-b2c4-822eabf53419   \n",
       "\n",
       "                                                artist_name   duration  \\\n",
       "0                                              Jack Johnson  112.63955   \n",
       "1                                             Billy Preston  153.59955   \n",
       "2                                             Paco De Lucia  358.24281   \n",
       "3                                                Josh Rouse  266.34404   \n",
       "4                                              The Dead 60s  141.42649   \n",
       "...                                                     ...        ...   \n",
       "48373581  Eminem / Obie Trice / Stat Quo / Bobby Creekwa...  239.69914   \n",
       "48373582                                       Rise Against  242.25914   \n",
       "48373583                          Usher featuring will.i.am  395.72853   \n",
       "48373584                                    matchbox twenty  248.29342   \n",
       "48373585                                        Linkin Park  175.38567   \n",
       "\n",
       "          artist_familiarity  artist_hottness  year  track_7digitalid  \\\n",
       "0                   0.832012         0.677482     0           2093263   \n",
       "1                   0.580555         0.482492  1974           3072847   \n",
       "2                   0.633119         0.417718  1976           2631392   \n",
       "3                   0.675339         0.509058  2002            413957   \n",
       "4                   0.650281         0.451749     0           5674853   \n",
       "...                      ...              ...   ...               ...   \n",
       "48373581            0.871011         0.804830     0           4129364   \n",
       "48373582            0.847082         0.625080  2008           3609716   \n",
       "48373583            0.856449         0.854638  2010           8909867   \n",
       "48373584            0.768229         0.593682  2002            225112   \n",
       "48373585            0.887386         0.791143  2003            449736   \n",
       "\n",
       "          shs_perf  shs_work  \n",
       "0               -1         0  \n",
       "1               -1         0  \n",
       "2               -1         0  \n",
       "3               -1         0  \n",
       "4               -1         0  \n",
       "...            ...       ...  \n",
       "48373581        -1         0  \n",
       "48373582        -1         0  \n",
       "48373583        -1         0  \n",
       "48373584        -1         0  \n",
       "48373585        -1         0  \n",
       "\n",
       "[48373586 rows x 16 columns]"
      ]
     },
     "execution_count": 7,
     "metadata": {},
     "output_type": "execute_result"
    }
   ],
   "source": [
    "data = pd.merge(triplets, metadata_uniquesong, on='song_id', how='left')\n",
    "data"
   ]
  },
  {
   "cell_type": "code",
   "execution_count": 8,
   "metadata": {},
   "outputs": [
    {
     "data": {
      "text/plain": [
       "user_id               0\n",
       "song_id               0\n",
       "play_count            0\n",
       "track_id              0\n",
       "title                 0\n",
       "release               0\n",
       "artist_id             0\n",
       "artist_mbid           0\n",
       "artist_name           0\n",
       "duration              0\n",
       "artist_familiarity    0\n",
       "artist_hottness       0\n",
       "year                  0\n",
       "track_7digitalid      0\n",
       "shs_perf              0\n",
       "shs_work              0\n",
       "dtype: int64"
      ]
     },
     "execution_count": 8,
     "metadata": {},
     "output_type": "execute_result"
    }
   ],
   "source": [
    "data.isnull().sum()"
   ]
  },
  {
   "cell_type": "code",
   "execution_count": 9,
   "metadata": {},
   "outputs": [
    {
     "data": {
      "text/plain": [
       "False"
      ]
     },
     "execution_count": 9,
     "metadata": {},
     "output_type": "execute_result"
    }
   ],
   "source": [
    "data.duplicated().values.any()"
   ]
  },
  {
   "cell_type": "markdown",
   "metadata": {},
   "source": [
    "Notes:\n",
    "1. No duplicated, no NaN. 100% song_id in triplets can find the corresponding song_id in metadata. "
   ]
  },
  {
   "cell_type": "markdown",
   "metadata": {},
   "source": [
    "## EDA and Feature Selection"
   ]
  },
  {
   "cell_type": "markdown",
   "metadata": {},
   "source": [
    "1> Play count"
   ]
  },
  {
   "cell_type": "code",
   "execution_count": 19,
   "metadata": {},
   "outputs": [
    {
     "data": {
      "text/html": [
       "<div>\n",
       "<style scoped>\n",
       "    .dataframe tbody tr th:only-of-type {\n",
       "        vertical-align: middle;\n",
       "    }\n",
       "\n",
       "    .dataframe tbody tr th {\n",
       "        vertical-align: top;\n",
       "    }\n",
       "\n",
       "    .dataframe thead th {\n",
       "        text-align: right;\n",
       "    }\n",
       "</style>\n",
       "<table border=\"1\" class=\"dataframe\">\n",
       "  <thead>\n",
       "    <tr style=\"text-align: right;\">\n",
       "      <th></th>\n",
       "      <th>0</th>\n",
       "      <th>1</th>\n",
       "      <th>2</th>\n",
       "      <th>3</th>\n",
       "      <th>4</th>\n",
       "      <th>5</th>\n",
       "      <th>6</th>\n",
       "      <th>7</th>\n",
       "    </tr>\n",
       "  </thead>\n",
       "  <tbody>\n",
       "    <tr>\n",
       "      <td>index</td>\n",
       "      <td>count</td>\n",
       "      <td>mean</td>\n",
       "      <td>std</td>\n",
       "      <td>min</td>\n",
       "      <td>25%</td>\n",
       "      <td>50%</td>\n",
       "      <td>75%</td>\n",
       "      <td>max</td>\n",
       "    </tr>\n",
       "    <tr>\n",
       "      <td>play_count</td>\n",
       "      <td>4.83736e+07</td>\n",
       "      <td>2.86686</td>\n",
       "      <td>6.43772</td>\n",
       "      <td>1</td>\n",
       "      <td>1</td>\n",
       "      <td>1</td>\n",
       "      <td>3</td>\n",
       "      <td>9667</td>\n",
       "    </tr>\n",
       "  </tbody>\n",
       "</table>\n",
       "</div>"
      ],
      "text/plain": [
       "                      0        1        2    3    4    5    6     7\n",
       "index             count     mean      std  min  25%  50%  75%   max\n",
       "play_count  4.83736e+07  2.86686  6.43772    1    1    1    3  9667"
      ]
     },
     "execution_count": 19,
     "metadata": {},
     "output_type": "execute_result"
    }
   ],
   "source": [
    "data.play_count.describe().reset_index().T"
   ]
  },
  {
   "cell_type": "code",
   "execution_count": 21,
   "metadata": {},
   "outputs": [
    {
     "name": "stdout",
     "output_type": "stream",
     "text": [
      "2534 users, 0.01% of total play counts, listening a single more than 200 times\n"
     ]
    },
    {
     "data": {
      "text/html": [
       "<div>\n",
       "<style scoped>\n",
       "    .dataframe tbody tr th:only-of-type {\n",
       "        vertical-align: middle;\n",
       "    }\n",
       "\n",
       "    .dataframe tbody tr th {\n",
       "        vertical-align: top;\n",
       "    }\n",
       "\n",
       "    .dataframe thead th {\n",
       "        text-align: right;\n",
       "    }\n",
       "</style>\n",
       "<table border=\"1\" class=\"dataframe\">\n",
       "  <thead>\n",
       "    <tr style=\"text-align: right;\">\n",
       "      <th></th>\n",
       "      <th>0</th>\n",
       "      <th>1</th>\n",
       "      <th>2</th>\n",
       "      <th>3</th>\n",
       "      <th>4</th>\n",
       "      <th>5</th>\n",
       "      <th>6</th>\n",
       "      <th>7</th>\n",
       "    </tr>\n",
       "  </thead>\n",
       "  <tbody>\n",
       "    <tr>\n",
       "      <td>index</td>\n",
       "      <td>count</td>\n",
       "      <td>mean</td>\n",
       "      <td>std</td>\n",
       "      <td>min</td>\n",
       "      <td>25%</td>\n",
       "      <td>50%</td>\n",
       "      <td>75%</td>\n",
       "      <td>max</td>\n",
       "    </tr>\n",
       "    <tr>\n",
       "      <td>play_count</td>\n",
       "      <td>3120</td>\n",
       "      <td>332.184</td>\n",
       "      <td>276.244</td>\n",
       "      <td>201</td>\n",
       "      <td>225</td>\n",
       "      <td>264</td>\n",
       "      <td>342.25</td>\n",
       "      <td>9667</td>\n",
       "    </tr>\n",
       "  </tbody>\n",
       "</table>\n",
       "</div>"
      ],
      "text/plain": [
       "                0        1        2    3    4    5       6     7\n",
       "index       count     mean      std  min  25%  50%     75%   max\n",
       "play_count   3120  332.184  276.244  201  225  264  342.25  9667"
      ]
     },
     "metadata": {},
     "output_type": "display_data"
    }
   ],
   "source": [
    "print('{:d} users, {:.2%} of total play counts, listening a single more than 200 times'.format(\n",
    "    data.user_id[data.play_count>200].unique().shape[0],\n",
    "    data.play_count[data.play_count>200].count()/data.shape[0]))\n",
    "display(data.play_count[data.play_count>200].describe().reset_index().T)"
   ]
  },
  {
   "cell_type": "markdown",
   "metadata": {},
   "source": [
    "2> Title"
   ]
  },
  {
   "cell_type": "code",
   "execution_count": 10,
   "metadata": {},
   "outputs": [
    {
     "data": {
      "text/html": [
       "<div>\n",
       "<style scoped>\n",
       "    .dataframe tbody tr th:only-of-type {\n",
       "        vertical-align: middle;\n",
       "    }\n",
       "\n",
       "    .dataframe tbody tr th {\n",
       "        vertical-align: top;\n",
       "    }\n",
       "\n",
       "    .dataframe thead th {\n",
       "        text-align: right;\n",
       "    }\n",
       "</style>\n",
       "<table border=\"1\" class=\"dataframe\">\n",
       "  <thead>\n",
       "    <tr style=\"text-align: right;\">\n",
       "      <th></th>\n",
       "      <th>user_id</th>\n",
       "      <th>song_id</th>\n",
       "      <th>play_count</th>\n",
       "      <th>track_id</th>\n",
       "      <th>release</th>\n",
       "      <th>artist_id</th>\n",
       "      <th>artist_mbid</th>\n",
       "      <th>artist_name</th>\n",
       "      <th>duration</th>\n",
       "      <th>artist_familiarity</th>\n",
       "      <th>artist_hottness</th>\n",
       "      <th>year</th>\n",
       "      <th>track_7digitalid</th>\n",
       "      <th>shs_perf</th>\n",
       "      <th>shs_work</th>\n",
       "    </tr>\n",
       "    <tr>\n",
       "      <th>title</th>\n",
       "      <th></th>\n",
       "      <th></th>\n",
       "      <th></th>\n",
       "      <th></th>\n",
       "      <th></th>\n",
       "      <th></th>\n",
       "      <th></th>\n",
       "      <th></th>\n",
       "      <th></th>\n",
       "      <th></th>\n",
       "      <th></th>\n",
       "      <th></th>\n",
       "      <th></th>\n",
       "      <th></th>\n",
       "      <th></th>\n",
       "    </tr>\n",
       "  </thead>\n",
       "  <tbody>\n",
       "    <tr>\n",
       "      <td></td>\n",
       "      <td>65</td>\n",
       "      <td>65</td>\n",
       "      <td>65</td>\n",
       "      <td>65</td>\n",
       "      <td>65</td>\n",
       "      <td>65</td>\n",
       "      <td>65</td>\n",
       "      <td>65</td>\n",
       "      <td>65</td>\n",
       "      <td>65</td>\n",
       "      <td>65</td>\n",
       "      <td>65</td>\n",
       "      <td>65</td>\n",
       "      <td>65</td>\n",
       "      <td>65</td>\n",
       "    </tr>\n",
       "    <tr>\n",
       "      <td>\u0018Till Kingdom Come</td>\n",
       "      <td>34</td>\n",
       "      <td>34</td>\n",
       "      <td>34</td>\n",
       "      <td>34</td>\n",
       "      <td>34</td>\n",
       "      <td>34</td>\n",
       "      <td>34</td>\n",
       "      <td>34</td>\n",
       "      <td>34</td>\n",
       "      <td>34</td>\n",
       "      <td>34</td>\n",
       "      <td>34</td>\n",
       "      <td>34</td>\n",
       "      <td>34</td>\n",
       "      <td>34</td>\n",
       "    </tr>\n",
       "    <tr>\n",
       "      <td>\u0018tits Yeux Noirs</td>\n",
       "      <td>2</td>\n",
       "      <td>2</td>\n",
       "      <td>2</td>\n",
       "      <td>2</td>\n",
       "      <td>2</td>\n",
       "      <td>2</td>\n",
       "      <td>2</td>\n",
       "      <td>2</td>\n",
       "      <td>2</td>\n",
       "      <td>2</td>\n",
       "      <td>2</td>\n",
       "      <td>2</td>\n",
       "      <td>2</td>\n",
       "      <td>2</td>\n",
       "      <td>2</td>\n",
       "    </tr>\n",
       "    <tr>\n",
       "      <td>Ef Ég Hefði Aldrei...</td>\n",
       "      <td>14</td>\n",
       "      <td>14</td>\n",
       "      <td>14</td>\n",
       "      <td>14</td>\n",
       "      <td>14</td>\n",
       "      <td>14</td>\n",
       "      <td>14</td>\n",
       "      <td>14</td>\n",
       "      <td>14</td>\n",
       "      <td>14</td>\n",
       "      <td>14</td>\n",
       "      <td>14</td>\n",
       "      <td>14</td>\n",
       "      <td>14</td>\n",
       "      <td>14</td>\n",
       "    </tr>\n",
       "    <tr>\n",
       "      <td>Further Complications.</td>\n",
       "      <td>26</td>\n",
       "      <td>26</td>\n",
       "      <td>26</td>\n",
       "      <td>26</td>\n",
       "      <td>26</td>\n",
       "      <td>26</td>\n",
       "      <td>26</td>\n",
       "      <td>26</td>\n",
       "      <td>26</td>\n",
       "      <td>26</td>\n",
       "      <td>26</td>\n",
       "      <td>26</td>\n",
       "      <td>26</td>\n",
       "      <td>26</td>\n",
       "      <td>26</td>\n",
       "    </tr>\n",
       "    <tr>\n",
       "      <td>...</td>\n",
       "      <td>...</td>\n",
       "      <td>...</td>\n",
       "      <td>...</td>\n",
       "      <td>...</td>\n",
       "      <td>...</td>\n",
       "      <td>...</td>\n",
       "      <td>...</td>\n",
       "      <td>...</td>\n",
       "      <td>...</td>\n",
       "      <td>...</td>\n",
       "      <td>...</td>\n",
       "      <td>...</td>\n",
       "      <td>...</td>\n",
       "      <td>...</td>\n",
       "      <td>...</td>\n",
       "    </tr>\n",
       "    <tr>\n",
       "      <td>Þú ert jörðin</td>\n",
       "      <td>70</td>\n",
       "      <td>70</td>\n",
       "      <td>70</td>\n",
       "      <td>70</td>\n",
       "      <td>70</td>\n",
       "      <td>70</td>\n",
       "      <td>70</td>\n",
       "      <td>70</td>\n",
       "      <td>70</td>\n",
       "      <td>70</td>\n",
       "      <td>70</td>\n",
       "      <td>70</td>\n",
       "      <td>70</td>\n",
       "      <td>70</td>\n",
       "      <td>70</td>\n",
       "    </tr>\n",
       "    <tr>\n",
       "      <td>Þú ert sólin</td>\n",
       "      <td>78</td>\n",
       "      <td>78</td>\n",
       "      <td>78</td>\n",
       "      <td>78</td>\n",
       "      <td>78</td>\n",
       "      <td>78</td>\n",
       "      <td>78</td>\n",
       "      <td>78</td>\n",
       "      <td>78</td>\n",
       "      <td>78</td>\n",
       "      <td>78</td>\n",
       "      <td>78</td>\n",
       "      <td>78</td>\n",
       "      <td>78</td>\n",
       "      <td>78</td>\n",
       "    </tr>\n",
       "    <tr>\n",
       "      <td>ça Me Fait Du Bien</td>\n",
       "      <td>24</td>\n",
       "      <td>24</td>\n",
       "      <td>24</td>\n",
       "      <td>24</td>\n",
       "      <td>24</td>\n",
       "      <td>24</td>\n",
       "      <td>24</td>\n",
       "      <td>24</td>\n",
       "      <td>24</td>\n",
       "      <td>24</td>\n",
       "      <td>24</td>\n",
       "      <td>24</td>\n",
       "      <td>24</td>\n",
       "      <td>24</td>\n",
       "      <td>24</td>\n",
       "    </tr>\n",
       "    <tr>\n",
       "      <td>étienne d'août</td>\n",
       "      <td>136</td>\n",
       "      <td>136</td>\n",
       "      <td>136</td>\n",
       "      <td>136</td>\n",
       "      <td>136</td>\n",
       "      <td>136</td>\n",
       "      <td>136</td>\n",
       "      <td>136</td>\n",
       "      <td>136</td>\n",
       "      <td>136</td>\n",
       "      <td>136</td>\n",
       "      <td>136</td>\n",
       "      <td>136</td>\n",
       "      <td>136</td>\n",
       "      <td>136</td>\n",
       "    </tr>\n",
       "    <tr>\n",
       "      <td>þetta Gerist á Bestu Bæjum</td>\n",
       "      <td>62</td>\n",
       "      <td>62</td>\n",
       "      <td>62</td>\n",
       "      <td>62</td>\n",
       "      <td>62</td>\n",
       "      <td>62</td>\n",
       "      <td>62</td>\n",
       "      <td>62</td>\n",
       "      <td>62</td>\n",
       "      <td>62</td>\n",
       "      <td>62</td>\n",
       "      <td>62</td>\n",
       "      <td>62</td>\n",
       "      <td>62</td>\n",
       "      <td>62</td>\n",
       "    </tr>\n",
       "  </tbody>\n",
       "</table>\n",
       "<p>306841 rows × 15 columns</p>\n",
       "</div>"
      ],
      "text/plain": [
       "                            user_id  song_id  play_count  track_id  release  \\\n",
       "title                                                                         \n",
       "                                 65       65          65        65       65   \n",
       "\u0018Till Kingdom Come               34       34          34        34       34   \n",
       "\u0018tits Yeux Noirs                  2        2           2         2        2   \n",
       "\n",
       "Ef Ég Hefði Aldrei...           14       14          14        14       14   \n",
       "\n",
       "Further Complications.          26       26          26        26       26   \n",
       "...                             ...      ...         ...       ...      ...   \n",
       "Þú ert jörðin                    70       70          70        70       70   \n",
       "Þú ert sólin                     78       78          78        78       78   \n",
       "ça Me Fait Du Bien               24       24          24        24       24   \n",
       "étienne d'août                  136      136         136       136      136   \n",
       "þetta Gerist á Bestu Bæjum       62       62          62        62       62   \n",
       "\n",
       "                            artist_id  artist_mbid  artist_name  duration  \\\n",
       "title                                                                       \n",
       "                                   65           65           65        65   \n",
       "\u0018Till Kingdom Come                 34           34           34        34   \n",
       "\u0018tits Yeux Noirs                    2            2            2         2   \n",
       "\n",
       "Ef Ég Hefði Aldrei...             14           14           14        14   \n",
       "\n",
       "Further Complications.            26           26           26        26   \n",
       "...                               ...          ...          ...       ...   \n",
       "Þú ert jörðin                      70           70           70        70   \n",
       "Þú ert sólin                       78           78           78        78   \n",
       "ça Me Fait Du Bien                 24           24           24        24   \n",
       "étienne d'août                    136          136          136       136   \n",
       "þetta Gerist á Bestu Bæjum         62           62           62        62   \n",
       "\n",
       "                            artist_familiarity  artist_hottness  year  \\\n",
       "title                                                                   \n",
       "                                            65               65    65   \n",
       "\u0018Till Kingdom Come                          34               34    34   \n",
       "\u0018tits Yeux Noirs                             2                2     2   \n",
       "\n",
       "Ef Ég Hefði Aldrei...                      14               14    14   \n",
       "\n",
       "Further Complications.                     26               26    26   \n",
       "...                                        ...              ...   ...   \n",
       "Þú ert jörðin                               70               70    70   \n",
       "Þú ert sólin                                78               78    78   \n",
       "ça Me Fait Du Bien                          24               24    24   \n",
       "étienne d'août                             136              136   136   \n",
       "þetta Gerist á Bestu Bæjum                  62               62    62   \n",
       "\n",
       "                            track_7digitalid  shs_perf  shs_work  \n",
       "title                                                             \n",
       "                                          65        65        65  \n",
       "\u0018Till Kingdom Come                        34        34        34  \n",
       "\u0018tits Yeux Noirs                           2         2         2  \n",
       "\n",
       "Ef Ég Hefði Aldrei...                    14        14        14  \n",
       "\n",
       "Further Complications.                   26        26        26  \n",
       "...                                      ...       ...       ...  \n",
       "Þú ert jörðin                             70        70        70  \n",
       "Þú ert sólin                              78        78        78  \n",
       "ça Me Fait Du Bien                        24        24        24  \n",
       "étienne d'août                           136       136       136  \n",
       "þetta Gerist á Bestu Bæjum                62        62        62  \n",
       "\n",
       "[306841 rows x 15 columns]"
      ]
     },
     "execution_count": 10,
     "metadata": {},
     "output_type": "execute_result"
    }
   ],
   "source": [
    "count = data.groupby('title').count()\n",
    "count"
   ]
  },
  {
   "cell_type": "code",
   "execution_count": 11,
   "metadata": {},
   "outputs": [
    {
     "data": {
      "text/plain": [
       "title\n",
       "Sehr kosmisch                                                          110479\n",
       "Undo                                                                    90479\n",
       "Dog Days Are Over (Radio Edit)                                          90444\n",
       "You're The One                                                          89287\n",
       "Revelry                                                                 80666\n",
       "Secrets                                                                 79260\n",
       "Horn Concerto No. 4 in E flat K495: II. Romance (Andante cantabile)     69487\n",
       "Fireflies                                                               64933\n",
       "Hey_ Soul Sister                                                        63809\n",
       "Tive Sim                                                                58621\n",
       "Name: user_id, dtype: int64"
      ]
     },
     "execution_count": 11,
     "metadata": {},
     "output_type": "execute_result"
    }
   ],
   "source": [
    "count['user_id'].nlargest(10)"
   ]
  },
  {
   "cell_type": "markdown",
   "metadata": {},
   "source": [
    "3> Artist"
   ]
  },
  {
   "cell_type": "code",
   "execution_count": 15,
   "metadata": {},
   "outputs": [
    {
     "data": {
      "text/plain": [
       "artist_name\n",
       "!!!                  3456\n",
       "!Deladap               25\n",
       "#Poundsign#             2\n",
       "$jammie the Money       1\n",
       "& And Oceans          100\n",
       "                     ... \n",
       "Íon                   118\n",
       "Ólafur Arnalds       3971\n",
       "Órla Fallon            59\n",
       "Özlem Tekin            43\n",
       "üNN                    24\n",
       "Name: user_id, Length: 42055, dtype: int64"
      ]
     },
     "execution_count": 15,
     "metadata": {},
     "output_type": "execute_result"
    }
   ],
   "source": [
    "famous_artist = (data.groupby('artist_name'))['user_id'].count()\n",
    "famous_artist"
   ]
  },
  {
   "cell_type": "code",
   "execution_count": 33,
   "metadata": {},
   "outputs": [
    {
     "data": {
      "text/plain": [
       "artist_name\n",
       "Coldplay                        412421\n",
       "The Black Keys                  264646\n",
       "Kings Of Leon                   257290\n",
       "Florence + The Machine          235223\n",
       "Jack Johnson                    229986\n",
       "The Killers                     220470\n",
       "Radiohead                       210260\n",
       "Daft Punk                       201145\n",
       "Muse                            198776\n",
       "Justin Bieber                   188485\n",
       "Eminem                          169551\n",
       "Train                           168072\n",
       "Metallica                       158616\n",
       "Linkin Park                     158488\n",
       "John Mayer                      154520\n",
       "OneRepublic                     151336\n",
       "Guns N' Roses                   137288\n",
       "Taylor Swift                    135390\n",
       "Creedence Clearwater Revival    122607\n",
       "Amy Winehouse                   119401\n",
       "Björk                           118804\n",
       "The All-American Rejects        115892\n",
       "Black Eyed Peas                 114644\n",
       "Beyoncé                         114256\n",
       "Gorillaz                        113771\n",
       "Foo Fighters                    113765\n",
       "Rise Against                    112455\n",
       "Vampire Weekend                 111837\n",
       "Harmonia                        110730\n",
       "Rihanna                         105253\n",
       "Name: user_id, dtype: int64"
      ]
     },
     "execution_count": 33,
     "metadata": {},
     "output_type": "execute_result"
    }
   ],
   "source": [
    "famous_artist.nlargest(30)"
   ]
  },
  {
   "cell_type": "markdown",
   "metadata": {},
   "source": [
    "4> Duration"
   ]
  },
  {
   "cell_type": "code",
   "execution_count": 35,
   "metadata": {},
   "outputs": [
    {
     "data": {
      "text/plain": [
       "count    48373586.0\n",
       "mean          249.0\n",
       "std            97.0\n",
       "min             1.0\n",
       "25%           198.0\n",
       "50%           234.0\n",
       "75%           278.0\n",
       "max          3035.0\n",
       "Name: duration, dtype: float64"
      ]
     },
     "execution_count": 35,
     "metadata": {},
     "output_type": "execute_result"
    }
   ],
   "source": [
    "data['duration'].describe().round()"
   ]
  },
  {
   "cell_type": "code",
   "execution_count": 32,
   "metadata": {},
   "outputs": [
    {
     "data": {
      "image/png": "[encoded data removed]",
      "text/plain": [
       "<Figure size 432x288 with 1 Axes>"
      ]
     },
     "metadata": {
      "needs_background": "light"
     },
     "output_type": "display_data"
    }
   ],
   "source": [
    "hist = data['duration'].hist(bins=100)"
   ]
  },
  {
   "cell_type": "markdown",
   "metadata": {},
   "source": [
    "It seems that the distribution of song times peaks at about 3.5-4.0 minutes with few songs extending beyond 10 minutes. A reasonable next step would seem to be looking at how the duration of songs has changed over time."
   ]
  },
  {
   "cell_type": "code",
   "execution_count": 18,
   "metadata": {},
   "outputs": [
    {
     "data": {
      "text/plain": [
       "<seaborn.axisgrid.FacetGrid at 0x2c13e8143c8>"
      ]
     },
     "execution_count": 18,
     "metadata": {},
     "output_type": "execute_result"
    },
    {
     "data": {
      "image/png": "[encoded data removed]",
      "text/plain": [
       "<Figure size 1080x360 with 1 Axes>"
      ]
     },
     "metadata": {
      "needs_background": "light"
     },
     "output_type": "display_data"
    }
   ],
   "source": [
    "sns.catplot(x=\"year\",y=\"duration\",kind='box',data=data,height=5,aspect=3)"
   ]
  },
  {
   "cell_type": "markdown",
   "metadata": {},
   "source": [
    "5> Artist Fimilarity: artist_familiarity refers to how well known the artist is."
   ]
  },
  {
   "cell_type": "code",
   "execution_count": 23,
   "metadata": {},
   "outputs": [
    {
     "data": {
      "text/plain": [
       "array(['Akon', 'Akon / Snoop Dogg', 'Akon / Sweet Rush',\n",
       "       'Akon / Wyclef Jean', 'Jim Jones'], dtype=object)"
      ]
     },
     "execution_count": 23,
     "metadata": {},
     "output_type": "execute_result"
    }
   ],
   "source": [
    "data[data['artist_familiarity']==1]['artist_name'].unique()"
   ]
  },
  {
   "cell_type": "markdown",
   "metadata": {},
   "source": [
    "6> Artist Hottness: artist_hotttnesss refers to how much buzz the artist is getting."
   ]
  },
  {
   "cell_type": "code",
   "execution_count": 29,
   "metadata": {},
   "outputs": [
    {
     "data": {
      "text/plain": [
       "array([0.67748248, 0.48249233, 0.41771845, 0.50905825, 0.45174921,\n",
       "       0.43697446, 0.41206926, 0.4996415 , 0.49807745, 1.08250256])"
      ]
     },
     "execution_count": 29,
     "metadata": {},
     "output_type": "execute_result"
    }
   ],
   "source": [
    "lis = data['artist_hottness'].unique()[:10]\n",
    "lis"
   ]
  },
  {
   "cell_type": "code",
   "execution_count": 32,
   "metadata": {},
   "outputs": [
    {
     "data": {
      "text/plain": [
       "array(['Jack Johnson', 'Billy Preston', 'Paco De Lucia', 'Josh Rouse',\n",
       "       'The Dead 60s', 'Amset', 'Jorge Drexler', 'Eric Hutchinson',\n",
       "       'Kanye West',\n",
       "       'Jack Johnson / Matt Costa / Zach Gill / Dan Lebowitz / Steve Adams',\n",
       "       'Jack Johnson / Paula Fuga', 'Kanye West / GLC / Consequence',\n",
       "       'Kanye West / Jay-Z / J. Ivy',\n",
       "       'Jorge Drexler / Jeff Eckels / Carina Voly / John Vriesacker / Ana Laan / Leo Sidran / Ben Sidran',\n",
       "       'Kanye West / Syleena Johnson', 'Kanye West / Jay-Z',\n",
       "       'Kanye West / Mos Def / Freeway / The Boys Choir Of Harlem',\n",
       "       'Kanye West / Mos Def', 'Jack Johnson / Kawika Kahiapo',\n",
       "       'Global Deejays Feat. Rozalla',\n",
       "       \"Kanye West / Consequence / Cam'Ron\", 'Jack Johnson / Matt Costa',\n",
       "       'Kanye West / Kid Cudi',\n",
       "       'Kanye West / Talib Kweli / Q-Tip / Common / Rhymefest',\n",
       "       'Kanye West / Mos Def / Al Be Back', 'Jack Johnson / G. Love',\n",
       "       'Kanye West / John Legend / Consequence',\n",
       "       'Paco De Lucia / Joaquin Rodrigo / Orquesta De Cadaques',\n",
       "       'Paco De Lucia / Pepe Lucia / Raul Bailaor / Ramon Algeciras',\n",
       "       'Kanye West / Lil Wayne', 'Paco De Lucia / Manolo Sanlucar',\n",
       "       'Paco De Lucia / John McLaughlin / Al Meola', 'Stevie B',\n",
       "       'Kanye West / Paul Wall / GLC',\n",
       "       'Jack Johnson and Friends / Matt Costa',\n",
       "       'Paco De Lucia / Ramón Algeciras', 'Jack Johnson / Ben Harper',\n",
       "       'Paco De Lucia / Camaron De La Isla'], dtype=object)"
      ]
     },
     "execution_count": 32,
     "metadata": {},
     "output_type": "execute_result"
    }
   ],
   "source": [
    "data[data['artist_hottness'].isin(lis)]['artist_name'].unique()"
   ]
  },
  {
   "cell_type": "markdown",
   "metadata": {},
   "source": [
    "Relationship between the artist with highest familarity/hottness and the artists appears most frequently in the triplet dataset?"
   ]
  },
  {
   "cell_type": "markdown",
   "metadata": {},
   "source": [
    "7> Year"
   ]
  },
  {
   "cell_type": "code",
   "execution_count": 36,
   "metadata": {},
   "outputs": [
    {
     "data": {
      "text/plain": [
       "count    48373586.0\n",
       "mean         1605.0\n",
       "std           797.0\n",
       "min             0.0\n",
       "25%          1981.0\n",
       "50%          2001.0\n",
       "75%          2007.0\n",
       "max          2011.0\n",
       "Name: year, dtype: float64"
      ]
     },
     "execution_count": 36,
     "metadata": {},
     "output_type": "execute_result"
    }
   ],
   "source": [
    "data['year'].describe().round()"
   ]
  },
  {
   "cell_type": "code",
   "execution_count": 42,
   "metadata": {},
   "outputs": [
    {
     "data": {
      "text/plain": [
       "0.1975804522740985"
      ]
     },
     "execution_count": 42,
     "metadata": {},
     "output_type": "execute_result"
    }
   ],
   "source": [
    "(data.year[data.year==0].count())/48373586"
   ]
  },
  {
   "cell_type": "code",
   "execution_count": 50,
   "metadata": {},
   "outputs": [
    {
     "data": {
      "text/plain": [
       "<matplotlib.axes._subplots.AxesSubplot at 0x21983d9dc88>"
      ]
     },
     "execution_count": 50,
     "metadata": {},
     "output_type": "execute_result"
    },
    {
     "data": {
      "image/png": "[encoded data removed]",
      "text/plain": [
       "<Figure size 1440x720 with 1 Axes>"
      ]
     },
     "metadata": {},
     "output_type": "display_data"
    }
   ],
   "source": [
    "sns.set_style(\"dark\")\n",
    "data['year'].value_counts().sort_index().plot(kind = 'bar',figsize=(20,10),title = 'Year Distribution')"
   ]
  },
  {
   "cell_type": "markdown",
   "metadata": {},
   "source": [
    "Notes:\n",
    "1. 19.76% feature 'year' lost."
   ]
  },
  {
   "cell_type": "markdown",
   "metadata": {},
   "source": [
    "8> track7_digitalid: the ID of this song on the service 7digital.com"
   ]
  },
  {
   "cell_type": "markdown",
   "metadata": {},
   "source": [
    "9> shs_perf: shs_perf and shs_work have to do with cover songs. Probably ignore."
   ]
  },
  {
   "cell_type": "code",
   "execution_count": 45,
   "metadata": {},
   "outputs": [
    {
     "data": {
      "text/plain": [
       "array([    -1, 107861,   8638, ...,  87572, 150775, 132839], dtype=int64)"
      ]
     },
     "execution_count": 45,
     "metadata": {},
     "output_type": "execute_result"
    }
   ],
   "source": [
    "data['shs_perf'].unique()"
   ]
  },
  {
   "cell_type": "markdown",
   "metadata": {},
   "source": [
    "10> shs_work"
   ]
  },
  {
   "cell_type": "code",
   "execution_count": 36,
   "metadata": {},
   "outputs": [],
   "source": [
    "data_forcorr = data[['duration','artist_familiarity','artist_hottness','year']]"
   ]
  },
  {
   "cell_type": "markdown",
   "metadata": {},
   "source": [
    "11> artist_mbid: the musicbrainz.org ID for this artists is db9..."
   ]
  },
  {
   "cell_type": "code",
   "execution_count": 40,
   "metadata": {},
   "outputs": [
    {
     "data": {
      "text/html": [
       "<div>\n",
       "<style scoped>\n",
       "    .dataframe tbody tr th:only-of-type {\n",
       "        vertical-align: middle;\n",
       "    }\n",
       "\n",
       "    .dataframe tbody tr th {\n",
       "        vertical-align: top;\n",
       "    }\n",
       "\n",
       "    .dataframe thead th {\n",
       "        text-align: right;\n",
       "    }\n",
       "</style>\n",
       "<table border=\"1\" class=\"dataframe\">\n",
       "  <thead>\n",
       "    <tr style=\"text-align: right;\">\n",
       "      <th></th>\n",
       "      <th>duration</th>\n",
       "      <th>artist_familiarity</th>\n",
       "      <th>artist_hottness</th>\n",
       "      <th>year</th>\n",
       "    </tr>\n",
       "  </thead>\n",
       "  <tbody>\n",
       "    <tr>\n",
       "      <td>duration</td>\n",
       "      <td>1.000000</td>\n",
       "      <td>-0.042557</td>\n",
       "      <td>0.020301</td>\n",
       "      <td>-0.030115</td>\n",
       "    </tr>\n",
       "    <tr>\n",
       "      <td>artist_familiarity</td>\n",
       "      <td>-0.042557</td>\n",
       "      <td>1.000000</td>\n",
       "      <td>0.683672</td>\n",
       "      <td>0.200279</td>\n",
       "    </tr>\n",
       "    <tr>\n",
       "      <td>artist_hottness</td>\n",
       "      <td>0.020301</td>\n",
       "      <td>0.683672</td>\n",
       "      <td>1.000000</td>\n",
       "      <td>0.147603</td>\n",
       "    </tr>\n",
       "    <tr>\n",
       "      <td>year</td>\n",
       "      <td>-0.030115</td>\n",
       "      <td>0.200279</td>\n",
       "      <td>0.147603</td>\n",
       "      <td>1.000000</td>\n",
       "    </tr>\n",
       "  </tbody>\n",
       "</table>\n",
       "</div>"
      ],
      "text/plain": [
       "                    duration  artist_familiarity  artist_hottness      year\n",
       "duration            1.000000           -0.042557         0.020301 -0.030115\n",
       "artist_familiarity -0.042557            1.000000         0.683672  0.200279\n",
       "artist_hottness     0.020301            0.683672         1.000000  0.147603\n",
       "year               -0.030115            0.200279         0.147603  1.000000"
      ]
     },
     "execution_count": 40,
     "metadata": {},
     "output_type": "execute_result"
    }
   ],
   "source": [
    "corr = data_forcorr.corr()\n",
    "corr"
   ]
  },
  {
   "cell_type": "code",
   "execution_count": 41,
   "metadata": {},
   "outputs": [
    {
     "data": {
      "text/plain": [
       "[Text(0.5, 0, 'duration'),\n",
       " Text(1.5, 0, 'artist_familiarity'),\n",
       " Text(2.5, 0, 'artist_hottness'),\n",
       " Text(3.5, 0, 'year')]"
      ]
     },
     "execution_count": 41,
     "metadata": {},
     "output_type": "execute_result"
    },
    {
     "data": {
      "image/png": "[encoded data removed]",
      "text/plain": [
       "<Figure size 432x288 with 2 Axes>"
      ]
     },
     "metadata": {
      "needs_background": "light"
     },
     "output_type": "display_data"
    }
   ],
   "source": [
    "ax = sns.heatmap(\n",
    "    corr, \n",
    "    vmin=-1, vmax=1, center=0,\n",
    "    cmap=sns.diverging_palette(20, 220, n=200),\n",
    "    square=True\n",
    ")\n",
    "ax.set_xticklabels(\n",
    "    ax.get_xticklabels(),\n",
    "    rotation=45,\n",
    "    horizontalalignment='right'\n",
    ")"
   ]
  },
  {
   "cell_type": "markdown",
   "metadata": {},
   "source": [
    "Notes:\n",
    "- Familiarity and hottness are highly correlated. (to be further analyzed with models)\n",
    "- How about the year?"
   ]
  },
  {
   "cell_type": "markdown",
   "metadata": {},
   "source": [
    "Conclusion: <br>\n",
    "    \n",
    "    user_id\t\n",
    "    song_id\t\n",
    "    play_count\t           --- for collaborative filtering\n",
    "    \n",
    "    track_id\n",
    "    artist_id\t            --- to link other dataset\n",
    "    \n",
    "    title\t    \n",
    "    release\n",
    "    artist_name             --- for recommendation\n",
    "\n",
    "    duration\t\n",
    "    artist_familiarity\t\n",
    "    artist_hottness\t\n",
    "    year(?)                  ---for contextual awareness"
   ]
  },
  {
   "cell_type": "code",
   "execution_count": null,
   "metadata": {},
   "outputs": [],
   "source": []
  }
 ],
 "metadata": {
  "kernelspec": {
   "display_name": "Python 3",
   "language": "python",
   "name": "python3"
  },
  "language_info": {
   "codemirror_mode": {
    "name": "ipython",
    "version": 3
   },
   "file_extension": ".py",
   "mimetype": "text/x-python",
   "name": "python",
   "nbconvert_exporter": "python",
   "pygments_lexer": "ipython3",
   "version": "3.6.8"
  }
 },
 "nbformat": 4,
 "nbformat_minor": 4
}
