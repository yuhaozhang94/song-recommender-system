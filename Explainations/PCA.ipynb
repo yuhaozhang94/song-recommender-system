{
 "cells": [
  {
   "cell_type": "markdown",
   "metadata": {},
   "source": [
    "# PCA"
   ]
  },
  {
   "cell_type": "code",
   "execution_count": 1,
   "metadata": {},
   "outputs": [],
   "source": [
    "import pandas as pd\n",
    "import numpy as np\n",
    "import pickle\n",
    "from sklearn.decomposition import PCA\n",
    "import seaborn as sns\n",
    "import matplotlib.pyplot as plt\n",
    "import pickle\n",
    "sns.set()"
   ]
  },
  {
   "cell_type": "code",
   "execution_count": 2,
   "metadata": {},
   "outputs": [
    {
     "data": {
      "text/html": [
       "        <script type=\"text/javascript\">\n",
       "        window.PlotlyConfig = {MathJaxConfig: 'local'};\n",
       "        if (window.MathJax) {MathJax.Hub.Config({SVG: {font: \"STIX-Web\"}});}\n",
       "        if (typeof require !== 'undefined') {\n",
       "        require.undef(\"plotly\");\n",
       "        requirejs.config({\n",
       "            paths: {\n",
       "                'plotly': ['https://cdn.plot.ly/plotly-latest.min']\n",
       "            }\n",
       "        });\n",
       "        require(['plotly'], function(Plotly) {\n",
       "            window._Plotly = Plotly;\n",
       "        });\n",
       "        }\n",
       "        </script>\n",
       "        "
      ]
     },
     "metadata": {},
     "output_type": "display_data"
    }
   ],
   "source": [
    "from plotly.offline import init_notebook_mode, plot, iplot\n",
    "import plotly.graph_objs as go\n",
    "init_notebook_mode(connected=True)"
   ]
  },
  {
   "cell_type": "markdown",
   "metadata": {},
   "source": [
    "### Data "
   ]
  },
  {
   "cell_type": "code",
   "execution_count": 7,
   "metadata": {},
   "outputs": [],
   "source": [
    "triplets_train = pd.read_csv('triplets_train_sample.csv')"
   ]
  },
  {
   "cell_type": "code",
   "execution_count": 9,
   "metadata": {},
   "outputs": [],
   "source": [
    "songs = pd.read_csv('songs.csv')"
   ]
  },
  {
   "cell_type": "code",
   "execution_count": 197,
   "metadata": {},
   "outputs": [],
   "source": [
    "term = pd.read_csv('artist_term.csv')"
   ]
  },
  {
   "cell_type": "code",
   "execution_count": 12,
   "metadata": {},
   "outputs": [],
   "source": [
    "songs_sub = songs[['song_id','title','artist_name','artist_id']]"
   ]
  },
  {
   "cell_type": "code",
   "execution_count": 19,
   "metadata": {},
   "outputs": [
    {
     "data": {
      "text/html": [
       "<div>\n",
       "<style scoped>\n",
       "    .dataframe tbody tr th:only-of-type {\n",
       "        vertical-align: middle;\n",
       "    }\n",
       "\n",
       "    .dataframe tbody tr th {\n",
       "        vertical-align: top;\n",
       "    }\n",
       "\n",
       "    .dataframe thead th {\n",
       "        text-align: right;\n",
       "    }\n",
       "</style>\n",
       "<table border=\"1\" class=\"dataframe\">\n",
       "  <thead>\n",
       "    <tr style=\"text-align: right;\">\n",
       "      <th></th>\n",
       "      <th>user_id</th>\n",
       "      <th>song_id</th>\n",
       "      <th>play_count</th>\n",
       "      <th>title</th>\n",
       "      <th>artist_name</th>\n",
       "      <th>artist_id</th>\n",
       "    </tr>\n",
       "  </thead>\n",
       "  <tbody>\n",
       "    <tr>\n",
       "      <td>0</td>\n",
       "      <td>41536eb0847ad7aa746a29d81367be6bc9f676fd</td>\n",
       "      <td>SOVGSEL12A8C141591</td>\n",
       "      <td>13</td>\n",
       "      <td>Blind</td>\n",
       "      <td>Lifehouse</td>\n",
       "      <td>ARUTEVU1187B9ACAF9</td>\n",
       "    </tr>\n",
       "    <tr>\n",
       "      <td>1</td>\n",
       "      <td>350e7d679291614f8678a77c17c5fa790721b7d2</td>\n",
       "      <td>SOUOHQI12A8C14224C</td>\n",
       "      <td>5</td>\n",
       "      <td>The KGB (Intro)</td>\n",
       "      <td>Binary Star</td>\n",
       "      <td>ARFNJLY1187FB3E735</td>\n",
       "    </tr>\n",
       "    <tr>\n",
       "      <td>2</td>\n",
       "      <td>c79500b697b2397307870c83c70b4cbad1bdf508</td>\n",
       "      <td>SOUQJDY12A6701D2EF</td>\n",
       "      <td>6</td>\n",
       "      <td>True Faith</td>\n",
       "      <td>New Order</td>\n",
       "      <td>ARNHHIV1187FB4EA23</td>\n",
       "    </tr>\n",
       "    <tr>\n",
       "      <td>3</td>\n",
       "      <td>8fcd26be76c160e14e1555079b7bd0075ddbe5f8</td>\n",
       "      <td>SOVXTZF12A670207D2</td>\n",
       "      <td>5</td>\n",
       "      <td>The Widow</td>\n",
       "      <td>The Mars Volta</td>\n",
       "      <td>ARHUC691187B9AD27F</td>\n",
       "    </tr>\n",
       "    <tr>\n",
       "      <td>4</td>\n",
       "      <td>51737e957624c4dd888ae6ea6cd066754e43553f</td>\n",
       "      <td>SODNDDS12AB017F3D1</td>\n",
       "      <td>31</td>\n",
       "      <td>The Voiceless</td>\n",
       "      <td>And So I Watch You from Afar</td>\n",
       "      <td>ARCVT661187FB514A4</td>\n",
       "    </tr>\n",
       "  </tbody>\n",
       "</table>\n",
       "</div>"
      ],
      "text/plain": [
       "                                    user_id             song_id  play_count  \\\n",
       "0  41536eb0847ad7aa746a29d81367be6bc9f676fd  SOVGSEL12A8C141591          13   \n",
       "1  350e7d679291614f8678a77c17c5fa790721b7d2  SOUOHQI12A8C14224C           5   \n",
       "2  c79500b697b2397307870c83c70b4cbad1bdf508  SOUQJDY12A6701D2EF           6   \n",
       "3  8fcd26be76c160e14e1555079b7bd0075ddbe5f8  SOVXTZF12A670207D2           5   \n",
       "4  51737e957624c4dd888ae6ea6cd066754e43553f  SODNDDS12AB017F3D1          31   \n",
       "\n",
       "             title                   artist_name           artist_id  \n",
       "0            Blind                     Lifehouse  ARUTEVU1187B9ACAF9  \n",
       "1  The KGB (Intro)                   Binary Star  ARFNJLY1187FB3E735  \n",
       "2       True Faith                     New Order  ARNHHIV1187FB4EA23  \n",
       "3        The Widow                The Mars Volta  ARHUC691187B9AD27F  \n",
       "4    The Voiceless  And So I Watch You from Afar  ARCVT661187FB514A4  "
      ]
     },
     "execution_count": 19,
     "metadata": {},
     "output_type": "execute_result"
    }
   ],
   "source": [
    "data = pd.merge(triplets_train,songs_sub,on='song_id',how='left')\n",
    "data.head()"
   ]
  },
  {
   "cell_type": "markdown",
   "metadata": {},
   "source": [
    "### PCA"
   ]
  },
  {
   "cell_type": "code",
   "execution_count": 15,
   "metadata": {},
   "outputs": [
    {
     "name": "stdout",
     "output_type": "stream",
     "text": [
      "41892\n",
      "21840\n"
     ]
    }
   ],
   "source": [
    "user_id_mapping = {id:i for i, id in enumerate(data['user_id'].unique())}\n",
    "song_id_mapping = {id:i for i, id in enumerate(data['song_id'].unique())}\n",
    "users = len(user_id_mapping) \n",
    "songs = len(song_id_mapping) \n",
    "print(users)\n",
    "print(songs)"
   ]
  },
  {
   "cell_type": "code",
   "execution_count": 18,
   "metadata": {},
   "outputs": [],
   "source": [
    "with open('final_wmf.pkl', 'rb') as f:\n",
    "    model = pickle.load(f)"
   ]
  },
  {
   "cell_type": "code",
   "execution_count": 222,
   "metadata": {},
   "outputs": [
    {
     "data": {
      "text/html": [
       "<div>\n",
       "<style scoped>\n",
       "    .dataframe tbody tr th:only-of-type {\n",
       "        vertical-align: middle;\n",
       "    }\n",
       "\n",
       "    .dataframe tbody tr th {\n",
       "        vertical-align: top;\n",
       "    }\n",
       "\n",
       "    .dataframe thead th {\n",
       "        text-align: right;\n",
       "    }\n",
       "</style>\n",
       "<table border=\"1\" class=\"dataframe\">\n",
       "  <thead>\n",
       "    <tr style=\"text-align: right;\">\n",
       "      <th></th>\n",
       "      <th>0</th>\n",
       "      <th>1</th>\n",
       "      <th>2</th>\n",
       "      <th>3</th>\n",
       "      <th>4</th>\n",
       "      <th>5</th>\n",
       "      <th>6</th>\n",
       "      <th>7</th>\n",
       "      <th>8</th>\n",
       "      <th>9</th>\n",
       "      <th>...</th>\n",
       "      <th>30</th>\n",
       "      <th>31</th>\n",
       "      <th>32</th>\n",
       "      <th>33</th>\n",
       "      <th>34</th>\n",
       "      <th>35</th>\n",
       "      <th>36</th>\n",
       "      <th>37</th>\n",
       "      <th>38</th>\n",
       "      <th>39</th>\n",
       "    </tr>\n",
       "  </thead>\n",
       "  <tbody>\n",
       "    <tr>\n",
       "      <td>0</td>\n",
       "      <td>1.204400</td>\n",
       "      <td>0.995726</td>\n",
       "      <td>1.239349</td>\n",
       "      <td>-1.115417</td>\n",
       "      <td>-0.033763</td>\n",
       "      <td>-0.973595</td>\n",
       "      <td>1.229550</td>\n",
       "      <td>-0.858981</td>\n",
       "      <td>-0.420182</td>\n",
       "      <td>-1.240288</td>\n",
       "      <td>...</td>\n",
       "      <td>1.203219</td>\n",
       "      <td>-1.061133</td>\n",
       "      <td>-1.035809</td>\n",
       "      <td>-1.265919</td>\n",
       "      <td>0.777116</td>\n",
       "      <td>1.097944</td>\n",
       "      <td>1.047922</td>\n",
       "      <td>1.263784</td>\n",
       "      <td>-0.735947</td>\n",
       "      <td>0.045780</td>\n",
       "    </tr>\n",
       "    <tr>\n",
       "      <td>1</td>\n",
       "      <td>1.140256</td>\n",
       "      <td>-1.261217</td>\n",
       "      <td>-0.084155</td>\n",
       "      <td>0.876425</td>\n",
       "      <td>-1.273402</td>\n",
       "      <td>1.274438</td>\n",
       "      <td>1.254497</td>\n",
       "      <td>-1.264657</td>\n",
       "      <td>1.242874</td>\n",
       "      <td>-1.252233</td>\n",
       "      <td>...</td>\n",
       "      <td>1.273133</td>\n",
       "      <td>-0.120007</td>\n",
       "      <td>1.250605</td>\n",
       "      <td>1.082442</td>\n",
       "      <td>1.246537</td>\n",
       "      <td>1.042631</td>\n",
       "      <td>-1.014144</td>\n",
       "      <td>1.274319</td>\n",
       "      <td>0.485418</td>\n",
       "      <td>1.213006</td>\n",
       "    </tr>\n",
       "    <tr>\n",
       "      <td>2</td>\n",
       "      <td>0.671129</td>\n",
       "      <td>-1.272041</td>\n",
       "      <td>1.263254</td>\n",
       "      <td>1.256996</td>\n",
       "      <td>1.254271</td>\n",
       "      <td>-0.889180</td>\n",
       "      <td>0.905005</td>\n",
       "      <td>0.177094</td>\n",
       "      <td>-1.258243</td>\n",
       "      <td>-0.566242</td>\n",
       "      <td>...</td>\n",
       "      <td>-0.788827</td>\n",
       "      <td>1.057514</td>\n",
       "      <td>-0.852007</td>\n",
       "      <td>-1.262227</td>\n",
       "      <td>-0.983674</td>\n",
       "      <td>0.573774</td>\n",
       "      <td>0.747380</td>\n",
       "      <td>1.244770</td>\n",
       "      <td>0.029255</td>\n",
       "      <td>0.515159</td>\n",
       "    </tr>\n",
       "    <tr>\n",
       "      <td>3</td>\n",
       "      <td>1.207631</td>\n",
       "      <td>-1.266270</td>\n",
       "      <td>1.261492</td>\n",
       "      <td>-0.823882</td>\n",
       "      <td>-1.010743</td>\n",
       "      <td>-0.967478</td>\n",
       "      <td>1.268733</td>\n",
       "      <td>-1.263812</td>\n",
       "      <td>-1.274963</td>\n",
       "      <td>-0.418171</td>\n",
       "      <td>...</td>\n",
       "      <td>1.245680</td>\n",
       "      <td>-1.100544</td>\n",
       "      <td>1.094184</td>\n",
       "      <td>-1.175567</td>\n",
       "      <td>1.217702</td>\n",
       "      <td>0.999011</td>\n",
       "      <td>-1.016209</td>\n",
       "      <td>1.136834</td>\n",
       "      <td>-0.205656</td>\n",
       "      <td>0.677613</td>\n",
       "    </tr>\n",
       "    <tr>\n",
       "      <td>4</td>\n",
       "      <td>1.117859</td>\n",
       "      <td>-0.444662</td>\n",
       "      <td>-1.268197</td>\n",
       "      <td>1.226389</td>\n",
       "      <td>-0.899788</td>\n",
       "      <td>-0.982851</td>\n",
       "      <td>0.068450</td>\n",
       "      <td>-1.255525</td>\n",
       "      <td>0.236649</td>\n",
       "      <td>-0.588108</td>\n",
       "      <td>...</td>\n",
       "      <td>1.099014</td>\n",
       "      <td>-1.266997</td>\n",
       "      <td>1.263368</td>\n",
       "      <td>-1.251114</td>\n",
       "      <td>-0.908025</td>\n",
       "      <td>-0.958618</td>\n",
       "      <td>-0.665671</td>\n",
       "      <td>-0.540725</td>\n",
       "      <td>-0.114098</td>\n",
       "      <td>1.271705</td>\n",
       "    </tr>\n",
       "    <tr>\n",
       "      <td>...</td>\n",
       "      <td>...</td>\n",
       "      <td>...</td>\n",
       "      <td>...</td>\n",
       "      <td>...</td>\n",
       "      <td>...</td>\n",
       "      <td>...</td>\n",
       "      <td>...</td>\n",
       "      <td>...</td>\n",
       "      <td>...</td>\n",
       "      <td>...</td>\n",
       "      <td>...</td>\n",
       "      <td>...</td>\n",
       "      <td>...</td>\n",
       "      <td>...</td>\n",
       "      <td>...</td>\n",
       "      <td>...</td>\n",
       "      <td>...</td>\n",
       "      <td>...</td>\n",
       "      <td>...</td>\n",
       "      <td>...</td>\n",
       "      <td>...</td>\n",
       "    </tr>\n",
       "    <tr>\n",
       "      <td>21835</td>\n",
       "      <td>0.125794</td>\n",
       "      <td>-0.470102</td>\n",
       "      <td>0.101637</td>\n",
       "      <td>0.641738</td>\n",
       "      <td>0.719679</td>\n",
       "      <td>0.507892</td>\n",
       "      <td>0.307056</td>\n",
       "      <td>-0.253161</td>\n",
       "      <td>-0.371632</td>\n",
       "      <td>0.231348</td>\n",
       "      <td>...</td>\n",
       "      <td>0.029632</td>\n",
       "      <td>-0.876151</td>\n",
       "      <td>0.581282</td>\n",
       "      <td>0.223754</td>\n",
       "      <td>0.064664</td>\n",
       "      <td>0.212602</td>\n",
       "      <td>0.233832</td>\n",
       "      <td>-0.546728</td>\n",
       "      <td>0.245711</td>\n",
       "      <td>0.259297</td>\n",
       "    </tr>\n",
       "    <tr>\n",
       "      <td>21836</td>\n",
       "      <td>-0.384990</td>\n",
       "      <td>-0.321370</td>\n",
       "      <td>0.339995</td>\n",
       "      <td>0.387827</td>\n",
       "      <td>-0.209360</td>\n",
       "      <td>0.656645</td>\n",
       "      <td>0.026790</td>\n",
       "      <td>0.156042</td>\n",
       "      <td>-0.102770</td>\n",
       "      <td>-0.380949</td>\n",
       "      <td>...</td>\n",
       "      <td>0.490550</td>\n",
       "      <td>-0.511149</td>\n",
       "      <td>0.363587</td>\n",
       "      <td>0.464630</td>\n",
       "      <td>0.661328</td>\n",
       "      <td>-0.629373</td>\n",
       "      <td>0.397294</td>\n",
       "      <td>-0.335817</td>\n",
       "      <td>0.560005</td>\n",
       "      <td>-0.300020</td>\n",
       "    </tr>\n",
       "    <tr>\n",
       "      <td>21837</td>\n",
       "      <td>-0.291975</td>\n",
       "      <td>0.344939</td>\n",
       "      <td>0.648514</td>\n",
       "      <td>-0.761859</td>\n",
       "      <td>-0.792506</td>\n",
       "      <td>-0.396911</td>\n",
       "      <td>0.745704</td>\n",
       "      <td>-0.465771</td>\n",
       "      <td>-0.405158</td>\n",
       "      <td>-0.420081</td>\n",
       "      <td>...</td>\n",
       "      <td>0.884897</td>\n",
       "      <td>-0.383546</td>\n",
       "      <td>0.201055</td>\n",
       "      <td>0.245717</td>\n",
       "      <td>0.749431</td>\n",
       "      <td>0.470876</td>\n",
       "      <td>0.352448</td>\n",
       "      <td>0.419425</td>\n",
       "      <td>-0.102042</td>\n",
       "      <td>-0.616137</td>\n",
       "    </tr>\n",
       "    <tr>\n",
       "      <td>21838</td>\n",
       "      <td>0.322170</td>\n",
       "      <td>-0.020427</td>\n",
       "      <td>0.160536</td>\n",
       "      <td>-0.239721</td>\n",
       "      <td>0.137067</td>\n",
       "      <td>-0.049334</td>\n",
       "      <td>-0.247298</td>\n",
       "      <td>0.487339</td>\n",
       "      <td>-0.144258</td>\n",
       "      <td>-0.177304</td>\n",
       "      <td>...</td>\n",
       "      <td>0.093554</td>\n",
       "      <td>0.108702</td>\n",
       "      <td>-0.467050</td>\n",
       "      <td>-0.421896</td>\n",
       "      <td>-0.108014</td>\n",
       "      <td>0.148252</td>\n",
       "      <td>0.223738</td>\n",
       "      <td>0.370111</td>\n",
       "      <td>-0.168562</td>\n",
       "      <td>-0.108503</td>\n",
       "    </tr>\n",
       "    <tr>\n",
       "      <td>21839</td>\n",
       "      <td>-1.262491</td>\n",
       "      <td>1.280322</td>\n",
       "      <td>0.955308</td>\n",
       "      <td>1.274101</td>\n",
       "      <td>1.254771</td>\n",
       "      <td>-1.128659</td>\n",
       "      <td>1.164597</td>\n",
       "      <td>1.248814</td>\n",
       "      <td>1.038310</td>\n",
       "      <td>1.251548</td>\n",
       "      <td>...</td>\n",
       "      <td>-0.911206</td>\n",
       "      <td>1.217522</td>\n",
       "      <td>1.262202</td>\n",
       "      <td>0.866357</td>\n",
       "      <td>1.213219</td>\n",
       "      <td>-1.274000</td>\n",
       "      <td>1.254011</td>\n",
       "      <td>0.313302</td>\n",
       "      <td>-0.983879</td>\n",
       "      <td>1.265628</td>\n",
       "    </tr>\n",
       "  </tbody>\n",
       "</table>\n",
       "<p>21840 rows × 40 columns</p>\n",
       "</div>"
      ],
      "text/plain": [
       "             0         1         2         3         4         5         6   \\\n",
       "0      1.204400  0.995726  1.239349 -1.115417 -0.033763 -0.973595  1.229550   \n",
       "1      1.140256 -1.261217 -0.084155  0.876425 -1.273402  1.274438  1.254497   \n",
       "2      0.671129 -1.272041  1.263254  1.256996  1.254271 -0.889180  0.905005   \n",
       "3      1.207631 -1.266270  1.261492 -0.823882 -1.010743 -0.967478  1.268733   \n",
       "4      1.117859 -0.444662 -1.268197  1.226389 -0.899788 -0.982851  0.068450   \n",
       "...         ...       ...       ...       ...       ...       ...       ...   \n",
       "21835  0.125794 -0.470102  0.101637  0.641738  0.719679  0.507892  0.307056   \n",
       "21836 -0.384990 -0.321370  0.339995  0.387827 -0.209360  0.656645  0.026790   \n",
       "21837 -0.291975  0.344939  0.648514 -0.761859 -0.792506 -0.396911  0.745704   \n",
       "21838  0.322170 -0.020427  0.160536 -0.239721  0.137067 -0.049334 -0.247298   \n",
       "21839 -1.262491  1.280322  0.955308  1.274101  1.254771 -1.128659  1.164597   \n",
       "\n",
       "             7         8         9   ...        30        31        32  \\\n",
       "0     -0.858981 -0.420182 -1.240288  ...  1.203219 -1.061133 -1.035809   \n",
       "1     -1.264657  1.242874 -1.252233  ...  1.273133 -0.120007  1.250605   \n",
       "2      0.177094 -1.258243 -0.566242  ... -0.788827  1.057514 -0.852007   \n",
       "3     -1.263812 -1.274963 -0.418171  ...  1.245680 -1.100544  1.094184   \n",
       "4     -1.255525  0.236649 -0.588108  ...  1.099014 -1.266997  1.263368   \n",
       "...         ...       ...       ...  ...       ...       ...       ...   \n",
       "21835 -0.253161 -0.371632  0.231348  ...  0.029632 -0.876151  0.581282   \n",
       "21836  0.156042 -0.102770 -0.380949  ...  0.490550 -0.511149  0.363587   \n",
       "21837 -0.465771 -0.405158 -0.420081  ...  0.884897 -0.383546  0.201055   \n",
       "21838  0.487339 -0.144258 -0.177304  ...  0.093554  0.108702 -0.467050   \n",
       "21839  1.248814  1.038310  1.251548  ... -0.911206  1.217522  1.262202   \n",
       "\n",
       "             33        34        35        36        37        38        39  \n",
       "0     -1.265919  0.777116  1.097944  1.047922  1.263784 -0.735947  0.045780  \n",
       "1      1.082442  1.246537  1.042631 -1.014144  1.274319  0.485418  1.213006  \n",
       "2     -1.262227 -0.983674  0.573774  0.747380  1.244770  0.029255  0.515159  \n",
       "3     -1.175567  1.217702  0.999011 -1.016209  1.136834 -0.205656  0.677613  \n",
       "4     -1.251114 -0.908025 -0.958618 -0.665671 -0.540725 -0.114098  1.271705  \n",
       "...         ...       ...       ...       ...       ...       ...       ...  \n",
       "21835  0.223754  0.064664  0.212602  0.233832 -0.546728  0.245711  0.259297  \n",
       "21836  0.464630  0.661328 -0.629373  0.397294 -0.335817  0.560005 -0.300020  \n",
       "21837  0.245717  0.749431  0.470876  0.352448  0.419425 -0.102042 -0.616137  \n",
       "21838 -0.421896 -0.108014  0.148252  0.223738  0.370111 -0.168562 -0.108503  \n",
       "21839  0.866357  1.213219 -1.274000  1.254011  0.313302 -0.983879  1.265628  \n",
       "\n",
       "[21840 rows x 40 columns]"
      ]
     },
     "execution_count": 222,
     "metadata": {},
     "output_type": "execute_result"
    }
   ],
   "source": [
    "matrix = pd.DataFrame(model.V)\n",
    "matrix"
   ]
  },
  {
   "cell_type": "code",
   "execution_count": 233,
   "metadata": {},
   "outputs": [
    {
     "data": {
      "text/plain": [
       "PCA(copy=True, iterated_power='auto', n_components=3, random_state=None,\n",
       "    svd_solver='auto', tol=0.0, whiten=False)"
      ]
     },
     "execution_count": 233,
     "metadata": {},
     "output_type": "execute_result"
    }
   ],
   "source": [
    "pca = PCA(n_components = 3)\n",
    "pca.fit(matrix)"
   ]
  },
  {
   "cell_type": "code",
   "execution_count": 234,
   "metadata": {},
   "outputs": [],
   "source": [
    "data = pca.explained_variance_ratio_"
   ]
  },
  {
   "cell_type": "code",
   "execution_count": 235,
   "metadata": {},
   "outputs": [],
   "source": [
    "text = []\n",
    "for i in data:\n",
    "    text.append(\"{0:.0%}\".format(i))"
   ]
  },
  {
   "cell_type": "code",
   "execution_count": 236,
   "metadata": {},
   "outputs": [
    {
     "data": {
      "image/png": "[encoded data removed]",
      "text/plain": [
       "<Figure size 720x720 with 1 Axes>"
      ]
     },
     "metadata": {
      "needs_background": "light"
     },
     "output_type": "display_data"
    }
   ],
   "source": [
    "objects = ('PC1', 'PC2', 'PC3')\n",
    "fig, ax = plt.subplots(figsize=(10,10))\n",
    "y_pos = np.arange(len(objects))\n",
    "ax.bar(y_pos, data, align='center', alpha=0.5)\n",
    "\n",
    "text = []\n",
    "for i in data:\n",
    "    text.append(\"{0:.0%}\".format(i))\n",
    "    \n",
    "for i, txt in enumerate(text):\n",
    "    ax.annotate(txt, (i-0.09, data[i]+0.01),fontsize = 12)\n",
    "plt.xticks(y_pos, objects)\n",
    "\n",
    "plt.title('Scree Plot of PCA',fontsize = 15)\n",
    "\n",
    "plt.show()"
   ]
  },
  {
   "cell_type": "code",
   "execution_count": 237,
   "metadata": {},
   "outputs": [
    {
     "data": {
      "text/html": [
       "<div>\n",
       "<style scoped>\n",
       "    .dataframe tbody tr th:only-of-type {\n",
       "        vertical-align: middle;\n",
       "    }\n",
       "\n",
       "    .dataframe tbody tr th {\n",
       "        vertical-align: top;\n",
       "    }\n",
       "\n",
       "    .dataframe thead th {\n",
       "        text-align: right;\n",
       "    }\n",
       "</style>\n",
       "<table border=\"1\" class=\"dataframe\">\n",
       "  <thead>\n",
       "    <tr style=\"text-align: right;\">\n",
       "      <th></th>\n",
       "      <th>0</th>\n",
       "      <th>1</th>\n",
       "      <th>2</th>\n",
       "    </tr>\n",
       "  </thead>\n",
       "  <tbody>\n",
       "    <tr>\n",
       "      <td>0</td>\n",
       "      <td>0.390371</td>\n",
       "      <td>1.516635</td>\n",
       "      <td>1.711524</td>\n",
       "    </tr>\n",
       "    <tr>\n",
       "      <td>1</td>\n",
       "      <td>-1.667619</td>\n",
       "      <td>-2.046373</td>\n",
       "      <td>0.892134</td>\n",
       "    </tr>\n",
       "    <tr>\n",
       "      <td>2</td>\n",
       "      <td>-0.124852</td>\n",
       "      <td>0.076079</td>\n",
       "      <td>-0.354261</td>\n",
       "    </tr>\n",
       "    <tr>\n",
       "      <td>3</td>\n",
       "      <td>-0.064382</td>\n",
       "      <td>-2.153632</td>\n",
       "      <td>1.825799</td>\n",
       "    </tr>\n",
       "    <tr>\n",
       "      <td>4</td>\n",
       "      <td>0.770090</td>\n",
       "      <td>-0.069178</td>\n",
       "      <td>1.477895</td>\n",
       "    </tr>\n",
       "    <tr>\n",
       "      <td>...</td>\n",
       "      <td>...</td>\n",
       "      <td>...</td>\n",
       "      <td>...</td>\n",
       "    </tr>\n",
       "    <tr>\n",
       "      <td>21835</td>\n",
       "      <td>0.471343</td>\n",
       "      <td>-0.214231</td>\n",
       "      <td>-0.827332</td>\n",
       "    </tr>\n",
       "    <tr>\n",
       "      <td>21836</td>\n",
       "      <td>0.011977</td>\n",
       "      <td>0.302203</td>\n",
       "      <td>-0.214798</td>\n",
       "    </tr>\n",
       "    <tr>\n",
       "      <td>21837</td>\n",
       "      <td>0.145449</td>\n",
       "      <td>0.265472</td>\n",
       "      <td>-0.077327</td>\n",
       "    </tr>\n",
       "    <tr>\n",
       "      <td>21838</td>\n",
       "      <td>0.011901</td>\n",
       "      <td>0.667022</td>\n",
       "      <td>-0.452862</td>\n",
       "    </tr>\n",
       "    <tr>\n",
       "      <td>21839</td>\n",
       "      <td>0.571967</td>\n",
       "      <td>0.937112</td>\n",
       "      <td>-0.687685</td>\n",
       "    </tr>\n",
       "  </tbody>\n",
       "</table>\n",
       "<p>21840 rows × 3 columns</p>\n",
       "</div>"
      ],
      "text/plain": [
       "              0         1         2\n",
       "0      0.390371  1.516635  1.711524\n",
       "1     -1.667619 -2.046373  0.892134\n",
       "2     -0.124852  0.076079 -0.354261\n",
       "3     -0.064382 -2.153632  1.825799\n",
       "4      0.770090 -0.069178  1.477895\n",
       "...         ...       ...       ...\n",
       "21835  0.471343 -0.214231 -0.827332\n",
       "21836  0.011977  0.302203 -0.214798\n",
       "21837  0.145449  0.265472 -0.077327\n",
       "21838  0.011901  0.667022 -0.452862\n",
       "21839  0.571967  0.937112 -0.687685\n",
       "\n",
       "[21840 rows x 3 columns]"
      ]
     },
     "execution_count": 237,
     "metadata": {},
     "output_type": "execute_result"
    }
   ],
   "source": [
    "pca_samples = pca.transform(matrix)\n",
    "ps = pd.DataFrame(pca_samples)\n",
    "ps"
   ]
  },
  {
   "cell_type": "code",
   "execution_count": 55,
   "metadata": {},
   "outputs": [],
   "source": [
    "def get_key(val): \n",
    "    for key, value in song_id_mapping.items(): \n",
    "         if val == value: \n",
    "                return key"
   ]
  },
  {
   "cell_type": "code",
   "execution_count": 56,
   "metadata": {},
   "outputs": [],
   "source": [
    "def get_song(ind):\n",
    "    lis = []\n",
    "    for i in ind['PC_index']:\n",
    "        lis.append(get_key(i))\n",
    "    result = pd.DataFrame(lis).set_index(0).join(songs_sub.set_index('song_id')).reset_index()\n",
    "    result = result.rename(columns={0: \"song_id\"})\n",
    "    return result"
   ]
  },
  {
   "cell_type": "code",
   "execution_count": 57,
   "metadata": {},
   "outputs": [],
   "source": [
    "def top10(pc_n):\n",
    "    pcvalue = pd.DataFrame(ps[pc_n].nlargest(10)).reset_index()\n",
    "    pcvalue = pcvalue.rename(columns={\"index\": \"PC_index\", pc_n: \"PC value\"})\n",
    "    others = get_song(pcvalue).reset_index()\n",
    "    others = others.rename(columns={0: \"movie_id\"})\n",
    "    result = pd.concat([pcvalue,others], axis=1,sort = False).drop(columns=['index'])\n",
    "    return result\n",
    "def bottom10(pc_n):\n",
    "    pcvalue = pd.DataFrame(ps[pc_n].nsmallest(10)).reset_index()\n",
    "    pcvalue = pcvalue.rename(columns={\"index\": \"PC_index\", pc_n: \"PC value\"})\n",
    "    others = get_song(pcvalue).reset_index()\n",
    "    others = others.rename(columns={0: \"movie_id\"})\n",
    "    result = pd.concat([pcvalue,others], axis=1,sort = False).drop(columns=['index'])\n",
    "    return result"
   ]
  },
  {
   "cell_type": "code",
   "execution_count": 208,
   "metadata": {},
   "outputs": [
    {
     "data": {
      "text/html": [
       "<div>\n",
       "<style scoped>\n",
       "    .dataframe tbody tr th:only-of-type {\n",
       "        vertical-align: middle;\n",
       "    }\n",
       "\n",
       "    .dataframe tbody tr th {\n",
       "        vertical-align: top;\n",
       "    }\n",
       "\n",
       "    .dataframe thead th {\n",
       "        text-align: right;\n",
       "    }\n",
       "</style>\n",
       "<table border=\"1\" class=\"dataframe\">\n",
       "  <thead>\n",
       "    <tr style=\"text-align: right;\">\n",
       "      <th></th>\n",
       "      <th>artist_id</th>\n",
       "      <th>term</th>\n",
       "    </tr>\n",
       "  </thead>\n",
       "  <tbody>\n",
       "    <tr>\n",
       "      <td>0</td>\n",
       "      <td>AR003FB1187B994355</td>\n",
       "      <td>alternative pop rock,alternative rock,dallas,h...</td>\n",
       "    </tr>\n",
       "    <tr>\n",
       "      <td>1</td>\n",
       "      <td>AR009211187B989185</td>\n",
       "      <td>acid jazz,ballad,breakbeat,classic rock,danceh...</td>\n",
       "    </tr>\n",
       "    <tr>\n",
       "      <td>2</td>\n",
       "      <td>AR009SZ1187B9A73F4</td>\n",
       "      <td>abstract,acid jazz,acoustic,alternative rock,a...</td>\n",
       "    </tr>\n",
       "    <tr>\n",
       "      <td>3</td>\n",
       "      <td>AR00A1N1187FB484EB</td>\n",
       "      <td>80s,abstract,alternative rock,art rock,belgium...</td>\n",
       "    </tr>\n",
       "    <tr>\n",
       "      <td>4</td>\n",
       "      <td>AR00AP71187B99635F</td>\n",
       "      <td>bebop,big band,blues,blues bar,classic jazz,co...</td>\n",
       "    </tr>\n",
       "    <tr>\n",
       "      <td>...</td>\n",
       "      <td>...</td>\n",
       "      <td>...</td>\n",
       "    </tr>\n",
       "    <tr>\n",
       "      <td>30298</td>\n",
       "      <td>ARZZRAT1187B9892CA</td>\n",
       "      <td>90s,acid house,ambient,dance,disco,downtempo,d...</td>\n",
       "    </tr>\n",
       "    <tr>\n",
       "      <td>30299</td>\n",
       "      <td>ARZZRK91187B9A5CA5</td>\n",
       "      <td>60s,acoustic,alternative rock,art rock,black,b...</td>\n",
       "    </tr>\n",
       "    <tr>\n",
       "      <td>30300</td>\n",
       "      <td>ARZZXJY1187B99E2BB</td>\n",
       "      <td>acoustic,country,drums,flute,folk,indian,nativ...</td>\n",
       "    </tr>\n",
       "    <tr>\n",
       "      <td>30301</td>\n",
       "      <td>ARZZXT51187FB4627E</td>\n",
       "      <td>60s,alternative rock,ballad,blues,blues-rock,b...</td>\n",
       "    </tr>\n",
       "    <tr>\n",
       "      <td>30302</td>\n",
       "      <td>ARZZYRB1187B99D0B6</td>\n",
       "      <td>acid jazz,alternative rock,ambient,bass,compos...</td>\n",
       "    </tr>\n",
       "  </tbody>\n",
       "</table>\n",
       "<p>30303 rows × 2 columns</p>\n",
       "</div>"
      ],
      "text/plain": [
       "                artist_id                                               term\n",
       "0      AR003FB1187B994355  alternative pop rock,alternative rock,dallas,h...\n",
       "1      AR009211187B989185  acid jazz,ballad,breakbeat,classic rock,danceh...\n",
       "2      AR009SZ1187B9A73F4  abstract,acid jazz,acoustic,alternative rock,a...\n",
       "3      AR00A1N1187FB484EB  80s,abstract,alternative rock,art rock,belgium...\n",
       "4      AR00AP71187B99635F  bebop,big band,blues,blues bar,classic jazz,co...\n",
       "...                   ...                                                ...\n",
       "30298  ARZZRAT1187B9892CA  90s,acid house,ambient,dance,disco,downtempo,d...\n",
       "30299  ARZZRK91187B9A5CA5  60s,acoustic,alternative rock,art rock,black,b...\n",
       "30300  ARZZXJY1187B99E2BB  acoustic,country,drums,flute,folk,indian,nativ...\n",
       "30301  ARZZXT51187FB4627E  60s,alternative rock,ballad,blues,blues-rock,b...\n",
       "30302  ARZZYRB1187B99D0B6  acid jazz,alternative rock,ambient,bass,compos...\n",
       "\n",
       "[30303 rows x 2 columns]"
      ]
     },
     "execution_count": 208,
     "metadata": {},
     "output_type": "execute_result"
    }
   ],
   "source": [
    "artist_term_group = term.groupby(['artist_id', 'term']).count().reset_index()\n",
    "artist_term_group['term'] = artist_term_group.groupby(['artist_id'])[['term']].transform(lambda x: ','.join(x))\n",
    "artist_term_set = artist_term_group.drop_duplicates()\n",
    "artist_term_set = artist_term_set.reset_index().drop('index', axis=1)\n",
    "artist_term_set"
   ]
  },
  {
   "cell_type": "code",
   "execution_count": 209,
   "metadata": {},
   "outputs": [],
   "source": [
    "artist_term_set['term'] = artist_term_set['term'].apply(lambda x :clean(x))"
   ]
  },
  {
   "cell_type": "code",
   "execution_count": 210,
   "metadata": {},
   "outputs": [
    {
     "data": {
      "text/html": [
       "<div>\n",
       "<style scoped>\n",
       "    .dataframe tbody tr th:only-of-type {\n",
       "        vertical-align: middle;\n",
       "    }\n",
       "\n",
       "    .dataframe tbody tr th {\n",
       "        vertical-align: top;\n",
       "    }\n",
       "\n",
       "    .dataframe thead th {\n",
       "        text-align: right;\n",
       "    }\n",
       "</style>\n",
       "<table border=\"1\" class=\"dataframe\">\n",
       "  <thead>\n",
       "    <tr style=\"text-align: right;\">\n",
       "      <th></th>\n",
       "      <th>artist_id</th>\n",
       "      <th>term</th>\n",
       "    </tr>\n",
       "  </thead>\n",
       "  <tbody>\n",
       "    <tr>\n",
       "      <td>0</td>\n",
       "      <td>AR003FB1187B994355</td>\n",
       "      <td>alternative pop rock, alternative rock, dallas...</td>\n",
       "    </tr>\n",
       "    <tr>\n",
       "      <td>1</td>\n",
       "      <td>AR009211187B989185</td>\n",
       "      <td>acid jazz, ballad, breakbeat, classic rock, da...</td>\n",
       "    </tr>\n",
       "    <tr>\n",
       "      <td>2</td>\n",
       "      <td>AR009SZ1187B9A73F4</td>\n",
       "      <td>abstract, acid jazz, acoustic, alternative roc...</td>\n",
       "    </tr>\n",
       "    <tr>\n",
       "      <td>3</td>\n",
       "      <td>AR00A1N1187FB484EB</td>\n",
       "      <td>80s, abstract, alternative rock, art rock, bel...</td>\n",
       "    </tr>\n",
       "    <tr>\n",
       "      <td>4</td>\n",
       "      <td>AR00AP71187B99635F</td>\n",
       "      <td>bebop, big band, blues, blues bar, classic jazz,</td>\n",
       "    </tr>\n",
       "    <tr>\n",
       "      <td>...</td>\n",
       "      <td>...</td>\n",
       "      <td>...</td>\n",
       "    </tr>\n",
       "    <tr>\n",
       "      <td>30298</td>\n",
       "      <td>ARZZRAT1187B9892CA</td>\n",
       "      <td>90s, acid house, ambient, dance, disco,</td>\n",
       "    </tr>\n",
       "    <tr>\n",
       "      <td>30299</td>\n",
       "      <td>ARZZRK91187B9A5CA5</td>\n",
       "      <td>60s, acoustic, alternative rock, art rock, bla...</td>\n",
       "    </tr>\n",
       "    <tr>\n",
       "      <td>30300</td>\n",
       "      <td>ARZZXJY1187B99E2BB</td>\n",
       "      <td>acoustic, country, drums, flute, folk,</td>\n",
       "    </tr>\n",
       "    <tr>\n",
       "      <td>30301</td>\n",
       "      <td>ARZZXT51187FB4627E</td>\n",
       "      <td>60s, alternative rock, ballad, blues, blues-ro...</td>\n",
       "    </tr>\n",
       "    <tr>\n",
       "      <td>30302</td>\n",
       "      <td>ARZZYRB1187B99D0B6</td>\n",
       "      <td>acid jazz, alternative rock, ambient, bass, co...</td>\n",
       "    </tr>\n",
       "  </tbody>\n",
       "</table>\n",
       "<p>30303 rows × 2 columns</p>\n",
       "</div>"
      ],
      "text/plain": [
       "                artist_id                                               term\n",
       "0      AR003FB1187B994355  alternative pop rock, alternative rock, dallas...\n",
       "1      AR009211187B989185  acid jazz, ballad, breakbeat, classic rock, da...\n",
       "2      AR009SZ1187B9A73F4  abstract, acid jazz, acoustic, alternative roc...\n",
       "3      AR00A1N1187FB484EB  80s, abstract, alternative rock, art rock, bel...\n",
       "4      AR00AP71187B99635F  bebop, big band, blues, blues bar, classic jazz, \n",
       "...                   ...                                                ...\n",
       "30298  ARZZRAT1187B9892CA           90s, acid house, ambient, dance, disco, \n",
       "30299  ARZZRK91187B9A5CA5  60s, acoustic, alternative rock, art rock, bla...\n",
       "30300  ARZZXJY1187B99E2BB            acoustic, country, drums, flute, folk, \n",
       "30301  ARZZXT51187FB4627E  60s, alternative rock, ballad, blues, blues-ro...\n",
       "30302  ARZZYRB1187B99D0B6  acid jazz, alternative rock, ambient, bass, co...\n",
       "\n",
       "[30303 rows x 2 columns]"
      ]
     },
     "execution_count": 210,
     "metadata": {},
     "output_type": "execute_result"
    }
   ],
   "source": [
    "artist_term_set"
   ]
  },
  {
   "cell_type": "code",
   "execution_count": 211,
   "metadata": {},
   "outputs": [
    {
     "data": {
      "text/html": [
       "<div>\n",
       "<style scoped>\n",
       "    .dataframe tbody tr th:only-of-type {\n",
       "        vertical-align: middle;\n",
       "    }\n",
       "\n",
       "    .dataframe tbody tr th {\n",
       "        vertical-align: top;\n",
       "    }\n",
       "\n",
       "    .dataframe thead th {\n",
       "        text-align: right;\n",
       "    }\n",
       "</style>\n",
       "<table border=\"1\" class=\"dataframe\">\n",
       "  <thead>\n",
       "    <tr style=\"text-align: right;\">\n",
       "      <th></th>\n",
       "      <th>title</th>\n",
       "      <th>artist_name</th>\n",
       "      <th>term</th>\n",
       "    </tr>\n",
       "  </thead>\n",
       "  <tbody>\n",
       "    <tr>\n",
       "      <td>0</td>\n",
       "      <td>All These Things I Hate [revolve Around Me] [a...</td>\n",
       "      <td>Bullet For My Valentine</td>\n",
       "      <td>aggressive, alternative metal, emo, guitar, ha...</td>\n",
       "    </tr>\n",
       "    <tr>\n",
       "      <td>1</td>\n",
       "      <td>My Last Serenade</td>\n",
       "      <td>Killswitch Engage</td>\n",
       "      <td>alternative, alternative metal, alternative ro...</td>\n",
       "    </tr>\n",
       "    <tr>\n",
       "      <td>2</td>\n",
       "      <td>Let The Bridges Burn (Album Version)</td>\n",
       "      <td>Killswitch Engage</td>\n",
       "      <td>alternative, alternative metal, alternative ro...</td>\n",
       "    </tr>\n",
       "    <tr>\n",
       "      <td>3</td>\n",
       "      <td>Man Of Two Minds</td>\n",
       "      <td>The Trews</td>\n",
       "      <td>00s, 70s rock, acoustic, alternative, alternat...</td>\n",
       "    </tr>\n",
       "    <tr>\n",
       "      <td>4</td>\n",
       "      <td>You Fight Me</td>\n",
       "      <td>Breaking Benjamin</td>\n",
       "      <td>acoustic, alternative, alternative metal, alte...</td>\n",
       "    </tr>\n",
       "    <tr>\n",
       "      <td>5</td>\n",
       "      <td>You Should Have Killed Me When You Had The Chance</td>\n",
       "      <td>A Day To Remember</td>\n",
       "      <td>acoustic, alternative, alternative metal, alte...</td>\n",
       "    </tr>\n",
       "    <tr>\n",
       "      <td>6</td>\n",
       "      <td>NJ Legion Iced Tea</td>\n",
       "      <td>A Day To Remember</td>\n",
       "      <td>acoustic, alternative, alternative metal, alte...</td>\n",
       "    </tr>\n",
       "    <tr>\n",
       "      <td>7</td>\n",
       "      <td>This Love_ This Hate</td>\n",
       "      <td>Hollywood Undead</td>\n",
       "      <td>alternative, california, emo, guitar, hard rock,</td>\n",
       "    </tr>\n",
       "    <tr>\n",
       "      <td>8</td>\n",
       "      <td>Nickels Is Money Too (Album Version)</td>\n",
       "      <td>The Devil Wears Prada</td>\n",
       "      <td>acoustic, brutal, christian, contemporary chri...</td>\n",
       "    </tr>\n",
       "    <tr>\n",
       "      <td>9</td>\n",
       "      <td>Red Light Pledge (LP Version)</td>\n",
       "      <td>Silverstein</td>\n",
       "      <td>acoustic, emo, emotional, hardcore, heavy,</td>\n",
       "    </tr>\n",
       "  </tbody>\n",
       "</table>\n",
       "</div>"
      ],
      "text/plain": [
       "                                               title              artist_name  \\\n",
       "0  All These Things I Hate [revolve Around Me] [a...  Bullet For My Valentine   \n",
       "1                                   My Last Serenade        Killswitch Engage   \n",
       "2               Let The Bridges Burn (Album Version)        Killswitch Engage   \n",
       "3                                   Man Of Two Minds                The Trews   \n",
       "4                                       You Fight Me        Breaking Benjamin   \n",
       "5  You Should Have Killed Me When You Had The Chance        A Day To Remember   \n",
       "6                                 NJ Legion Iced Tea        A Day To Remember   \n",
       "7                               This Love_ This Hate         Hollywood Undead   \n",
       "8               Nickels Is Money Too (Album Version)    The Devil Wears Prada   \n",
       "9                      Red Light Pledge (LP Version)              Silverstein   \n",
       "\n",
       "                                                term  \n",
       "0  aggressive, alternative metal, emo, guitar, ha...  \n",
       "1  alternative, alternative metal, alternative ro...  \n",
       "2  alternative, alternative metal, alternative ro...  \n",
       "3  00s, 70s rock, acoustic, alternative, alternat...  \n",
       "4  acoustic, alternative, alternative metal, alte...  \n",
       "5  acoustic, alternative, alternative metal, alte...  \n",
       "6  acoustic, alternative, alternative metal, alte...  \n",
       "7  alternative, california, emo, guitar, hard rock,   \n",
       "8  acoustic, brutal, christian, contemporary chri...  \n",
       "9        acoustic, emo, emotional, hardcore, heavy,   "
      ]
     },
     "execution_count": 211,
     "metadata": {},
     "output_type": "execute_result"
    }
   ],
   "source": [
    "TOP10PC1 = pd.merge(top10(0),artist_term_set,on='artist_id',how='inner')[['title','artist_name','term']]\n",
    "TOP10PC1"
   ]
  },
  {
   "cell_type": "code",
   "execution_count": 212,
   "metadata": {},
   "outputs": [
    {
     "data": {
      "text/html": [
       "<div>\n",
       "<style scoped>\n",
       "    .dataframe tbody tr th:only-of-type {\n",
       "        vertical-align: middle;\n",
       "    }\n",
       "\n",
       "    .dataframe tbody tr th {\n",
       "        vertical-align: top;\n",
       "    }\n",
       "\n",
       "    .dataframe thead th {\n",
       "        text-align: right;\n",
       "    }\n",
       "</style>\n",
       "<table border=\"1\" class=\"dataframe\">\n",
       "  <thead>\n",
       "    <tr style=\"text-align: right;\">\n",
       "      <th></th>\n",
       "      <th>title</th>\n",
       "      <th>artist_name</th>\n",
       "      <th>term</th>\n",
       "    </tr>\n",
       "  </thead>\n",
       "  <tbody>\n",
       "    <tr>\n",
       "      <td>0</td>\n",
       "      <td>O.N.E</td>\n",
       "      <td>Yeasayer</td>\n",
       "      <td>alternative, art rock, beat, beautiful, dark,</td>\n",
       "    </tr>\n",
       "    <tr>\n",
       "      <td>1</td>\n",
       "      <td>Sunrise</td>\n",
       "      <td>Yeasayer</td>\n",
       "      <td>alternative, art rock, beat, beautiful, dark,</td>\n",
       "    </tr>\n",
       "    <tr>\n",
       "      <td>2</td>\n",
       "      <td>Road To Nowhere (Remastered LP Version )</td>\n",
       "      <td>Talking Heads</td>\n",
       "      <td>acoustic, art rock, avant-garde, classic, coll...</td>\n",
       "    </tr>\n",
       "    <tr>\n",
       "      <td>3</td>\n",
       "      <td>Feel It All Around</td>\n",
       "      <td>Washed Out</td>\n",
       "      <td>alternative, ambient, chill-out, classical, do...</td>\n",
       "    </tr>\n",
       "    <tr>\n",
       "      <td>4</td>\n",
       "      <td>Fireworks</td>\n",
       "      <td>Animal Collective</td>\n",
       "      <td>acoustic, ambient, beautiful, dark, drone,</td>\n",
       "    </tr>\n",
       "    <tr>\n",
       "      <td>5</td>\n",
       "      <td>Miles Away (Album Version)</td>\n",
       "      <td>Madonna</td>\n",
       "      <td>80s pop, 90s pop, adult contemporary, alternat...</td>\n",
       "    </tr>\n",
       "    <tr>\n",
       "      <td>6</td>\n",
       "      <td>These Four Walls</td>\n",
       "      <td>Miley Cyrus</td>\n",
       "      <td>diva, female, guitar, movie, pop,</td>\n",
       "    </tr>\n",
       "    <tr>\n",
       "      <td>7</td>\n",
       "      <td>Caminando Por La Calle</td>\n",
       "      <td>Gipsy Kings</td>\n",
       "      <td>acoustic, acoustic guitar, cante jondo, contem...</td>\n",
       "    </tr>\n",
       "    <tr>\n",
       "      <td>8</td>\n",
       "      <td>Lullabye</td>\n",
       "      <td>Grizzly Bear</td>\n",
       "      <td>acoustic, brooklyn, experimental, folk, folk-p...</td>\n",
       "    </tr>\n",
       "    <tr>\n",
       "      <td>9</td>\n",
       "      <td>Tu Necesitas (2008 Digital Remaster)</td>\n",
       "      <td>Aleks Syntek</td>\n",
       "      <td>90s, acoustic, america, anime, christian,</td>\n",
       "    </tr>\n",
       "  </tbody>\n",
       "</table>\n",
       "</div>"
      ],
      "text/plain": [
       "                                      title        artist_name  \\\n",
       "0                                     O.N.E           Yeasayer   \n",
       "1                                   Sunrise           Yeasayer   \n",
       "2  Road To Nowhere (Remastered LP Version )      Talking Heads   \n",
       "3                        Feel It All Around         Washed Out   \n",
       "4                                 Fireworks  Animal Collective   \n",
       "5                Miles Away (Album Version)            Madonna   \n",
       "6                          These Four Walls        Miley Cyrus   \n",
       "7                    Caminando Por La Calle        Gipsy Kings   \n",
       "8                                  Lullabye       Grizzly Bear   \n",
       "9      Tu Necesitas (2008 Digital Remaster)       Aleks Syntek   \n",
       "\n",
       "                                                term  \n",
       "0     alternative, art rock, beat, beautiful, dark,   \n",
       "1     alternative, art rock, beat, beautiful, dark,   \n",
       "2  acoustic, art rock, avant-garde, classic, coll...  \n",
       "3  alternative, ambient, chill-out, classical, do...  \n",
       "4        acoustic, ambient, beautiful, dark, drone,   \n",
       "5  80s pop, 90s pop, adult contemporary, alternat...  \n",
       "6                 diva, female, guitar, movie, pop,   \n",
       "7  acoustic, acoustic guitar, cante jondo, contem...  \n",
       "8  acoustic, brooklyn, experimental, folk, folk-p...  \n",
       "9         90s, acoustic, america, anime, christian,   "
      ]
     },
     "execution_count": 212,
     "metadata": {},
     "output_type": "execute_result"
    }
   ],
   "source": [
    "BOTTOM10PC1 = pd.merge(bottom10(0),artist_term_set,on='artist_id',how='inner')[['title','artist_name','term']]\n",
    "BOTTOM10PC1"
   ]
  },
  {
   "cell_type": "markdown",
   "metadata": {},
   "source": [
    "### Visualize Top50 songs similar to the top recommendation"
   ]
  },
  {
   "cell_type": "code",
   "execution_count": 64,
   "metadata": {},
   "outputs": [
    {
     "data": {
      "text/html": [
       "<div>\n",
       "<style scoped>\n",
       "    .dataframe tbody tr th:only-of-type {\n",
       "        vertical-align: middle;\n",
       "    }\n",
       "\n",
       "    .dataframe tbody tr th {\n",
       "        vertical-align: top;\n",
       "    }\n",
       "\n",
       "    .dataframe thead th {\n",
       "        text-align: right;\n",
       "    }\n",
       "</style>\n",
       "<table border=\"1\" class=\"dataframe\">\n",
       "  <thead>\n",
       "    <tr style=\"text-align: right;\">\n",
       "      <th></th>\n",
       "      <th>0</th>\n",
       "      <th>1</th>\n",
       "      <th>2</th>\n",
       "      <th>3</th>\n",
       "      <th>4</th>\n",
       "      <th>5</th>\n",
       "      <th>6</th>\n",
       "      <th>7</th>\n",
       "      <th>8</th>\n",
       "      <th>9</th>\n",
       "    </tr>\n",
       "  </thead>\n",
       "  <tbody>\n",
       "    <tr>\n",
       "      <td>0</td>\n",
       "      <td>1.204400</td>\n",
       "      <td>0.995726</td>\n",
       "      <td>1.239349</td>\n",
       "      <td>-1.115417</td>\n",
       "      <td>-0.033763</td>\n",
       "      <td>-0.973595</td>\n",
       "      <td>1.229550</td>\n",
       "      <td>-0.858981</td>\n",
       "      <td>-0.420182</td>\n",
       "      <td>-1.240288</td>\n",
       "    </tr>\n",
       "    <tr>\n",
       "      <td>1</td>\n",
       "      <td>1.140256</td>\n",
       "      <td>-1.261217</td>\n",
       "      <td>-0.084155</td>\n",
       "      <td>0.876425</td>\n",
       "      <td>-1.273402</td>\n",
       "      <td>1.274438</td>\n",
       "      <td>1.254497</td>\n",
       "      <td>-1.264657</td>\n",
       "      <td>1.242874</td>\n",
       "      <td>-1.252233</td>\n",
       "    </tr>\n",
       "    <tr>\n",
       "      <td>2</td>\n",
       "      <td>0.671129</td>\n",
       "      <td>-1.272041</td>\n",
       "      <td>1.263254</td>\n",
       "      <td>1.256996</td>\n",
       "      <td>1.254271</td>\n",
       "      <td>-0.889180</td>\n",
       "      <td>0.905005</td>\n",
       "      <td>0.177094</td>\n",
       "      <td>-1.258243</td>\n",
       "      <td>-0.566242</td>\n",
       "    </tr>\n",
       "    <tr>\n",
       "      <td>3</td>\n",
       "      <td>1.207631</td>\n",
       "      <td>-1.266270</td>\n",
       "      <td>1.261492</td>\n",
       "      <td>-0.823882</td>\n",
       "      <td>-1.010743</td>\n",
       "      <td>-0.967478</td>\n",
       "      <td>1.268733</td>\n",
       "      <td>-1.263812</td>\n",
       "      <td>-1.274963</td>\n",
       "      <td>-0.418171</td>\n",
       "    </tr>\n",
       "    <tr>\n",
       "      <td>4</td>\n",
       "      <td>1.117859</td>\n",
       "      <td>-0.444662</td>\n",
       "      <td>-1.268197</td>\n",
       "      <td>1.226389</td>\n",
       "      <td>-0.899788</td>\n",
       "      <td>-0.982851</td>\n",
       "      <td>0.068450</td>\n",
       "      <td>-1.255525</td>\n",
       "      <td>0.236649</td>\n",
       "      <td>-0.588108</td>\n",
       "    </tr>\n",
       "    <tr>\n",
       "      <td>...</td>\n",
       "      <td>...</td>\n",
       "      <td>...</td>\n",
       "      <td>...</td>\n",
       "      <td>...</td>\n",
       "      <td>...</td>\n",
       "      <td>...</td>\n",
       "      <td>...</td>\n",
       "      <td>...</td>\n",
       "      <td>...</td>\n",
       "      <td>...</td>\n",
       "    </tr>\n",
       "    <tr>\n",
       "      <td>21835</td>\n",
       "      <td>0.125794</td>\n",
       "      <td>-0.470102</td>\n",
       "      <td>0.101637</td>\n",
       "      <td>0.641738</td>\n",
       "      <td>0.719679</td>\n",
       "      <td>0.507892</td>\n",
       "      <td>0.307056</td>\n",
       "      <td>-0.253161</td>\n",
       "      <td>-0.371632</td>\n",
       "      <td>0.231348</td>\n",
       "    </tr>\n",
       "    <tr>\n",
       "      <td>21836</td>\n",
       "      <td>-0.384990</td>\n",
       "      <td>-0.321370</td>\n",
       "      <td>0.339995</td>\n",
       "      <td>0.387827</td>\n",
       "      <td>-0.209360</td>\n",
       "      <td>0.656645</td>\n",
       "      <td>0.026790</td>\n",
       "      <td>0.156042</td>\n",
       "      <td>-0.102770</td>\n",
       "      <td>-0.380949</td>\n",
       "    </tr>\n",
       "    <tr>\n",
       "      <td>21837</td>\n",
       "      <td>-0.291975</td>\n",
       "      <td>0.344939</td>\n",
       "      <td>0.648514</td>\n",
       "      <td>-0.761859</td>\n",
       "      <td>-0.792506</td>\n",
       "      <td>-0.396911</td>\n",
       "      <td>0.745704</td>\n",
       "      <td>-0.465771</td>\n",
       "      <td>-0.405158</td>\n",
       "      <td>-0.420081</td>\n",
       "    </tr>\n",
       "    <tr>\n",
       "      <td>21838</td>\n",
       "      <td>0.322170</td>\n",
       "      <td>-0.020427</td>\n",
       "      <td>0.160536</td>\n",
       "      <td>-0.239721</td>\n",
       "      <td>0.137067</td>\n",
       "      <td>-0.049334</td>\n",
       "      <td>-0.247298</td>\n",
       "      <td>0.487339</td>\n",
       "      <td>-0.144258</td>\n",
       "      <td>-0.177304</td>\n",
       "    </tr>\n",
       "    <tr>\n",
       "      <td>21839</td>\n",
       "      <td>-1.262491</td>\n",
       "      <td>1.280322</td>\n",
       "      <td>0.955308</td>\n",
       "      <td>1.274101</td>\n",
       "      <td>1.254771</td>\n",
       "      <td>-1.128659</td>\n",
       "      <td>1.164597</td>\n",
       "      <td>1.248814</td>\n",
       "      <td>1.038310</td>\n",
       "      <td>1.251548</td>\n",
       "    </tr>\n",
       "  </tbody>\n",
       "</table>\n",
       "<p>21840 rows × 10 columns</p>\n",
       "</div>"
      ],
      "text/plain": [
       "              0         1         2         3         4         5         6  \\\n",
       "0      1.204400  0.995726  1.239349 -1.115417 -0.033763 -0.973595  1.229550   \n",
       "1      1.140256 -1.261217 -0.084155  0.876425 -1.273402  1.274438  1.254497   \n",
       "2      0.671129 -1.272041  1.263254  1.256996  1.254271 -0.889180  0.905005   \n",
       "3      1.207631 -1.266270  1.261492 -0.823882 -1.010743 -0.967478  1.268733   \n",
       "4      1.117859 -0.444662 -1.268197  1.226389 -0.899788 -0.982851  0.068450   \n",
       "...         ...       ...       ...       ...       ...       ...       ...   \n",
       "21835  0.125794 -0.470102  0.101637  0.641738  0.719679  0.507892  0.307056   \n",
       "21836 -0.384990 -0.321370  0.339995  0.387827 -0.209360  0.656645  0.026790   \n",
       "21837 -0.291975  0.344939  0.648514 -0.761859 -0.792506 -0.396911  0.745704   \n",
       "21838  0.322170 -0.020427  0.160536 -0.239721  0.137067 -0.049334 -0.247298   \n",
       "21839 -1.262491  1.280322  0.955308  1.274101  1.254771 -1.128659  1.164597   \n",
       "\n",
       "              7         8         9  \n",
       "0     -0.858981 -0.420182 -1.240288  \n",
       "1     -1.264657  1.242874 -1.252233  \n",
       "2      0.177094 -1.258243 -0.566242  \n",
       "3     -1.263812 -1.274963 -0.418171  \n",
       "4     -1.255525  0.236649 -0.588108  \n",
       "...         ...       ...       ...  \n",
       "21835 -0.253161 -0.371632  0.231348  \n",
       "21836  0.156042 -0.102770 -0.380949  \n",
       "21837 -0.465771 -0.405158 -0.420081  \n",
       "21838  0.487339 -0.144258 -0.177304  \n",
       "21839  1.248814  1.038310  1.251548  \n",
       "\n",
       "[21840 rows x 10 columns]"
      ]
     },
     "execution_count": 64,
     "metadata": {},
     "output_type": "execute_result"
    }
   ],
   "source": [
    "matrix_test = matrix[[0,1,2,3,4,5,6,7,8,9]]\n",
    "matrix_test"
   ]
  },
  {
   "cell_type": "code",
   "execution_count": 65,
   "metadata": {},
   "outputs": [],
   "source": [
    "from sklearn.metrics.pairwise import cosine_similarity"
   ]
  },
  {
   "cell_type": "code",
   "execution_count": 66,
   "metadata": {},
   "outputs": [],
   "source": [
    "similarity = cosine_similarity(matrix.values)\n",
    "similarity -= np.eye(similarity.shape[0])"
   ]
  },
  {
   "cell_type": "code",
   "execution_count": 67,
   "metadata": {},
   "outputs": [],
   "source": [
    "# User index for recommendation\n",
    "item_index = 0\n",
    "\n",
    "# Number of similar users for recommendation\n",
    "n_recommendation = 10\n",
    "\n",
    "# Plot top n recommendations\n",
    "n_plot = 10\n",
    "\n",
    "# Sort similar users by index\n",
    "similarity_item_index = np.argsort(similarity[item_index])[::-1]\n",
    "# Sort similar users by score\n",
    "similarity_item_score = np.sort(similarity[item_index])[::-1]"
   ]
  },
  {
   "cell_type": "code",
   "execution_count": 68,
   "metadata": {},
   "outputs": [
    {
     "data": {
      "text/plain": [
       "array([ 7451,  3283,  2975, ..., 19682,  7176,    33], dtype=int64)"
      ]
     },
     "execution_count": 68,
     "metadata": {},
     "output_type": "execute_result"
    }
   ],
   "source": [
    "#50 neighbors of item 0 (index)\n",
    "similarity_item_index"
   ]
  },
  {
   "cell_type": "code",
   "execution_count": 69,
   "metadata": {},
   "outputs": [
    {
     "data": {
      "text/plain": [
       "'SOVGSEL12A8C141591'"
      ]
     },
     "execution_count": 69,
     "metadata": {},
     "output_type": "execute_result"
    }
   ],
   "source": [
    "def findkey(value,dic):\n",
    "    for i in dic.keys():\n",
    "        if dic[i]==value:\n",
    "            return i\n",
    "findkey(0,song_id_mapping)"
   ]
  },
  {
   "cell_type": "code",
   "execution_count": 70,
   "metadata": {},
   "outputs": [
    {
     "data": {
      "text/plain": [
       "['SOAFEUC12A8C13F98B',\n",
       " 'SOHLQOA12A8C13D8E1',\n",
       " 'SOPYAQD12A8C13D8D2',\n",
       " 'SOPCEOB12AF72A778A',\n",
       " 'SOWWFIG12A8C13C8C2',\n",
       " 'SOXLJXH12A8C13D903',\n",
       " 'SOQQKOF12A6D4F74D0',\n",
       " 'SOYVNUP12A8C13C8B3',\n",
       " 'SOLCQUQ12A6D4F74D5',\n",
       " 'SOKSLVO12AB01872CD',\n",
       " 'SOHSDOP12A8C13D8F6',\n",
       " 'SOUEYKW12A8C140004',\n",
       " 'SOXJOGF12AF729F0CB',\n",
       " 'SOKOJRH12A6D4F86B6',\n",
       " 'SOOKORP12AF72A6DE2',\n",
       " 'SOPCAWW12A6D4F74D2',\n",
       " 'SOBXOGW12A6D4F74CE',\n",
       " 'SOFHUWD12A67020931',\n",
       " 'SOWHYTU12A8C13C8A4',\n",
       " 'SONUVNA12A6D4F86C5',\n",
       " 'SOAJVKX12A8C13D8FE',\n",
       " 'SOKMURC12AF72A778C',\n",
       " 'SOOHTPP12A58A7AF89',\n",
       " 'SOMLNLR12AB0185DE2',\n",
       " 'SOVRXWW12A6D4F74D3',\n",
       " 'SOJNRAG12A8C13C89C',\n",
       " 'SOIQIJB12AB01838DD',\n",
       " 'SOAWXPY12A8C137E88',\n",
       " 'SOBXOWJ12A6D4F85BA',\n",
       " 'SOLCSBI12A67020930',\n",
       " 'SOOQOMI12AF72A0548',\n",
       " 'SOEHDOX12A6702093B',\n",
       " 'SOPKKZW12AF72A6763',\n",
       " 'SONNYLM12A8C143E5C',\n",
       " 'SOPNRPF12A67020932',\n",
       " 'SOKFFGS12AB0184771',\n",
       " 'SOGJAOP12A6D4F74D4',\n",
       " 'SONUKAE12A8C1368DC',\n",
       " 'SOKXXRV12A58A77857',\n",
       " 'SOKXVQZ12A8C13AD97',\n",
       " 'SODAIMX12A6D4F74D6',\n",
       " 'SOEITLJ12A67021321',\n",
       " 'SONLGOC12A8C13C3D6',\n",
       " 'SOLRJXU12AB018BB55',\n",
       " 'SOEIERG12A8C13CF09',\n",
       " 'SOZCARG12A6D4F74D1',\n",
       " 'SOKWIYX12A8C13CD0B',\n",
       " 'SOFQJCL12A8C13C89B',\n",
       " 'SOTZXIK12AB017EFE8',\n",
       " 'SOSWANZ12A67020938',\n",
       " 'SOFLMUK12A8C132CDC',\n",
       " 'SOZIMLB12AF72AD1CD',\n",
       " 'SOYEJQY12AB018696B',\n",
       " 'SOIIVZN12AB0183314',\n",
       " 'SOPPDMV12AB017BFEA',\n",
       " 'SOSUJEK12A6D4FB178',\n",
       " 'SODOGRG12AF729F796',\n",
       " 'SOIRAYR12A8C13D8D0',\n",
       " 'SOOKWOE12A8C139E0B',\n",
       " 'SODROZF12A8AE4740F',\n",
       " 'SODXLRR12A6D4F71BB',\n",
       " 'SOJRHQB12A6D4F74CD',\n",
       " 'SOSLLMZ12A6D4F85BB',\n",
       " 'SOSKYPY12A8C138198',\n",
       " 'SOCVBOU12AF729EADF',\n",
       " 'SOMIYYZ12A8C132A69',\n",
       " 'SOXHTQH12AF72A71EA',\n",
       " 'SOACQSN12AF729E69B',\n",
       " 'SOBWKQC12A6D4F621E',\n",
       " 'SOQELQV12A6D4F6225',\n",
       " 'SOTKSSX12A8C138133',\n",
       " 'SOAOBZA12AF72A5914',\n",
       " 'SOPEOIS12A8C1415A4',\n",
       " 'SOZAXCJ12A8C144A60',\n",
       " 'SODKZFB12A6D4F621B',\n",
       " 'SOFFWND12A58A796B7',\n",
       " 'SOWVZET12A8C132A55',\n",
       " 'SOMSOYJ12AB017D8F9',\n",
       " 'SOMQHVL12A8C13C867',\n",
       " 'SOXERTH12A81C21D13',\n",
       " 'SOWAKUX12AF72A310F',\n",
       " 'SOILUML12AB017FC20',\n",
       " 'SOPQZLN12A6D4F6691',\n",
       " 'SORVYJO12A6702150F',\n",
       " 'SOQVGJA12AB01801A4',\n",
       " 'SOWYSKH12AF72A303A',\n",
       " 'SOSAZTX12A67ADBEE0',\n",
       " 'SOFOKDB12A6310E1ED',\n",
       " 'SOAIBAM12AB0185EB5',\n",
       " 'SOIZRSC12A8C13681C',\n",
       " 'SOZSRLH12A6702085D',\n",
       " 'SOVLEFN12A6D4F9753',\n",
       " 'SOMRBKG12A6D4FB589',\n",
       " 'SOAKYBR12AB0185EE8',\n",
       " 'SOZJUSJ12A8C13C249',\n",
       " 'SOPYYND12AB01804FC',\n",
       " 'SOTGIKV12AB0182176',\n",
       " 'SOTZQFP12A8AE46A2B',\n",
       " 'SOGJQBU12A6D4FA8EC',\n",
       " 'SOVIPOH12AB0186E48',\n",
       " 'SOSEKZA12A8C13FF24',\n",
       " 'SOXJWOF12A6701E04B',\n",
       " 'SOBDDJN12A6D4F698F',\n",
       " 'SOLXZIM12AB0186EEE',\n",
       " 'SOVUWOY12AB0181A03',\n",
       " 'SOTUPSN12A58A79162',\n",
       " 'SOEEBEH12AB01829E9',\n",
       " 'SOYFFTM12AF72AA2AE',\n",
       " 'SOPXFGP12A8C13FA9F',\n",
       " 'SOKSEWZ12A6D4FB851',\n",
       " 'SOXQWCK12A81C21E3A',\n",
       " 'SOTXMEN12A8AE46A2F',\n",
       " 'SOVWPNQ12A8C132A63',\n",
       " 'SOGPALS12AAA8C8547',\n",
       " 'SOEKUWC12A6D4F8F00',\n",
       " 'SOVDECX12A67021676',\n",
       " 'SOIKZYL12A6701F4B0',\n",
       " 'SOAOYYI12A6D4F9759',\n",
       " 'SOPRZIH12A6D4F8DF0',\n",
       " 'SOGMHTU12A8C138714',\n",
       " 'SORKHNU12A58A7A5B2',\n",
       " 'SOGGLCJ12A6BD4F3E8',\n",
       " 'SOPMSJV12AB0183AD1',\n",
       " 'SOLIBPA12AB01829C7',\n",
       " 'SOJYWOO12A8C131CA2',\n",
       " 'SONAYKV12A8C13ED40',\n",
       " 'SOYSYDN12A8C131CB0',\n",
       " 'SOPKQGU12AB0184109',\n",
       " 'SOTNWCI12AAF3B2028',\n",
       " 'SOSVPCE12A58A78E9F',\n",
       " 'SOKNAOF12AF72AC876',\n",
       " 'SORGJGA12A6D4FD9C4',\n",
       " 'SOJVCAY12A8C142CEC',\n",
       " 'SOSTGAF12A58A7B18B',\n",
       " 'SOAHYFL12A58A7EB68',\n",
       " 'SODXHYV12A8C13AE0A',\n",
       " 'SOQFYKC12A58A7D033',\n",
       " 'SOTTOGN12AF729F04D',\n",
       " 'SODTHYD12A6D4F9A12',\n",
       " 'SOKYUQQ12A8C1384BA',\n",
       " 'SOGTERF12A6D4F9758',\n",
       " 'SOMVRXW12A8C13BB23',\n",
       " 'SOKKOJN12A6D4FA8E0',\n",
       " 'SOUPBLQ12A6D4FCFF1',\n",
       " 'SOMFBHU12A679AE567',\n",
       " 'SOXWSXX12AF72A6F95',\n",
       " 'SOXFOBT12A8C132436',\n",
       " 'SOLZRQN12A8C138E34',\n",
       " 'SOFWNQG12AF72A0FC2',\n",
       " 'SORQEJX12A81C223B5',\n",
       " 'SOVTSFV12A81C21E3E',\n",
       " 'SOLYRRJ12AF72A0AE8',\n",
       " 'SOZBIXL12AB0186736',\n",
       " 'SOPYDLJ12A6D4F9752',\n",
       " 'SOACLWZ12AB017BFCC',\n",
       " 'SOGDVCL12AB0185EC2',\n",
       " 'SOTIURG12A58A793DF',\n",
       " 'SOIAHAG12A8C137806',\n",
       " 'SOWNZFY12A58A7C9A7',\n",
       " 'SOLRGRO12A8C133797',\n",
       " 'SOWESWA12A8C1334B8',\n",
       " 'SOTNQBH12A8C135F80',\n",
       " 'SOIDZYO12869A05669',\n",
       " 'SOLWIQG12A6D4F6224',\n",
       " 'SOHGAHT12A58A77AD9',\n",
       " 'SORSBEU12A58A7B848',\n",
       " 'SONHMAE12A8C138D65',\n",
       " 'SOSMWOO12A8C131CA5',\n",
       " 'SOJNYDX12AB018606A',\n",
       " 'SOBSFKQ12A6D4FA7BA',\n",
       " 'SOCGBXK12A6D4F780F',\n",
       " 'SOVWHPM12AB017DABB',\n",
       " 'SOXBRLJ12A8C1388BD',\n",
       " 'SOVXBOT12A8C136816',\n",
       " 'SORXCZE12AF72A1940',\n",
       " 'SONZPPA12AF72A9E13',\n",
       " 'SOXHKPN12AAF3B2089',\n",
       " 'SOJRQVG12A58A79CFE',\n",
       " 'SOTTKTT12A8C13BB1E',\n",
       " 'SOKKWDU12A58A78DE3',\n",
       " 'SODDKUO12A8C13233E',\n",
       " 'SOLSALJ12A6701D94A',\n",
       " 'SOSBKRA12A81C21EEE',\n",
       " 'SOJHXUD12A8C1421C7',\n",
       " 'SOAISXH12A8C142A60',\n",
       " 'SOMMLRO12A6D4F9FD1',\n",
       " 'SOCTUIP12A6702085B',\n",
       " 'SORXSRO12A8C135C76',\n",
       " 'SORCRQT12A8C142A5A',\n",
       " 'SOIUIAY12A8C1330E6',\n",
       " 'SOJQQPD12A8C141183',\n",
       " 'SOWMBCE12A58A7B377',\n",
       " 'SOADQMO12A8C136FF9',\n",
       " 'SOXSKZG12A8C140452',\n",
       " 'SOAKGYN12A6D4F9751',\n",
       " 'SOSIZEN12A67020911',\n",
       " 'SOXCLQP12AF72A29A9',\n",
       " 'SOMVTOM12A6D4F7978',\n",
       " 'SOMKOAT12A58A7B934',\n",
       " 'SOFDKUI12AB01838BB',\n",
       " 'SOHKQSO12A8AE47C9C',\n",
       " 'SOLBVUQ12A58A7ABAE',\n",
       " 'SODCOYD12AB0189093',\n",
       " 'SOAOPNQ12A81C21E35',\n",
       " 'SOBJMFB12AAF3B2DB9',\n",
       " 'SOYBMYK12A6D4F8C57',\n",
       " 'SOGFGUV12A8C132A51',\n",
       " 'SOKOTZG12A6D4F9519',\n",
       " 'SOTFJGS12AB017F577',\n",
       " 'SOVCVGY12A8C136532',\n",
       " 'SOREPVE12A8AE47631',\n",
       " 'SOEKVEA12A6D4FA514',\n",
       " 'SOYYJMW12A6D4F8636',\n",
       " 'SOZMXSK12A6D4F621A',\n",
       " 'SOCAKIO12A58A7CB39',\n",
       " 'SOBKXBA12A6D4F76B9',\n",
       " 'SONIIPL12AB0185ED3',\n",
       " 'SOASDST12A8C1416D2',\n",
       " 'SOEIFIC12A6701E240',\n",
       " 'SOJOFPT12A8C1374FC',\n",
       " 'SOUBBPO12A8AE47610',\n",
       " 'SOCGYWW12A8C13BB00',\n",
       " 'SOXYWIK12A6D4F9757',\n",
       " 'SOJPZHH12A8C131C92',\n",
       " 'SOMKFIL12A6D4F9DD5',\n",
       " 'SOEWPZY12A6D4FB168',\n",
       " 'SOZZXPJ12A6D4F95A0',\n",
       " 'SOEDUJZ12AF729F758',\n",
       " 'SOVDTMK12AB01829D3',\n",
       " 'SOCYOTN12A8C13A4B1',\n",
       " 'SOWLGMV12A8C137834',\n",
       " 'SOATTBY12AF72ACDEA',\n",
       " 'SOGRZMM12A6701C7F3',\n",
       " 'SOVSBUI12A6D4F7974',\n",
       " 'SOIBQJX12A8AE476EC',\n",
       " 'SOYKHXJ12A6D4F9A44',\n",
       " 'SOGCZWA12A8C14264C',\n",
       " 'SOUFXCG12A8C138150',\n",
       " 'SOYNJGV12A58A7B6B5',\n",
       " 'SOJZFQA12AB017BFB0',\n",
       " 'SOATHXT12A6D4FB082',\n",
       " 'SOKASYY12AB018151A',\n",
       " 'SOIKHHI12A6D4F85C0',\n",
       " 'SOCWDAV12A8C13BC40',\n",
       " 'SOGGTIM12A6D4F85BD',\n",
       " 'SOQTFXI12A8C13FB1E',\n",
       " 'SOXKDFJ12A6D4FA8F9',\n",
       " 'SOJNUZN12B0B808AC7',\n",
       " 'SOWYMOQ12A8C133C8C',\n",
       " 'SOGUBUF12AB01883B8',\n",
       " 'SOYSLIC12A6701EA8A',\n",
       " 'SONJPDI12A58A809B7',\n",
       " 'SOLXQEG12A67AE2285',\n",
       " 'SOUAWYC12A67021CD6',\n",
       " 'SOUIPBC12A8C142A1A',\n",
       " 'SOGQXAL12AB017E7E7',\n",
       " 'SOVHFMK12A679AE565',\n",
       " 'SOGXDHP12AF72A1F8A',\n",
       " 'SOOBLXH12A81C21756',\n",
       " 'SOLQQOM12A6D4F6F12',\n",
       " 'SOPIQZP12A670201C7',\n",
       " 'SORVAXK12A58A7E822',\n",
       " 'SOCIIUN12A58A7DA9F',\n",
       " 'SOXFMAQ12A6D4F91E0',\n",
       " 'SOCECZH12AB017FC28',\n",
       " 'SOISSYK12A6D4F78A8',\n",
       " 'SOBNVXI12A81C238A8',\n",
       " 'SODXBOR12A58A7BB24',\n",
       " 'SOUVGDA12AB017F1BD',\n",
       " 'SORDSYQ12A6701F3EC',\n",
       " 'SODLHEV12AB0183844',\n",
       " 'SOUPYBZ12A6D4FBDEE',\n",
       " 'SORBALZ12B0B80B130',\n",
       " 'SOJEVNN12A8C1330ED',\n",
       " 'SOZBNIT12A6D4F7BBE',\n",
       " 'SODUMZZ12A58A7C898',\n",
       " 'SOUAOZT12AB0184B11',\n",
       " 'SOLTOND12A8C13ED7C',\n",
       " 'SOACITF12A81C21E34',\n",
       " 'SOQBPJS12A67ADA077',\n",
       " 'SOKIYKQ12A8AE464FC',\n",
       " 'SOZYWFU12AF72A1352',\n",
       " 'SOZAUIY12AB017B6A0',\n",
       " 'SONMNYH12A8C131C99',\n",
       " 'SODIGRT12A67AD9EBD',\n",
       " 'SOVACWA12AB018382C',\n",
       " 'SOPZPNA12A6D4FB861',\n",
       " 'SOFJXKY12AB0188796',\n",
       " 'SONMYPA12A6D4FA61A',\n",
       " 'SOIUVMN12A8AE47414',\n",
       " 'SOQQAAQ12A67ADE34D',\n",
       " 'SOSKLOU12A6D4F6221',\n",
       " 'SOAEBUY12B0B8084C3',\n",
       " 'SOVDDKV12A67ADBEDF',\n",
       " 'SOHXHWB12A58A7ACD1',\n",
       " 'SODADGW12A58A7A12B',\n",
       " 'SOMIKKB12AB01890D0',\n",
       " 'SOIPNWS12A6701E5B9',\n",
       " 'SOWCETO12A58A776E1',\n",
       " 'SOHGFPP12A8AE4624D',\n",
       " 'SOTMPEY12A6D4F6A10',\n",
       " 'SOVBCXC12A67ADB9D1',\n",
       " 'SOQAQTM12A6702096F',\n",
       " 'SOGDEFC12A6D4FB0D1',\n",
       " 'SOZNYOE12A6701FA98',\n",
       " 'SOKUMEM12A81C23943',\n",
       " 'SOVBEXU12A6701FA97',\n",
       " 'SOUJVYT12A8AE47634',\n",
       " 'SOYDYFX12B0B80CB23',\n",
       " 'SOHBPAS12A58A7EB59',\n",
       " 'SOYYFLV12A58A7A88F',\n",
       " 'SOBWDFR12A8C131CAD',\n",
       " 'SORZTMT12AF72A4909',\n",
       " 'SOILLOH12AB017DC71',\n",
       " 'SOQXIXH12AB018333B',\n",
       " 'SOGWFXJ12A6D4F9EC2',\n",
       " 'SOQGLFY12A8C13C23B',\n",
       " 'SORAKQE12A8C141D18',\n",
       " 'SOFSVRW12A81C234D0',\n",
       " 'SOIPYPB12A8C1360D4',\n",
       " 'SOYYBYO12AC4688952',\n",
       " 'SOIASMD12A6D4F6A33',\n",
       " 'SOOTERM12A6D4F60FF',\n",
       " 'SOAXHLH12A58A7C27E',\n",
       " 'SOCTVUN12A6D4F8FA6',\n",
       " 'SOMUTNI12A8C13E874',\n",
       " 'SOIPDNB12A6D4FA902',\n",
       " 'SOEKEWC12A8C132A59',\n",
       " 'SOTOZJS12A8C13BDC3',\n",
       " 'SOBHXWK12A6D4FD10E',\n",
       " 'SOXDNHV12AF729FA0C',\n",
       " 'SOZCXHW12A8C13AF62',\n",
       " 'SOWOQPD12A8C136EF6',\n",
       " 'SOMKLMJ12A8C139AAD',\n",
       " 'SOSROSV12A6D4F9A72',\n",
       " 'SOTUHJQ12AF72AB439',\n",
       " 'SOGOINY12A8C14534B',\n",
       " 'SOMBHWZ12A58A7D10C',\n",
       " 'SOIRUXQ12A8C133060',\n",
       " 'SOPUCPC12A67ADEA1D',\n",
       " 'SOAKUNU12AF72AA2AB',\n",
       " 'SOAUOWS12AF72A52B7',\n",
       " 'SOOLMZJ12A58A7F10A',\n",
       " 'SOWTQIB12A8C132E71',\n",
       " 'SODQGIE12A81C21D18',\n",
       " 'SOFWRGY12AB01866F1',\n",
       " 'SONTIBS12A6D4F9CFE',\n",
       " 'SODGNLK12A58A7E8DC',\n",
       " 'SOZHVTN12A8C141A5F',\n",
       " 'SOWJCVV12A6D4F683D',\n",
       " 'SOODPSC12A6D4F6220',\n",
       " 'SOSNLHO12A8C1433A3',\n",
       " 'SOUCQOJ12AB018D14B',\n",
       " 'SOGRQPN12A58A7DA0F',\n",
       " 'SOYHCYU12A6701FBC2',\n",
       " 'SOZDAGY12AB0186D02',\n",
       " 'SODGGZI12A58A7CD78',\n",
       " 'SOFJJJK12AB017FEC2',\n",
       " 'SOZXNVK12A8C13CF0E',\n",
       " 'SOPSZXN12A8C137838',\n",
       " 'SOFKTWO12A8C1383B5',\n",
       " 'SOODEIY12A58A7A6CB',\n",
       " 'SOKUTUJ12AB017D044',\n",
       " 'SOUWROC12A8C141CF3',\n",
       " 'SOMDZSH12A6D4FC5CB',\n",
       " 'SORZCTH12A6D4FB0BD',\n",
       " 'SOSTGNE12A6D4F9A42',\n",
       " 'SOXNZOW12AB017F756',\n",
       " 'SOBXLOE12AF72A43FA',\n",
       " 'SOPRZTH12A8C139AC2',\n",
       " 'SOMRDLF12AB017BCD8',\n",
       " 'SOTQBEL12AB01812D6',\n",
       " 'SODXNVX12A81C21E25',\n",
       " 'SOABNRC12AB01844D6',\n",
       " 'SODNXDD12AB018331A',\n",
       " 'SOZPUNH12AC9E126A1',\n",
       " 'SOCACAY12A6D4F9A46',\n",
       " 'SOFVBFP12AB01899C7',\n",
       " 'SOYYETP12AC46881A1',\n",
       " 'SOKDVQC12A8C13DFC8',\n",
       " 'SOECFXH12A8C13ABF7',\n",
       " 'SOKENBX12A6D4FADA1',\n",
       " 'SOHGVQA12AB0186DC9',\n",
       " 'SOTMREG12A8C1416F8',\n",
       " 'SOWNAQG12AB01832FA',\n",
       " 'SOIBGRB12AF7299949',\n",
       " 'SOVLCUH12A8C13E19D',\n",
       " 'SODJVTF12A8AE46DFD',\n",
       " 'SOSWVRK12A8C13EBBE',\n",
       " 'SOHTEOH12AB017E7E7',\n",
       " 'SOZYLDV12A8C140DAA',\n",
       " 'SOZOZAQ12AB018D4EE',\n",
       " 'SOIOESO12A6D4F621D',\n",
       " 'SOHQFLV12A6D4F863A',\n",
       " 'SOPIAJD12A8C131CA9',\n",
       " 'SOLJWTE12A8C13AF27',\n",
       " 'SOYLYFL12A8AE45FA4',\n",
       " 'SORAXPL12AC4685A11',\n",
       " 'SONENIO12AB017DBDC',\n",
       " 'SOEZDVP12A670209CD',\n",
       " 'SOKGMOT12AB018771F',\n",
       " 'SOUPNIS12AF72A6FB0',\n",
       " 'SOHSKWR12A6310E37B',\n",
       " 'SOYVAYO12A67AE17EA',\n",
       " 'SOZUEDU12A8C1425FC',\n",
       " 'SOJSHBN12A8C138AAC',\n",
       " 'SOALJBV12AB017FC3A',\n",
       " 'SOTLWOM12A6D4F8EF4',\n",
       " 'SOKROKG12AF72A3CC9',\n",
       " 'SOCRHFB12A6D4F9755',\n",
       " 'SONOSJJ12A8C141D03',\n",
       " 'SONZBNZ12A58A7DCBF',\n",
       " 'SOOEBUJ12A6D4FD569',\n",
       " 'SOPBMEK12A8C13F6E9',\n",
       " 'SOISZHF12A8151E077',\n",
       " 'SOJMVBR12A8AE47629',\n",
       " 'SOFPPOM12A6D4FC5C4',\n",
       " 'SOVIIOV12A67020315',\n",
       " 'SODWDTX12A6D4FA7A2',\n",
       " 'SOSAXUZ12AAF3B2031',\n",
       " 'SOWSXCI12A67020171',\n",
       " 'SOUFZAL12A8C130497',\n",
       " 'SOUJZAW12A6BD546A7',\n",
       " 'SORUFVF12AB018230B',\n",
       " 'SOLPYVX12A679AE583',\n",
       " 'SOMGBXD12A8C142A3E',\n",
       " 'SOXAHER12A8AE4857F',\n",
       " 'SOWMFWZ12A58A79DA5',\n",
       " 'SOVFENH12AB0185ED9',\n",
       " 'SOAXRHN12AF72A2C63',\n",
       " 'SOUKCWH12A8C13B7E9',\n",
       " 'SOMWLWT12A8C13C19D',\n",
       " 'SOWWQFW12A8C13D341',\n",
       " 'SORBGBD12A8C141CEA',\n",
       " 'SODLXUO12A8C1335B2',\n",
       " 'SOUDZCF12AF729E558',\n",
       " 'SOROWQJ12A8AE49943',\n",
       " 'SOGFPKE12A8C134993',\n",
       " 'SOQAZKD12AB017F667',\n",
       " 'SOBFNSP12AF72A0E22',\n",
       " 'SOXCBEF12A8C146AFE',\n",
       " 'SOTYGBJ12A6D4FD257',\n",
       " 'SODVWLD12A6D4F87D2',\n",
       " 'SONMVKD12A6D4F6D10',\n",
       " 'SOHTQAS12A6701C7BA',\n",
       " 'SOGUJJS12A6D4FB833',\n",
       " 'SOWPXMC12A6D4F7779',\n",
       " 'SOQHOUQ12A6D4F8DA9',\n",
       " 'SOMGEIW12AB017BE00',\n",
       " 'SOUULQA12A8C137E96',\n",
       " 'SOISAEI12AB018488A',\n",
       " 'SOGJGNY12AB017EDEA',\n",
       " 'SOUIEBL12A6D4F4E3B',\n",
       " 'SOCQKIL12A6D4FD9DE',\n",
       " 'SOLTNCZ12A8C13FB4B',\n",
       " 'SOODBTV12A6D4F9C82',\n",
       " 'SOKPUKQ12A8151E072',\n",
       " 'SONARAM12A58A7B4E9',\n",
       " 'SOCRYUK12AC95F0772',\n",
       " 'SOIGAWN12A8151E078',\n",
       " 'SOYBWVW12A6D4F9792',\n",
       " 'SOIDRDB12A58A78B45',\n",
       " 'SOWDFPK12AF729B19A',\n",
       " 'SOMOVVV12AB018AC38',\n",
       " 'SORPQKU12AB0182340',\n",
       " 'SOEERPA12AF72A43D4',\n",
       " 'SOLPVOF12A8C142091',\n",
       " 'SOUFTOO12A3F1ECD7C',\n",
       " 'SOQWCBY12A8C13FF1D',\n",
       " 'SOXIOLU12A6D4FB16F',\n",
       " 'SOGHGRI12A81C22FBA',\n",
       " 'SOIMFOG12AB017D053',\n",
       " 'SODHOYX12AB0180CB2',\n",
       " 'SOBFKCW12A6D4FAA01',\n",
       " 'SODQCIN12A8AE4882D',\n",
       " 'SONGHRQ12A8C1398BB',\n",
       " 'SOFIAHQ12A8C13192F',\n",
       " 'SOORLTC12AF72A4608',\n",
       " 'SOVXQUE12A6D4F9754',\n",
       " 'SOASALC12AB018D787',\n",
       " 'SONSXKP12A8C138B24',\n",
       " 'SOQCHTY12A8C13B6A3',\n",
       " 'SODTRBH12AF72ABD04',\n",
       " 'SORFYSW12AB0180B31',\n",
       " 'SOGAALD12A6D4F58F2',\n",
       " 'SOAKFHK12A58A7E71B',\n",
       " 'SOZQFQD12A8C13895D',\n",
       " 'SOIAVYJ12A6310D95E',\n",
       " 'SOMBPXU12A58A7C87C',\n",
       " 'SOBRUVP12A6D4F9649',\n",
       " 'SOOMGSW12AB017CE62',\n",
       " 'SOCTIPE12A6D4FE16E',\n",
       " 'SOLYOQF12A58A7A00A',\n",
       " 'SOXZRBE12B0B808AB6',\n",
       " 'SONFZLU12A67ADA4F5',\n",
       " 'SOXWACW12AF72A499D',\n",
       " 'SONUCRM12A6D4F8E41',\n",
       " 'SOZIPZR12A58A7A0E6',\n",
       " 'SOARNMW12A8C14093C',\n",
       " 'SOLWHSJ12A67AE227B',\n",
       " 'SOZEYEL12A6D4F643F',\n",
       " 'SOKXPDD12A58A78AA4',\n",
       " 'SOLHXPC12A8C142CC6',\n",
       " 'SOXPRYO12A8AE46249',\n",
       " 'SOYEHBG12A8C13C4F7',\n",
       " 'SOFBRKF12A67020926',\n",
       " 'SOEFOIW12A8C138C0A',\n",
       " 'SOHZKTO12A8C1360AC',\n",
       " 'SOQIPYO12AAF3B5B1D',\n",
       " 'SOAATLI12A8C13E319',\n",
       " 'SOBUTDE12A8C13BB07',\n",
       " 'SORBSSE12A8C13C02E',\n",
       " 'SOZDENG12A8C13C632',\n",
       " 'SONJKWC12AF729FA1B',\n",
       " 'SOZKHQZ12AB0182BA8',\n",
       " 'SOSBVJP12A8C14059D',\n",
       " 'SOFBXEF12A6701F3EB',\n",
       " 'SOSYVLD12A6D4FC583',\n",
       " 'SOAYXCJ12AB0183822',\n",
       " 'SOSZRVJ12A58A7EC28',\n",
       " 'SOKXQVU12A8C143C9C',\n",
       " 'SOVCIZD12A6310DBCB',\n",
       " 'SOVWQJE12A8C13A4C6',\n",
       " 'SOBTTJM12A8AE47413',\n",
       " 'SOIEVLM12A6D4FC37B',\n",
       " 'SODPJNR12A81C213F1',\n",
       " 'SOODKRN12A8C133DF5',\n",
       " 'SOUFPNI12A8C142D19',\n",
       " 'SOMGSCO12A6D4FA2CD',\n",
       " 'SOLUKGK12A6D4F7A00',\n",
       " 'SOVKTBX12A6D4F854D',\n",
       " 'SOPBAUZ12A6D4F989D',\n",
       " 'SOSWKLR12A6D4F7CB0',\n",
       " 'SODQTBY12A58A76904',\n",
       " 'SOGOWLI12AF72A4846',\n",
       " 'SOOMUMM12A6D4F91DC',\n",
       " 'SOITCZM12A6D4F9538',\n",
       " 'SOYQLYQ12A6D4F72EA',\n",
       " 'SOOXLKF12A6D4F594A',\n",
       " 'SOZRIAR12A8AE457FD',\n",
       " 'SOETMGH12AB01822F2',\n",
       " 'SONEKWX12AB0189290',\n",
       " 'SOBABSR12A58A7AD93',\n",
       " 'SOWCTOD12A8AE46C2F',\n",
       " 'SOORHZJ12A8C13BD3D',\n",
       " 'SODMAPG12A58A79FC2',\n",
       " 'SOEKNMO12AF72A1918',\n",
       " 'SOLHTJY12A58A7AFE7',\n",
       " 'SOEYKYT12AB0180AF4',\n",
       " 'SOFHAPC12A8AE48ED9',\n",
       " 'SOWGFPG12A6D4F83E4',\n",
       " 'SOTSVAT12A8C138443',\n",
       " 'SOSKZLT12A58A79875',\n",
       " 'SONLVAC12A8C14306F',\n",
       " 'SOOLWVQ12AF72AAE26',\n",
       " 'SOSKSLP12A8C13A148',\n",
       " 'SOAMZCB12AB017E562',\n",
       " 'SOVYYDC12A8AE466E3',\n",
       " 'SOFKFXC12AC90732A5',\n",
       " 'SOCRKWW12A8C1416C2',\n",
       " 'SOMGPXG12AB017B8AA',\n",
       " 'SOLJPDV12AB0188789',\n",
       " 'SOQIKXH12A6D4FD113',\n",
       " 'SOBMBPH12A6D4F9205',\n",
       " 'SOMBLQJ12A81C22FC4',\n",
       " 'SOYRMAV12A8C13BD79',\n",
       " 'SOPRIUU12A8C133EF5',\n",
       " 'SOOAAQL12B0B80B6D1',\n",
       " 'SOKHZWG12A58A7D151',\n",
       " 'SOFRJJH12AB017FF87',\n",
       " 'SOBEVGM12A67ADBCA7',\n",
       " 'SOJEXRK12AF72AB037',\n",
       " 'SOZEVBO12A6701D93E',\n",
       " 'SOSZGCT12A58A79D19',\n",
       " 'SOZJDWJ12A58A78D12',\n",
       " 'SOUULHC12A6D4F9A4A',\n",
       " 'SOWQKLI12AB0186EAF',\n",
       " 'SOVWAWA12A58A78641',\n",
       " 'SOKWGBI12A6310F1B8',\n",
       " 'SOHYKBC12A58A7CDD2',\n",
       " 'SOSXCTZ12AB0186B09',\n",
       " 'SOILDIW12AB017C44F',\n",
       " 'SOEGPXE12AF729FC3B',\n",
       " 'SONLBZZ12A58A7B1C7',\n",
       " 'SOFCYEC12A8AE46469',\n",
       " 'SOQBKBE12A6D4FA3FA',\n",
       " 'SONXSAK12A8AE46FEA',\n",
       " 'SOMRWUD12A6D4FB4C4',\n",
       " 'SOFFARK12A8AE47622',\n",
       " 'SOQDDPH12A67020DFB',\n",
       " 'SOFJUOH12A58A7895D',\n",
       " 'SOXQIBK12A81C238B4',\n",
       " 'SOMPTCI12AB017C416',\n",
       " 'SOVIKCK12A67ADCF26',\n",
       " 'SOKBQVL12A67ADE812',\n",
       " 'SOWTWKG12A6D4F7CA7',\n",
       " 'SOSMZJI12A8C131C9F',\n",
       " 'SOANTJR12AB01882ED',\n",
       " 'SOTCSWA12A8C139AB6',\n",
       " 'SOBAHZH12A8C1341FA',\n",
       " 'SOYYKLS12A8C134802',\n",
       " 'SOSGFLP12A6D4FB179',\n",
       " 'SOSVRVE12A8C13B66E',\n",
       " 'SOYPRRA12A58A7C4B5',\n",
       " 'SOVOBHS12A67AE0436',\n",
       " 'SOWNYYA12A8C139073',\n",
       " 'SOOKKGS12A58A8008C',\n",
       " 'SOQPZRZ12A67AD7552',\n",
       " 'SOYZCMA12AB0189BED',\n",
       " 'SOBAABR12A81C23957',\n",
       " 'SOYKBDA12A8C1416F5',\n",
       " 'SOGOCZJ12A8C142214',\n",
       " 'SOCZAEG12A8C13F54E',\n",
       " 'SOIXETL12A58A7B63F',\n",
       " 'SOWKYCH12A8C13BB21',\n",
       " 'SOATVVR12A6310DBD0',\n",
       " 'SOQWUVA12AB0187848',\n",
       " 'SOOSZWQ12A8C135EA8',\n",
       " 'SOTRSKZ12A8C13B62B',\n",
       " 'SOMZHYY12A6D4FCD5E',\n",
       " 'SOFKBKR12A8AE4598E',\n",
       " 'SOZVYBA12A8C142618',\n",
       " 'SOPVFGE12A58A7BD2D',\n",
       " 'SOHUMQX12A8C140AE0',\n",
       " 'SOQGOHE12A8C143075',\n",
       " 'SOKRAMY12A8C140804',\n",
       " 'SOFDXFJ12AB01827A2',\n",
       " 'SOIOIPB12A6701F11B',\n",
       " 'SOGASBF12A58A7C1AD',\n",
       " 'SOZARNI12A67020744',\n",
       " 'SONZLFP12B0B80961B',\n",
       " 'SOQRPBK12AB017C4E9',\n",
       " 'SOEQDHX12A8151E06C',\n",
       " 'SOERHSP12A6D4FB175',\n",
       " 'SOGAJIN12A6D4FBB60',\n",
       " 'SOHNUND12AB0183837',\n",
       " 'SOTHABI12A58A7DACB',\n",
       " 'SOAJROU12A8C13A666',\n",
       " 'SOKZGUJ12A58A761E5',\n",
       " 'SOXAQJS12AB018CBF7',\n",
       " 'SOEKSGJ12A67AE227E',\n",
       " 'SOFCXNF12A58A7CF16',\n",
       " 'SORVRMW12A6D4FB0AD',\n",
       " 'SOZYALF12A6D4F9725',\n",
       " 'SOIFWJF12A6D4F7CA9',\n",
       " 'SOXLJMN12AF72A9B6F',\n",
       " 'SOEBXWY12AB017D72A',\n",
       " 'SOPVQLJ12A67AE2281',\n",
       " 'SOCGFLT12A6D4FD013',\n",
       " 'SOLBXHP12AC3774738',\n",
       " 'SOJKJGM12A8C13C4FC',\n",
       " 'SOUBEJU12A6D4FA90C',\n",
       " 'SOTXTSD12AB017DEA5',\n",
       " 'SOWJMGE12A6D4F58B7',\n",
       " 'SOCLMAD12AB017FC09',\n",
       " 'SOZAASU12A6D4FA90C',\n",
       " 'SODGPRV12AB0186F51',\n",
       " 'SOUAODF12A3F1EA890',\n",
       " 'SOPKPSQ12A58A7A5E4',\n",
       " 'SOAHVLJ12A58A76DD6',\n",
       " 'SOMOHNK12AB017C98E',\n",
       " 'SOZXKEA12AB0186FC1',\n",
       " 'SOUBSFW12AB0181686',\n",
       " 'SOKLNBY12AB0186E23',\n",
       " 'SOQQITV12A8C13D23E',\n",
       " 'SONXEAY12A6D4F77FF',\n",
       " 'SOOIUNT12AF72A7ABF',\n",
       " 'SOVRVHA12A6D4FB283',\n",
       " 'SOFUIJA12A6D4F6D0D',\n",
       " 'SOJKUHQ12AB018182A',\n",
       " 'SOHUTTO12A8C14352D',\n",
       " 'SODOWUC12AC9097E76',\n",
       " 'SOMYDXV12A8C13BFD4',\n",
       " 'SOAZDVP12A6D4F4994',\n",
       " 'SOKQCMB12A8AE47E4C',\n",
       " 'SODJICN12A67020915',\n",
       " 'SOBJRZX12A6D4F7C99',\n",
       " 'SOPBAHD12AF72A465A',\n",
       " 'SOHAIXS12A8C1432FF',\n",
       " 'SORRVTP12A8C13FFAF',\n",
       " 'SODEIFU12AF729AD2C',\n",
       " 'SOLLWCK12A6D4FB0B9',\n",
       " 'SOTIMKT12AB018332F',\n",
       " 'SODXGLW12AB017D72E',\n",
       " 'SOMKAYC12A8C13EF4D',\n",
       " 'SOUKODN12A6D4F6101',\n",
       " 'SOIBSSJ12A8151E066',\n",
       " 'SOZQZJH12AB0180A84',\n",
       " 'SOKXTZS12AB0187616',\n",
       " 'SOMMXGD12A8C14355F',\n",
       " 'SOMTZYU12AB017D632',\n",
       " 'SOGISWO12A8AE4780B',\n",
       " 'SOQKXLM12A6D4FA287',\n",
       " 'SOGMBLC12AB0189A6E',\n",
       " 'SOXDIVS12A8C13D106',\n",
       " 'SOYNRWU12AB017E250',\n",
       " 'SOPDYOH12A67020ACF',\n",
       " 'SOJVOTO12A8C139AB2',\n",
       " 'SOSSZPW12A8C13843D',\n",
       " 'SOGNKOW12A8AE47643',\n",
       " 'SOEKNHF12A3F1E9B8E',\n",
       " 'SOCCRJW12AB0184D20',\n",
       " 'SOXEGSZ12A8C135269',\n",
       " 'SOLEXOE12A8C144E98',\n",
       " 'SOXCOSB12A58A7F2D0',\n",
       " 'SOMVIOV12A6D4F719A',\n",
       " 'SOBSIDS12A67ADA695',\n",
       " 'SOARFGZ12AB017AFCD',\n",
       " 'SOTDAET12A6D4F7DF3',\n",
       " 'SOALJAA12A6702085C',\n",
       " 'SOGCDYR12AC961854A',\n",
       " 'SOEYJDP12A8C138D4B',\n",
       " 'SOODIHV12AB018065C',\n",
       " 'SOGDXDW12A6D4F60FC',\n",
       " 'SOXBRKW12A8C142084',\n",
       " 'SOLVDPL12A6D4FA71A',\n",
       " 'SOREDMW12AB01871BB',\n",
       " 'SOOIWJK12A8C140EA4',\n",
       " 'SOPUAUF12AB017F20B',\n",
       " 'SORWJSF12A8C138AB6',\n",
       " 'SOSIYVX12A6D4F9B27',\n",
       " 'SOAZQSQ12A58A7E303',\n",
       " 'SOQFSPD12A8C13A834',\n",
       " 'SOVTSUN12A8AE46FDB',\n",
       " 'SOOSRZN12AB017D546',\n",
       " 'SOIJXHO12AF72A3FC4',\n",
       " 'SOFKCZB12A58A7E147',\n",
       " 'SOQSXRB12A6D4F933A',\n",
       " 'SOEOKYW12AB017F649',\n",
       " 'SOZCXXZ12A58A7CD06',\n",
       " 'SOIRKYT12A6701F94C',\n",
       " 'SORCTZI12A6D4F7B13',\n",
       " 'SOOAHTU12AC4688F94',\n",
       " 'SOGBAFJ12A8C141D1D',\n",
       " 'SOIBNXZ12A6D4F953B',\n",
       " 'SOEIJIX12A6D4FAF6E',\n",
       " 'SOGGRTL12A8C13D5D2',\n",
       " 'SOVTCCL12AF72A13DE',\n",
       " 'SOMXBWI12A8AE488D5',\n",
       " 'SOUKGFR12A670206EC',\n",
       " 'SOAMKRU12A58A814CB',\n",
       " 'SOKWCMX12AF72A2D99',\n",
       " 'SOSWXHN12AB017B6ED',\n",
       " 'SOEUZJO12A8151E080',\n",
       " 'SOOIFXJ12A8C13C4E5',\n",
       " 'SOLWYKA12A8C13EE77',\n",
       " 'SONDFII12A6D4F9E26',\n",
       " 'SOMXPSJ12A8C13B218',\n",
       " 'SOLVVLP12A8C13A82C',\n",
       " 'SOZHGOW12A8BEEEB0D',\n",
       " 'SONMOVN12A8C13C0C9',\n",
       " 'SOPVIHT12A8AE47E53',\n",
       " 'SOUWKRY12A6D4FB676',\n",
       " 'SOPYREF12A6702125B',\n",
       " 'SOYEOCD12AF72A192E',\n",
       " 'SOTODGI12A81C23549',\n",
       " 'SOMMGFF12AB017F64C',\n",
       " 'SOCOOQD12A6D4FAC53',\n",
       " 'SOJZCHZ12A8C139D2C',\n",
       " 'SOITFPA12A670201C6',\n",
       " 'SOLJTMU12AAF3B4C4D',\n",
       " 'SOPMLBU12AB0184626',\n",
       " 'SOIOZHO12AB017FE5E',\n",
       " 'SOLLZWW12AB017E357',\n",
       " 'SOOPJAT12A6D4F9537',\n",
       " 'SORMGSF12A8AE45FC7',\n",
       " 'SOAPDFU12A8C13778B',\n",
       " 'SOZSZTY12A8C13B693',\n",
       " 'SORELVF12AF72A22DF',\n",
       " 'SONRHCE12A8C145C4F',\n",
       " 'SONXUQR12AB0186C9F',\n",
       " 'SOBXNOX12A6D4F9B2F',\n",
       " 'SOYBJDB12A58A7C928',\n",
       " 'SOMBHCO12A8C144F43',\n",
       " 'SOAICBB12A6D4F594D',\n",
       " 'SOYDXIO12AB018343A',\n",
       " 'SORMYQB12A67020912',\n",
       " 'SOKQLLN12A6D4F938E',\n",
       " 'SOMKEYV12AF72A20B2',\n",
       " 'SOMMHAJ12A58A7B260',\n",
       " 'SOLRBSH12AB018AE7B',\n",
       " 'SOCWSUR12A6701F9E0',\n",
       " 'SOMSDZV12AF729F35E',\n",
       " 'SOSNQQX12AF729C44C',\n",
       " 'SOOTBNE12A8AE46E47',\n",
       " 'SOJIHOJ12A6D4FA00B',\n",
       " 'SOONXCH12A6701F5AF',\n",
       " 'SOMUJKC12AB01865AD',\n",
       " 'SOIDFXO12A6D4FD9B7',\n",
       " 'SOMDVSL12A6D4F7230',\n",
       " 'SOHVRVQ12A8C134787',\n",
       " 'SOWSQIA12A58A78B5A',\n",
       " 'SOLHFOM12AB017F654',\n",
       " 'SOHDTMS12A6D4F706A',\n",
       " 'SOKEOFF12A8C13D0EE',\n",
       " 'SOMVPEL12A8C139763',\n",
       " 'SOMXBCC12AB0187C53',\n",
       " 'SOMMXVA12A8C134DE9',\n",
       " 'SOIGFML12AB017F3C7',\n",
       " 'SORKLLM12AB0187129',\n",
       " 'SOYJVYF12AB018330F',\n",
       " 'SOBGCTX12A6D4F6ABD',\n",
       " 'SOQKYRQ12A8C135C84',\n",
       " 'SOXSXJT12A6D4FA624',\n",
       " 'SOLWRNA12AB01881CF',\n",
       " 'SORNRJH12A6D4F959E',\n",
       " 'SOAPYWH12A8C13B808',\n",
       " 'SOABJBU12A8C13F63F',\n",
       " 'SOQDZYQ12A6D4F9B54',\n",
       " 'SOVXXBB12A58A7A938',\n",
       " 'SOLICIM12A8C132361',\n",
       " 'SOMVLEG12AB017C1D0',\n",
       " 'SOVLXPS12A67ADE1C6',\n",
       " 'SOWLHIM12A6D4FB67A',\n",
       " 'SOKWHDH12AB018301B',\n",
       " 'SOJGHAB12AF72A75B6',\n",
       " 'SOILKPU12A8C13E6E8',\n",
       " 'SOQKDCK12A6D4FB6A9',\n",
       " 'SODWLZG12A8C1462FB',\n",
       " 'SOHXPFQ12AB0188132',\n",
       " 'SOQLHST12AB0184A27',\n",
       " 'SOUTAHM12AF72A5B17',\n",
       " 'SOZKPJL12A8C14217B',\n",
       " 'SOKTEBL12AF729DB54',\n",
       " 'SOINJVD12A6D4F91D3',\n",
       " 'SOUDEEH12A6D4FAB05',\n",
       " 'SOJBZEQ12A8C144051',\n",
       " 'SOHNVDP12A6D4F49A7',\n",
       " 'SOJBIOR12AB0181FA7',\n",
       " 'SOXAGEM12A8C143A45',\n",
       " 'SOSSRFA12A6D4F79DB',\n",
       " 'SOPVHBU12A6D4F9108',\n",
       " 'SOGCZQJ12AB0182FA1',\n",
       " 'SOMAAXY12AB018271B',\n",
       " 'SOIULCX12A6701DF46',\n",
       " 'SOFULAY12AF729EBFE',\n",
       " 'SOMKVDK12A67AE227F',\n",
       " 'SOQVACM12AF72A48D9',\n",
       " 'SODINCN12A8C133486',\n",
       " 'SODCTEP12A58A7E312',\n",
       " 'SOUZNSP12A6701FBD5',\n",
       " 'SOGAFWW12A6D4F8048',\n",
       " 'SOHZDVN12A6701FA9F',\n",
       " 'SOHRNEL12A6D4F60F8',\n",
       " 'SOLITLH12A6D4F56F8',\n",
       " 'SOBYPQZ12AB0186DE9',\n",
       " 'SOPGSRU12AF72A3A15',\n",
       " 'SOUQNVW12AB0186DE3',\n",
       " 'SONGYFE12AB018562D',\n",
       " 'SOWPOGN12B0B809692',\n",
       " 'SOJYPBE12A58A7A994',\n",
       " 'SOJWNIN12AB0182F85',\n",
       " 'SOZEETS12AC9071BD3',\n",
       " 'SOETFVO12AB018DFF3',\n",
       " 'SOLIGOA12AF72A29D6',\n",
       " 'SOLCFOC12A8C130FBE',\n",
       " 'SOQAONA12A6D4F60FD',\n",
       " 'SOAQAIZ12A6310F100',\n",
       " 'SOLNUGZ12AB0182B11',\n",
       " 'SOEMTIS12A8C13A62F',\n",
       " 'SODQFQC12A8C13FD7A',\n",
       " 'SOBNEYD12A8C13A011',\n",
       " 'SOTBDXX12AB0182AC8',\n",
       " 'SORPDDI12AB0189077',\n",
       " 'SOIPAGC12A6D4F9B2A',\n",
       " 'SOJSMRT12A6D4F9846',\n",
       " 'SOSZIWM12AB0186DE0',\n",
       " 'SOLPDIS12A6D4F6B05',\n",
       " 'SOBBVAO12A6701E80D',\n",
       " 'SOKWWCJ12A8C144114',\n",
       " 'SOCYKPQ12A6D4F8605',\n",
       " 'SOYVJON12A58A7CD66',\n",
       " 'SOPQZCD12AB0187244',\n",
       " 'SORVEMV12AF72A0EB4',\n",
       " 'SONETQG12AF72A16FF',\n",
       " 'SOJETCP12AB01812F4',\n",
       " 'SOXZNCH12A58A78406',\n",
       " 'SOMEDHL12AF729F3BD',\n",
       " 'SORIUPO12A8C141BFB',\n",
       " 'SOQVVKW12A58A78352',\n",
       " 'SOISFRK12A6D4F573D',\n",
       " 'SODTTYS12AF729B71B',\n",
       " 'SOCUJVV12AB0189992',\n",
       " 'SORMFQE12A6D4FB583',\n",
       " 'SODLAWX12B350587AC',\n",
       " 'SOPKYCU12A6D4F7BBA',\n",
       " 'SOTTDEK12A8AE476B6',\n",
       " 'SOGKNQF12AB017FD67',\n",
       " 'SOWYEJX12AB017E6CA',\n",
       " 'SOLXXZI12A8AE4733A',\n",
       " 'SOPYCMI12AB01849DF',\n",
       " 'SOKZMMM12B0B806779',\n",
       " 'SOHMJJQ12AF72AD2A2',\n",
       " 'SODVXZA12A8C13D07C',\n",
       " 'SOMFAIJ12AB018BA04',\n",
       " 'SOTQGYH12A8C13AFAB',\n",
       " 'SODQHAJ12AB01826E7',\n",
       " 'SOWLLXR12AB018B3BD',\n",
       " 'SOSMXUA12A6D4FB8EA',\n",
       " 'SOOBHVK12A6D4F9898',\n",
       " 'SOTONTT12AB01869BB',\n",
       " 'SOXYVOP12A67020716',\n",
       " 'SOYFXYQ12AB018091E',\n",
       " 'SOUNKHZ12AF72A037D',\n",
       " 'SOHSNSF12AB0189DED',\n",
       " 'SOUJVIT12A8C1451C1',\n",
       " 'SOCNRNO12AB01800D0',\n",
       " 'SOPJPMB12A8AE4862B',\n",
       " 'SOOZVHD12A8C144A34',\n",
       " 'SOPWSTE12A8C13D2D2',\n",
       " 'SOWZQFD12A6310EB62',\n",
       " 'SOIPEWH12AB01800A6',\n",
       " 'SOBQPAN12A58A7836A',\n",
       " 'SOGZOIP12A6D4FB934',\n",
       " 'SONPMIW12A8151D6D7',\n",
       " 'SOTXBKS12AAF3B26E0',\n",
       " 'SOVOBKJ12A6D4F6A2D',\n",
       " 'SOEPGZU12A6D4F91E1',\n",
       " 'SOSVPNQ12AB0186737',\n",
       " 'SOZWUSJ12A67ADE677',\n",
       " 'SOGIQFE12A8C13438C',\n",
       " 'SOGPNGN12A8C143969',\n",
       " 'SOYCUSZ12A58A7A64B',\n",
       " 'SOHAIOX12AB017B800',\n",
       " 'SOTIQSF12A8C140A31',\n",
       " 'SOOYYKJ12A8C13CDDC',\n",
       " 'SORAYYM12A6310E313',\n",
       " 'SOELNJR12A8C13CC67',\n",
       " 'SOXQSPR12A8C13C913',\n",
       " 'SOQNOAF12A8151AB86',\n",
       " 'SOOKHSJ12A6D4FD5C9',\n",
       " 'SOJWBYS12A67AE17A1',\n",
       " 'SOCZHUU12A6310DA5B',\n",
       " 'SORHQXQ12A6D4FDB74',\n",
       " 'SOIXIEP12A6D4FD103',\n",
       " 'SOJMLMK12AF72A7734',\n",
       " 'SOAQSZE12A8C145278',\n",
       " 'SOOGIHW12A58A7A9ED',\n",
       " 'SOSPJWZ12A6D4F7C96',\n",
       " 'SOLMKTS12A8AE46C27',\n",
       " 'SOXRBNT12A8C1377FC',\n",
       " 'SOHMRQD12AF72AA34E',\n",
       " 'SOWLKMP12A58A7CDCA',\n",
       " 'SOIFXAL12AF72A2D71',\n",
       " 'SORPWOM12A6D4F7971',\n",
       " 'SOLYPAY12AB0186DE8',\n",
       " 'SOXRXDG12A8C131DE5',\n",
       " 'SOFMZBV12AB0180307',\n",
       " 'SOHUGUY12A6D4F859C',\n",
       " 'SOQHBWD12A8C13D9C4',\n",
       " 'SOJTOJP12A8C13CAB8',\n",
       " 'SORTJMR12AB0187BFA',\n",
       " 'SOJVGHT12A6701CFE5',\n",
       " 'SOVAKWK12A67020865',\n",
       " 'SOPZVSB12A8C13E2EF',\n",
       " 'SOEEYKC12A6701DE4E',\n",
       " 'SOYFCVK12A8C142E30',\n",
       " 'SOZDMZB12A8C140CF5',\n",
       " 'SOUROPD12A6D4F67CE',\n",
       " 'SOZHUUI12A6701D7B6',\n",
       " 'SOVJHCB12A8AE4636E',\n",
       " 'SOCPRBO12A58A77A9D',\n",
       " 'SOJCRUY12A67ADA4C2',\n",
       " 'SOARATQ12A6D4F69C7',\n",
       " 'SOSOIFC12A58A7A362',\n",
       " 'SOEXJNB12A6701D934',\n",
       " 'SOJFRUS12A6D4F83E9',\n",
       " 'SOTDOKZ12A8C137FCD',\n",
       " 'SOOUNSU12A8AE46780',\n",
       " 'SONSKMC12A8AE46471',\n",
       " 'SOVVSKV12A6701FCA0',\n",
       " 'SOOKJYA12A6701F2AD',\n",
       " 'SORYQZT12A6D4F86E9',\n",
       " 'SOKANYX12A8C13A252',\n",
       " 'SOHKUIH12A81C21E29',\n",
       " 'SOTEOOV12A58A7AEA3',\n",
       " 'SOBHIJO12A6D4FA26C',\n",
       " 'SOKLSXY12A6D4F7113',\n",
       " 'SOIZANH12AB017F629',\n",
       " 'SOQRKAO12A67ADA1C6',\n",
       " 'SOPFGUZ12A8C1355F1',\n",
       " 'SOPYUQP12A6D4FAD97',\n",
       " 'SORXZDL127D9765229',\n",
       " 'SOTLXEG12AB01829DB',\n",
       " 'SOWPCUA12AB017B8E8',\n",
       " 'SOTBAVH12A8C137808',\n",
       " 'SOMXQGH12A8C13CBEF',\n",
       " 'SOKAFAF12A81C22FA7',\n",
       " 'SOUKXIN12A8C133C7F',\n",
       " 'SOJLMTW12A8C14370D',\n",
       " 'SOCWBUQ12A8C1345EE',\n",
       " 'SOFYXHN12AF72A334B',\n",
       " 'SOFOHPP12A6D4FB052',\n",
       " 'SOHFTTD12A6D4F97A0',\n",
       " 'SOOVDUC12AF72A2BC0',\n",
       " 'SOOZEKB12AB017F0F7',\n",
       " 'SOADWVI12AF72AAD77',\n",
       " 'SOPOFBW12AB0187196',\n",
       " 'SOIKCUE12A8C132D40',\n",
       " 'SOIIFNL12AB018999D',\n",
       " ...]"
      ]
     },
     "execution_count": 70,
     "metadata": {},
     "output_type": "execute_result"
    }
   ],
   "source": [
    "song_rec = []\n",
    "for index in similarity_item_index:\n",
    "    song_rec.append(findkey(index,song_id_mapping))\n",
    "song_rec"
   ]
  },
  {
   "cell_type": "code",
   "execution_count": 71,
   "metadata": {},
   "outputs": [
    {
     "data": {
      "text/html": [
       "<div>\n",
       "<style scoped>\n",
       "    .dataframe tbody tr th:only-of-type {\n",
       "        vertical-align: middle;\n",
       "    }\n",
       "\n",
       "    .dataframe tbody tr th {\n",
       "        vertical-align: top;\n",
       "    }\n",
       "\n",
       "    .dataframe thead th {\n",
       "        text-align: right;\n",
       "    }\n",
       "</style>\n",
       "<table border=\"1\" class=\"dataframe\">\n",
       "  <thead>\n",
       "    <tr style=\"text-align: right;\">\n",
       "      <th></th>\n",
       "      <th>0</th>\n",
       "      <th>1</th>\n",
       "      <th>2</th>\n",
       "    </tr>\n",
       "  </thead>\n",
       "  <tbody>\n",
       "    <tr>\n",
       "      <td>377</td>\n",
       "      <td>1.849480</td>\n",
       "      <td>0.641771</td>\n",
       "      <td>3.548409</td>\n",
       "    </tr>\n",
       "    <tr>\n",
       "      <td>1161</td>\n",
       "      <td>0.394028</td>\n",
       "      <td>0.786178</td>\n",
       "      <td>0.610739</td>\n",
       "    </tr>\n",
       "    <tr>\n",
       "      <td>2054</td>\n",
       "      <td>0.286304</td>\n",
       "      <td>0.939891</td>\n",
       "      <td>1.834443</td>\n",
       "    </tr>\n",
       "    <tr>\n",
       "      <td>2975</td>\n",
       "      <td>-0.371931</td>\n",
       "      <td>0.796297</td>\n",
       "      <td>0.589790</td>\n",
       "    </tr>\n",
       "    <tr>\n",
       "      <td>3045</td>\n",
       "      <td>0.312834</td>\n",
       "      <td>2.008063</td>\n",
       "      <td>0.660207</td>\n",
       "    </tr>\n",
       "    <tr>\n",
       "      <td>3202</td>\n",
       "      <td>-0.116071</td>\n",
       "      <td>1.437859</td>\n",
       "      <td>0.785079</td>\n",
       "    </tr>\n",
       "    <tr>\n",
       "      <td>3219</td>\n",
       "      <td>-0.179982</td>\n",
       "      <td>0.625395</td>\n",
       "      <td>1.373359</td>\n",
       "    </tr>\n",
       "    <tr>\n",
       "      <td>3283</td>\n",
       "      <td>0.035033</td>\n",
       "      <td>1.002552</td>\n",
       "      <td>0.968256</td>\n",
       "    </tr>\n",
       "    <tr>\n",
       "      <td>3461</td>\n",
       "      <td>-0.165220</td>\n",
       "      <td>0.379819</td>\n",
       "      <td>0.489619</td>\n",
       "    </tr>\n",
       "    <tr>\n",
       "      <td>3864</td>\n",
       "      <td>2.051365</td>\n",
       "      <td>1.061441</td>\n",
       "      <td>3.247053</td>\n",
       "    </tr>\n",
       "    <tr>\n",
       "      <td>4191</td>\n",
       "      <td>0.848883</td>\n",
       "      <td>0.850492</td>\n",
       "      <td>1.174610</td>\n",
       "    </tr>\n",
       "    <tr>\n",
       "      <td>4288</td>\n",
       "      <td>-0.034013</td>\n",
       "      <td>0.961812</td>\n",
       "      <td>0.923336</td>\n",
       "    </tr>\n",
       "    <tr>\n",
       "      <td>4289</td>\n",
       "      <td>0.276871</td>\n",
       "      <td>0.956741</td>\n",
       "      <td>1.695287</td>\n",
       "    </tr>\n",
       "    <tr>\n",
       "      <td>4376</td>\n",
       "      <td>0.648419</td>\n",
       "      <td>1.302683</td>\n",
       "      <td>2.326871</td>\n",
       "    </tr>\n",
       "    <tr>\n",
       "      <td>5251</td>\n",
       "      <td>1.464406</td>\n",
       "      <td>1.665886</td>\n",
       "      <td>2.889188</td>\n",
       "    </tr>\n",
       "    <tr>\n",
       "      <td>5298</td>\n",
       "      <td>2.241176</td>\n",
       "      <td>1.226992</td>\n",
       "      <td>2.985829</td>\n",
       "    </tr>\n",
       "    <tr>\n",
       "      <td>5858</td>\n",
       "      <td>-0.099904</td>\n",
       "      <td>1.093532</td>\n",
       "      <td>0.675633</td>\n",
       "    </tr>\n",
       "    <tr>\n",
       "      <td>6442</td>\n",
       "      <td>0.396673</td>\n",
       "      <td>1.354636</td>\n",
       "      <td>0.822004</td>\n",
       "    </tr>\n",
       "    <tr>\n",
       "      <td>6832</td>\n",
       "      <td>0.381453</td>\n",
       "      <td>0.646516</td>\n",
       "      <td>3.799682</td>\n",
       "    </tr>\n",
       "    <tr>\n",
       "      <td>7292</td>\n",
       "      <td>-0.045618</td>\n",
       "      <td>0.255292</td>\n",
       "      <td>0.519166</td>\n",
       "    </tr>\n",
       "    <tr>\n",
       "      <td>7451</td>\n",
       "      <td>0.053231</td>\n",
       "      <td>1.098495</td>\n",
       "      <td>1.136753</td>\n",
       "    </tr>\n",
       "    <tr>\n",
       "      <td>7903</td>\n",
       "      <td>-0.221644</td>\n",
       "      <td>1.289056</td>\n",
       "      <td>1.407668</td>\n",
       "    </tr>\n",
       "    <tr>\n",
       "      <td>8902</td>\n",
       "      <td>0.216651</td>\n",
       "      <td>1.177853</td>\n",
       "      <td>-0.127076</td>\n",
       "    </tr>\n",
       "    <tr>\n",
       "      <td>9008</td>\n",
       "      <td>-0.117834</td>\n",
       "      <td>0.266952</td>\n",
       "      <td>0.594478</td>\n",
       "    </tr>\n",
       "    <tr>\n",
       "      <td>9131</td>\n",
       "      <td>0.207526</td>\n",
       "      <td>0.151149</td>\n",
       "      <td>0.202291</td>\n",
       "    </tr>\n",
       "    <tr>\n",
       "      <td>9168</td>\n",
       "      <td>0.661608</td>\n",
       "      <td>0.868990</td>\n",
       "      <td>2.186918</td>\n",
       "    </tr>\n",
       "    <tr>\n",
       "      <td>9322</td>\n",
       "      <td>0.508180</td>\n",
       "      <td>1.847222</td>\n",
       "      <td>0.471823</td>\n",
       "    </tr>\n",
       "    <tr>\n",
       "      <td>9686</td>\n",
       "      <td>-0.163547</td>\n",
       "      <td>1.057409</td>\n",
       "      <td>0.932025</td>\n",
       "    </tr>\n",
       "    <tr>\n",
       "      <td>9746</td>\n",
       "      <td>0.208451</td>\n",
       "      <td>1.282988</td>\n",
       "      <td>2.220070</td>\n",
       "    </tr>\n",
       "    <tr>\n",
       "      <td>9833</td>\n",
       "      <td>0.308299</td>\n",
       "      <td>1.271466</td>\n",
       "      <td>1.316425</td>\n",
       "    </tr>\n",
       "    <tr>\n",
       "      <td>9836</td>\n",
       "      <td>0.043212</td>\n",
       "      <td>0.870492</td>\n",
       "      <td>-0.099924</td>\n",
       "    </tr>\n",
       "    <tr>\n",
       "      <td>9963</td>\n",
       "      <td>-1.389201</td>\n",
       "      <td>-0.064906</td>\n",
       "      <td>1.136317</td>\n",
       "    </tr>\n",
       "    <tr>\n",
       "      <td>10626</td>\n",
       "      <td>-0.707336</td>\n",
       "      <td>1.591569</td>\n",
       "      <td>1.570436</td>\n",
       "    </tr>\n",
       "    <tr>\n",
       "      <td>10941</td>\n",
       "      <td>-0.105161</td>\n",
       "      <td>1.464160</td>\n",
       "      <td>-0.030481</td>\n",
       "    </tr>\n",
       "    <tr>\n",
       "      <td>11048</td>\n",
       "      <td>-0.066600</td>\n",
       "      <td>0.677074</td>\n",
       "      <td>0.456856</td>\n",
       "    </tr>\n",
       "    <tr>\n",
       "      <td>11722</td>\n",
       "      <td>-0.432688</td>\n",
       "      <td>0.006479</td>\n",
       "      <td>0.163737</td>\n",
       "    </tr>\n",
       "    <tr>\n",
       "      <td>12090</td>\n",
       "      <td>0.355408</td>\n",
       "      <td>0.998815</td>\n",
       "      <td>0.697435</td>\n",
       "    </tr>\n",
       "    <tr>\n",
       "      <td>13589</td>\n",
       "      <td>-0.248637</td>\n",
       "      <td>0.506714</td>\n",
       "      <td>0.335305</td>\n",
       "    </tr>\n",
       "    <tr>\n",
       "      <td>13754</td>\n",
       "      <td>-0.162793</td>\n",
       "      <td>1.044197</td>\n",
       "      <td>0.179614</td>\n",
       "    </tr>\n",
       "    <tr>\n",
       "      <td>14374</td>\n",
       "      <td>-0.349224</td>\n",
       "      <td>0.891165</td>\n",
       "      <td>0.528090</td>\n",
       "    </tr>\n",
       "    <tr>\n",
       "      <td>14439</td>\n",
       "      <td>-0.218214</td>\n",
       "      <td>0.650933</td>\n",
       "      <td>1.652062</td>\n",
       "    </tr>\n",
       "    <tr>\n",
       "      <td>15074</td>\n",
       "      <td>-0.711395</td>\n",
       "      <td>0.572750</td>\n",
       "      <td>0.682122</td>\n",
       "    </tr>\n",
       "    <tr>\n",
       "      <td>15572</td>\n",
       "      <td>-0.169244</td>\n",
       "      <td>1.030629</td>\n",
       "      <td>0.213784</td>\n",
       "    </tr>\n",
       "    <tr>\n",
       "      <td>16299</td>\n",
       "      <td>0.633925</td>\n",
       "      <td>1.310887</td>\n",
       "      <td>2.138730</td>\n",
       "    </tr>\n",
       "    <tr>\n",
       "      <td>16868</td>\n",
       "      <td>0.187643</td>\n",
       "      <td>0.982928</td>\n",
       "      <td>0.878020</td>\n",
       "    </tr>\n",
       "    <tr>\n",
       "      <td>17676</td>\n",
       "      <td>0.577823</td>\n",
       "      <td>0.333597</td>\n",
       "      <td>0.941648</td>\n",
       "    </tr>\n",
       "    <tr>\n",
       "      <td>18765</td>\n",
       "      <td>-0.392900</td>\n",
       "      <td>0.676174</td>\n",
       "      <td>0.191761</td>\n",
       "    </tr>\n",
       "    <tr>\n",
       "      <td>19358</td>\n",
       "      <td>-0.429624</td>\n",
       "      <td>1.027760</td>\n",
       "      <td>0.594413</td>\n",
       "    </tr>\n",
       "    <tr>\n",
       "      <td>19457</td>\n",
       "      <td>-0.167554</td>\n",
       "      <td>1.477810</td>\n",
       "      <td>-0.447156</td>\n",
       "    </tr>\n",
       "    <tr>\n",
       "      <td>19757</td>\n",
       "      <td>-0.045728</td>\n",
       "      <td>0.867278</td>\n",
       "      <td>-0.298569</td>\n",
       "    </tr>\n",
       "  </tbody>\n",
       "</table>\n",
       "</div>"
      ],
      "text/plain": [
       "              0         1         2\n",
       "377    1.849480  0.641771  3.548409\n",
       "1161   0.394028  0.786178  0.610739\n",
       "2054   0.286304  0.939891  1.834443\n",
       "2975  -0.371931  0.796297  0.589790\n",
       "3045   0.312834  2.008063  0.660207\n",
       "3202  -0.116071  1.437859  0.785079\n",
       "3219  -0.179982  0.625395  1.373359\n",
       "3283   0.035033  1.002552  0.968256\n",
       "3461  -0.165220  0.379819  0.489619\n",
       "3864   2.051365  1.061441  3.247053\n",
       "4191   0.848883  0.850492  1.174610\n",
       "4288  -0.034013  0.961812  0.923336\n",
       "4289   0.276871  0.956741  1.695287\n",
       "4376   0.648419  1.302683  2.326871\n",
       "5251   1.464406  1.665886  2.889188\n",
       "5298   2.241176  1.226992  2.985829\n",
       "5858  -0.099904  1.093532  0.675633\n",
       "6442   0.396673  1.354636  0.822004\n",
       "6832   0.381453  0.646516  3.799682\n",
       "7292  -0.045618  0.255292  0.519166\n",
       "7451   0.053231  1.098495  1.136753\n",
       "7903  -0.221644  1.289056  1.407668\n",
       "8902   0.216651  1.177853 -0.127076\n",
       "9008  -0.117834  0.266952  0.594478\n",
       "9131   0.207526  0.151149  0.202291\n",
       "9168   0.661608  0.868990  2.186918\n",
       "9322   0.508180  1.847222  0.471823\n",
       "9686  -0.163547  1.057409  0.932025\n",
       "9746   0.208451  1.282988  2.220070\n",
       "9833   0.308299  1.271466  1.316425\n",
       "9836   0.043212  0.870492 -0.099924\n",
       "9963  -1.389201 -0.064906  1.136317\n",
       "10626 -0.707336  1.591569  1.570436\n",
       "10941 -0.105161  1.464160 -0.030481\n",
       "11048 -0.066600  0.677074  0.456856\n",
       "11722 -0.432688  0.006479  0.163737\n",
       "12090  0.355408  0.998815  0.697435\n",
       "13589 -0.248637  0.506714  0.335305\n",
       "13754 -0.162793  1.044197  0.179614\n",
       "14374 -0.349224  0.891165  0.528090\n",
       "14439 -0.218214  0.650933  1.652062\n",
       "15074 -0.711395  0.572750  0.682122\n",
       "15572 -0.169244  1.030629  0.213784\n",
       "16299  0.633925  1.310887  2.138730\n",
       "16868  0.187643  0.982928  0.878020\n",
       "17676  0.577823  0.333597  0.941648\n",
       "18765 -0.392900  0.676174  0.191761\n",
       "19358 -0.429624  1.027760  0.594413\n",
       "19457 -0.167554  1.477810 -0.447156\n",
       "19757 -0.045728  0.867278 -0.298569"
      ]
     },
     "execution_count": 71,
     "metadata": {},
     "output_type": "execute_result"
    }
   ],
   "source": [
    "top50songs = ps[ps.index.isin(similarity_item_index[:50])]\n",
    "top50songs"
   ]
  },
  {
   "cell_type": "code",
   "execution_count": 213,
   "metadata": {},
   "outputs": [],
   "source": [
    "###### Prepare the data for plotting ##########\n",
    "tocluster = pd.DataFrame(top50songs[[0,1,2]])\n",
    "\n",
    "tocluster['song_index'] = tocluster.index\n",
    "tocluster['song_id'] = tocluster['song_index'].apply(lambda ii: findkey(ii,song_id_mapping))\n",
    "\n",
    "tocluster = tocluster.set_index('song_id').join(songs_sub.set_index('song_id'))"
   ]
  },
  {
   "cell_type": "code",
   "execution_count": 77,
   "metadata": {},
   "outputs": [
    {
     "data": {
      "image/png": "[encoded data removed]",
      "text/plain": [
       "<Figure size 2016x1584 with 1 Axes>"
      ]
     },
     "metadata": {
      "needs_background": "light"
     },
     "output_type": "display_data"
    }
   ],
   "source": [
    "fig, ax = plt.subplots(figsize=(28,22))\n",
    "ax.scatter(tocluster[0], tocluster[1])\n",
    "\n",
    "ax.set_ylabel('PC2', fontsize = 18) \n",
    "ax.set_xlabel('PC1', fontsize = 18)\n",
    "\n",
    "for i, txt in enumerate(tocluster['title']):\n",
    "    ax.annotate(txt, (tocluster[0].iloc[i], tocluster[1].iloc[i]),fontsize = 18)"
   ]
  },
  {
   "cell_type": "code",
   "execution_count": 78,
   "metadata": {},
   "outputs": [
    {
     "data": {
      "image/png": "[encoded data removed]",
      "text/plain": [
       "<Figure size 2016x1584 with 1 Axes>"
      ]
     },
     "metadata": {
      "needs_background": "light"
     },
     "output_type": "display_data"
    }
   ],
   "source": [
    "fig, ax = plt.subplots(figsize=(28,22))\n",
    "ax.scatter(tocluster[0], tocluster[2])\n",
    "#ax.set_title('v = 1',fontweight=\"bold\", size=18) # Title\n",
    "ax.set_ylabel('PC3', fontsize = 18) # Y label\n",
    "ax.set_xlabel('PC1', fontsize = 18)\n",
    "for i, txt in enumerate(tocluster['title']):\n",
    "    ax.annotate(txt, (tocluster[0].iloc[i], tocluster[2].iloc[i]),fontsize = 18)"
   ]
  },
  {
   "cell_type": "code",
   "execution_count": 79,
   "metadata": {},
   "outputs": [
    {
     "data": {
      "image/png": "[encoded data removed]",
      "text/plain": [
       "<Figure size 1584x1080 with 1 Axes>"
      ]
     },
     "metadata": {
      "needs_background": "light"
     },
     "output_type": "display_data"
    }
   ],
   "source": [
    "fig, ax = plt.subplots(figsize=(22,15))\n",
    "ax.scatter(tocluster[1], tocluster[2])\n",
    "#ax.set_title('v = 1',fontweight=\"bold\", size=18) # Title\n",
    "ax.set_ylabel('PC3', fontsize = 18) # Y label\n",
    "ax.set_xlabel('PC2', fontsize = 18)\n",
    "for i, txt in enumerate(tocluster['title']):\n",
    "    ax.annotate(txt, (tocluster[1].iloc[i], tocluster[2].iloc[i]),fontsize = 13)"
   ]
  },
  {
   "cell_type": "code",
   "execution_count": 214,
   "metadata": {},
   "outputs": [
    {
     "data": {
      "text/html": [
       "<div>\n",
       "<style scoped>\n",
       "    .dataframe tbody tr th:only-of-type {\n",
       "        vertical-align: middle;\n",
       "    }\n",
       "\n",
       "    .dataframe tbody tr th {\n",
       "        vertical-align: top;\n",
       "    }\n",
       "\n",
       "    .dataframe thead th {\n",
       "        text-align: right;\n",
       "    }\n",
       "</style>\n",
       "<table border=\"1\" class=\"dataframe\">\n",
       "  <thead>\n",
       "    <tr style=\"text-align: right;\">\n",
       "      <th></th>\n",
       "      <th>0</th>\n",
       "      <th>1</th>\n",
       "      <th>2</th>\n",
       "      <th>song_index</th>\n",
       "      <th>title</th>\n",
       "      <th>artist_name</th>\n",
       "      <th>artist_id</th>\n",
       "      <th>term</th>\n",
       "    </tr>\n",
       "  </thead>\n",
       "  <tbody>\n",
       "    <tr>\n",
       "      <td>0</td>\n",
       "      <td>1.849480</td>\n",
       "      <td>0.641771</td>\n",
       "      <td>3.548409</td>\n",
       "      <td>377</td>\n",
       "      <td>Beautiful Disaster</td>\n",
       "      <td>Jon McLaughlin</td>\n",
       "      <td>ARM5XIH1187B9B2508</td>\n",
       "      <td>acoustic, comedy, country, guitar, jazz,</td>\n",
       "    </tr>\n",
       "    <tr>\n",
       "      <td>1</td>\n",
       "      <td>0.394028</td>\n",
       "      <td>0.786178</td>\n",
       "      <td>0.610739</td>\n",
       "      <td>1161</td>\n",
       "      <td>Paintin' The Town (Album Version)</td>\n",
       "      <td>Phil Keaggy</td>\n",
       "      <td>AR7CQVS1187B98EF75</td>\n",
       "      <td>80s, acoustic, alternative, alternative rock, ...</td>\n",
       "    </tr>\n",
       "    <tr>\n",
       "      <td>2</td>\n",
       "      <td>0.286304</td>\n",
       "      <td>0.939891</td>\n",
       "      <td>1.834443</td>\n",
       "      <td>2054</td>\n",
       "      <td>Breathing</td>\n",
       "      <td>Lifehouse</td>\n",
       "      <td>ARUTEVU1187B9ACAF9</td>\n",
       "      <td>90s, acoustic, alternative, alternative rock, ...</td>\n",
       "    </tr>\n",
       "    <tr>\n",
       "      <td>3</td>\n",
       "      <td>-0.371931</td>\n",
       "      <td>0.796297</td>\n",
       "      <td>0.589790</td>\n",
       "      <td>2975</td>\n",
       "      <td>Who We Are</td>\n",
       "      <td>Lifehouse</td>\n",
       "      <td>ARUTEVU1187B9ACAF9</td>\n",
       "      <td>90s, acoustic, alternative, alternative rock, ...</td>\n",
       "    </tr>\n",
       "    <tr>\n",
       "      <td>4</td>\n",
       "      <td>0.312834</td>\n",
       "      <td>2.008063</td>\n",
       "      <td>0.660207</td>\n",
       "      <td>3045</td>\n",
       "      <td>Invisible</td>\n",
       "      <td>Clay Aiken</td>\n",
       "      <td>ARG4KSQ1187B9A74B1</td>\n",
       "      <td>00s, 80s, 90s, adult contemporary, america,</td>\n",
       "    </tr>\n",
       "  </tbody>\n",
       "</table>\n",
       "</div>"
      ],
      "text/plain": [
       "          0         1         2  song_index  \\\n",
       "0  1.849480  0.641771  3.548409         377   \n",
       "1  0.394028  0.786178  0.610739        1161   \n",
       "2  0.286304  0.939891  1.834443        2054   \n",
       "3 -0.371931  0.796297  0.589790        2975   \n",
       "4  0.312834  2.008063  0.660207        3045   \n",
       "\n",
       "                               title     artist_name           artist_id  \\\n",
       "0                 Beautiful Disaster  Jon McLaughlin  ARM5XIH1187B9B2508   \n",
       "1  Paintin' The Town (Album Version)     Phil Keaggy  AR7CQVS1187B98EF75   \n",
       "2                          Breathing       Lifehouse  ARUTEVU1187B9ACAF9   \n",
       "3                         Who We Are       Lifehouse  ARUTEVU1187B9ACAF9   \n",
       "4                          Invisible      Clay Aiken  ARG4KSQ1187B9A74B1   \n",
       "\n",
       "                                                term  \n",
       "0          acoustic, comedy, country, guitar, jazz,   \n",
       "1  80s, acoustic, alternative, alternative rock, ...  \n",
       "2  90s, acoustic, alternative, alternative rock, ...  \n",
       "3  90s, acoustic, alternative, alternative rock, ...  \n",
       "4       00s, 80s, 90s, adult contemporary, america,   "
      ]
     },
     "execution_count": 214,
     "metadata": {},
     "output_type": "execute_result"
    }
   ],
   "source": [
    "tocluster2 = pd.merge(tocluster,artist_term_set,on='artist_id',how='left')\n",
    "tocluster2.head()"
   ]
  },
  {
   "cell_type": "code",
   "execution_count": 205,
   "metadata": {},
   "outputs": [
    {
     "data": {
      "text/plain": [
       "'acoustic, comedy, country, guitar, jazz, '"
      ]
     },
     "execution_count": 205,
     "metadata": {},
     "output_type": "execute_result"
    }
   ],
   "source": [
    "s1 = 'acoustic,comedy,country,guitar,jazz,piano,po'\n",
    "def clean(s1):\n",
    "    lis = s1.split(',')[:5]\n",
    "    result = ''\n",
    "    for word in lis:\n",
    "        result = result+word+', '\n",
    "    return result\n",
    "\n",
    "clean(s1)"
   ]
  },
  {
   "cell_type": "code",
   "execution_count": 215,
   "metadata": {},
   "outputs": [],
   "source": [
    "tocluster2['text'] = tocluster2.apply(lambda x: str(x.iloc[4])+' - '+str(x.iloc[5])+' - '+(str(x.iloc[7])),axis=1)"
   ]
  },
  {
   "cell_type": "code",
   "execution_count": 216,
   "metadata": {},
   "outputs": [
    {
     "data": {
      "text/html": [
       "<div>\n",
       "<style scoped>\n",
       "    .dataframe tbody tr th:only-of-type {\n",
       "        vertical-align: middle;\n",
       "    }\n",
       "\n",
       "    .dataframe tbody tr th {\n",
       "        vertical-align: top;\n",
       "    }\n",
       "\n",
       "    .dataframe thead th {\n",
       "        text-align: right;\n",
       "    }\n",
       "</style>\n",
       "<table border=\"1\" class=\"dataframe\">\n",
       "  <thead>\n",
       "    <tr style=\"text-align: right;\">\n",
       "      <th></th>\n",
       "      <th>0</th>\n",
       "      <th>1</th>\n",
       "      <th>2</th>\n",
       "      <th>song_index</th>\n",
       "      <th>title</th>\n",
       "      <th>artist_name</th>\n",
       "      <th>artist_id</th>\n",
       "      <th>term</th>\n",
       "      <th>text</th>\n",
       "    </tr>\n",
       "  </thead>\n",
       "  <tbody>\n",
       "    <tr>\n",
       "      <td>0</td>\n",
       "      <td>1.849480</td>\n",
       "      <td>0.641771</td>\n",
       "      <td>3.548409</td>\n",
       "      <td>377</td>\n",
       "      <td>Beautiful Disaster</td>\n",
       "      <td>Jon McLaughlin</td>\n",
       "      <td>ARM5XIH1187B9B2508</td>\n",
       "      <td>acoustic, comedy, country, guitar, jazz,</td>\n",
       "      <td>Beautiful Disaster - Jon McLaughlin - acoustic...</td>\n",
       "    </tr>\n",
       "    <tr>\n",
       "      <td>1</td>\n",
       "      <td>0.394028</td>\n",
       "      <td>0.786178</td>\n",
       "      <td>0.610739</td>\n",
       "      <td>1161</td>\n",
       "      <td>Paintin' The Town (Album Version)</td>\n",
       "      <td>Phil Keaggy</td>\n",
       "      <td>AR7CQVS1187B98EF75</td>\n",
       "      <td>80s, acoustic, alternative, alternative rock, ...</td>\n",
       "      <td>Paintin' The Town (Album Version) - Phil Keagg...</td>\n",
       "    </tr>\n",
       "    <tr>\n",
       "      <td>2</td>\n",
       "      <td>0.286304</td>\n",
       "      <td>0.939891</td>\n",
       "      <td>1.834443</td>\n",
       "      <td>2054</td>\n",
       "      <td>Breathing</td>\n",
       "      <td>Lifehouse</td>\n",
       "      <td>ARUTEVU1187B9ACAF9</td>\n",
       "      <td>90s, acoustic, alternative, alternative rock, ...</td>\n",
       "      <td>Breathing - Lifehouse - 90s, acoustic, alterna...</td>\n",
       "    </tr>\n",
       "    <tr>\n",
       "      <td>3</td>\n",
       "      <td>-0.371931</td>\n",
       "      <td>0.796297</td>\n",
       "      <td>0.589790</td>\n",
       "      <td>2975</td>\n",
       "      <td>Who We Are</td>\n",
       "      <td>Lifehouse</td>\n",
       "      <td>ARUTEVU1187B9ACAF9</td>\n",
       "      <td>90s, acoustic, alternative, alternative rock, ...</td>\n",
       "      <td>Who We Are - Lifehouse - 90s, acoustic, altern...</td>\n",
       "    </tr>\n",
       "    <tr>\n",
       "      <td>4</td>\n",
       "      <td>0.312834</td>\n",
       "      <td>2.008063</td>\n",
       "      <td>0.660207</td>\n",
       "      <td>3045</td>\n",
       "      <td>Invisible</td>\n",
       "      <td>Clay Aiken</td>\n",
       "      <td>ARG4KSQ1187B9A74B1</td>\n",
       "      <td>00s, 80s, 90s, adult contemporary, america,</td>\n",
       "      <td>Invisible - Clay Aiken - 00s, 80s, 90s, adult ...</td>\n",
       "    </tr>\n",
       "    <tr>\n",
       "      <td>5</td>\n",
       "      <td>-0.116071</td>\n",
       "      <td>1.437859</td>\n",
       "      <td>0.785079</td>\n",
       "      <td>3202</td>\n",
       "      <td>Walking Away</td>\n",
       "      <td>Lifehouse</td>\n",
       "      <td>ARUTEVU1187B9ACAF9</td>\n",
       "      <td>90s, acoustic, alternative, alternative rock, ...</td>\n",
       "      <td>Walking Away - Lifehouse - 90s, acoustic, alte...</td>\n",
       "    </tr>\n",
       "    <tr>\n",
       "      <td>6</td>\n",
       "      <td>-0.179982</td>\n",
       "      <td>0.625395</td>\n",
       "      <td>1.373359</td>\n",
       "      <td>3219</td>\n",
       "      <td>Undone</td>\n",
       "      <td>Lifehouse</td>\n",
       "      <td>ARUTEVU1187B9ACAF9</td>\n",
       "      <td>90s, acoustic, alternative, alternative rock, ...</td>\n",
       "      <td>Undone - Lifehouse - 90s, acoustic, alternativ...</td>\n",
       "    </tr>\n",
       "    <tr>\n",
       "      <td>7</td>\n",
       "      <td>0.035033</td>\n",
       "      <td>1.002552</td>\n",
       "      <td>0.968256</td>\n",
       "      <td>3283</td>\n",
       "      <td>Easier To Be</td>\n",
       "      <td>Lifehouse</td>\n",
       "      <td>ARUTEVU1187B9ACAF9</td>\n",
       "      <td>90s, acoustic, alternative, alternative rock, ...</td>\n",
       "      <td>Easier To Be - Lifehouse - 90s, acoustic, alte...</td>\n",
       "    </tr>\n",
       "    <tr>\n",
       "      <td>8</td>\n",
       "      <td>-0.165220</td>\n",
       "      <td>0.379819</td>\n",
       "      <td>0.489619</td>\n",
       "      <td>3461</td>\n",
       "      <td>Cling And Clatter</td>\n",
       "      <td>Lifehouse</td>\n",
       "      <td>ARUTEVU1187B9ACAF9</td>\n",
       "      <td>90s, acoustic, alternative, alternative rock, ...</td>\n",
       "      <td>Cling And Clatter - Lifehouse - 90s, acoustic,...</td>\n",
       "    </tr>\n",
       "    <tr>\n",
       "      <td>9</td>\n",
       "      <td>2.051365</td>\n",
       "      <td>1.061441</td>\n",
       "      <td>3.247053</td>\n",
       "      <td>3864</td>\n",
       "      <td>Everything</td>\n",
       "      <td>Lifehouse</td>\n",
       "      <td>ARUTEVU1187B9ACAF9</td>\n",
       "      <td>90s, acoustic, alternative, alternative rock, ...</td>\n",
       "      <td>Everything - Lifehouse - 90s, acoustic, altern...</td>\n",
       "    </tr>\n",
       "    <tr>\n",
       "      <td>10</td>\n",
       "      <td>0.848883</td>\n",
       "      <td>0.850492</td>\n",
       "      <td>1.174610</td>\n",
       "      <td>4191</td>\n",
       "      <td>We'll Never Know</td>\n",
       "      <td>Lifehouse</td>\n",
       "      <td>ARUTEVU1187B9ACAF9</td>\n",
       "      <td>90s, acoustic, alternative, alternative rock, ...</td>\n",
       "      <td>We'll Never Know - Lifehouse - 90s, acoustic, ...</td>\n",
       "    </tr>\n",
       "    <tr>\n",
       "      <td>11</td>\n",
       "      <td>-0.034013</td>\n",
       "      <td>0.961812</td>\n",
       "      <td>0.923336</td>\n",
       "      <td>4288</td>\n",
       "      <td>Only One</td>\n",
       "      <td>Lifehouse</td>\n",
       "      <td>ARUTEVU1187B9ACAF9</td>\n",
       "      <td>90s, acoustic, alternative, alternative rock, ...</td>\n",
       "      <td>Only One - Lifehouse - 90s, acoustic, alternat...</td>\n",
       "    </tr>\n",
       "    <tr>\n",
       "      <td>12</td>\n",
       "      <td>0.276871</td>\n",
       "      <td>0.956741</td>\n",
       "      <td>1.695287</td>\n",
       "      <td>4289</td>\n",
       "      <td>Make Me Over</td>\n",
       "      <td>Lifehouse</td>\n",
       "      <td>ARUTEVU1187B9ACAF9</td>\n",
       "      <td>90s, acoustic, alternative, alternative rock, ...</td>\n",
       "      <td>Make Me Over - Lifehouse - 90s, acoustic, alte...</td>\n",
       "    </tr>\n",
       "    <tr>\n",
       "      <td>13</td>\n",
       "      <td>0.648419</td>\n",
       "      <td>1.302683</td>\n",
       "      <td>2.326871</td>\n",
       "      <td>4376</td>\n",
       "      <td>Storm</td>\n",
       "      <td>Lifehouse</td>\n",
       "      <td>ARUTEVU1187B9ACAF9</td>\n",
       "      <td>90s, acoustic, alternative, alternative rock, ...</td>\n",
       "      <td>Storm - Lifehouse - 90s, acoustic, alternative...</td>\n",
       "    </tr>\n",
       "    <tr>\n",
       "      <td>14</td>\n",
       "      <td>1.464406</td>\n",
       "      <td>1.665886</td>\n",
       "      <td>2.889188</td>\n",
       "      <td>5251</td>\n",
       "      <td>Things I'll Never Say</td>\n",
       "      <td>Avril Lavigne</td>\n",
       "      <td>ARY53RR1187B9AE485</td>\n",
       "      <td>alternative, canada, canadian, female, female ...</td>\n",
       "      <td>Things I'll Never Say - Avril Lavigne - altern...</td>\n",
       "    </tr>\n",
       "    <tr>\n",
       "      <td>15</td>\n",
       "      <td>2.241176</td>\n",
       "      <td>1.226992</td>\n",
       "      <td>2.985829</td>\n",
       "      <td>5298</td>\n",
       "      <td>The Nation</td>\n",
       "      <td>Freeway</td>\n",
       "      <td>AR9Z6WC1187B9B9991</td>\n",
       "      <td>alternative, american, bass music, classic, cl...</td>\n",
       "      <td>The Nation - Freeway - alternative, american, ...</td>\n",
       "    </tr>\n",
       "    <tr>\n",
       "      <td>16</td>\n",
       "      <td>-0.099904</td>\n",
       "      <td>1.093532</td>\n",
       "      <td>0.675633</td>\n",
       "      <td>5858</td>\n",
       "      <td>The End Has Only Begun</td>\n",
       "      <td>Lifehouse</td>\n",
       "      <td>ARUTEVU1187B9ACAF9</td>\n",
       "      <td>90s, acoustic, alternative, alternative rock, ...</td>\n",
       "      <td>The End Has Only Begun - Lifehouse - 90s, acou...</td>\n",
       "    </tr>\n",
       "    <tr>\n",
       "      <td>17</td>\n",
       "      <td>0.396673</td>\n",
       "      <td>1.354636</td>\n",
       "      <td>0.822004</td>\n",
       "      <td>6442</td>\n",
       "      <td>Into The Sun</td>\n",
       "      <td>Lifehouse</td>\n",
       "      <td>ARUTEVU1187B9ACAF9</td>\n",
       "      <td>90s, acoustic, alternative, alternative rock, ...</td>\n",
       "      <td>Into The Sun - Lifehouse - 90s, acoustic, alte...</td>\n",
       "    </tr>\n",
       "    <tr>\n",
       "      <td>18</td>\n",
       "      <td>0.381453</td>\n",
       "      <td>0.646516</td>\n",
       "      <td>3.799682</td>\n",
       "      <td>6832</td>\n",
       "      <td>Wordplay (Album Version)</td>\n",
       "      <td>Jason Mraz</td>\n",
       "      <td>ARML3X41187FB35F2E</td>\n",
       "      <td>acoustic, acoustic guitar, alternative rock, c...</td>\n",
       "      <td>Wordplay (Album Version) - Jason Mraz - acoust...</td>\n",
       "    </tr>\n",
       "    <tr>\n",
       "      <td>19</td>\n",
       "      <td>-0.045618</td>\n",
       "      <td>0.255292</td>\n",
       "      <td>0.519166</td>\n",
       "      <td>7292</td>\n",
       "      <td>The Beginning</td>\n",
       "      <td>Lifehouse</td>\n",
       "      <td>ARUTEVU1187B9ACAF9</td>\n",
       "      <td>90s, acoustic, alternative, alternative rock, ...</td>\n",
       "      <td>The Beginning - Lifehouse - 90s, acoustic, alt...</td>\n",
       "    </tr>\n",
       "    <tr>\n",
       "      <td>20</td>\n",
       "      <td>0.053231</td>\n",
       "      <td>1.098495</td>\n",
       "      <td>1.136753</td>\n",
       "      <td>7451</td>\n",
       "      <td>Disarray</td>\n",
       "      <td>Lifehouse</td>\n",
       "      <td>ARUTEVU1187B9ACAF9</td>\n",
       "      <td>90s, acoustic, alternative, alternative rock, ...</td>\n",
       "      <td>Disarray - Lifehouse - 90s, acoustic, alternat...</td>\n",
       "    </tr>\n",
       "    <tr>\n",
       "      <td>21</td>\n",
       "      <td>-0.221644</td>\n",
       "      <td>1.289056</td>\n",
       "      <td>1.407668</td>\n",
       "      <td>7903</td>\n",
       "      <td>Take Me Away</td>\n",
       "      <td>Lifehouse</td>\n",
       "      <td>ARUTEVU1187B9ACAF9</td>\n",
       "      <td>90s, acoustic, alternative, alternative rock, ...</td>\n",
       "      <td>Take Me Away - Lifehouse - 90s, acoustic, alte...</td>\n",
       "    </tr>\n",
       "    <tr>\n",
       "      <td>22</td>\n",
       "      <td>0.216651</td>\n",
       "      <td>1.177853</td>\n",
       "      <td>-0.127076</td>\n",
       "      <td>8902</td>\n",
       "      <td>Anchor</td>\n",
       "      <td>Lifehouse</td>\n",
       "      <td>ARUTEVU1187B9ACAF9</td>\n",
       "      <td>90s, acoustic, alternative, alternative rock, ...</td>\n",
       "      <td>Anchor - Lifehouse - 90s, acoustic, alternativ...</td>\n",
       "    </tr>\n",
       "    <tr>\n",
       "      <td>23</td>\n",
       "      <td>-0.117834</td>\n",
       "      <td>0.266952</td>\n",
       "      <td>0.594478</td>\n",
       "      <td>9008</td>\n",
       "      <td>Wash</td>\n",
       "      <td>Lifehouse</td>\n",
       "      <td>ARUTEVU1187B9ACAF9</td>\n",
       "      <td>90s, acoustic, alternative, alternative rock, ...</td>\n",
       "      <td>Wash - Lifehouse - 90s, acoustic, alternative,...</td>\n",
       "    </tr>\n",
       "    <tr>\n",
       "      <td>24</td>\n",
       "      <td>0.207526</td>\n",
       "      <td>0.151149</td>\n",
       "      <td>0.202291</td>\n",
       "      <td>9131</td>\n",
       "      <td>Am I Ever Gonna Find Out</td>\n",
       "      <td>Lifehouse</td>\n",
       "      <td>ARUTEVU1187B9ACAF9</td>\n",
       "      <td>90s, acoustic, alternative, alternative rock, ...</td>\n",
       "      <td>Am I Ever Gonna Find Out - Lifehouse - 90s, ac...</td>\n",
       "    </tr>\n",
       "    <tr>\n",
       "      <td>25</td>\n",
       "      <td>0.661608</td>\n",
       "      <td>0.868990</td>\n",
       "      <td>2.186918</td>\n",
       "      <td>9168</td>\n",
       "      <td>Somewhere In Between</td>\n",
       "      <td>Lifehouse</td>\n",
       "      <td>ARUTEVU1187B9ACAF9</td>\n",
       "      <td>90s, acoustic, alternative, alternative rock, ...</td>\n",
       "      <td>Somewhere In Between - Lifehouse - 90s, acoust...</td>\n",
       "    </tr>\n",
       "    <tr>\n",
       "      <td>26</td>\n",
       "      <td>0.508180</td>\n",
       "      <td>1.847222</td>\n",
       "      <td>0.471823</td>\n",
       "      <td>9322</td>\n",
       "      <td>Could It Be Any Harder</td>\n",
       "      <td>The Calling</td>\n",
       "      <td>ARXTH0J1187B9AE634</td>\n",
       "      <td>00s, 80s, 90s, acoustic, alternative,</td>\n",
       "      <td>Could It Be Any Harder - The Calling - 00s, 80...</td>\n",
       "    </tr>\n",
       "    <tr>\n",
       "      <td>27</td>\n",
       "      <td>-0.163547</td>\n",
       "      <td>1.057409</td>\n",
       "      <td>0.932025</td>\n",
       "      <td>9686</td>\n",
       "      <td>Learn You Inside Out</td>\n",
       "      <td>Lifehouse</td>\n",
       "      <td>ARUTEVU1187B9ACAF9</td>\n",
       "      <td>90s, acoustic, alternative, alternative rock, ...</td>\n",
       "      <td>Learn You Inside Out - Lifehouse - 90s, acoust...</td>\n",
       "    </tr>\n",
       "    <tr>\n",
       "      <td>28</td>\n",
       "      <td>0.208451</td>\n",
       "      <td>1.282988</td>\n",
       "      <td>2.220070</td>\n",
       "      <td>9746</td>\n",
       "      <td>What If?</td>\n",
       "      <td>Godsmack</td>\n",
       "      <td>AR8ICRA1187B9B8A5F</td>\n",
       "      <td>acoustic, alternative, alternative metal, coun...</td>\n",
       "      <td>What If? - Godsmack - acoustic, alternative, a...</td>\n",
       "    </tr>\n",
       "    <tr>\n",
       "      <td>29</td>\n",
       "      <td>0.308299</td>\n",
       "      <td>1.271466</td>\n",
       "      <td>1.316425</td>\n",
       "      <td>9833</td>\n",
       "      <td>Simon</td>\n",
       "      <td>Lifehouse</td>\n",
       "      <td>ARUTEVU1187B9ACAF9</td>\n",
       "      <td>90s, acoustic, alternative, alternative rock, ...</td>\n",
       "      <td>Simon - Lifehouse - 90s, acoustic, alternative...</td>\n",
       "    </tr>\n",
       "    <tr>\n",
       "      <td>30</td>\n",
       "      <td>0.043212</td>\n",
       "      <td>0.870492</td>\n",
       "      <td>-0.099924</td>\n",
       "      <td>9836</td>\n",
       "      <td>Trying</td>\n",
       "      <td>Lifehouse</td>\n",
       "      <td>ARUTEVU1187B9ACAF9</td>\n",
       "      <td>90s, acoustic, alternative, alternative rock, ...</td>\n",
       "      <td>Trying - Lifehouse - 90s, acoustic, alternativ...</td>\n",
       "    </tr>\n",
       "    <tr>\n",
       "      <td>31</td>\n",
       "      <td>-1.389201</td>\n",
       "      <td>-0.064906</td>\n",
       "      <td>1.136317</td>\n",
       "      <td>9963</td>\n",
       "      <td>Come Back Down</td>\n",
       "      <td>Lifehouse</td>\n",
       "      <td>ARUTEVU1187B9ACAF9</td>\n",
       "      <td>90s, acoustic, alternative, alternative rock, ...</td>\n",
       "      <td>Come Back Down - Lifehouse - 90s, acoustic, al...</td>\n",
       "    </tr>\n",
       "    <tr>\n",
       "      <td>32</td>\n",
       "      <td>-0.707336</td>\n",
       "      <td>1.591569</td>\n",
       "      <td>1.570436</td>\n",
       "      <td>10626</td>\n",
       "      <td>It's So Hard</td>\n",
       "      <td>Anouk</td>\n",
       "      <td>ARMLOSJ1187B98B08C</td>\n",
       "      <td>00s, 90s, acoustic, alternative, alternative c...</td>\n",
       "      <td>It's So Hard - Anouk - 00s, 90s, acoustic, alt...</td>\n",
       "    </tr>\n",
       "    <tr>\n",
       "      <td>33</td>\n",
       "      <td>-0.105161</td>\n",
       "      <td>1.464160</td>\n",
       "      <td>-0.030481</td>\n",
       "      <td>10941</td>\n",
       "      <td>Quasimodo</td>\n",
       "      <td>Lifehouse</td>\n",
       "      <td>ARUTEVU1187B9ACAF9</td>\n",
       "      <td>90s, acoustic, alternative, alternative rock, ...</td>\n",
       "      <td>Quasimodo - Lifehouse - 90s, acoustic, alterna...</td>\n",
       "    </tr>\n",
       "    <tr>\n",
       "      <td>34</td>\n",
       "      <td>-0.066600</td>\n",
       "      <td>0.677074</td>\n",
       "      <td>0.456856</td>\n",
       "      <td>11048</td>\n",
       "      <td>Someone Else's Song</td>\n",
       "      <td>Lifehouse</td>\n",
       "      <td>ARUTEVU1187B9ACAF9</td>\n",
       "      <td>90s, acoustic, alternative, alternative rock, ...</td>\n",
       "      <td>Someone Else's Song - Lifehouse - 90s, acousti...</td>\n",
       "    </tr>\n",
       "    <tr>\n",
       "      <td>35</td>\n",
       "      <td>-0.432688</td>\n",
       "      <td>0.006479</td>\n",
       "      <td>0.163737</td>\n",
       "      <td>11722</td>\n",
       "      <td>My Precious</td>\n",
       "      <td>Lifehouse</td>\n",
       "      <td>ARUTEVU1187B9ACAF9</td>\n",
       "      <td>90s, acoustic, alternative, alternative rock, ...</td>\n",
       "      <td>My Precious - Lifehouse - 90s, acoustic, alter...</td>\n",
       "    </tr>\n",
       "    <tr>\n",
       "      <td>36</td>\n",
       "      <td>0.355408</td>\n",
       "      <td>0.998815</td>\n",
       "      <td>0.697435</td>\n",
       "      <td>12090</td>\n",
       "      <td>Maybe I</td>\n",
       "      <td>Five for Fighting</td>\n",
       "      <td>ARWVQRR1187B9AE7E3</td>\n",
       "      <td>acoustic, adult alternative, alternative, clas...</td>\n",
       "      <td>Maybe I - Five for Fighting - acoustic, adult ...</td>\n",
       "    </tr>\n",
       "    <tr>\n",
       "      <td>37</td>\n",
       "      <td>-0.248637</td>\n",
       "      <td>0.506714</td>\n",
       "      <td>0.335305</td>\n",
       "      <td>13589</td>\n",
       "      <td>Empty Space</td>\n",
       "      <td>Lifehouse</td>\n",
       "      <td>ARUTEVU1187B9ACAF9</td>\n",
       "      <td>90s, acoustic, alternative, alternative rock, ...</td>\n",
       "      <td>Empty Space - Lifehouse - 90s, acoustic, alter...</td>\n",
       "    </tr>\n",
       "    <tr>\n",
       "      <td>38</td>\n",
       "      <td>-0.162793</td>\n",
       "      <td>1.044197</td>\n",
       "      <td>0.179614</td>\n",
       "      <td>13754</td>\n",
       "      <td>How Long</td>\n",
       "      <td>Lifehouse</td>\n",
       "      <td>ARUTEVU1187B9ACAF9</td>\n",
       "      <td>90s, acoustic, alternative, alternative rock, ...</td>\n",
       "      <td>How Long - Lifehouse - 90s, acoustic, alternat...</td>\n",
       "    </tr>\n",
       "    <tr>\n",
       "      <td>39</td>\n",
       "      <td>-0.349224</td>\n",
       "      <td>0.891165</td>\n",
       "      <td>0.528090</td>\n",
       "      <td>14374</td>\n",
       "      <td>Just Another Name</td>\n",
       "      <td>Lifehouse</td>\n",
       "      <td>ARUTEVU1187B9ACAF9</td>\n",
       "      <td>90s, acoustic, alternative, alternative rock, ...</td>\n",
       "      <td>Just Another Name - Lifehouse - 90s, acoustic,...</td>\n",
       "    </tr>\n",
       "    <tr>\n",
       "      <td>40</td>\n",
       "      <td>-0.218214</td>\n",
       "      <td>0.650933</td>\n",
       "      <td>1.652062</td>\n",
       "      <td>14439</td>\n",
       "      <td>Bed Of Lies (LP Version)</td>\n",
       "      <td>matchbox twenty</td>\n",
       "      <td>ARVLXWP1187FB5B94A</td>\n",
       "      <td>90s, acoustic, adult alternative, alternative,...</td>\n",
       "      <td>Bed Of Lies (LP Version) - matchbox twenty - 9...</td>\n",
       "    </tr>\n",
       "    <tr>\n",
       "      <td>41</td>\n",
       "      <td>-0.711395</td>\n",
       "      <td>0.572750</td>\n",
       "      <td>0.682122</td>\n",
       "      <td>15074</td>\n",
       "      <td>Tropilove</td>\n",
       "      <td>DJ Bitman</td>\n",
       "      <td>ARRBRST11F50C48961</td>\n",
       "      <td>chile, chilean, electro-funk, electronic, elec...</td>\n",
       "      <td>Tropilove - DJ Bitman - chile, chilean, electr...</td>\n",
       "    </tr>\n",
       "    <tr>\n",
       "      <td>42</td>\n",
       "      <td>-0.169244</td>\n",
       "      <td>1.030629</td>\n",
       "      <td>0.213784</td>\n",
       "      <td>15572</td>\n",
       "      <td>Bridges</td>\n",
       "      <td>Lifehouse</td>\n",
       "      <td>ARUTEVU1187B9ACAF9</td>\n",
       "      <td>90s, acoustic, alternative, alternative rock, ...</td>\n",
       "      <td>Bridges - Lifehouse - 90s, acoustic, alternati...</td>\n",
       "    </tr>\n",
       "    <tr>\n",
       "      <td>43</td>\n",
       "      <td>0.633925</td>\n",
       "      <td>1.310887</td>\n",
       "      <td>2.138730</td>\n",
       "      <td>16299</td>\n",
       "      <td>So Quiet_ They're Loud (Album)</td>\n",
       "      <td>Ha Ha Tonka</td>\n",
       "      <td>ARWXX4A1187FB5BE6E</td>\n",
       "      <td>alternative, alternative country, americana, b...</td>\n",
       "      <td>So Quiet_ They're Loud (Album) - Ha Ha Tonka -...</td>\n",
       "    </tr>\n",
       "    <tr>\n",
       "      <td>44</td>\n",
       "      <td>0.187643</td>\n",
       "      <td>0.982928</td>\n",
       "      <td>0.878020</td>\n",
       "      <td>16868</td>\n",
       "      <td>Today</td>\n",
       "      <td>Lifehouse</td>\n",
       "      <td>ARUTEVU1187B9ACAF9</td>\n",
       "      <td>90s, acoustic, alternative, alternative rock, ...</td>\n",
       "      <td>Today - Lifehouse - 90s, acoustic, alternative...</td>\n",
       "    </tr>\n",
       "    <tr>\n",
       "      <td>45</td>\n",
       "      <td>0.577823</td>\n",
       "      <td>0.333597</td>\n",
       "      <td>0.941648</td>\n",
       "      <td>17676</td>\n",
       "      <td>Sky Is Falling</td>\n",
       "      <td>Lifehouse</td>\n",
       "      <td>ARUTEVU1187B9ACAF9</td>\n",
       "      <td>90s, acoustic, alternative, alternative rock, ...</td>\n",
       "      <td>Sky Is Falling - Lifehouse - 90s, acoustic, al...</td>\n",
       "    </tr>\n",
       "    <tr>\n",
       "      <td>46</td>\n",
       "      <td>-0.392900</td>\n",
       "      <td>0.676174</td>\n",
       "      <td>0.191761</td>\n",
       "      <td>18765</td>\n",
       "      <td>Mesmerized</td>\n",
       "      <td>Lifehouse</td>\n",
       "      <td>ARUTEVU1187B9ACAF9</td>\n",
       "      <td>90s, acoustic, alternative, alternative rock, ...</td>\n",
       "      <td>Mesmerized - Lifehouse - 90s, acoustic, altern...</td>\n",
       "    </tr>\n",
       "    <tr>\n",
       "      <td>47</td>\n",
       "      <td>-0.429624</td>\n",
       "      <td>1.027760</td>\n",
       "      <td>0.594413</td>\n",
       "      <td>19358</td>\n",
       "      <td>Sky Is Falling</td>\n",
       "      <td>Lifehouse</td>\n",
       "      <td>ARUTEVU1187B9ACAF9</td>\n",
       "      <td>90s, acoustic, alternative, alternative rock, ...</td>\n",
       "      <td>Sky Is Falling - Lifehouse - 90s, acoustic, al...</td>\n",
       "    </tr>\n",
       "    <tr>\n",
       "      <td>48</td>\n",
       "      <td>-0.167554</td>\n",
       "      <td>1.477810</td>\n",
       "      <td>-0.447156</td>\n",
       "      <td>19457</td>\n",
       "      <td>The Kitchen (Explicit)</td>\n",
       "      <td>Little Jackie</td>\n",
       "      <td>AR6PUPS11C8A42BE60</td>\n",
       "      <td>00s, acoustic, alternative, alternative pop, a...</td>\n",
       "      <td>The Kitchen (Explicit) - Little Jackie - 00s, ...</td>\n",
       "    </tr>\n",
       "    <tr>\n",
       "      <td>49</td>\n",
       "      <td>-0.045728</td>\n",
       "      <td>0.867278</td>\n",
       "      <td>-0.298569</td>\n",
       "      <td>19757</td>\n",
       "      <td>Something To Say</td>\n",
       "      <td>Harem Scarem</td>\n",
       "      <td>ARTF30Q1187FB3F182</td>\n",
       "      <td>80s rock, alternative rock, aor, black metal, ...</td>\n",
       "      <td>Something To Say - Harem Scarem - 80s rock, al...</td>\n",
       "    </tr>\n",
       "  </tbody>\n",
       "</table>\n",
       "</div>"
      ],
      "text/plain": [
       "           0         1         2  song_index  \\\n",
       "0   1.849480  0.641771  3.548409         377   \n",
       "1   0.394028  0.786178  0.610739        1161   \n",
       "2   0.286304  0.939891  1.834443        2054   \n",
       "3  -0.371931  0.796297  0.589790        2975   \n",
       "4   0.312834  2.008063  0.660207        3045   \n",
       "5  -0.116071  1.437859  0.785079        3202   \n",
       "6  -0.179982  0.625395  1.373359        3219   \n",
       "7   0.035033  1.002552  0.968256        3283   \n",
       "8  -0.165220  0.379819  0.489619        3461   \n",
       "9   2.051365  1.061441  3.247053        3864   \n",
       "10  0.848883  0.850492  1.174610        4191   \n",
       "11 -0.034013  0.961812  0.923336        4288   \n",
       "12  0.276871  0.956741  1.695287        4289   \n",
       "13  0.648419  1.302683  2.326871        4376   \n",
       "14  1.464406  1.665886  2.889188        5251   \n",
       "15  2.241176  1.226992  2.985829        5298   \n",
       "16 -0.099904  1.093532  0.675633        5858   \n",
       "17  0.396673  1.354636  0.822004        6442   \n",
       "18  0.381453  0.646516  3.799682        6832   \n",
       "19 -0.045618  0.255292  0.519166        7292   \n",
       "20  0.053231  1.098495  1.136753        7451   \n",
       "21 -0.221644  1.289056  1.407668        7903   \n",
       "22  0.216651  1.177853 -0.127076        8902   \n",
       "23 -0.117834  0.266952  0.594478        9008   \n",
       "24  0.207526  0.151149  0.202291        9131   \n",
       "25  0.661608  0.868990  2.186918        9168   \n",
       "26  0.508180  1.847222  0.471823        9322   \n",
       "27 -0.163547  1.057409  0.932025        9686   \n",
       "28  0.208451  1.282988  2.220070        9746   \n",
       "29  0.308299  1.271466  1.316425        9833   \n",
       "30  0.043212  0.870492 -0.099924        9836   \n",
       "31 -1.389201 -0.064906  1.136317        9963   \n",
       "32 -0.707336  1.591569  1.570436       10626   \n",
       "33 -0.105161  1.464160 -0.030481       10941   \n",
       "34 -0.066600  0.677074  0.456856       11048   \n",
       "35 -0.432688  0.006479  0.163737       11722   \n",
       "36  0.355408  0.998815  0.697435       12090   \n",
       "37 -0.248637  0.506714  0.335305       13589   \n",
       "38 -0.162793  1.044197  0.179614       13754   \n",
       "39 -0.349224  0.891165  0.528090       14374   \n",
       "40 -0.218214  0.650933  1.652062       14439   \n",
       "41 -0.711395  0.572750  0.682122       15074   \n",
       "42 -0.169244  1.030629  0.213784       15572   \n",
       "43  0.633925  1.310887  2.138730       16299   \n",
       "44  0.187643  0.982928  0.878020       16868   \n",
       "45  0.577823  0.333597  0.941648       17676   \n",
       "46 -0.392900  0.676174  0.191761       18765   \n",
       "47 -0.429624  1.027760  0.594413       19358   \n",
       "48 -0.167554  1.477810 -0.447156       19457   \n",
       "49 -0.045728  0.867278 -0.298569       19757   \n",
       "\n",
       "                                title        artist_name           artist_id  \\\n",
       "0                  Beautiful Disaster     Jon McLaughlin  ARM5XIH1187B9B2508   \n",
       "1   Paintin' The Town (Album Version)        Phil Keaggy  AR7CQVS1187B98EF75   \n",
       "2                           Breathing          Lifehouse  ARUTEVU1187B9ACAF9   \n",
       "3                          Who We Are          Lifehouse  ARUTEVU1187B9ACAF9   \n",
       "4                           Invisible         Clay Aiken  ARG4KSQ1187B9A74B1   \n",
       "5                        Walking Away          Lifehouse  ARUTEVU1187B9ACAF9   \n",
       "6                              Undone          Lifehouse  ARUTEVU1187B9ACAF9   \n",
       "7                        Easier To Be          Lifehouse  ARUTEVU1187B9ACAF9   \n",
       "8                   Cling And Clatter          Lifehouse  ARUTEVU1187B9ACAF9   \n",
       "9                          Everything          Lifehouse  ARUTEVU1187B9ACAF9   \n",
       "10                   We'll Never Know          Lifehouse  ARUTEVU1187B9ACAF9   \n",
       "11                           Only One          Lifehouse  ARUTEVU1187B9ACAF9   \n",
       "12                       Make Me Over          Lifehouse  ARUTEVU1187B9ACAF9   \n",
       "13                              Storm          Lifehouse  ARUTEVU1187B9ACAF9   \n",
       "14              Things I'll Never Say      Avril Lavigne  ARY53RR1187B9AE485   \n",
       "15                         The Nation            Freeway  AR9Z6WC1187B9B9991   \n",
       "16             The End Has Only Begun          Lifehouse  ARUTEVU1187B9ACAF9   \n",
       "17                       Into The Sun          Lifehouse  ARUTEVU1187B9ACAF9   \n",
       "18           Wordplay (Album Version)         Jason Mraz  ARML3X41187FB35F2E   \n",
       "19                      The Beginning          Lifehouse  ARUTEVU1187B9ACAF9   \n",
       "20                           Disarray          Lifehouse  ARUTEVU1187B9ACAF9   \n",
       "21                       Take Me Away          Lifehouse  ARUTEVU1187B9ACAF9   \n",
       "22                             Anchor          Lifehouse  ARUTEVU1187B9ACAF9   \n",
       "23                               Wash          Lifehouse  ARUTEVU1187B9ACAF9   \n",
       "24           Am I Ever Gonna Find Out          Lifehouse  ARUTEVU1187B9ACAF9   \n",
       "25               Somewhere In Between          Lifehouse  ARUTEVU1187B9ACAF9   \n",
       "26             Could It Be Any Harder        The Calling  ARXTH0J1187B9AE634   \n",
       "27               Learn You Inside Out          Lifehouse  ARUTEVU1187B9ACAF9   \n",
       "28                           What If?           Godsmack  AR8ICRA1187B9B8A5F   \n",
       "29                              Simon          Lifehouse  ARUTEVU1187B9ACAF9   \n",
       "30                             Trying          Lifehouse  ARUTEVU1187B9ACAF9   \n",
       "31                     Come Back Down          Lifehouse  ARUTEVU1187B9ACAF9   \n",
       "32                       It's So Hard              Anouk  ARMLOSJ1187B98B08C   \n",
       "33                          Quasimodo          Lifehouse  ARUTEVU1187B9ACAF9   \n",
       "34                Someone Else's Song          Lifehouse  ARUTEVU1187B9ACAF9   \n",
       "35                        My Precious          Lifehouse  ARUTEVU1187B9ACAF9   \n",
       "36                            Maybe I  Five for Fighting  ARWVQRR1187B9AE7E3   \n",
       "37                        Empty Space          Lifehouse  ARUTEVU1187B9ACAF9   \n",
       "38                           How Long          Lifehouse  ARUTEVU1187B9ACAF9   \n",
       "39                  Just Another Name          Lifehouse  ARUTEVU1187B9ACAF9   \n",
       "40           Bed Of Lies (LP Version)    matchbox twenty  ARVLXWP1187FB5B94A   \n",
       "41                          Tropilove          DJ Bitman  ARRBRST11F50C48961   \n",
       "42                            Bridges          Lifehouse  ARUTEVU1187B9ACAF9   \n",
       "43     So Quiet_ They're Loud (Album)        Ha Ha Tonka  ARWXX4A1187FB5BE6E   \n",
       "44                              Today          Lifehouse  ARUTEVU1187B9ACAF9   \n",
       "45                     Sky Is Falling          Lifehouse  ARUTEVU1187B9ACAF9   \n",
       "46                         Mesmerized          Lifehouse  ARUTEVU1187B9ACAF9   \n",
       "47                     Sky Is Falling          Lifehouse  ARUTEVU1187B9ACAF9   \n",
       "48             The Kitchen (Explicit)      Little Jackie  AR6PUPS11C8A42BE60   \n",
       "49                   Something To Say       Harem Scarem  ARTF30Q1187FB3F182   \n",
       "\n",
       "                                                 term  \\\n",
       "0           acoustic, comedy, country, guitar, jazz,    \n",
       "1   80s, acoustic, alternative, alternative rock, ...   \n",
       "2   90s, acoustic, alternative, alternative rock, ...   \n",
       "3   90s, acoustic, alternative, alternative rock, ...   \n",
       "4        00s, 80s, 90s, adult contemporary, america,    \n",
       "5   90s, acoustic, alternative, alternative rock, ...   \n",
       "6   90s, acoustic, alternative, alternative rock, ...   \n",
       "7   90s, acoustic, alternative, alternative rock, ...   \n",
       "8   90s, acoustic, alternative, alternative rock, ...   \n",
       "9   90s, acoustic, alternative, alternative rock, ...   \n",
       "10  90s, acoustic, alternative, alternative rock, ...   \n",
       "11  90s, acoustic, alternative, alternative rock, ...   \n",
       "12  90s, acoustic, alternative, alternative rock, ...   \n",
       "13  90s, acoustic, alternative, alternative rock, ...   \n",
       "14  alternative, canada, canadian, female, female ...   \n",
       "15  alternative, american, bass music, classic, cl...   \n",
       "16  90s, acoustic, alternative, alternative rock, ...   \n",
       "17  90s, acoustic, alternative, alternative rock, ...   \n",
       "18  acoustic, acoustic guitar, alternative rock, c...   \n",
       "19  90s, acoustic, alternative, alternative rock, ...   \n",
       "20  90s, acoustic, alternative, alternative rock, ...   \n",
       "21  90s, acoustic, alternative, alternative rock, ...   \n",
       "22  90s, acoustic, alternative, alternative rock, ...   \n",
       "23  90s, acoustic, alternative, alternative rock, ...   \n",
       "24  90s, acoustic, alternative, alternative rock, ...   \n",
       "25  90s, acoustic, alternative, alternative rock, ...   \n",
       "26             00s, 80s, 90s, acoustic, alternative,    \n",
       "27  90s, acoustic, alternative, alternative rock, ...   \n",
       "28  acoustic, alternative, alternative metal, coun...   \n",
       "29  90s, acoustic, alternative, alternative rock, ...   \n",
       "30  90s, acoustic, alternative, alternative rock, ...   \n",
       "31  90s, acoustic, alternative, alternative rock, ...   \n",
       "32  00s, 90s, acoustic, alternative, alternative c...   \n",
       "33  90s, acoustic, alternative, alternative rock, ...   \n",
       "34  90s, acoustic, alternative, alternative rock, ...   \n",
       "35  90s, acoustic, alternative, alternative rock, ...   \n",
       "36  acoustic, adult alternative, alternative, clas...   \n",
       "37  90s, acoustic, alternative, alternative rock, ...   \n",
       "38  90s, acoustic, alternative, alternative rock, ...   \n",
       "39  90s, acoustic, alternative, alternative rock, ...   \n",
       "40  90s, acoustic, adult alternative, alternative,...   \n",
       "41  chile, chilean, electro-funk, electronic, elec...   \n",
       "42  90s, acoustic, alternative, alternative rock, ...   \n",
       "43  alternative, alternative country, americana, b...   \n",
       "44  90s, acoustic, alternative, alternative rock, ...   \n",
       "45  90s, acoustic, alternative, alternative rock, ...   \n",
       "46  90s, acoustic, alternative, alternative rock, ...   \n",
       "47  90s, acoustic, alternative, alternative rock, ...   \n",
       "48  00s, acoustic, alternative, alternative pop, a...   \n",
       "49  80s rock, alternative rock, aor, black metal, ...   \n",
       "\n",
       "                                                 text  \n",
       "0   Beautiful Disaster - Jon McLaughlin - acoustic...  \n",
       "1   Paintin' The Town (Album Version) - Phil Keagg...  \n",
       "2   Breathing - Lifehouse - 90s, acoustic, alterna...  \n",
       "3   Who We Are - Lifehouse - 90s, acoustic, altern...  \n",
       "4   Invisible - Clay Aiken - 00s, 80s, 90s, adult ...  \n",
       "5   Walking Away - Lifehouse - 90s, acoustic, alte...  \n",
       "6   Undone - Lifehouse - 90s, acoustic, alternativ...  \n",
       "7   Easier To Be - Lifehouse - 90s, acoustic, alte...  \n",
       "8   Cling And Clatter - Lifehouse - 90s, acoustic,...  \n",
       "9   Everything - Lifehouse - 90s, acoustic, altern...  \n",
       "10  We'll Never Know - Lifehouse - 90s, acoustic, ...  \n",
       "11  Only One - Lifehouse - 90s, acoustic, alternat...  \n",
       "12  Make Me Over - Lifehouse - 90s, acoustic, alte...  \n",
       "13  Storm - Lifehouse - 90s, acoustic, alternative...  \n",
       "14  Things I'll Never Say - Avril Lavigne - altern...  \n",
       "15  The Nation - Freeway - alternative, american, ...  \n",
       "16  The End Has Only Begun - Lifehouse - 90s, acou...  \n",
       "17  Into The Sun - Lifehouse - 90s, acoustic, alte...  \n",
       "18  Wordplay (Album Version) - Jason Mraz - acoust...  \n",
       "19  The Beginning - Lifehouse - 90s, acoustic, alt...  \n",
       "20  Disarray - Lifehouse - 90s, acoustic, alternat...  \n",
       "21  Take Me Away - Lifehouse - 90s, acoustic, alte...  \n",
       "22  Anchor - Lifehouse - 90s, acoustic, alternativ...  \n",
       "23  Wash - Lifehouse - 90s, acoustic, alternative,...  \n",
       "24  Am I Ever Gonna Find Out - Lifehouse - 90s, ac...  \n",
       "25  Somewhere In Between - Lifehouse - 90s, acoust...  \n",
       "26  Could It Be Any Harder - The Calling - 00s, 80...  \n",
       "27  Learn You Inside Out - Lifehouse - 90s, acoust...  \n",
       "28  What If? - Godsmack - acoustic, alternative, a...  \n",
       "29  Simon - Lifehouse - 90s, acoustic, alternative...  \n",
       "30  Trying - Lifehouse - 90s, acoustic, alternativ...  \n",
       "31  Come Back Down - Lifehouse - 90s, acoustic, al...  \n",
       "32  It's So Hard - Anouk - 00s, 90s, acoustic, alt...  \n",
       "33  Quasimodo - Lifehouse - 90s, acoustic, alterna...  \n",
       "34  Someone Else's Song - Lifehouse - 90s, acousti...  \n",
       "35  My Precious - Lifehouse - 90s, acoustic, alter...  \n",
       "36  Maybe I - Five for Fighting - acoustic, adult ...  \n",
       "37  Empty Space - Lifehouse - 90s, acoustic, alter...  \n",
       "38  How Long - Lifehouse - 90s, acoustic, alternat...  \n",
       "39  Just Another Name - Lifehouse - 90s, acoustic,...  \n",
       "40  Bed Of Lies (LP Version) - matchbox twenty - 9...  \n",
       "41  Tropilove - DJ Bitman - chile, chilean, electr...  \n",
       "42  Bridges - Lifehouse - 90s, acoustic, alternati...  \n",
       "43  So Quiet_ They're Loud (Album) - Ha Ha Tonka -...  \n",
       "44  Today - Lifehouse - 90s, acoustic, alternative...  \n",
       "45  Sky Is Falling - Lifehouse - 90s, acoustic, al...  \n",
       "46  Mesmerized - Lifehouse - 90s, acoustic, altern...  \n",
       "47  Sky Is Falling - Lifehouse - 90s, acoustic, al...  \n",
       "48  The Kitchen (Explicit) - Little Jackie - 00s, ...  \n",
       "49  Something To Say - Harem Scarem - 80s rock, al...  "
      ]
     },
     "execution_count": 216,
     "metadata": {},
     "output_type": "execute_result"
    }
   ],
   "source": [
    "tocluster2"
   ]
  },
  {
   "cell_type": "code",
   "execution_count": 217,
   "metadata": {},
   "outputs": [],
   "source": [
    "fig = go.Figure(data=go.Scatter(x=tocluster2[0],\n",
    "                                y=tocluster2[1],\n",
    "                                mode='markers',\n",
    "                                text=tocluster2['text'])) # hover text goes here"
   ]
  },
  {
   "cell_type": "code",
   "execution_count": 218,
   "metadata": {},
   "outputs": [
    {
     "data": {
      "application/vnd.plotly.v1+json": {
       "config": {
        "plotlyServerURL": "https://plot.ly"
       },
       "data": [
        {
         "mode": "markers",
         "text": [
          "Beautiful Disaster - Jon McLaughlin - acoustic, comedy, country, guitar, jazz, ",
          "Paintin' The Town (Album Version) - Phil Keaggy - 80s, acoustic, alternative, alternative rock, ambient, ",
          "Breathing - Lifehouse - 90s, acoustic, alternative, alternative rock, classic, ",
          "Who We Are - Lifehouse - 90s, acoustic, alternative, alternative rock, classic, ",
          "Invisible - Clay Aiken - 00s, 80s, 90s, adult contemporary, america, ",
          "Walking Away - Lifehouse - 90s, acoustic, alternative, alternative rock, classic, ",
          "Undone - Lifehouse - 90s, acoustic, alternative, alternative rock, classic, ",
          "Easier To Be - Lifehouse - 90s, acoustic, alternative, alternative rock, classic, ",
          "Cling And Clatter - Lifehouse - 90s, acoustic, alternative, alternative rock, classic, ",
          "Everything - Lifehouse - 90s, acoustic, alternative, alternative rock, classic, ",
          "We'll Never Know - Lifehouse - 90s, acoustic, alternative, alternative rock, classic, ",
          "Only One - Lifehouse - 90s, acoustic, alternative, alternative rock, classic, ",
          "Make Me Over - Lifehouse - 90s, acoustic, alternative, alternative rock, classic, ",
          "Storm - Lifehouse - 90s, acoustic, alternative, alternative rock, classic, ",
          "Things I'll Never Say - Avril Lavigne - alternative, canada, canadian, female, female vocalist, ",
          "The Nation - Freeway - alternative, american, bass music, classic, classic rock, ",
          "The End Has Only Begun - Lifehouse - 90s, acoustic, alternative, alternative rock, classic, ",
          "Into The Sun - Lifehouse - 90s, acoustic, alternative, alternative rock, classic, ",
          "Wordplay (Album Version) - Jason Mraz - acoustic, acoustic guitar, alternative rock, country, folk, ",
          "The Beginning - Lifehouse - 90s, acoustic, alternative, alternative rock, classic, ",
          "Disarray - Lifehouse - 90s, acoustic, alternative, alternative rock, classic, ",
          "Take Me Away - Lifehouse - 90s, acoustic, alternative, alternative rock, classic, ",
          "Anchor - Lifehouse - 90s, acoustic, alternative, alternative rock, classic, ",
          "Wash - Lifehouse - 90s, acoustic, alternative, alternative rock, classic, ",
          "Am I Ever Gonna Find Out - Lifehouse - 90s, acoustic, alternative, alternative rock, classic, ",
          "Somewhere In Between - Lifehouse - 90s, acoustic, alternative, alternative rock, classic, ",
          "Could It Be Any Harder - The Calling - 00s, 80s, 90s, acoustic, alternative, ",
          "Learn You Inside Out - Lifehouse - 90s, acoustic, alternative, alternative rock, classic, ",
          "What If? - Godsmack - acoustic, alternative, alternative metal, country, guitar, ",
          "Simon - Lifehouse - 90s, acoustic, alternative, alternative rock, classic, ",
          "Trying - Lifehouse - 90s, acoustic, alternative, alternative rock, classic, ",
          "Come Back Down - Lifehouse - 90s, acoustic, alternative, alternative rock, classic, ",
          "It's So Hard - Anouk - 00s, 90s, acoustic, alternative, alternative country, ",
          "Quasimodo - Lifehouse - 90s, acoustic, alternative, alternative rock, classic, ",
          "Someone Else's Song - Lifehouse - 90s, acoustic, alternative, alternative rock, classic, ",
          "My Precious - Lifehouse - 90s, acoustic, alternative, alternative rock, classic, ",
          "Maybe I - Five for Fighting - acoustic, adult alternative, alternative, classic, guitar, ",
          "Empty Space - Lifehouse - 90s, acoustic, alternative, alternative rock, classic, ",
          "How Long - Lifehouse - 90s, acoustic, alternative, alternative rock, classic, ",
          "Just Another Name - Lifehouse - 90s, acoustic, alternative, alternative rock, classic, ",
          "Bed Of Lies (LP Version) - matchbox twenty - 90s, acoustic, adult alternative, alternative, alternative rock, ",
          "Tropilove - DJ Bitman - chile, chilean, electro-funk, electronic, electronic music, ",
          "Bridges - Lifehouse - 90s, acoustic, alternative, alternative rock, classic, ",
          "So Quiet_ They're Loud (Album) - Ha Ha Tonka - alternative, alternative country, americana, bloodshot records, daytrotter, ",
          "Today - Lifehouse - 90s, acoustic, alternative, alternative rock, classic, ",
          "Sky Is Falling - Lifehouse - 90s, acoustic, alternative, alternative rock, classic, ",
          "Mesmerized - Lifehouse - 90s, acoustic, alternative, alternative rock, classic, ",
          "Sky Is Falling - Lifehouse - 90s, acoustic, alternative, alternative rock, classic, ",
          "The Kitchen (Explicit) - Little Jackie - 00s, acoustic, alternative, alternative pop, alternative rock, ",
          "Something To Say - Harem Scarem - 80s rock, alternative rock, aor, black metal, canadian, "
         ],
         "type": "scatter",
         "x": [
          1.8494802713394165,
          0.3940279185771942,
          0.28630396723747253,
          -0.37193092703819275,
          0.3128342926502228,
          -0.11607131361961365,
          -0.17998185753822327,
          0.03503270074725151,
          -0.16522018611431122,
          2.0513651371002197,
          0.848882794380188,
          -0.03401341661810875,
          0.2768711447715759,
          0.648419201374054,
          1.4644056558609009,
          2.2411763668060303,
          -0.09990417957305908,
          0.3966727554798126,
          0.3814532458782196,
          -0.045618150383234024,
          0.05323133245110512,
          -0.22164388000965118,
          0.21665051579475403,
          -0.11783430725336075,
          0.20752568542957306,
          0.6616076827049255,
          0.5081795454025269,
          -0.163547083735466,
          0.20845118165016174,
          0.30829915404319763,
          0.0432119220495224,
          -1.3892005681991577,
          -0.7073363661766052,
          -0.10516087710857391,
          -0.06659961491823196,
          -0.4326884150505066,
          0.3554077446460724,
          -0.24863703548908234,
          -0.1627926379442215,
          -0.3492235839366913,
          -0.2182139903306961,
          -0.7113946080207825,
          -0.16924409568309784,
          0.633925199508667,
          0.18764269351959229,
          0.5778225660324097,
          -0.39290013909339905,
          -0.4296238422393799,
          -0.16755355894565582,
          -0.045728132128715515
         ],
         "y": [
          0.641770601272583,
          0.7861779928207397,
          0.9398912787437439,
          0.7962968349456787,
          2.0080626010894775,
          1.437859058380127,
          0.625394880771637,
          1.0025521516799927,
          0.379818856716156,
          1.0614407062530518,
          0.8504924178123474,
          0.9618120789527893,
          0.9567409753799438,
          1.3026833534240723,
          1.6658862829208374,
          1.2269915342330933,
          1.0935322046279907,
          1.3546358346939087,
          0.6465163826942444,
          0.2552918493747711,
          1.0984952449798584,
          1.2890561819076538,
          1.177852988243103,
          0.2669523358345032,
          0.1511487066745758,
          0.8689901828765869,
          1.8472222089767456,
          1.0574090480804443,
          1.2829879522323608,
          1.2714662551879883,
          0.8704922795295715,
          -0.06490639597177505,
          1.5915688276290894,
          1.4641597270965576,
          0.6770738363265991,
          0.00647867051884532,
          0.9988152980804443,
          0.506714403629303,
          1.0441972017288208,
          0.8911654353141785,
          0.6509325504302979,
          0.5727499723434448,
          1.03062903881073,
          1.310887336730957,
          0.9829283952713013,
          0.3335972726345062,
          0.676173985004425,
          1.0277596712112427,
          1.4778099060058594,
          0.8672775030136108
         ]
        }
       ],
       "layout": {
        "template": {
         "data": {
          "bar": [
           {
            "error_x": {
             "color": "#2a3f5f"
            },
            "error_y": {
             "color": "#2a3f5f"
            },
            "marker": {
             "line": {
              "color": "#E5ECF6",
              "width": 0.5
             }
            },
            "type": "bar"
           }
          ],
          "barpolar": [
           {
            "marker": {
             "line": {
              "color": "#E5ECF6",
              "width": 0.5
             }
            },
            "type": "barpolar"
           }
          ],
          "carpet": [
           {
            "aaxis": {
             "endlinecolor": "#2a3f5f",
             "gridcolor": "white",
             "linecolor": "white",
             "minorgridcolor": "white",
             "startlinecolor": "#2a3f5f"
            },
            "baxis": {
             "endlinecolor": "#2a3f5f",
             "gridcolor": "white",
             "linecolor": "white",
             "minorgridcolor": "white",
             "startlinecolor": "#2a3f5f"
            },
            "type": "carpet"
           }
          ],
          "choropleth": [
           {
            "colorbar": {
             "outlinewidth": 0,
             "ticks": ""
            },
            "type": "choropleth"
           }
          ],
          "contour": [
           {
            "colorbar": {
             "outlinewidth": 0,
             "ticks": ""
            },
            "colorscale": [
             [
              0,
              "#0d0887"
             ],
             [
              0.1111111111111111,
              "#46039f"
             ],
             [
              0.2222222222222222,
              "#7201a8"
             ],
             [
              0.3333333333333333,
              "#9c179e"
             ],
             [
              0.4444444444444444,
              "#bd3786"
             ],
             [
              0.5555555555555556,
              "#d8576b"
             ],
             [
              0.6666666666666666,
              "#ed7953"
             ],
             [
              0.7777777777777778,
              "#fb9f3a"
             ],
             [
              0.8888888888888888,
              "#fdca26"
             ],
             [
              1,
              "#f0f921"
             ]
            ],
            "type": "contour"
           }
          ],
          "contourcarpet": [
           {
            "colorbar": {
             "outlinewidth": 0,
             "ticks": ""
            },
            "type": "contourcarpet"
           }
          ],
          "heatmap": [
           {
            "colorbar": {
             "outlinewidth": 0,
             "ticks": ""
            },
            "colorscale": [
             [
              0,
              "#0d0887"
             ],
             [
              0.1111111111111111,
              "#46039f"
             ],
             [
              0.2222222222222222,
              "#7201a8"
             ],
             [
              0.3333333333333333,
              "#9c179e"
             ],
             [
              0.4444444444444444,
              "#bd3786"
             ],
             [
              0.5555555555555556,
              "#d8576b"
             ],
             [
              0.6666666666666666,
              "#ed7953"
             ],
             [
              0.7777777777777778,
              "#fb9f3a"
             ],
             [
              0.8888888888888888,
              "#fdca26"
             ],
             [
              1,
              "#f0f921"
             ]
            ],
            "type": "heatmap"
           }
          ],
          "heatmapgl": [
           {
            "colorbar": {
             "outlinewidth": 0,
             "ticks": ""
            },
            "colorscale": [
             [
              0,
              "#0d0887"
             ],
             [
              0.1111111111111111,
              "#46039f"
             ],
             [
              0.2222222222222222,
              "#7201a8"
             ],
             [
              0.3333333333333333,
              "#9c179e"
             ],
             [
              0.4444444444444444,
              "#bd3786"
             ],
             [
              0.5555555555555556,
              "#d8576b"
             ],
             [
              0.6666666666666666,
              "#ed7953"
             ],
             [
              0.7777777777777778,
              "#fb9f3a"
             ],
             [
              0.8888888888888888,
              "#fdca26"
             ],
             [
              1,
              "#f0f921"
             ]
            ],
            "type": "heatmapgl"
           }
          ],
          "histogram": [
           {
            "marker": {
             "colorbar": {
              "outlinewidth": 0,
              "ticks": ""
             }
            },
            "type": "histogram"
           }
          ],
          "histogram2d": [
           {
            "colorbar": {
             "outlinewidth": 0,
             "ticks": ""
            },
            "colorscale": [
             [
              0,
              "#0d0887"
             ],
             [
              0.1111111111111111,
              "#46039f"
             ],
             [
              0.2222222222222222,
              "#7201a8"
             ],
             [
              0.3333333333333333,
              "#9c179e"
             ],
             [
              0.4444444444444444,
              "#bd3786"
             ],
             [
              0.5555555555555556,
              "#d8576b"
             ],
             [
              0.6666666666666666,
              "#ed7953"
             ],
             [
              0.7777777777777778,
              "#fb9f3a"
             ],
             [
              0.8888888888888888,
              "#fdca26"
             ],
             [
              1,
              "#f0f921"
             ]
            ],
            "type": "histogram2d"
           }
          ],
          "histogram2dcontour": [
           {
            "colorbar": {
             "outlinewidth": 0,
             "ticks": ""
            },
            "colorscale": [
             [
              0,
              "#0d0887"
             ],
             [
              0.1111111111111111,
              "#46039f"
             ],
             [
              0.2222222222222222,
              "#7201a8"
             ],
             [
              0.3333333333333333,
              "#9c179e"
             ],
             [
              0.4444444444444444,
              "#bd3786"
             ],
             [
              0.5555555555555556,
              "#d8576b"
             ],
             [
              0.6666666666666666,
              "#ed7953"
             ],
             [
              0.7777777777777778,
              "#fb9f3a"
             ],
             [
              0.8888888888888888,
              "#fdca26"
             ],
             [
              1,
              "#f0f921"
             ]
            ],
            "type": "histogram2dcontour"
           }
          ],
          "mesh3d": [
           {
            "colorbar": {
             "outlinewidth": 0,
             "ticks": ""
            },
            "type": "mesh3d"
           }
          ],
          "parcoords": [
           {
            "line": {
             "colorbar": {
              "outlinewidth": 0,
              "ticks": ""
             }
            },
            "type": "parcoords"
           }
          ],
          "pie": [
           {
            "automargin": true,
            "type": "pie"
           }
          ],
          "scatter": [
           {
            "marker": {
             "colorbar": {
              "outlinewidth": 0,
              "ticks": ""
             }
            },
            "type": "scatter"
           }
          ],
          "scatter3d": [
           {
            "line": {
             "colorbar": {
              "outlinewidth": 0,
              "ticks": ""
             }
            },
            "marker": {
             "colorbar": {
              "outlinewidth": 0,
              "ticks": ""
             }
            },
            "type": "scatter3d"
           }
          ],
          "scattercarpet": [
           {
            "marker": {
             "colorbar": {
              "outlinewidth": 0,
              "ticks": ""
             }
            },
            "type": "scattercarpet"
           }
          ],
          "scattergeo": [
           {
            "marker": {
             "colorbar": {
              "outlinewidth": 0,
              "ticks": ""
             }
            },
            "type": "scattergeo"
           }
          ],
          "scattergl": [
           {
            "marker": {
             "colorbar": {
              "outlinewidth": 0,
              "ticks": ""
             }
            },
            "type": "scattergl"
           }
          ],
          "scattermapbox": [
           {
            "marker": {
             "colorbar": {
              "outlinewidth": 0,
              "ticks": ""
             }
            },
            "type": "scattermapbox"
           }
          ],
          "scatterpolar": [
           {
            "marker": {
             "colorbar": {
              "outlinewidth": 0,
              "ticks": ""
             }
            },
            "type": "scatterpolar"
           }
          ],
          "scatterpolargl": [
           {
            "marker": {
             "colorbar": {
              "outlinewidth": 0,
              "ticks": ""
             }
            },
            "type": "scatterpolargl"
           }
          ],
          "scatterternary": [
           {
            "marker": {
             "colorbar": {
              "outlinewidth": 0,
              "ticks": ""
             }
            },
            "type": "scatterternary"
           }
          ],
          "surface": [
           {
            "colorbar": {
             "outlinewidth": 0,
             "ticks": ""
            },
            "colorscale": [
             [
              0,
              "#0d0887"
             ],
             [
              0.1111111111111111,
              "#46039f"
             ],
             [
              0.2222222222222222,
              "#7201a8"
             ],
             [
              0.3333333333333333,
              "#9c179e"
             ],
             [
              0.4444444444444444,
              "#bd3786"
             ],
             [
              0.5555555555555556,
              "#d8576b"
             ],
             [
              0.6666666666666666,
              "#ed7953"
             ],
             [
              0.7777777777777778,
              "#fb9f3a"
             ],
             [
              0.8888888888888888,
              "#fdca26"
             ],
             [
              1,
              "#f0f921"
             ]
            ],
            "type": "surface"
           }
          ],
          "table": [
           {
            "cells": {
             "fill": {
              "color": "#EBF0F8"
             },
             "line": {
              "color": "white"
             }
            },
            "header": {
             "fill": {
              "color": "#C8D4E3"
             },
             "line": {
              "color": "white"
             }
            },
            "type": "table"
           }
          ]
         },
         "layout": {
          "annotationdefaults": {
           "arrowcolor": "#2a3f5f",
           "arrowhead": 0,
           "arrowwidth": 1
          },
          "coloraxis": {
           "colorbar": {
            "outlinewidth": 0,
            "ticks": ""
           }
          },
          "colorscale": {
           "diverging": [
            [
             0,
             "#8e0152"
            ],
            [
             0.1,
             "#c51b7d"
            ],
            [
             0.2,
             "#de77ae"
            ],
            [
             0.3,
             "#f1b6da"
            ],
            [
             0.4,
             "#fde0ef"
            ],
            [
             0.5,
             "#f7f7f7"
            ],
            [
             0.6,
             "#e6f5d0"
            ],
            [
             0.7,
             "#b8e186"
            ],
            [
             0.8,
             "#7fbc41"
            ],
            [
             0.9,
             "#4d9221"
            ],
            [
             1,
             "#276419"
            ]
           ],
           "sequential": [
            [
             0,
             "#0d0887"
            ],
            [
             0.1111111111111111,
             "#46039f"
            ],
            [
             0.2222222222222222,
             "#7201a8"
            ],
            [
             0.3333333333333333,
             "#9c179e"
            ],
            [
             0.4444444444444444,
             "#bd3786"
            ],
            [
             0.5555555555555556,
             "#d8576b"
            ],
            [
             0.6666666666666666,
             "#ed7953"
            ],
            [
             0.7777777777777778,
             "#fb9f3a"
            ],
            [
             0.8888888888888888,
             "#fdca26"
            ],
            [
             1,
             "#f0f921"
            ]
           ],
           "sequentialminus": [
            [
             0,
             "#0d0887"
            ],
            [
             0.1111111111111111,
             "#46039f"
            ],
            [
             0.2222222222222222,
             "#7201a8"
            ],
            [
             0.3333333333333333,
             "#9c179e"
            ],
            [
             0.4444444444444444,
             "#bd3786"
            ],
            [
             0.5555555555555556,
             "#d8576b"
            ],
            [
             0.6666666666666666,
             "#ed7953"
            ],
            [
             0.7777777777777778,
             "#fb9f3a"
            ],
            [
             0.8888888888888888,
             "#fdca26"
            ],
            [
             1,
             "#f0f921"
            ]
           ]
          },
          "colorway": [
           "#636efa",
           "#EF553B",
           "#00cc96",
           "#ab63fa",
           "#FFA15A",
           "#19d3f3",
           "#FF6692",
           "#B6E880",
           "#FF97FF",
           "#FECB52"
          ],
          "font": {
           "color": "#2a3f5f"
          },
          "geo": {
           "bgcolor": "white",
           "lakecolor": "white",
           "landcolor": "#E5ECF6",
           "showlakes": true,
           "showland": true,
           "subunitcolor": "white"
          },
          "hoverlabel": {
           "align": "left"
          },
          "hovermode": "closest",
          "mapbox": {
           "style": "light"
          },
          "paper_bgcolor": "white",
          "plot_bgcolor": "#E5ECF6",
          "polar": {
           "angularaxis": {
            "gridcolor": "white",
            "linecolor": "white",
            "ticks": ""
           },
           "bgcolor": "#E5ECF6",
           "radialaxis": {
            "gridcolor": "white",
            "linecolor": "white",
            "ticks": ""
           }
          },
          "scene": {
           "xaxis": {
            "backgroundcolor": "#E5ECF6",
            "gridcolor": "white",
            "gridwidth": 2,
            "linecolor": "white",
            "showbackground": true,
            "ticks": "",
            "zerolinecolor": "white"
           },
           "yaxis": {
            "backgroundcolor": "#E5ECF6",
            "gridcolor": "white",
            "gridwidth": 2,
            "linecolor": "white",
            "showbackground": true,
            "ticks": "",
            "zerolinecolor": "white"
           },
           "zaxis": {
            "backgroundcolor": "#E5ECF6",
            "gridcolor": "white",
            "gridwidth": 2,
            "linecolor": "white",
            "showbackground": true,
            "ticks": "",
            "zerolinecolor": "white"
           }
          },
          "shapedefaults": {
           "line": {
            "color": "#2a3f5f"
           }
          },
          "ternary": {
           "aaxis": {
            "gridcolor": "white",
            "linecolor": "white",
            "ticks": ""
           },
           "baxis": {
            "gridcolor": "white",
            "linecolor": "white",
            "ticks": ""
           },
           "bgcolor": "#E5ECF6",
           "caxis": {
            "gridcolor": "white",
            "linecolor": "white",
            "ticks": ""
           }
          },
          "title": {
           "x": 0.05
          },
          "xaxis": {
           "automargin": true,
           "gridcolor": "white",
           "linecolor": "white",
           "ticks": "",
           "title": {
            "standoff": 15
           },
           "zerolinecolor": "white",
           "zerolinewidth": 2
          },
          "yaxis": {
           "automargin": true,
           "gridcolor": "white",
           "linecolor": "white",
           "ticks": "",
           "title": {
            "standoff": 15
           },
           "zerolinecolor": "white",
           "zerolinewidth": 2
          }
         }
        },
        "title": {
         "text": "PC1 and PC2"
        }
       }
      },
      "text/html": [
       "<div>\n",
       "        \n",
       "        \n",
       "            <div id=\"5a31bdaa-6061-428a-8ce5-e71c2e1fb5c4\" class=\"plotly-graph-div\" style=\"height:525px; width:100%;\"></div>\n",
       "            <script type=\"text/javascript\">\n",
       "                require([\"plotly\"], function(Plotly) {\n",
       "                    window.PLOTLYENV=window.PLOTLYENV || {};\n",
       "                    \n",
       "                if (document.getElementById(\"5a31bdaa-6061-428a-8ce5-e71c2e1fb5c4\")) {\n",
       "                    Plotly.newPlot(\n",
       "                        '5a31bdaa-6061-428a-8ce5-e71c2e1fb5c4',\n",
       "                        [{\"mode\": \"markers\", \"text\": [\"Beautiful Disaster - Jon McLaughlin - acoustic, comedy, country, guitar, jazz, \", \"Paintin' The Town (Album Version) - Phil Keaggy - 80s, acoustic, alternative, alternative rock, ambient, \", \"Breathing - Lifehouse - 90s, acoustic, alternative, alternative rock, classic, \", \"Who We Are - Lifehouse - 90s, acoustic, alternative, alternative rock, classic, \", \"Invisible - Clay Aiken - 00s, 80s, 90s, adult contemporary, america, \", \"Walking Away - Lifehouse - 90s, acoustic, alternative, alternative rock, classic, \", \"Undone - Lifehouse - 90s, acoustic, alternative, alternative rock, classic, \", \"Easier To Be - Lifehouse - 90s, acoustic, alternative, alternative rock, classic, \", \"Cling And Clatter - Lifehouse - 90s, acoustic, alternative, alternative rock, classic, \", \"Everything - Lifehouse - 90s, acoustic, alternative, alternative rock, classic, \", \"We'll Never Know - Lifehouse - 90s, acoustic, alternative, alternative rock, classic, \", \"Only One - Lifehouse - 90s, acoustic, alternative, alternative rock, classic, \", \"Make Me Over - Lifehouse - 90s, acoustic, alternative, alternative rock, classic, \", \"Storm - Lifehouse - 90s, acoustic, alternative, alternative rock, classic, \", \"Things I'll Never Say - Avril Lavigne - alternative, canada, canadian, female, female vocalist, \", \"The Nation - Freeway - alternative, american, bass music, classic, classic rock, \", \"The End Has Only Begun - Lifehouse - 90s, acoustic, alternative, alternative rock, classic, \", \"Into The Sun - Lifehouse - 90s, acoustic, alternative, alternative rock, classic, \", \"Wordplay (Album Version) - Jason Mraz - acoustic, acoustic guitar, alternative rock, country, folk, \", \"The Beginning - Lifehouse - 90s, acoustic, alternative, alternative rock, classic, \", \"Disarray - Lifehouse - 90s, acoustic, alternative, alternative rock, classic, \", \"Take Me Away - Lifehouse - 90s, acoustic, alternative, alternative rock, classic, \", \"Anchor - Lifehouse - 90s, acoustic, alternative, alternative rock, classic, \", \"Wash - Lifehouse - 90s, acoustic, alternative, alternative rock, classic, \", \"Am I Ever Gonna Find Out - Lifehouse - 90s, acoustic, alternative, alternative rock, classic, \", \"Somewhere In Between - Lifehouse - 90s, acoustic, alternative, alternative rock, classic, \", \"Could It Be Any Harder - The Calling - 00s, 80s, 90s, acoustic, alternative, \", \"Learn You Inside Out - Lifehouse - 90s, acoustic, alternative, alternative rock, classic, \", \"What If? - Godsmack - acoustic, alternative, alternative metal, country, guitar, \", \"Simon - Lifehouse - 90s, acoustic, alternative, alternative rock, classic, \", \"Trying - Lifehouse - 90s, acoustic, alternative, alternative rock, classic, \", \"Come Back Down - Lifehouse - 90s, acoustic, alternative, alternative rock, classic, \", \"It's So Hard - Anouk - 00s, 90s, acoustic, alternative, alternative country, \", \"Quasimodo - Lifehouse - 90s, acoustic, alternative, alternative rock, classic, \", \"Someone Else's Song - Lifehouse - 90s, acoustic, alternative, alternative rock, classic, \", \"My Precious - Lifehouse - 90s, acoustic, alternative, alternative rock, classic, \", \"Maybe I - Five for Fighting - acoustic, adult alternative, alternative, classic, guitar, \", \"Empty Space - Lifehouse - 90s, acoustic, alternative, alternative rock, classic, \", \"How Long - Lifehouse - 90s, acoustic, alternative, alternative rock, classic, \", \"Just Another Name - Lifehouse - 90s, acoustic, alternative, alternative rock, classic, \", \"Bed Of Lies (LP Version) - matchbox twenty - 90s, acoustic, adult alternative, alternative, alternative rock, \", \"Tropilove - DJ Bitman - chile, chilean, electro-funk, electronic, electronic music, \", \"Bridges - Lifehouse - 90s, acoustic, alternative, alternative rock, classic, \", \"So Quiet_ They're Loud (Album) - Ha Ha Tonka - alternative, alternative country, americana, bloodshot records, daytrotter, \", \"Today - Lifehouse - 90s, acoustic, alternative, alternative rock, classic, \", \"Sky Is Falling - Lifehouse - 90s, acoustic, alternative, alternative rock, classic, \", \"Mesmerized - Lifehouse - 90s, acoustic, alternative, alternative rock, classic, \", \"Sky Is Falling - Lifehouse - 90s, acoustic, alternative, alternative rock, classic, \", \"The Kitchen (Explicit) - Little Jackie - 00s, acoustic, alternative, alternative pop, alternative rock, \", \"Something To Say - Harem Scarem - 80s rock, alternative rock, aor, black metal, canadian, \"], \"type\": \"scatter\", \"x\": [1.8494802713394165, 0.3940279185771942, 0.28630396723747253, -0.37193092703819275, 0.3128342926502228, -0.11607131361961365, -0.17998185753822327, 0.03503270074725151, -0.16522018611431122, 2.0513651371002197, 0.848882794380188, -0.03401341661810875, 0.2768711447715759, 0.648419201374054, 1.4644056558609009, 2.2411763668060303, -0.09990417957305908, 0.3966727554798126, 0.3814532458782196, -0.045618150383234024, 0.05323133245110512, -0.22164388000965118, 0.21665051579475403, -0.11783430725336075, 0.20752568542957306, 0.6616076827049255, 0.5081795454025269, -0.163547083735466, 0.20845118165016174, 0.30829915404319763, 0.0432119220495224, -1.3892005681991577, -0.7073363661766052, -0.10516087710857391, -0.06659961491823196, -0.4326884150505066, 0.3554077446460724, -0.24863703548908234, -0.1627926379442215, -0.3492235839366913, -0.2182139903306961, -0.7113946080207825, -0.16924409568309784, 0.633925199508667, 0.18764269351959229, 0.5778225660324097, -0.39290013909339905, -0.4296238422393799, -0.16755355894565582, -0.045728132128715515], \"y\": [0.641770601272583, 0.7861779928207397, 0.9398912787437439, 0.7962968349456787, 2.0080626010894775, 1.437859058380127, 0.625394880771637, 1.0025521516799927, 0.379818856716156, 1.0614407062530518, 0.8504924178123474, 0.9618120789527893, 0.9567409753799438, 1.3026833534240723, 1.6658862829208374, 1.2269915342330933, 1.0935322046279907, 1.3546358346939087, 0.6465163826942444, 0.2552918493747711, 1.0984952449798584, 1.2890561819076538, 1.177852988243103, 0.2669523358345032, 0.1511487066745758, 0.8689901828765869, 1.8472222089767456, 1.0574090480804443, 1.2829879522323608, 1.2714662551879883, 0.8704922795295715, -0.06490639597177505, 1.5915688276290894, 1.4641597270965576, 0.6770738363265991, 0.00647867051884532, 0.9988152980804443, 0.506714403629303, 1.0441972017288208, 0.8911654353141785, 0.6509325504302979, 0.5727499723434448, 1.03062903881073, 1.310887336730957, 0.9829283952713013, 0.3335972726345062, 0.676173985004425, 1.0277596712112427, 1.4778099060058594, 0.8672775030136108]}],\n",
       "                        {\"template\": {\"data\": {\"bar\": [{\"error_x\": {\"color\": \"#2a3f5f\"}, \"error_y\": {\"color\": \"#2a3f5f\"}, \"marker\": {\"line\": {\"color\": \"#E5ECF6\", \"width\": 0.5}}, \"type\": \"bar\"}], \"barpolar\": [{\"marker\": {\"line\": {\"color\": \"#E5ECF6\", \"width\": 0.5}}, \"type\": \"barpolar\"}], \"carpet\": [{\"aaxis\": {\"endlinecolor\": \"#2a3f5f\", \"gridcolor\": \"white\", \"linecolor\": \"white\", \"minorgridcolor\": \"white\", \"startlinecolor\": \"#2a3f5f\"}, \"baxis\": {\"endlinecolor\": \"#2a3f5f\", \"gridcolor\": \"white\", \"linecolor\": \"white\", \"minorgridcolor\": \"white\", \"startlinecolor\": \"#2a3f5f\"}, \"type\": \"carpet\"}], \"choropleth\": [{\"colorbar\": {\"outlinewidth\": 0, \"ticks\": \"\"}, \"type\": \"choropleth\"}], \"contour\": [{\"colorbar\": {\"outlinewidth\": 0, \"ticks\": \"\"}, \"colorscale\": [[0.0, \"#0d0887\"], [0.1111111111111111, \"#46039f\"], [0.2222222222222222, \"#7201a8\"], [0.3333333333333333, \"#9c179e\"], [0.4444444444444444, \"#bd3786\"], [0.5555555555555556, \"#d8576b\"], [0.6666666666666666, \"#ed7953\"], [0.7777777777777778, \"#fb9f3a\"], [0.8888888888888888, \"#fdca26\"], [1.0, \"#f0f921\"]], \"type\": \"contour\"}], \"contourcarpet\": [{\"colorbar\": {\"outlinewidth\": 0, \"ticks\": \"\"}, \"type\": \"contourcarpet\"}], \"heatmap\": [{\"colorbar\": {\"outlinewidth\": 0, \"ticks\": \"\"}, \"colorscale\": [[0.0, \"#0d0887\"], [0.1111111111111111, \"#46039f\"], [0.2222222222222222, \"#7201a8\"], [0.3333333333333333, \"#9c179e\"], [0.4444444444444444, \"#bd3786\"], [0.5555555555555556, \"#d8576b\"], [0.6666666666666666, \"#ed7953\"], [0.7777777777777778, \"#fb9f3a\"], [0.8888888888888888, \"#fdca26\"], [1.0, \"#f0f921\"]], \"type\": \"heatmap\"}], \"heatmapgl\": [{\"colorbar\": {\"outlinewidth\": 0, \"ticks\": \"\"}, \"colorscale\": [[0.0, \"#0d0887\"], [0.1111111111111111, \"#46039f\"], [0.2222222222222222, \"#7201a8\"], [0.3333333333333333, \"#9c179e\"], [0.4444444444444444, \"#bd3786\"], [0.5555555555555556, \"#d8576b\"], [0.6666666666666666, \"#ed7953\"], [0.7777777777777778, \"#fb9f3a\"], [0.8888888888888888, \"#fdca26\"], [1.0, \"#f0f921\"]], \"type\": \"heatmapgl\"}], \"histogram\": [{\"marker\": {\"colorbar\": {\"outlinewidth\": 0, \"ticks\": \"\"}}, \"type\": \"histogram\"}], \"histogram2d\": [{\"colorbar\": {\"outlinewidth\": 0, \"ticks\": \"\"}, \"colorscale\": [[0.0, \"#0d0887\"], [0.1111111111111111, \"#46039f\"], [0.2222222222222222, \"#7201a8\"], [0.3333333333333333, \"#9c179e\"], [0.4444444444444444, \"#bd3786\"], [0.5555555555555556, \"#d8576b\"], [0.6666666666666666, \"#ed7953\"], [0.7777777777777778, \"#fb9f3a\"], [0.8888888888888888, \"#fdca26\"], [1.0, \"#f0f921\"]], \"type\": \"histogram2d\"}], \"histogram2dcontour\": [{\"colorbar\": {\"outlinewidth\": 0, \"ticks\": \"\"}, \"colorscale\": [[0.0, \"#0d0887\"], [0.1111111111111111, \"#46039f\"], [0.2222222222222222, \"#7201a8\"], [0.3333333333333333, \"#9c179e\"], [0.4444444444444444, \"#bd3786\"], [0.5555555555555556, \"#d8576b\"], [0.6666666666666666, \"#ed7953\"], [0.7777777777777778, \"#fb9f3a\"], [0.8888888888888888, \"#fdca26\"], [1.0, \"#f0f921\"]], \"type\": \"histogram2dcontour\"}], \"mesh3d\": [{\"colorbar\": {\"outlinewidth\": 0, \"ticks\": \"\"}, \"type\": \"mesh3d\"}], \"parcoords\": [{\"line\": {\"colorbar\": {\"outlinewidth\": 0, \"ticks\": \"\"}}, \"type\": \"parcoords\"}], \"pie\": [{\"automargin\": true, \"type\": \"pie\"}], \"scatter\": [{\"marker\": {\"colorbar\": {\"outlinewidth\": 0, \"ticks\": \"\"}}, \"type\": \"scatter\"}], \"scatter3d\": [{\"line\": {\"colorbar\": {\"outlinewidth\": 0, \"ticks\": \"\"}}, \"marker\": {\"colorbar\": {\"outlinewidth\": 0, \"ticks\": \"\"}}, \"type\": \"scatter3d\"}], \"scattercarpet\": [{\"marker\": {\"colorbar\": {\"outlinewidth\": 0, \"ticks\": \"\"}}, \"type\": \"scattercarpet\"}], \"scattergeo\": [{\"marker\": {\"colorbar\": {\"outlinewidth\": 0, \"ticks\": \"\"}}, \"type\": \"scattergeo\"}], \"scattergl\": [{\"marker\": {\"colorbar\": {\"outlinewidth\": 0, \"ticks\": \"\"}}, \"type\": \"scattergl\"}], \"scattermapbox\": [{\"marker\": {\"colorbar\": {\"outlinewidth\": 0, \"ticks\": \"\"}}, \"type\": \"scattermapbox\"}], \"scatterpolar\": [{\"marker\": {\"colorbar\": {\"outlinewidth\": 0, \"ticks\": \"\"}}, \"type\": \"scatterpolar\"}], \"scatterpolargl\": [{\"marker\": {\"colorbar\": {\"outlinewidth\": 0, \"ticks\": \"\"}}, \"type\": \"scatterpolargl\"}], \"scatterternary\": [{\"marker\": {\"colorbar\": {\"outlinewidth\": 0, \"ticks\": \"\"}}, \"type\": \"scatterternary\"}], \"surface\": [{\"colorbar\": {\"outlinewidth\": 0, \"ticks\": \"\"}, \"colorscale\": [[0.0, \"#0d0887\"], [0.1111111111111111, \"#46039f\"], [0.2222222222222222, \"#7201a8\"], [0.3333333333333333, \"#9c179e\"], [0.4444444444444444, \"#bd3786\"], [0.5555555555555556, \"#d8576b\"], [0.6666666666666666, \"#ed7953\"], [0.7777777777777778, \"#fb9f3a\"], [0.8888888888888888, \"#fdca26\"], [1.0, \"#f0f921\"]], \"type\": \"surface\"}], \"table\": [{\"cells\": {\"fill\": {\"color\": \"#EBF0F8\"}, \"line\": {\"color\": \"white\"}}, \"header\": {\"fill\": {\"color\": \"#C8D4E3\"}, \"line\": {\"color\": \"white\"}}, \"type\": \"table\"}]}, \"layout\": {\"annotationdefaults\": {\"arrowcolor\": \"#2a3f5f\", \"arrowhead\": 0, \"arrowwidth\": 1}, \"coloraxis\": {\"colorbar\": {\"outlinewidth\": 0, \"ticks\": \"\"}}, \"colorscale\": {\"diverging\": [[0, \"#8e0152\"], [0.1, \"#c51b7d\"], [0.2, \"#de77ae\"], [0.3, \"#f1b6da\"], [0.4, \"#fde0ef\"], [0.5, \"#f7f7f7\"], [0.6, \"#e6f5d0\"], [0.7, \"#b8e186\"], [0.8, \"#7fbc41\"], [0.9, \"#4d9221\"], [1, \"#276419\"]], \"sequential\": [[0.0, \"#0d0887\"], [0.1111111111111111, \"#46039f\"], [0.2222222222222222, \"#7201a8\"], [0.3333333333333333, \"#9c179e\"], [0.4444444444444444, \"#bd3786\"], [0.5555555555555556, \"#d8576b\"], [0.6666666666666666, \"#ed7953\"], [0.7777777777777778, \"#fb9f3a\"], [0.8888888888888888, \"#fdca26\"], [1.0, \"#f0f921\"]], \"sequentialminus\": [[0.0, \"#0d0887\"], [0.1111111111111111, \"#46039f\"], [0.2222222222222222, \"#7201a8\"], [0.3333333333333333, \"#9c179e\"], [0.4444444444444444, \"#bd3786\"], [0.5555555555555556, \"#d8576b\"], [0.6666666666666666, \"#ed7953\"], [0.7777777777777778, \"#fb9f3a\"], [0.8888888888888888, \"#fdca26\"], [1.0, \"#f0f921\"]]}, \"colorway\": [\"#636efa\", \"#EF553B\", \"#00cc96\", \"#ab63fa\", \"#FFA15A\", \"#19d3f3\", \"#FF6692\", \"#B6E880\", \"#FF97FF\", \"#FECB52\"], \"font\": {\"color\": \"#2a3f5f\"}, \"geo\": {\"bgcolor\": \"white\", \"lakecolor\": \"white\", \"landcolor\": \"#E5ECF6\", \"showlakes\": true, \"showland\": true, \"subunitcolor\": \"white\"}, \"hoverlabel\": {\"align\": \"left\"}, \"hovermode\": \"closest\", \"mapbox\": {\"style\": \"light\"}, \"paper_bgcolor\": \"white\", \"plot_bgcolor\": \"#E5ECF6\", \"polar\": {\"angularaxis\": {\"gridcolor\": \"white\", \"linecolor\": \"white\", \"ticks\": \"\"}, \"bgcolor\": \"#E5ECF6\", \"radialaxis\": {\"gridcolor\": \"white\", \"linecolor\": \"white\", \"ticks\": \"\"}}, \"scene\": {\"xaxis\": {\"backgroundcolor\": \"#E5ECF6\", \"gridcolor\": \"white\", \"gridwidth\": 2, \"linecolor\": \"white\", \"showbackground\": true, \"ticks\": \"\", \"zerolinecolor\": \"white\"}, \"yaxis\": {\"backgroundcolor\": \"#E5ECF6\", \"gridcolor\": \"white\", \"gridwidth\": 2, \"linecolor\": \"white\", \"showbackground\": true, \"ticks\": \"\", \"zerolinecolor\": \"white\"}, \"zaxis\": {\"backgroundcolor\": \"#E5ECF6\", \"gridcolor\": \"white\", \"gridwidth\": 2, \"linecolor\": \"white\", \"showbackground\": true, \"ticks\": \"\", \"zerolinecolor\": \"white\"}}, \"shapedefaults\": {\"line\": {\"color\": \"#2a3f5f\"}}, \"ternary\": {\"aaxis\": {\"gridcolor\": \"white\", \"linecolor\": \"white\", \"ticks\": \"\"}, \"baxis\": {\"gridcolor\": \"white\", \"linecolor\": \"white\", \"ticks\": \"\"}, \"bgcolor\": \"#E5ECF6\", \"caxis\": {\"gridcolor\": \"white\", \"linecolor\": \"white\", \"ticks\": \"\"}}, \"title\": {\"x\": 0.05}, \"xaxis\": {\"automargin\": true, \"gridcolor\": \"white\", \"linecolor\": \"white\", \"ticks\": \"\", \"title\": {\"standoff\": 15}, \"zerolinecolor\": \"white\", \"zerolinewidth\": 2}, \"yaxis\": {\"automargin\": true, \"gridcolor\": \"white\", \"linecolor\": \"white\", \"ticks\": \"\", \"title\": {\"standoff\": 15}, \"zerolinecolor\": \"white\", \"zerolinewidth\": 2}}}, \"title\": {\"text\": \"PC1 and PC2\"}},\n",
       "                        {\"responsive\": true}\n",
       "                    ).then(function(){\n",
       "                            \n",
       "var gd = document.getElementById('5a31bdaa-6061-428a-8ce5-e71c2e1fb5c4');\n",
       "var x = new MutationObserver(function (mutations, observer) {{\n",
       "        var display = window.getComputedStyle(gd).display;\n",
       "        if (!display || display === 'none') {{\n",
       "            console.log([gd, 'removed!']);\n",
       "            Plotly.purge(gd);\n",
       "            observer.disconnect();\n",
       "        }}\n",
       "}});\n",
       "\n",
       "// Listen for the removal of the full notebook cells\n",
       "var notebookContainer = gd.closest('#notebook-container');\n",
       "if (notebookContainer) {{\n",
       "    x.observe(notebookContainer, {childList: true});\n",
       "}}\n",
       "\n",
       "// Listen for the clearing of the current output cell\n",
       "var outputEl = gd.closest('.output');\n",
       "if (outputEl) {{\n",
       "    x.observe(outputEl, {childList: true});\n",
       "}}\n",
       "\n",
       "                        })\n",
       "                };\n",
       "                });\n",
       "            </script>\n",
       "        </div>"
      ]
     },
     "metadata": {},
     "output_type": "display_data"
    }
   ],
   "source": [
    "fig.update_layout(title='PC1 and PC2')\n",
    "fig.show()"
   ]
  },
  {
   "cell_type": "code",
   "execution_count": 219,
   "metadata": {},
   "outputs": [
    {
     "data": {
      "application/vnd.plotly.v1+json": {
       "config": {
        "plotlyServerURL": "https://plot.ly"
       },
       "data": [
        {
         "mode": "markers",
         "text": [
          "Beautiful Disaster - Jon McLaughlin - acoustic, comedy, country, guitar, jazz, ",
          "Paintin' The Town (Album Version) - Phil Keaggy - 80s, acoustic, alternative, alternative rock, ambient, ",
          "Breathing - Lifehouse - 90s, acoustic, alternative, alternative rock, classic, ",
          "Who We Are - Lifehouse - 90s, acoustic, alternative, alternative rock, classic, ",
          "Invisible - Clay Aiken - 00s, 80s, 90s, adult contemporary, america, ",
          "Walking Away - Lifehouse - 90s, acoustic, alternative, alternative rock, classic, ",
          "Undone - Lifehouse - 90s, acoustic, alternative, alternative rock, classic, ",
          "Easier To Be - Lifehouse - 90s, acoustic, alternative, alternative rock, classic, ",
          "Cling And Clatter - Lifehouse - 90s, acoustic, alternative, alternative rock, classic, ",
          "Everything - Lifehouse - 90s, acoustic, alternative, alternative rock, classic, ",
          "We'll Never Know - Lifehouse - 90s, acoustic, alternative, alternative rock, classic, ",
          "Only One - Lifehouse - 90s, acoustic, alternative, alternative rock, classic, ",
          "Make Me Over - Lifehouse - 90s, acoustic, alternative, alternative rock, classic, ",
          "Storm - Lifehouse - 90s, acoustic, alternative, alternative rock, classic, ",
          "Things I'll Never Say - Avril Lavigne - alternative, canada, canadian, female, female vocalist, ",
          "The Nation - Freeway - alternative, american, bass music, classic, classic rock, ",
          "The End Has Only Begun - Lifehouse - 90s, acoustic, alternative, alternative rock, classic, ",
          "Into The Sun - Lifehouse - 90s, acoustic, alternative, alternative rock, classic, ",
          "Wordplay (Album Version) - Jason Mraz - acoustic, acoustic guitar, alternative rock, country, folk, ",
          "The Beginning - Lifehouse - 90s, acoustic, alternative, alternative rock, classic, ",
          "Disarray - Lifehouse - 90s, acoustic, alternative, alternative rock, classic, ",
          "Take Me Away - Lifehouse - 90s, acoustic, alternative, alternative rock, classic, ",
          "Anchor - Lifehouse - 90s, acoustic, alternative, alternative rock, classic, ",
          "Wash - Lifehouse - 90s, acoustic, alternative, alternative rock, classic, ",
          "Am I Ever Gonna Find Out - Lifehouse - 90s, acoustic, alternative, alternative rock, classic, ",
          "Somewhere In Between - Lifehouse - 90s, acoustic, alternative, alternative rock, classic, ",
          "Could It Be Any Harder - The Calling - 00s, 80s, 90s, acoustic, alternative, ",
          "Learn You Inside Out - Lifehouse - 90s, acoustic, alternative, alternative rock, classic, ",
          "What If? - Godsmack - acoustic, alternative, alternative metal, country, guitar, ",
          "Simon - Lifehouse - 90s, acoustic, alternative, alternative rock, classic, ",
          "Trying - Lifehouse - 90s, acoustic, alternative, alternative rock, classic, ",
          "Come Back Down - Lifehouse - 90s, acoustic, alternative, alternative rock, classic, ",
          "It's So Hard - Anouk - 00s, 90s, acoustic, alternative, alternative country, ",
          "Quasimodo - Lifehouse - 90s, acoustic, alternative, alternative rock, classic, ",
          "Someone Else's Song - Lifehouse - 90s, acoustic, alternative, alternative rock, classic, ",
          "My Precious - Lifehouse - 90s, acoustic, alternative, alternative rock, classic, ",
          "Maybe I - Five for Fighting - acoustic, adult alternative, alternative, classic, guitar, ",
          "Empty Space - Lifehouse - 90s, acoustic, alternative, alternative rock, classic, ",
          "How Long - Lifehouse - 90s, acoustic, alternative, alternative rock, classic, ",
          "Just Another Name - Lifehouse - 90s, acoustic, alternative, alternative rock, classic, ",
          "Bed Of Lies (LP Version) - matchbox twenty - 90s, acoustic, adult alternative, alternative, alternative rock, ",
          "Tropilove - DJ Bitman - chile, chilean, electro-funk, electronic, electronic music, ",
          "Bridges - Lifehouse - 90s, acoustic, alternative, alternative rock, classic, ",
          "So Quiet_ They're Loud (Album) - Ha Ha Tonka - alternative, alternative country, americana, bloodshot records, daytrotter, ",
          "Today - Lifehouse - 90s, acoustic, alternative, alternative rock, classic, ",
          "Sky Is Falling - Lifehouse - 90s, acoustic, alternative, alternative rock, classic, ",
          "Mesmerized - Lifehouse - 90s, acoustic, alternative, alternative rock, classic, ",
          "Sky Is Falling - Lifehouse - 90s, acoustic, alternative, alternative rock, classic, ",
          "The Kitchen (Explicit) - Little Jackie - 00s, acoustic, alternative, alternative pop, alternative rock, ",
          "Something To Say - Harem Scarem - 80s rock, alternative rock, aor, black metal, canadian, "
         ],
         "type": "scatter",
         "x": [
          0.641770601272583,
          0.7861779928207397,
          0.9398912787437439,
          0.7962968349456787,
          2.0080626010894775,
          1.437859058380127,
          0.625394880771637,
          1.0025521516799927,
          0.379818856716156,
          1.0614407062530518,
          0.8504924178123474,
          0.9618120789527893,
          0.9567409753799438,
          1.3026833534240723,
          1.6658862829208374,
          1.2269915342330933,
          1.0935322046279907,
          1.3546358346939087,
          0.6465163826942444,
          0.2552918493747711,
          1.0984952449798584,
          1.2890561819076538,
          1.177852988243103,
          0.2669523358345032,
          0.1511487066745758,
          0.8689901828765869,
          1.8472222089767456,
          1.0574090480804443,
          1.2829879522323608,
          1.2714662551879883,
          0.8704922795295715,
          -0.06490639597177505,
          1.5915688276290894,
          1.4641597270965576,
          0.6770738363265991,
          0.00647867051884532,
          0.9988152980804443,
          0.506714403629303,
          1.0441972017288208,
          0.8911654353141785,
          0.6509325504302979,
          0.5727499723434448,
          1.03062903881073,
          1.310887336730957,
          0.9829283952713013,
          0.3335972726345062,
          0.676173985004425,
          1.0277596712112427,
          1.4778099060058594,
          0.8672775030136108
         ],
         "y": [
          3.5484087467193604,
          0.6107393503189087,
          1.834443211555481,
          0.5897898077964783,
          0.6602073311805725,
          0.7850794196128845,
          1.3733587265014648,
          0.9682563543319702,
          0.48961859941482544,
          3.2470531463623047,
          1.1746102571487427,
          0.923336386680603,
          1.6952873468399048,
          2.3268706798553467,
          2.889188051223755,
          2.9858286380767822,
          0.675633430480957,
          0.8220036625862122,
          3.7996816635131836,
          0.5191656947135925,
          1.1367528438568115,
          1.407667636871338,
          -0.12707577645778656,
          0.5944777727127075,
          0.20229052007198334,
          2.186917543411255,
          0.4718227982521057,
          0.9320245385169983,
          2.2200701236724854,
          1.3164247274398804,
          -0.09992359578609467,
          1.1363165378570557,
          1.5704355239868164,
          -0.030481448397040367,
          0.4568558633327484,
          0.16373683512210846,
          0.6974350214004517,
          0.33530470728874207,
          0.17961430549621582,
          0.5280903577804565,
          1.6520615816116333,
          0.682121753692627,
          0.2137840837240219,
          2.13873028755188,
          0.8780200481414795,
          0.9416484236717224,
          0.19176052510738373,
          0.5944133996963501,
          -0.4471564292907715,
          -0.2985694408416748
         ]
        }
       ],
       "layout": {
        "template": {
         "data": {
          "bar": [
           {
            "error_x": {
             "color": "#2a3f5f"
            },
            "error_y": {
             "color": "#2a3f5f"
            },
            "marker": {
             "line": {
              "color": "#E5ECF6",
              "width": 0.5
             }
            },
            "type": "bar"
           }
          ],
          "barpolar": [
           {
            "marker": {
             "line": {
              "color": "#E5ECF6",
              "width": 0.5
             }
            },
            "type": "barpolar"
           }
          ],
          "carpet": [
           {
            "aaxis": {
             "endlinecolor": "#2a3f5f",
             "gridcolor": "white",
             "linecolor": "white",
             "minorgridcolor": "white",
             "startlinecolor": "#2a3f5f"
            },
            "baxis": {
             "endlinecolor": "#2a3f5f",
             "gridcolor": "white",
             "linecolor": "white",
             "minorgridcolor": "white",
             "startlinecolor": "#2a3f5f"
            },
            "type": "carpet"
           }
          ],
          "choropleth": [
           {
            "colorbar": {
             "outlinewidth": 0,
             "ticks": ""
            },
            "type": "choropleth"
           }
          ],
          "contour": [
           {
            "colorbar": {
             "outlinewidth": 0,
             "ticks": ""
            },
            "colorscale": [
             [
              0,
              "#0d0887"
             ],
             [
              0.1111111111111111,
              "#46039f"
             ],
             [
              0.2222222222222222,
              "#7201a8"
             ],
             [
              0.3333333333333333,
              "#9c179e"
             ],
             [
              0.4444444444444444,
              "#bd3786"
             ],
             [
              0.5555555555555556,
              "#d8576b"
             ],
             [
              0.6666666666666666,
              "#ed7953"
             ],
             [
              0.7777777777777778,
              "#fb9f3a"
             ],
             [
              0.8888888888888888,
              "#fdca26"
             ],
             [
              1,
              "#f0f921"
             ]
            ],
            "type": "contour"
           }
          ],
          "contourcarpet": [
           {
            "colorbar": {
             "outlinewidth": 0,
             "ticks": ""
            },
            "type": "contourcarpet"
           }
          ],
          "heatmap": [
           {
            "colorbar": {
             "outlinewidth": 0,
             "ticks": ""
            },
            "colorscale": [
             [
              0,
              "#0d0887"
             ],
             [
              0.1111111111111111,
              "#46039f"
             ],
             [
              0.2222222222222222,
              "#7201a8"
             ],
             [
              0.3333333333333333,
              "#9c179e"
             ],
             [
              0.4444444444444444,
              "#bd3786"
             ],
             [
              0.5555555555555556,
              "#d8576b"
             ],
             [
              0.6666666666666666,
              "#ed7953"
             ],
             [
              0.7777777777777778,
              "#fb9f3a"
             ],
             [
              0.8888888888888888,
              "#fdca26"
             ],
             [
              1,
              "#f0f921"
             ]
            ],
            "type": "heatmap"
           }
          ],
          "heatmapgl": [
           {
            "colorbar": {
             "outlinewidth": 0,
             "ticks": ""
            },
            "colorscale": [
             [
              0,
              "#0d0887"
             ],
             [
              0.1111111111111111,
              "#46039f"
             ],
             [
              0.2222222222222222,
              "#7201a8"
             ],
             [
              0.3333333333333333,
              "#9c179e"
             ],
             [
              0.4444444444444444,
              "#bd3786"
             ],
             [
              0.5555555555555556,
              "#d8576b"
             ],
             [
              0.6666666666666666,
              "#ed7953"
             ],
             [
              0.7777777777777778,
              "#fb9f3a"
             ],
             [
              0.8888888888888888,
              "#fdca26"
             ],
             [
              1,
              "#f0f921"
             ]
            ],
            "type": "heatmapgl"
           }
          ],
          "histogram": [
           {
            "marker": {
             "colorbar": {
              "outlinewidth": 0,
              "ticks": ""
             }
            },
            "type": "histogram"
           }
          ],
          "histogram2d": [
           {
            "colorbar": {
             "outlinewidth": 0,
             "ticks": ""
            },
            "colorscale": [
             [
              0,
              "#0d0887"
             ],
             [
              0.1111111111111111,
              "#46039f"
             ],
             [
              0.2222222222222222,
              "#7201a8"
             ],
             [
              0.3333333333333333,
              "#9c179e"
             ],
             [
              0.4444444444444444,
              "#bd3786"
             ],
             [
              0.5555555555555556,
              "#d8576b"
             ],
             [
              0.6666666666666666,
              "#ed7953"
             ],
             [
              0.7777777777777778,
              "#fb9f3a"
             ],
             [
              0.8888888888888888,
              "#fdca26"
             ],
             [
              1,
              "#f0f921"
             ]
            ],
            "type": "histogram2d"
           }
          ],
          "histogram2dcontour": [
           {
            "colorbar": {
             "outlinewidth": 0,
             "ticks": ""
            },
            "colorscale": [
             [
              0,
              "#0d0887"
             ],
             [
              0.1111111111111111,
              "#46039f"
             ],
             [
              0.2222222222222222,
              "#7201a8"
             ],
             [
              0.3333333333333333,
              "#9c179e"
             ],
             [
              0.4444444444444444,
              "#bd3786"
             ],
             [
              0.5555555555555556,
              "#d8576b"
             ],
             [
              0.6666666666666666,
              "#ed7953"
             ],
             [
              0.7777777777777778,
              "#fb9f3a"
             ],
             [
              0.8888888888888888,
              "#fdca26"
             ],
             [
              1,
              "#f0f921"
             ]
            ],
            "type": "histogram2dcontour"
           }
          ],
          "mesh3d": [
           {
            "colorbar": {
             "outlinewidth": 0,
             "ticks": ""
            },
            "type": "mesh3d"
           }
          ],
          "parcoords": [
           {
            "line": {
             "colorbar": {
              "outlinewidth": 0,
              "ticks": ""
             }
            },
            "type": "parcoords"
           }
          ],
          "pie": [
           {
            "automargin": true,
            "type": "pie"
           }
          ],
          "scatter": [
           {
            "marker": {
             "colorbar": {
              "outlinewidth": 0,
              "ticks": ""
             }
            },
            "type": "scatter"
           }
          ],
          "scatter3d": [
           {
            "line": {
             "colorbar": {
              "outlinewidth": 0,
              "ticks": ""
             }
            },
            "marker": {
             "colorbar": {
              "outlinewidth": 0,
              "ticks": ""
             }
            },
            "type": "scatter3d"
           }
          ],
          "scattercarpet": [
           {
            "marker": {
             "colorbar": {
              "outlinewidth": 0,
              "ticks": ""
             }
            },
            "type": "scattercarpet"
           }
          ],
          "scattergeo": [
           {
            "marker": {
             "colorbar": {
              "outlinewidth": 0,
              "ticks": ""
             }
            },
            "type": "scattergeo"
           }
          ],
          "scattergl": [
           {
            "marker": {
             "colorbar": {
              "outlinewidth": 0,
              "ticks": ""
             }
            },
            "type": "scattergl"
           }
          ],
          "scattermapbox": [
           {
            "marker": {
             "colorbar": {
              "outlinewidth": 0,
              "ticks": ""
             }
            },
            "type": "scattermapbox"
           }
          ],
          "scatterpolar": [
           {
            "marker": {
             "colorbar": {
              "outlinewidth": 0,
              "ticks": ""
             }
            },
            "type": "scatterpolar"
           }
          ],
          "scatterpolargl": [
           {
            "marker": {
             "colorbar": {
              "outlinewidth": 0,
              "ticks": ""
             }
            },
            "type": "scatterpolargl"
           }
          ],
          "scatterternary": [
           {
            "marker": {
             "colorbar": {
              "outlinewidth": 0,
              "ticks": ""
             }
            },
            "type": "scatterternary"
           }
          ],
          "surface": [
           {
            "colorbar": {
             "outlinewidth": 0,
             "ticks": ""
            },
            "colorscale": [
             [
              0,
              "#0d0887"
             ],
             [
              0.1111111111111111,
              "#46039f"
             ],
             [
              0.2222222222222222,
              "#7201a8"
             ],
             [
              0.3333333333333333,
              "#9c179e"
             ],
             [
              0.4444444444444444,
              "#bd3786"
             ],
             [
              0.5555555555555556,
              "#d8576b"
             ],
             [
              0.6666666666666666,
              "#ed7953"
             ],
             [
              0.7777777777777778,
              "#fb9f3a"
             ],
             [
              0.8888888888888888,
              "#fdca26"
             ],
             [
              1,
              "#f0f921"
             ]
            ],
            "type": "surface"
           }
          ],
          "table": [
           {
            "cells": {
             "fill": {
              "color": "#EBF0F8"
             },
             "line": {
              "color": "white"
             }
            },
            "header": {
             "fill": {
              "color": "#C8D4E3"
             },
             "line": {
              "color": "white"
             }
            },
            "type": "table"
           }
          ]
         },
         "layout": {
          "annotationdefaults": {
           "arrowcolor": "#2a3f5f",
           "arrowhead": 0,
           "arrowwidth": 1
          },
          "coloraxis": {
           "colorbar": {
            "outlinewidth": 0,
            "ticks": ""
           }
          },
          "colorscale": {
           "diverging": [
            [
             0,
             "#8e0152"
            ],
            [
             0.1,
             "#c51b7d"
            ],
            [
             0.2,
             "#de77ae"
            ],
            [
             0.3,
             "#f1b6da"
            ],
            [
             0.4,
             "#fde0ef"
            ],
            [
             0.5,
             "#f7f7f7"
            ],
            [
             0.6,
             "#e6f5d0"
            ],
            [
             0.7,
             "#b8e186"
            ],
            [
             0.8,
             "#7fbc41"
            ],
            [
             0.9,
             "#4d9221"
            ],
            [
             1,
             "#276419"
            ]
           ],
           "sequential": [
            [
             0,
             "#0d0887"
            ],
            [
             0.1111111111111111,
             "#46039f"
            ],
            [
             0.2222222222222222,
             "#7201a8"
            ],
            [
             0.3333333333333333,
             "#9c179e"
            ],
            [
             0.4444444444444444,
             "#bd3786"
            ],
            [
             0.5555555555555556,
             "#d8576b"
            ],
            [
             0.6666666666666666,
             "#ed7953"
            ],
            [
             0.7777777777777778,
             "#fb9f3a"
            ],
            [
             0.8888888888888888,
             "#fdca26"
            ],
            [
             1,
             "#f0f921"
            ]
           ],
           "sequentialminus": [
            [
             0,
             "#0d0887"
            ],
            [
             0.1111111111111111,
             "#46039f"
            ],
            [
             0.2222222222222222,
             "#7201a8"
            ],
            [
             0.3333333333333333,
             "#9c179e"
            ],
            [
             0.4444444444444444,
             "#bd3786"
            ],
            [
             0.5555555555555556,
             "#d8576b"
            ],
            [
             0.6666666666666666,
             "#ed7953"
            ],
            [
             0.7777777777777778,
             "#fb9f3a"
            ],
            [
             0.8888888888888888,
             "#fdca26"
            ],
            [
             1,
             "#f0f921"
            ]
           ]
          },
          "colorway": [
           "#636efa",
           "#EF553B",
           "#00cc96",
           "#ab63fa",
           "#FFA15A",
           "#19d3f3",
           "#FF6692",
           "#B6E880",
           "#FF97FF",
           "#FECB52"
          ],
          "font": {
           "color": "#2a3f5f"
          },
          "geo": {
           "bgcolor": "white",
           "lakecolor": "white",
           "landcolor": "#E5ECF6",
           "showlakes": true,
           "showland": true,
           "subunitcolor": "white"
          },
          "hoverlabel": {
           "align": "left"
          },
          "hovermode": "closest",
          "mapbox": {
           "style": "light"
          },
          "paper_bgcolor": "white",
          "plot_bgcolor": "#E5ECF6",
          "polar": {
           "angularaxis": {
            "gridcolor": "white",
            "linecolor": "white",
            "ticks": ""
           },
           "bgcolor": "#E5ECF6",
           "radialaxis": {
            "gridcolor": "white",
            "linecolor": "white",
            "ticks": ""
           }
          },
          "scene": {
           "xaxis": {
            "backgroundcolor": "#E5ECF6",
            "gridcolor": "white",
            "gridwidth": 2,
            "linecolor": "white",
            "showbackground": true,
            "ticks": "",
            "zerolinecolor": "white"
           },
           "yaxis": {
            "backgroundcolor": "#E5ECF6",
            "gridcolor": "white",
            "gridwidth": 2,
            "linecolor": "white",
            "showbackground": true,
            "ticks": "",
            "zerolinecolor": "white"
           },
           "zaxis": {
            "backgroundcolor": "#E5ECF6",
            "gridcolor": "white",
            "gridwidth": 2,
            "linecolor": "white",
            "showbackground": true,
            "ticks": "",
            "zerolinecolor": "white"
           }
          },
          "shapedefaults": {
           "line": {
            "color": "#2a3f5f"
           }
          },
          "ternary": {
           "aaxis": {
            "gridcolor": "white",
            "linecolor": "white",
            "ticks": ""
           },
           "baxis": {
            "gridcolor": "white",
            "linecolor": "white",
            "ticks": ""
           },
           "bgcolor": "#E5ECF6",
           "caxis": {
            "gridcolor": "white",
            "linecolor": "white",
            "ticks": ""
           }
          },
          "title": {
           "x": 0.05
          },
          "xaxis": {
           "automargin": true,
           "gridcolor": "white",
           "linecolor": "white",
           "ticks": "",
           "title": {
            "standoff": 15
           },
           "zerolinecolor": "white",
           "zerolinewidth": 2
          },
          "yaxis": {
           "automargin": true,
           "gridcolor": "white",
           "linecolor": "white",
           "ticks": "",
           "title": {
            "standoff": 15
           },
           "zerolinecolor": "white",
           "zerolinewidth": 2
          }
         }
        },
        "title": {
         "text": "PC2 and PC3"
        }
       }
      },
      "text/html": [
       "<div>\n",
       "        \n",
       "        \n",
       "            <div id=\"23edfcec-44ab-49a2-a75f-0219334ec119\" class=\"plotly-graph-div\" style=\"height:525px; width:100%;\"></div>\n",
       "            <script type=\"text/javascript\">\n",
       "                require([\"plotly\"], function(Plotly) {\n",
       "                    window.PLOTLYENV=window.PLOTLYENV || {};\n",
       "                    \n",
       "                if (document.getElementById(\"23edfcec-44ab-49a2-a75f-0219334ec119\")) {\n",
       "                    Plotly.newPlot(\n",
       "                        '23edfcec-44ab-49a2-a75f-0219334ec119',\n",
       "                        [{\"mode\": \"markers\", \"text\": [\"Beautiful Disaster - Jon McLaughlin - acoustic, comedy, country, guitar, jazz, \", \"Paintin' The Town (Album Version) - Phil Keaggy - 80s, acoustic, alternative, alternative rock, ambient, \", \"Breathing - Lifehouse - 90s, acoustic, alternative, alternative rock, classic, \", \"Who We Are - Lifehouse - 90s, acoustic, alternative, alternative rock, classic, \", \"Invisible - Clay Aiken - 00s, 80s, 90s, adult contemporary, america, \", \"Walking Away - Lifehouse - 90s, acoustic, alternative, alternative rock, classic, \", \"Undone - Lifehouse - 90s, acoustic, alternative, alternative rock, classic, \", \"Easier To Be - Lifehouse - 90s, acoustic, alternative, alternative rock, classic, \", \"Cling And Clatter - Lifehouse - 90s, acoustic, alternative, alternative rock, classic, \", \"Everything - Lifehouse - 90s, acoustic, alternative, alternative rock, classic, \", \"We'll Never Know - Lifehouse - 90s, acoustic, alternative, alternative rock, classic, \", \"Only One - Lifehouse - 90s, acoustic, alternative, alternative rock, classic, \", \"Make Me Over - Lifehouse - 90s, acoustic, alternative, alternative rock, classic, \", \"Storm - Lifehouse - 90s, acoustic, alternative, alternative rock, classic, \", \"Things I'll Never Say - Avril Lavigne - alternative, canada, canadian, female, female vocalist, \", \"The Nation - Freeway - alternative, american, bass music, classic, classic rock, \", \"The End Has Only Begun - Lifehouse - 90s, acoustic, alternative, alternative rock, classic, \", \"Into The Sun - Lifehouse - 90s, acoustic, alternative, alternative rock, classic, \", \"Wordplay (Album Version) - Jason Mraz - acoustic, acoustic guitar, alternative rock, country, folk, \", \"The Beginning - Lifehouse - 90s, acoustic, alternative, alternative rock, classic, \", \"Disarray - Lifehouse - 90s, acoustic, alternative, alternative rock, classic, \", \"Take Me Away - Lifehouse - 90s, acoustic, alternative, alternative rock, classic, \", \"Anchor - Lifehouse - 90s, acoustic, alternative, alternative rock, classic, \", \"Wash - Lifehouse - 90s, acoustic, alternative, alternative rock, classic, \", \"Am I Ever Gonna Find Out - Lifehouse - 90s, acoustic, alternative, alternative rock, classic, \", \"Somewhere In Between - Lifehouse - 90s, acoustic, alternative, alternative rock, classic, \", \"Could It Be Any Harder - The Calling - 00s, 80s, 90s, acoustic, alternative, \", \"Learn You Inside Out - Lifehouse - 90s, acoustic, alternative, alternative rock, classic, \", \"What If? - Godsmack - acoustic, alternative, alternative metal, country, guitar, \", \"Simon - Lifehouse - 90s, acoustic, alternative, alternative rock, classic, \", \"Trying - Lifehouse - 90s, acoustic, alternative, alternative rock, classic, \", \"Come Back Down - Lifehouse - 90s, acoustic, alternative, alternative rock, classic, \", \"It's So Hard - Anouk - 00s, 90s, acoustic, alternative, alternative country, \", \"Quasimodo - Lifehouse - 90s, acoustic, alternative, alternative rock, classic, \", \"Someone Else's Song - Lifehouse - 90s, acoustic, alternative, alternative rock, classic, \", \"My Precious - Lifehouse - 90s, acoustic, alternative, alternative rock, classic, \", \"Maybe I - Five for Fighting - acoustic, adult alternative, alternative, classic, guitar, \", \"Empty Space - Lifehouse - 90s, acoustic, alternative, alternative rock, classic, \", \"How Long - Lifehouse - 90s, acoustic, alternative, alternative rock, classic, \", \"Just Another Name - Lifehouse - 90s, acoustic, alternative, alternative rock, classic, \", \"Bed Of Lies (LP Version) - matchbox twenty - 90s, acoustic, adult alternative, alternative, alternative rock, \", \"Tropilove - DJ Bitman - chile, chilean, electro-funk, electronic, electronic music, \", \"Bridges - Lifehouse - 90s, acoustic, alternative, alternative rock, classic, \", \"So Quiet_ They're Loud (Album) - Ha Ha Tonka - alternative, alternative country, americana, bloodshot records, daytrotter, \", \"Today - Lifehouse - 90s, acoustic, alternative, alternative rock, classic, \", \"Sky Is Falling - Lifehouse - 90s, acoustic, alternative, alternative rock, classic, \", \"Mesmerized - Lifehouse - 90s, acoustic, alternative, alternative rock, classic, \", \"Sky Is Falling - Lifehouse - 90s, acoustic, alternative, alternative rock, classic, \", \"The Kitchen (Explicit) - Little Jackie - 00s, acoustic, alternative, alternative pop, alternative rock, \", \"Something To Say - Harem Scarem - 80s rock, alternative rock, aor, black metal, canadian, \"], \"type\": \"scatter\", \"x\": [0.641770601272583, 0.7861779928207397, 0.9398912787437439, 0.7962968349456787, 2.0080626010894775, 1.437859058380127, 0.625394880771637, 1.0025521516799927, 0.379818856716156, 1.0614407062530518, 0.8504924178123474, 0.9618120789527893, 0.9567409753799438, 1.3026833534240723, 1.6658862829208374, 1.2269915342330933, 1.0935322046279907, 1.3546358346939087, 0.6465163826942444, 0.2552918493747711, 1.0984952449798584, 1.2890561819076538, 1.177852988243103, 0.2669523358345032, 0.1511487066745758, 0.8689901828765869, 1.8472222089767456, 1.0574090480804443, 1.2829879522323608, 1.2714662551879883, 0.8704922795295715, -0.06490639597177505, 1.5915688276290894, 1.4641597270965576, 0.6770738363265991, 0.00647867051884532, 0.9988152980804443, 0.506714403629303, 1.0441972017288208, 0.8911654353141785, 0.6509325504302979, 0.5727499723434448, 1.03062903881073, 1.310887336730957, 0.9829283952713013, 0.3335972726345062, 0.676173985004425, 1.0277596712112427, 1.4778099060058594, 0.8672775030136108], \"y\": [3.5484087467193604, 0.6107393503189087, 1.834443211555481, 0.5897898077964783, 0.6602073311805725, 0.7850794196128845, 1.3733587265014648, 0.9682563543319702, 0.48961859941482544, 3.2470531463623047, 1.1746102571487427, 0.923336386680603, 1.6952873468399048, 2.3268706798553467, 2.889188051223755, 2.9858286380767822, 0.675633430480957, 0.8220036625862122, 3.7996816635131836, 0.5191656947135925, 1.1367528438568115, 1.407667636871338, -0.12707577645778656, 0.5944777727127075, 0.20229052007198334, 2.186917543411255, 0.4718227982521057, 0.9320245385169983, 2.2200701236724854, 1.3164247274398804, -0.09992359578609467, 1.1363165378570557, 1.5704355239868164, -0.030481448397040367, 0.4568558633327484, 0.16373683512210846, 0.6974350214004517, 0.33530470728874207, 0.17961430549621582, 0.5280903577804565, 1.6520615816116333, 0.682121753692627, 0.2137840837240219, 2.13873028755188, 0.8780200481414795, 0.9416484236717224, 0.19176052510738373, 0.5944133996963501, -0.4471564292907715, -0.2985694408416748]}],\n",
       "                        {\"template\": {\"data\": {\"bar\": [{\"error_x\": {\"color\": \"#2a3f5f\"}, \"error_y\": {\"color\": \"#2a3f5f\"}, \"marker\": {\"line\": {\"color\": \"#E5ECF6\", \"width\": 0.5}}, \"type\": \"bar\"}], \"barpolar\": [{\"marker\": {\"line\": {\"color\": \"#E5ECF6\", \"width\": 0.5}}, \"type\": \"barpolar\"}], \"carpet\": [{\"aaxis\": {\"endlinecolor\": \"#2a3f5f\", \"gridcolor\": \"white\", \"linecolor\": \"white\", \"minorgridcolor\": \"white\", \"startlinecolor\": \"#2a3f5f\"}, \"baxis\": {\"endlinecolor\": \"#2a3f5f\", \"gridcolor\": \"white\", \"linecolor\": \"white\", \"minorgridcolor\": \"white\", \"startlinecolor\": \"#2a3f5f\"}, \"type\": \"carpet\"}], \"choropleth\": [{\"colorbar\": {\"outlinewidth\": 0, \"ticks\": \"\"}, \"type\": \"choropleth\"}], \"contour\": [{\"colorbar\": {\"outlinewidth\": 0, \"ticks\": \"\"}, \"colorscale\": [[0.0, \"#0d0887\"], [0.1111111111111111, \"#46039f\"], [0.2222222222222222, \"#7201a8\"], [0.3333333333333333, \"#9c179e\"], [0.4444444444444444, \"#bd3786\"], [0.5555555555555556, \"#d8576b\"], [0.6666666666666666, \"#ed7953\"], [0.7777777777777778, \"#fb9f3a\"], [0.8888888888888888, \"#fdca26\"], [1.0, \"#f0f921\"]], \"type\": \"contour\"}], \"contourcarpet\": [{\"colorbar\": {\"outlinewidth\": 0, \"ticks\": \"\"}, \"type\": \"contourcarpet\"}], \"heatmap\": [{\"colorbar\": {\"outlinewidth\": 0, \"ticks\": \"\"}, \"colorscale\": [[0.0, \"#0d0887\"], [0.1111111111111111, \"#46039f\"], [0.2222222222222222, \"#7201a8\"], [0.3333333333333333, \"#9c179e\"], [0.4444444444444444, \"#bd3786\"], [0.5555555555555556, \"#d8576b\"], [0.6666666666666666, \"#ed7953\"], [0.7777777777777778, \"#fb9f3a\"], [0.8888888888888888, \"#fdca26\"], [1.0, \"#f0f921\"]], \"type\": \"heatmap\"}], \"heatmapgl\": [{\"colorbar\": {\"outlinewidth\": 0, \"ticks\": \"\"}, \"colorscale\": [[0.0, \"#0d0887\"], [0.1111111111111111, \"#46039f\"], [0.2222222222222222, \"#7201a8\"], [0.3333333333333333, \"#9c179e\"], [0.4444444444444444, \"#bd3786\"], [0.5555555555555556, \"#d8576b\"], [0.6666666666666666, \"#ed7953\"], [0.7777777777777778, \"#fb9f3a\"], [0.8888888888888888, \"#fdca26\"], [1.0, \"#f0f921\"]], \"type\": \"heatmapgl\"}], \"histogram\": [{\"marker\": {\"colorbar\": {\"outlinewidth\": 0, \"ticks\": \"\"}}, \"type\": \"histogram\"}], \"histogram2d\": [{\"colorbar\": {\"outlinewidth\": 0, \"ticks\": \"\"}, \"colorscale\": [[0.0, \"#0d0887\"], [0.1111111111111111, \"#46039f\"], [0.2222222222222222, \"#7201a8\"], [0.3333333333333333, \"#9c179e\"], [0.4444444444444444, \"#bd3786\"], [0.5555555555555556, \"#d8576b\"], [0.6666666666666666, \"#ed7953\"], [0.7777777777777778, \"#fb9f3a\"], [0.8888888888888888, \"#fdca26\"], [1.0, \"#f0f921\"]], \"type\": \"histogram2d\"}], \"histogram2dcontour\": [{\"colorbar\": {\"outlinewidth\": 0, \"ticks\": \"\"}, \"colorscale\": [[0.0, \"#0d0887\"], [0.1111111111111111, \"#46039f\"], [0.2222222222222222, \"#7201a8\"], [0.3333333333333333, \"#9c179e\"], [0.4444444444444444, \"#bd3786\"], [0.5555555555555556, \"#d8576b\"], [0.6666666666666666, \"#ed7953\"], [0.7777777777777778, \"#fb9f3a\"], [0.8888888888888888, \"#fdca26\"], [1.0, \"#f0f921\"]], \"type\": \"histogram2dcontour\"}], \"mesh3d\": [{\"colorbar\": {\"outlinewidth\": 0, \"ticks\": \"\"}, \"type\": \"mesh3d\"}], \"parcoords\": [{\"line\": {\"colorbar\": {\"outlinewidth\": 0, \"ticks\": \"\"}}, \"type\": \"parcoords\"}], \"pie\": [{\"automargin\": true, \"type\": \"pie\"}], \"scatter\": [{\"marker\": {\"colorbar\": {\"outlinewidth\": 0, \"ticks\": \"\"}}, \"type\": \"scatter\"}], \"scatter3d\": [{\"line\": {\"colorbar\": {\"outlinewidth\": 0, \"ticks\": \"\"}}, \"marker\": {\"colorbar\": {\"outlinewidth\": 0, \"ticks\": \"\"}}, \"type\": \"scatter3d\"}], \"scattercarpet\": [{\"marker\": {\"colorbar\": {\"outlinewidth\": 0, \"ticks\": \"\"}}, \"type\": \"scattercarpet\"}], \"scattergeo\": [{\"marker\": {\"colorbar\": {\"outlinewidth\": 0, \"ticks\": \"\"}}, \"type\": \"scattergeo\"}], \"scattergl\": [{\"marker\": {\"colorbar\": {\"outlinewidth\": 0, \"ticks\": \"\"}}, \"type\": \"scattergl\"}], \"scattermapbox\": [{\"marker\": {\"colorbar\": {\"outlinewidth\": 0, \"ticks\": \"\"}}, \"type\": \"scattermapbox\"}], \"scatterpolar\": [{\"marker\": {\"colorbar\": {\"outlinewidth\": 0, \"ticks\": \"\"}}, \"type\": \"scatterpolar\"}], \"scatterpolargl\": [{\"marker\": {\"colorbar\": {\"outlinewidth\": 0, \"ticks\": \"\"}}, \"type\": \"scatterpolargl\"}], \"scatterternary\": [{\"marker\": {\"colorbar\": {\"outlinewidth\": 0, \"ticks\": \"\"}}, \"type\": \"scatterternary\"}], \"surface\": [{\"colorbar\": {\"outlinewidth\": 0, \"ticks\": \"\"}, \"colorscale\": [[0.0, \"#0d0887\"], [0.1111111111111111, \"#46039f\"], [0.2222222222222222, \"#7201a8\"], [0.3333333333333333, \"#9c179e\"], [0.4444444444444444, \"#bd3786\"], [0.5555555555555556, \"#d8576b\"], [0.6666666666666666, \"#ed7953\"], [0.7777777777777778, \"#fb9f3a\"], [0.8888888888888888, \"#fdca26\"], [1.0, \"#f0f921\"]], \"type\": \"surface\"}], \"table\": [{\"cells\": {\"fill\": {\"color\": \"#EBF0F8\"}, \"line\": {\"color\": \"white\"}}, \"header\": {\"fill\": {\"color\": \"#C8D4E3\"}, \"line\": {\"color\": \"white\"}}, \"type\": \"table\"}]}, \"layout\": {\"annotationdefaults\": {\"arrowcolor\": \"#2a3f5f\", \"arrowhead\": 0, \"arrowwidth\": 1}, \"coloraxis\": {\"colorbar\": {\"outlinewidth\": 0, \"ticks\": \"\"}}, \"colorscale\": {\"diverging\": [[0, \"#8e0152\"], [0.1, \"#c51b7d\"], [0.2, \"#de77ae\"], [0.3, \"#f1b6da\"], [0.4, \"#fde0ef\"], [0.5, \"#f7f7f7\"], [0.6, \"#e6f5d0\"], [0.7, \"#b8e186\"], [0.8, \"#7fbc41\"], [0.9, \"#4d9221\"], [1, \"#276419\"]], \"sequential\": [[0.0, \"#0d0887\"], [0.1111111111111111, \"#46039f\"], [0.2222222222222222, \"#7201a8\"], [0.3333333333333333, \"#9c179e\"], [0.4444444444444444, \"#bd3786\"], [0.5555555555555556, \"#d8576b\"], [0.6666666666666666, \"#ed7953\"], [0.7777777777777778, \"#fb9f3a\"], [0.8888888888888888, \"#fdca26\"], [1.0, \"#f0f921\"]], \"sequentialminus\": [[0.0, \"#0d0887\"], [0.1111111111111111, \"#46039f\"], [0.2222222222222222, \"#7201a8\"], [0.3333333333333333, \"#9c179e\"], [0.4444444444444444, \"#bd3786\"], [0.5555555555555556, \"#d8576b\"], [0.6666666666666666, \"#ed7953\"], [0.7777777777777778, \"#fb9f3a\"], [0.8888888888888888, \"#fdca26\"], [1.0, \"#f0f921\"]]}, \"colorway\": [\"#636efa\", \"#EF553B\", \"#00cc96\", \"#ab63fa\", \"#FFA15A\", \"#19d3f3\", \"#FF6692\", \"#B6E880\", \"#FF97FF\", \"#FECB52\"], \"font\": {\"color\": \"#2a3f5f\"}, \"geo\": {\"bgcolor\": \"white\", \"lakecolor\": \"white\", \"landcolor\": \"#E5ECF6\", \"showlakes\": true, \"showland\": true, \"subunitcolor\": \"white\"}, \"hoverlabel\": {\"align\": \"left\"}, \"hovermode\": \"closest\", \"mapbox\": {\"style\": \"light\"}, \"paper_bgcolor\": \"white\", \"plot_bgcolor\": \"#E5ECF6\", \"polar\": {\"angularaxis\": {\"gridcolor\": \"white\", \"linecolor\": \"white\", \"ticks\": \"\"}, \"bgcolor\": \"#E5ECF6\", \"radialaxis\": {\"gridcolor\": \"white\", \"linecolor\": \"white\", \"ticks\": \"\"}}, \"scene\": {\"xaxis\": {\"backgroundcolor\": \"#E5ECF6\", \"gridcolor\": \"white\", \"gridwidth\": 2, \"linecolor\": \"white\", \"showbackground\": true, \"ticks\": \"\", \"zerolinecolor\": \"white\"}, \"yaxis\": {\"backgroundcolor\": \"#E5ECF6\", \"gridcolor\": \"white\", \"gridwidth\": 2, \"linecolor\": \"white\", \"showbackground\": true, \"ticks\": \"\", \"zerolinecolor\": \"white\"}, \"zaxis\": {\"backgroundcolor\": \"#E5ECF6\", \"gridcolor\": \"white\", \"gridwidth\": 2, \"linecolor\": \"white\", \"showbackground\": true, \"ticks\": \"\", \"zerolinecolor\": \"white\"}}, \"shapedefaults\": {\"line\": {\"color\": \"#2a3f5f\"}}, \"ternary\": {\"aaxis\": {\"gridcolor\": \"white\", \"linecolor\": \"white\", \"ticks\": \"\"}, \"baxis\": {\"gridcolor\": \"white\", \"linecolor\": \"white\", \"ticks\": \"\"}, \"bgcolor\": \"#E5ECF6\", \"caxis\": {\"gridcolor\": \"white\", \"linecolor\": \"white\", \"ticks\": \"\"}}, \"title\": {\"x\": 0.05}, \"xaxis\": {\"automargin\": true, \"gridcolor\": \"white\", \"linecolor\": \"white\", \"ticks\": \"\", \"title\": {\"standoff\": 15}, \"zerolinecolor\": \"white\", \"zerolinewidth\": 2}, \"yaxis\": {\"automargin\": true, \"gridcolor\": \"white\", \"linecolor\": \"white\", \"ticks\": \"\", \"title\": {\"standoff\": 15}, \"zerolinecolor\": \"white\", \"zerolinewidth\": 2}}}, \"title\": {\"text\": \"PC2 and PC3\"}},\n",
       "                        {\"responsive\": true}\n",
       "                    ).then(function(){\n",
       "                            \n",
       "var gd = document.getElementById('23edfcec-44ab-49a2-a75f-0219334ec119');\n",
       "var x = new MutationObserver(function (mutations, observer) {{\n",
       "        var display = window.getComputedStyle(gd).display;\n",
       "        if (!display || display === 'none') {{\n",
       "            console.log([gd, 'removed!']);\n",
       "            Plotly.purge(gd);\n",
       "            observer.disconnect();\n",
       "        }}\n",
       "}});\n",
       "\n",
       "// Listen for the removal of the full notebook cells\n",
       "var notebookContainer = gd.closest('#notebook-container');\n",
       "if (notebookContainer) {{\n",
       "    x.observe(notebookContainer, {childList: true});\n",
       "}}\n",
       "\n",
       "// Listen for the clearing of the current output cell\n",
       "var outputEl = gd.closest('.output');\n",
       "if (outputEl) {{\n",
       "    x.observe(outputEl, {childList: true});\n",
       "}}\n",
       "\n",
       "                        })\n",
       "                };\n",
       "                });\n",
       "            </script>\n",
       "        </div>"
      ]
     },
     "metadata": {},
     "output_type": "display_data"
    }
   ],
   "source": [
    "fig2 = go.Figure(data=go.Scatter(x=tocluster2[1],\n",
    "                                y=tocluster2[2],\n",
    "                                mode='markers',\n",
    "                                text=tocluster2['text'])) # hover text goes here\n",
    "\n",
    "fig2.update_layout(title='PC2 and PC3')\n",
    "fig2.show()"
   ]
  },
  {
   "cell_type": "code",
   "execution_count": 220,
   "metadata": {},
   "outputs": [
    {
     "data": {
      "application/vnd.plotly.v1+json": {
       "config": {
        "plotlyServerURL": "https://plot.ly"
       },
       "data": [
        {
         "hoverlabel": {
          "namelength": 0
         },
         "hovertemplate": "<b>%{hovertext}</b><br><br>0=%{x}<br>1=%{y}<br>2=%{z}<br>title=%{text}",
         "hovertext": [
          "Beautiful Disaster - Jon McLaughlin - acoustic, comedy, country, guitar, jazz, ",
          "Paintin' The Town (Album Version) - Phil Keaggy - 80s, acoustic, alternative, alternative rock, ambient, ",
          "Breathing - Lifehouse - 90s, acoustic, alternative, alternative rock, classic, ",
          "Who We Are - Lifehouse - 90s, acoustic, alternative, alternative rock, classic, ",
          "Invisible - Clay Aiken - 00s, 80s, 90s, adult contemporary, america, ",
          "Walking Away - Lifehouse - 90s, acoustic, alternative, alternative rock, classic, ",
          "Undone - Lifehouse - 90s, acoustic, alternative, alternative rock, classic, ",
          "Easier To Be - Lifehouse - 90s, acoustic, alternative, alternative rock, classic, ",
          "Cling And Clatter - Lifehouse - 90s, acoustic, alternative, alternative rock, classic, ",
          "Everything - Lifehouse - 90s, acoustic, alternative, alternative rock, classic, ",
          "We'll Never Know - Lifehouse - 90s, acoustic, alternative, alternative rock, classic, ",
          "Only One - Lifehouse - 90s, acoustic, alternative, alternative rock, classic, ",
          "Make Me Over - Lifehouse - 90s, acoustic, alternative, alternative rock, classic, ",
          "Storm - Lifehouse - 90s, acoustic, alternative, alternative rock, classic, ",
          "Things I'll Never Say - Avril Lavigne - alternative, canada, canadian, female, female vocalist, ",
          "The Nation - Freeway - alternative, american, bass music, classic, classic rock, ",
          "The End Has Only Begun - Lifehouse - 90s, acoustic, alternative, alternative rock, classic, ",
          "Into The Sun - Lifehouse - 90s, acoustic, alternative, alternative rock, classic, ",
          "Wordplay (Album Version) - Jason Mraz - acoustic, acoustic guitar, alternative rock, country, folk, ",
          "The Beginning - Lifehouse - 90s, acoustic, alternative, alternative rock, classic, ",
          "Disarray - Lifehouse - 90s, acoustic, alternative, alternative rock, classic, ",
          "Take Me Away - Lifehouse - 90s, acoustic, alternative, alternative rock, classic, ",
          "Anchor - Lifehouse - 90s, acoustic, alternative, alternative rock, classic, ",
          "Wash - Lifehouse - 90s, acoustic, alternative, alternative rock, classic, ",
          "Am I Ever Gonna Find Out - Lifehouse - 90s, acoustic, alternative, alternative rock, classic, ",
          "Somewhere In Between - Lifehouse - 90s, acoustic, alternative, alternative rock, classic, ",
          "Could It Be Any Harder - The Calling - 00s, 80s, 90s, acoustic, alternative, ",
          "Learn You Inside Out - Lifehouse - 90s, acoustic, alternative, alternative rock, classic, ",
          "What If? - Godsmack - acoustic, alternative, alternative metal, country, guitar, ",
          "Simon - Lifehouse - 90s, acoustic, alternative, alternative rock, classic, ",
          "Trying - Lifehouse - 90s, acoustic, alternative, alternative rock, classic, ",
          "Come Back Down - Lifehouse - 90s, acoustic, alternative, alternative rock, classic, ",
          "It's So Hard - Anouk - 00s, 90s, acoustic, alternative, alternative country, ",
          "Quasimodo - Lifehouse - 90s, acoustic, alternative, alternative rock, classic, ",
          "Someone Else's Song - Lifehouse - 90s, acoustic, alternative, alternative rock, classic, ",
          "My Precious - Lifehouse - 90s, acoustic, alternative, alternative rock, classic, ",
          "Maybe I - Five for Fighting - acoustic, adult alternative, alternative, classic, guitar, ",
          "Empty Space - Lifehouse - 90s, acoustic, alternative, alternative rock, classic, ",
          "How Long - Lifehouse - 90s, acoustic, alternative, alternative rock, classic, ",
          "Just Another Name - Lifehouse - 90s, acoustic, alternative, alternative rock, classic, ",
          "Bed Of Lies (LP Version) - matchbox twenty - 90s, acoustic, adult alternative, alternative, alternative rock, ",
          "Tropilove - DJ Bitman - chile, chilean, electro-funk, electronic, electronic music, ",
          "Bridges - Lifehouse - 90s, acoustic, alternative, alternative rock, classic, ",
          "So Quiet_ They're Loud (Album) - Ha Ha Tonka - alternative, alternative country, americana, bloodshot records, daytrotter, ",
          "Today - Lifehouse - 90s, acoustic, alternative, alternative rock, classic, ",
          "Sky Is Falling - Lifehouse - 90s, acoustic, alternative, alternative rock, classic, ",
          "Mesmerized - Lifehouse - 90s, acoustic, alternative, alternative rock, classic, ",
          "Sky Is Falling - Lifehouse - 90s, acoustic, alternative, alternative rock, classic, ",
          "The Kitchen (Explicit) - Little Jackie - 00s, acoustic, alternative, alternative pop, alternative rock, ",
          "Something To Say - Harem Scarem - 80s rock, alternative rock, aor, black metal, canadian, "
         ],
         "legendgroup": "",
         "marker": {
          "color": "#636efa",
          "symbol": "circle"
         },
         "mode": "markers+text",
         "name": "",
         "scene": "scene",
         "showlegend": false,
         "text": [
          "Beautiful Disaster",
          "Paintin' The Town (Album Version)",
          "Breathing",
          "Who We Are",
          "Invisible",
          "Walking Away",
          "Undone",
          "Easier To Be",
          "Cling And Clatter",
          "Everything",
          "We'll Never Know",
          "Only One",
          "Make Me Over",
          "Storm",
          "Things I'll Never Say",
          "The Nation",
          "The End Has Only Begun",
          "Into The Sun",
          "Wordplay (Album Version)",
          "The Beginning",
          "Disarray",
          "Take Me Away",
          "Anchor",
          "Wash",
          "Am I Ever Gonna Find Out",
          "Somewhere In Between",
          "Could It Be Any Harder",
          "Learn You Inside Out",
          "What If?",
          "Simon",
          "Trying",
          "Come Back Down",
          "It's So Hard",
          "Quasimodo",
          "Someone Else's Song",
          "My Precious",
          "Maybe I",
          "Empty Space",
          "How Long",
          "Just Another Name",
          "Bed Of Lies (LP Version)",
          "Tropilove",
          "Bridges",
          "So Quiet_ They're Loud (Album)",
          "Today",
          "Sky Is Falling",
          "Mesmerized",
          "Sky Is Falling",
          "The Kitchen (Explicit)",
          "Something To Say"
         ],
         "type": "scatter3d",
         "x": [
          1.8494802713394165,
          0.3940279185771942,
          0.28630396723747253,
          -0.37193092703819275,
          0.3128342926502228,
          -0.11607131361961365,
          -0.17998185753822327,
          0.03503270074725151,
          -0.16522018611431122,
          2.0513651371002197,
          0.848882794380188,
          -0.03401341661810875,
          0.2768711447715759,
          0.648419201374054,
          1.4644056558609009,
          2.2411763668060303,
          -0.09990417957305908,
          0.3966727554798126,
          0.3814532458782196,
          -0.045618150383234024,
          0.05323133245110512,
          -0.22164388000965118,
          0.21665051579475403,
          -0.11783430725336075,
          0.20752568542957306,
          0.6616076827049255,
          0.5081795454025269,
          -0.163547083735466,
          0.20845118165016174,
          0.30829915404319763,
          0.0432119220495224,
          -1.3892005681991577,
          -0.7073363661766052,
          -0.10516087710857391,
          -0.06659961491823196,
          -0.4326884150505066,
          0.3554077446460724,
          -0.24863703548908234,
          -0.1627926379442215,
          -0.3492235839366913,
          -0.2182139903306961,
          -0.7113946080207825,
          -0.16924409568309784,
          0.633925199508667,
          0.18764269351959229,
          0.5778225660324097,
          -0.39290013909339905,
          -0.4296238422393799,
          -0.16755355894565582,
          -0.045728132128715515
         ],
         "y": [
          0.641770601272583,
          0.7861779928207397,
          0.9398912787437439,
          0.7962968349456787,
          2.0080626010894775,
          1.437859058380127,
          0.625394880771637,
          1.0025521516799927,
          0.379818856716156,
          1.0614407062530518,
          0.8504924178123474,
          0.9618120789527893,
          0.9567409753799438,
          1.3026833534240723,
          1.6658862829208374,
          1.2269915342330933,
          1.0935322046279907,
          1.3546358346939087,
          0.6465163826942444,
          0.2552918493747711,
          1.0984952449798584,
          1.2890561819076538,
          1.177852988243103,
          0.2669523358345032,
          0.1511487066745758,
          0.8689901828765869,
          1.8472222089767456,
          1.0574090480804443,
          1.2829879522323608,
          1.2714662551879883,
          0.8704922795295715,
          -0.06490639597177505,
          1.5915688276290894,
          1.4641597270965576,
          0.6770738363265991,
          0.00647867051884532,
          0.9988152980804443,
          0.506714403629303,
          1.0441972017288208,
          0.8911654353141785,
          0.6509325504302979,
          0.5727499723434448,
          1.03062903881073,
          1.310887336730957,
          0.9829283952713013,
          0.3335972726345062,
          0.676173985004425,
          1.0277596712112427,
          1.4778099060058594,
          0.8672775030136108
         ],
         "z": [
          3.5484087467193604,
          0.6107393503189087,
          1.834443211555481,
          0.5897898077964783,
          0.6602073311805725,
          0.7850794196128845,
          1.3733587265014648,
          0.9682563543319702,
          0.48961859941482544,
          3.2470531463623047,
          1.1746102571487427,
          0.923336386680603,
          1.6952873468399048,
          2.3268706798553467,
          2.889188051223755,
          2.9858286380767822,
          0.675633430480957,
          0.8220036625862122,
          3.7996816635131836,
          0.5191656947135925,
          1.1367528438568115,
          1.407667636871338,
          -0.12707577645778656,
          0.5944777727127075,
          0.20229052007198334,
          2.186917543411255,
          0.4718227982521057,
          0.9320245385169983,
          2.2200701236724854,
          1.3164247274398804,
          -0.09992359578609467,
          1.1363165378570557,
          1.5704355239868164,
          -0.030481448397040367,
          0.4568558633327484,
          0.16373683512210846,
          0.6974350214004517,
          0.33530470728874207,
          0.17961430549621582,
          0.5280903577804565,
          1.6520615816116333,
          0.682121753692627,
          0.2137840837240219,
          2.13873028755188,
          0.8780200481414795,
          0.9416484236717224,
          0.19176052510738373,
          0.5944133996963501,
          -0.4471564292907715,
          -0.2985694408416748
         ]
        }
       ],
       "layout": {
        "legend": {
         "tracegroupgap": 0
        },
        "margin": {
         "t": 60
        },
        "scene": {
         "domain": {
          "x": [
           0,
           1
          ],
          "y": [
           0,
           1
          ]
         },
         "xaxis": {
          "title": {
           "text": "0"
          }
         },
         "yaxis": {
          "title": {
           "text": "1"
          }
         },
         "zaxis": {
          "title": {
           "text": "2"
          }
         }
        },
        "template": {
         "data": {
          "bar": [
           {
            "error_x": {
             "color": "#2a3f5f"
            },
            "error_y": {
             "color": "#2a3f5f"
            },
            "marker": {
             "line": {
              "color": "#E5ECF6",
              "width": 0.5
             }
            },
            "type": "bar"
           }
          ],
          "barpolar": [
           {
            "marker": {
             "line": {
              "color": "#E5ECF6",
              "width": 0.5
             }
            },
            "type": "barpolar"
           }
          ],
          "carpet": [
           {
            "aaxis": {
             "endlinecolor": "#2a3f5f",
             "gridcolor": "white",
             "linecolor": "white",
             "minorgridcolor": "white",
             "startlinecolor": "#2a3f5f"
            },
            "baxis": {
             "endlinecolor": "#2a3f5f",
             "gridcolor": "white",
             "linecolor": "white",
             "minorgridcolor": "white",
             "startlinecolor": "#2a3f5f"
            },
            "type": "carpet"
           }
          ],
          "choropleth": [
           {
            "colorbar": {
             "outlinewidth": 0,
             "ticks": ""
            },
            "type": "choropleth"
           }
          ],
          "contour": [
           {
            "colorbar": {
             "outlinewidth": 0,
             "ticks": ""
            },
            "colorscale": [
             [
              0,
              "#0d0887"
             ],
             [
              0.1111111111111111,
              "#46039f"
             ],
             [
              0.2222222222222222,
              "#7201a8"
             ],
             [
              0.3333333333333333,
              "#9c179e"
             ],
             [
              0.4444444444444444,
              "#bd3786"
             ],
             [
              0.5555555555555556,
              "#d8576b"
             ],
             [
              0.6666666666666666,
              "#ed7953"
             ],
             [
              0.7777777777777778,
              "#fb9f3a"
             ],
             [
              0.8888888888888888,
              "#fdca26"
             ],
             [
              1,
              "#f0f921"
             ]
            ],
            "type": "contour"
           }
          ],
          "contourcarpet": [
           {
            "colorbar": {
             "outlinewidth": 0,
             "ticks": ""
            },
            "type": "contourcarpet"
           }
          ],
          "heatmap": [
           {
            "colorbar": {
             "outlinewidth": 0,
             "ticks": ""
            },
            "colorscale": [
             [
              0,
              "#0d0887"
             ],
             [
              0.1111111111111111,
              "#46039f"
             ],
             [
              0.2222222222222222,
              "#7201a8"
             ],
             [
              0.3333333333333333,
              "#9c179e"
             ],
             [
              0.4444444444444444,
              "#bd3786"
             ],
             [
              0.5555555555555556,
              "#d8576b"
             ],
             [
              0.6666666666666666,
              "#ed7953"
             ],
             [
              0.7777777777777778,
              "#fb9f3a"
             ],
             [
              0.8888888888888888,
              "#fdca26"
             ],
             [
              1,
              "#f0f921"
             ]
            ],
            "type": "heatmap"
           }
          ],
          "heatmapgl": [
           {
            "colorbar": {
             "outlinewidth": 0,
             "ticks": ""
            },
            "colorscale": [
             [
              0,
              "#0d0887"
             ],
             [
              0.1111111111111111,
              "#46039f"
             ],
             [
              0.2222222222222222,
              "#7201a8"
             ],
             [
              0.3333333333333333,
              "#9c179e"
             ],
             [
              0.4444444444444444,
              "#bd3786"
             ],
             [
              0.5555555555555556,
              "#d8576b"
             ],
             [
              0.6666666666666666,
              "#ed7953"
             ],
             [
              0.7777777777777778,
              "#fb9f3a"
             ],
             [
              0.8888888888888888,
              "#fdca26"
             ],
             [
              1,
              "#f0f921"
             ]
            ],
            "type": "heatmapgl"
           }
          ],
          "histogram": [
           {
            "marker": {
             "colorbar": {
              "outlinewidth": 0,
              "ticks": ""
             }
            },
            "type": "histogram"
           }
          ],
          "histogram2d": [
           {
            "colorbar": {
             "outlinewidth": 0,
             "ticks": ""
            },
            "colorscale": [
             [
              0,
              "#0d0887"
             ],
             [
              0.1111111111111111,
              "#46039f"
             ],
             [
              0.2222222222222222,
              "#7201a8"
             ],
             [
              0.3333333333333333,
              "#9c179e"
             ],
             [
              0.4444444444444444,
              "#bd3786"
             ],
             [
              0.5555555555555556,
              "#d8576b"
             ],
             [
              0.6666666666666666,
              "#ed7953"
             ],
             [
              0.7777777777777778,
              "#fb9f3a"
             ],
             [
              0.8888888888888888,
              "#fdca26"
             ],
             [
              1,
              "#f0f921"
             ]
            ],
            "type": "histogram2d"
           }
          ],
          "histogram2dcontour": [
           {
            "colorbar": {
             "outlinewidth": 0,
             "ticks": ""
            },
            "colorscale": [
             [
              0,
              "#0d0887"
             ],
             [
              0.1111111111111111,
              "#46039f"
             ],
             [
              0.2222222222222222,
              "#7201a8"
             ],
             [
              0.3333333333333333,
              "#9c179e"
             ],
             [
              0.4444444444444444,
              "#bd3786"
             ],
             [
              0.5555555555555556,
              "#d8576b"
             ],
             [
              0.6666666666666666,
              "#ed7953"
             ],
             [
              0.7777777777777778,
              "#fb9f3a"
             ],
             [
              0.8888888888888888,
              "#fdca26"
             ],
             [
              1,
              "#f0f921"
             ]
            ],
            "type": "histogram2dcontour"
           }
          ],
          "mesh3d": [
           {
            "colorbar": {
             "outlinewidth": 0,
             "ticks": ""
            },
            "type": "mesh3d"
           }
          ],
          "parcoords": [
           {
            "line": {
             "colorbar": {
              "outlinewidth": 0,
              "ticks": ""
             }
            },
            "type": "parcoords"
           }
          ],
          "pie": [
           {
            "automargin": true,
            "type": "pie"
           }
          ],
          "scatter": [
           {
            "marker": {
             "colorbar": {
              "outlinewidth": 0,
              "ticks": ""
             }
            },
            "type": "scatter"
           }
          ],
          "scatter3d": [
           {
            "line": {
             "colorbar": {
              "outlinewidth": 0,
              "ticks": ""
             }
            },
            "marker": {
             "colorbar": {
              "outlinewidth": 0,
              "ticks": ""
             }
            },
            "type": "scatter3d"
           }
          ],
          "scattercarpet": [
           {
            "marker": {
             "colorbar": {
              "outlinewidth": 0,
              "ticks": ""
             }
            },
            "type": "scattercarpet"
           }
          ],
          "scattergeo": [
           {
            "marker": {
             "colorbar": {
              "outlinewidth": 0,
              "ticks": ""
             }
            },
            "type": "scattergeo"
           }
          ],
          "scattergl": [
           {
            "marker": {
             "colorbar": {
              "outlinewidth": 0,
              "ticks": ""
             }
            },
            "type": "scattergl"
           }
          ],
          "scattermapbox": [
           {
            "marker": {
             "colorbar": {
              "outlinewidth": 0,
              "ticks": ""
             }
            },
            "type": "scattermapbox"
           }
          ],
          "scatterpolar": [
           {
            "marker": {
             "colorbar": {
              "outlinewidth": 0,
              "ticks": ""
             }
            },
            "type": "scatterpolar"
           }
          ],
          "scatterpolargl": [
           {
            "marker": {
             "colorbar": {
              "outlinewidth": 0,
              "ticks": ""
             }
            },
            "type": "scatterpolargl"
           }
          ],
          "scatterternary": [
           {
            "marker": {
             "colorbar": {
              "outlinewidth": 0,
              "ticks": ""
             }
            },
            "type": "scatterternary"
           }
          ],
          "surface": [
           {
            "colorbar": {
             "outlinewidth": 0,
             "ticks": ""
            },
            "colorscale": [
             [
              0,
              "#0d0887"
             ],
             [
              0.1111111111111111,
              "#46039f"
             ],
             [
              0.2222222222222222,
              "#7201a8"
             ],
             [
              0.3333333333333333,
              "#9c179e"
             ],
             [
              0.4444444444444444,
              "#bd3786"
             ],
             [
              0.5555555555555556,
              "#d8576b"
             ],
             [
              0.6666666666666666,
              "#ed7953"
             ],
             [
              0.7777777777777778,
              "#fb9f3a"
             ],
             [
              0.8888888888888888,
              "#fdca26"
             ],
             [
              1,
              "#f0f921"
             ]
            ],
            "type": "surface"
           }
          ],
          "table": [
           {
            "cells": {
             "fill": {
              "color": "#EBF0F8"
             },
             "line": {
              "color": "white"
             }
            },
            "header": {
             "fill": {
              "color": "#C8D4E3"
             },
             "line": {
              "color": "white"
             }
            },
            "type": "table"
           }
          ]
         },
         "layout": {
          "annotationdefaults": {
           "arrowcolor": "#2a3f5f",
           "arrowhead": 0,
           "arrowwidth": 1
          },
          "coloraxis": {
           "colorbar": {
            "outlinewidth": 0,
            "ticks": ""
           }
          },
          "colorscale": {
           "diverging": [
            [
             0,
             "#8e0152"
            ],
            [
             0.1,
             "#c51b7d"
            ],
            [
             0.2,
             "#de77ae"
            ],
            [
             0.3,
             "#f1b6da"
            ],
            [
             0.4,
             "#fde0ef"
            ],
            [
             0.5,
             "#f7f7f7"
            ],
            [
             0.6,
             "#e6f5d0"
            ],
            [
             0.7,
             "#b8e186"
            ],
            [
             0.8,
             "#7fbc41"
            ],
            [
             0.9,
             "#4d9221"
            ],
            [
             1,
             "#276419"
            ]
           ],
           "sequential": [
            [
             0,
             "#0d0887"
            ],
            [
             0.1111111111111111,
             "#46039f"
            ],
            [
             0.2222222222222222,
             "#7201a8"
            ],
            [
             0.3333333333333333,
             "#9c179e"
            ],
            [
             0.4444444444444444,
             "#bd3786"
            ],
            [
             0.5555555555555556,
             "#d8576b"
            ],
            [
             0.6666666666666666,
             "#ed7953"
            ],
            [
             0.7777777777777778,
             "#fb9f3a"
            ],
            [
             0.8888888888888888,
             "#fdca26"
            ],
            [
             1,
             "#f0f921"
            ]
           ],
           "sequentialminus": [
            [
             0,
             "#0d0887"
            ],
            [
             0.1111111111111111,
             "#46039f"
            ],
            [
             0.2222222222222222,
             "#7201a8"
            ],
            [
             0.3333333333333333,
             "#9c179e"
            ],
            [
             0.4444444444444444,
             "#bd3786"
            ],
            [
             0.5555555555555556,
             "#d8576b"
            ],
            [
             0.6666666666666666,
             "#ed7953"
            ],
            [
             0.7777777777777778,
             "#fb9f3a"
            ],
            [
             0.8888888888888888,
             "#fdca26"
            ],
            [
             1,
             "#f0f921"
            ]
           ]
          },
          "colorway": [
           "#636efa",
           "#EF553B",
           "#00cc96",
           "#ab63fa",
           "#FFA15A",
           "#19d3f3",
           "#FF6692",
           "#B6E880",
           "#FF97FF",
           "#FECB52"
          ],
          "font": {
           "color": "#2a3f5f"
          },
          "geo": {
           "bgcolor": "white",
           "lakecolor": "white",
           "landcolor": "#E5ECF6",
           "showlakes": true,
           "showland": true,
           "subunitcolor": "white"
          },
          "hoverlabel": {
           "align": "left"
          },
          "hovermode": "closest",
          "mapbox": {
           "style": "light"
          },
          "paper_bgcolor": "white",
          "plot_bgcolor": "#E5ECF6",
          "polar": {
           "angularaxis": {
            "gridcolor": "white",
            "linecolor": "white",
            "ticks": ""
           },
           "bgcolor": "#E5ECF6",
           "radialaxis": {
            "gridcolor": "white",
            "linecolor": "white",
            "ticks": ""
           }
          },
          "scene": {
           "xaxis": {
            "backgroundcolor": "#E5ECF6",
            "gridcolor": "white",
            "gridwidth": 2,
            "linecolor": "white",
            "showbackground": true,
            "ticks": "",
            "zerolinecolor": "white"
           },
           "yaxis": {
            "backgroundcolor": "#E5ECF6",
            "gridcolor": "white",
            "gridwidth": 2,
            "linecolor": "white",
            "showbackground": true,
            "ticks": "",
            "zerolinecolor": "white"
           },
           "zaxis": {
            "backgroundcolor": "#E5ECF6",
            "gridcolor": "white",
            "gridwidth": 2,
            "linecolor": "white",
            "showbackground": true,
            "ticks": "",
            "zerolinecolor": "white"
           }
          },
          "shapedefaults": {
           "line": {
            "color": "#2a3f5f"
           }
          },
          "ternary": {
           "aaxis": {
            "gridcolor": "white",
            "linecolor": "white",
            "ticks": ""
           },
           "baxis": {
            "gridcolor": "white",
            "linecolor": "white",
            "ticks": ""
           },
           "bgcolor": "#E5ECF6",
           "caxis": {
            "gridcolor": "white",
            "linecolor": "white",
            "ticks": ""
           }
          },
          "title": {
           "x": 0.05
          },
          "xaxis": {
           "automargin": true,
           "gridcolor": "white",
           "linecolor": "white",
           "ticks": "",
           "title": {
            "standoff": 15
           },
           "zerolinecolor": "white",
           "zerolinewidth": 2
          },
          "yaxis": {
           "automargin": true,
           "gridcolor": "white",
           "linecolor": "white",
           "ticks": "",
           "title": {
            "standoff": 15
           },
           "zerolinecolor": "white",
           "zerolinewidth": 2
          }
         }
        }
       }
      },
      "text/html": [
       "<div>\n",
       "        \n",
       "        \n",
       "            <div id=\"373f8776-13e4-4357-8cbf-ccead4252145\" class=\"plotly-graph-div\" style=\"height:525px; width:100%;\"></div>\n",
       "            <script type=\"text/javascript\">\n",
       "                require([\"plotly\"], function(Plotly) {\n",
       "                    window.PLOTLYENV=window.PLOTLYENV || {};\n",
       "                    \n",
       "                if (document.getElementById(\"373f8776-13e4-4357-8cbf-ccead4252145\")) {\n",
       "                    Plotly.newPlot(\n",
       "                        '373f8776-13e4-4357-8cbf-ccead4252145',\n",
       "                        [{\"hoverlabel\": {\"namelength\": 0}, \"hovertemplate\": \"<b>%{hovertext}</b><br><br>0=%{x}<br>1=%{y}<br>2=%{z}<br>title=%{text}\", \"hovertext\": [\"Beautiful Disaster - Jon McLaughlin - acoustic, comedy, country, guitar, jazz, \", \"Paintin' The Town (Album Version) - Phil Keaggy - 80s, acoustic, alternative, alternative rock, ambient, \", \"Breathing - Lifehouse - 90s, acoustic, alternative, alternative rock, classic, \", \"Who We Are - Lifehouse - 90s, acoustic, alternative, alternative rock, classic, \", \"Invisible - Clay Aiken - 00s, 80s, 90s, adult contemporary, america, \", \"Walking Away - Lifehouse - 90s, acoustic, alternative, alternative rock, classic, \", \"Undone - Lifehouse - 90s, acoustic, alternative, alternative rock, classic, \", \"Easier To Be - Lifehouse - 90s, acoustic, alternative, alternative rock, classic, \", \"Cling And Clatter - Lifehouse - 90s, acoustic, alternative, alternative rock, classic, \", \"Everything - Lifehouse - 90s, acoustic, alternative, alternative rock, classic, \", \"We'll Never Know - Lifehouse - 90s, acoustic, alternative, alternative rock, classic, \", \"Only One - Lifehouse - 90s, acoustic, alternative, alternative rock, classic, \", \"Make Me Over - Lifehouse - 90s, acoustic, alternative, alternative rock, classic, \", \"Storm - Lifehouse - 90s, acoustic, alternative, alternative rock, classic, \", \"Things I'll Never Say - Avril Lavigne - alternative, canada, canadian, female, female vocalist, \", \"The Nation - Freeway - alternative, american, bass music, classic, classic rock, \", \"The End Has Only Begun - Lifehouse - 90s, acoustic, alternative, alternative rock, classic, \", \"Into The Sun - Lifehouse - 90s, acoustic, alternative, alternative rock, classic, \", \"Wordplay (Album Version) - Jason Mraz - acoustic, acoustic guitar, alternative rock, country, folk, \", \"The Beginning - Lifehouse - 90s, acoustic, alternative, alternative rock, classic, \", \"Disarray - Lifehouse - 90s, acoustic, alternative, alternative rock, classic, \", \"Take Me Away - Lifehouse - 90s, acoustic, alternative, alternative rock, classic, \", \"Anchor - Lifehouse - 90s, acoustic, alternative, alternative rock, classic, \", \"Wash - Lifehouse - 90s, acoustic, alternative, alternative rock, classic, \", \"Am I Ever Gonna Find Out - Lifehouse - 90s, acoustic, alternative, alternative rock, classic, \", \"Somewhere In Between - Lifehouse - 90s, acoustic, alternative, alternative rock, classic, \", \"Could It Be Any Harder - The Calling - 00s, 80s, 90s, acoustic, alternative, \", \"Learn You Inside Out - Lifehouse - 90s, acoustic, alternative, alternative rock, classic, \", \"What If? - Godsmack - acoustic, alternative, alternative metal, country, guitar, \", \"Simon - Lifehouse - 90s, acoustic, alternative, alternative rock, classic, \", \"Trying - Lifehouse - 90s, acoustic, alternative, alternative rock, classic, \", \"Come Back Down - Lifehouse - 90s, acoustic, alternative, alternative rock, classic, \", \"It's So Hard - Anouk - 00s, 90s, acoustic, alternative, alternative country, \", \"Quasimodo - Lifehouse - 90s, acoustic, alternative, alternative rock, classic, \", \"Someone Else's Song - Lifehouse - 90s, acoustic, alternative, alternative rock, classic, \", \"My Precious - Lifehouse - 90s, acoustic, alternative, alternative rock, classic, \", \"Maybe I - Five for Fighting - acoustic, adult alternative, alternative, classic, guitar, \", \"Empty Space - Lifehouse - 90s, acoustic, alternative, alternative rock, classic, \", \"How Long - Lifehouse - 90s, acoustic, alternative, alternative rock, classic, \", \"Just Another Name - Lifehouse - 90s, acoustic, alternative, alternative rock, classic, \", \"Bed Of Lies (LP Version) - matchbox twenty - 90s, acoustic, adult alternative, alternative, alternative rock, \", \"Tropilove - DJ Bitman - chile, chilean, electro-funk, electronic, electronic music, \", \"Bridges - Lifehouse - 90s, acoustic, alternative, alternative rock, classic, \", \"So Quiet_ They're Loud (Album) - Ha Ha Tonka - alternative, alternative country, americana, bloodshot records, daytrotter, \", \"Today - Lifehouse - 90s, acoustic, alternative, alternative rock, classic, \", \"Sky Is Falling - Lifehouse - 90s, acoustic, alternative, alternative rock, classic, \", \"Mesmerized - Lifehouse - 90s, acoustic, alternative, alternative rock, classic, \", \"Sky Is Falling - Lifehouse - 90s, acoustic, alternative, alternative rock, classic, \", \"The Kitchen (Explicit) - Little Jackie - 00s, acoustic, alternative, alternative pop, alternative rock, \", \"Something To Say - Harem Scarem - 80s rock, alternative rock, aor, black metal, canadian, \"], \"legendgroup\": \"\", \"marker\": {\"color\": \"#636efa\", \"symbol\": \"circle\"}, \"mode\": \"markers+text\", \"name\": \"\", \"scene\": \"scene\", \"showlegend\": false, \"text\": [\"Beautiful Disaster\", \"Paintin' The Town (Album Version)\", \"Breathing\", \"Who We Are\", \"Invisible\", \"Walking Away\", \"Undone\", \"Easier To Be\", \"Cling And Clatter\", \"Everything\", \"We'll Never Know\", \"Only One\", \"Make Me Over\", \"Storm\", \"Things I'll Never Say\", \"The Nation\", \"The End Has Only Begun\", \"Into The Sun\", \"Wordplay (Album Version)\", \"The Beginning\", \"Disarray\", \"Take Me Away\", \"Anchor\", \"Wash\", \"Am I Ever Gonna Find Out\", \"Somewhere In Between\", \"Could It Be Any Harder\", \"Learn You Inside Out\", \"What If?\", \"Simon\", \"Trying\", \"Come Back Down\", \"It's So Hard\", \"Quasimodo\", \"Someone Else's Song\", \"My Precious\", \"Maybe I\", \"Empty Space\", \"How Long\", \"Just Another Name\", \"Bed Of Lies (LP Version)\", \"Tropilove\", \"Bridges\", \"So Quiet_ They're Loud (Album)\", \"Today\", \"Sky Is Falling\", \"Mesmerized\", \"Sky Is Falling\", \"The Kitchen (Explicit)\", \"Something To Say\"], \"type\": \"scatter3d\", \"x\": [1.8494802713394165, 0.3940279185771942, 0.28630396723747253, -0.37193092703819275, 0.3128342926502228, -0.11607131361961365, -0.17998185753822327, 0.03503270074725151, -0.16522018611431122, 2.0513651371002197, 0.848882794380188, -0.03401341661810875, 0.2768711447715759, 0.648419201374054, 1.4644056558609009, 2.2411763668060303, -0.09990417957305908, 0.3966727554798126, 0.3814532458782196, -0.045618150383234024, 0.05323133245110512, -0.22164388000965118, 0.21665051579475403, -0.11783430725336075, 0.20752568542957306, 0.6616076827049255, 0.5081795454025269, -0.163547083735466, 0.20845118165016174, 0.30829915404319763, 0.0432119220495224, -1.3892005681991577, -0.7073363661766052, -0.10516087710857391, -0.06659961491823196, -0.4326884150505066, 0.3554077446460724, -0.24863703548908234, -0.1627926379442215, -0.3492235839366913, -0.2182139903306961, -0.7113946080207825, -0.16924409568309784, 0.633925199508667, 0.18764269351959229, 0.5778225660324097, -0.39290013909339905, -0.4296238422393799, -0.16755355894565582, -0.045728132128715515], \"y\": [0.641770601272583, 0.7861779928207397, 0.9398912787437439, 0.7962968349456787, 2.0080626010894775, 1.437859058380127, 0.625394880771637, 1.0025521516799927, 0.379818856716156, 1.0614407062530518, 0.8504924178123474, 0.9618120789527893, 0.9567409753799438, 1.3026833534240723, 1.6658862829208374, 1.2269915342330933, 1.0935322046279907, 1.3546358346939087, 0.6465163826942444, 0.2552918493747711, 1.0984952449798584, 1.2890561819076538, 1.177852988243103, 0.2669523358345032, 0.1511487066745758, 0.8689901828765869, 1.8472222089767456, 1.0574090480804443, 1.2829879522323608, 1.2714662551879883, 0.8704922795295715, -0.06490639597177505, 1.5915688276290894, 1.4641597270965576, 0.6770738363265991, 0.00647867051884532, 0.9988152980804443, 0.506714403629303, 1.0441972017288208, 0.8911654353141785, 0.6509325504302979, 0.5727499723434448, 1.03062903881073, 1.310887336730957, 0.9829283952713013, 0.3335972726345062, 0.676173985004425, 1.0277596712112427, 1.4778099060058594, 0.8672775030136108], \"z\": [3.5484087467193604, 0.6107393503189087, 1.834443211555481, 0.5897898077964783, 0.6602073311805725, 0.7850794196128845, 1.3733587265014648, 0.9682563543319702, 0.48961859941482544, 3.2470531463623047, 1.1746102571487427, 0.923336386680603, 1.6952873468399048, 2.3268706798553467, 2.889188051223755, 2.9858286380767822, 0.675633430480957, 0.8220036625862122, 3.7996816635131836, 0.5191656947135925, 1.1367528438568115, 1.407667636871338, -0.12707577645778656, 0.5944777727127075, 0.20229052007198334, 2.186917543411255, 0.4718227982521057, 0.9320245385169983, 2.2200701236724854, 1.3164247274398804, -0.09992359578609467, 1.1363165378570557, 1.5704355239868164, -0.030481448397040367, 0.4568558633327484, 0.16373683512210846, 0.6974350214004517, 0.33530470728874207, 0.17961430549621582, 0.5280903577804565, 1.6520615816116333, 0.682121753692627, 0.2137840837240219, 2.13873028755188, 0.8780200481414795, 0.9416484236717224, 0.19176052510738373, 0.5944133996963501, -0.4471564292907715, -0.2985694408416748]}],\n",
       "                        {\"legend\": {\"tracegroupgap\": 0}, \"margin\": {\"t\": 60}, \"scene\": {\"domain\": {\"x\": [0.0, 1.0], \"y\": [0.0, 1.0]}, \"xaxis\": {\"title\": {\"text\": \"0\"}}, \"yaxis\": {\"title\": {\"text\": \"1\"}}, \"zaxis\": {\"title\": {\"text\": \"2\"}}}, \"template\": {\"data\": {\"bar\": [{\"error_x\": {\"color\": \"#2a3f5f\"}, \"error_y\": {\"color\": \"#2a3f5f\"}, \"marker\": {\"line\": {\"color\": \"#E5ECF6\", \"width\": 0.5}}, \"type\": \"bar\"}], \"barpolar\": [{\"marker\": {\"line\": {\"color\": \"#E5ECF6\", \"width\": 0.5}}, \"type\": \"barpolar\"}], \"carpet\": [{\"aaxis\": {\"endlinecolor\": \"#2a3f5f\", \"gridcolor\": \"white\", \"linecolor\": \"white\", \"minorgridcolor\": \"white\", \"startlinecolor\": \"#2a3f5f\"}, \"baxis\": {\"endlinecolor\": \"#2a3f5f\", \"gridcolor\": \"white\", \"linecolor\": \"white\", \"minorgridcolor\": \"white\", \"startlinecolor\": \"#2a3f5f\"}, \"type\": \"carpet\"}], \"choropleth\": [{\"colorbar\": {\"outlinewidth\": 0, \"ticks\": \"\"}, \"type\": \"choropleth\"}], \"contour\": [{\"colorbar\": {\"outlinewidth\": 0, \"ticks\": \"\"}, \"colorscale\": [[0.0, \"#0d0887\"], [0.1111111111111111, \"#46039f\"], [0.2222222222222222, \"#7201a8\"], [0.3333333333333333, \"#9c179e\"], [0.4444444444444444, \"#bd3786\"], [0.5555555555555556, \"#d8576b\"], [0.6666666666666666, \"#ed7953\"], [0.7777777777777778, \"#fb9f3a\"], [0.8888888888888888, \"#fdca26\"], [1.0, \"#f0f921\"]], \"type\": \"contour\"}], \"contourcarpet\": [{\"colorbar\": {\"outlinewidth\": 0, \"ticks\": \"\"}, \"type\": \"contourcarpet\"}], \"heatmap\": [{\"colorbar\": {\"outlinewidth\": 0, \"ticks\": \"\"}, \"colorscale\": [[0.0, \"#0d0887\"], [0.1111111111111111, \"#46039f\"], [0.2222222222222222, \"#7201a8\"], [0.3333333333333333, \"#9c179e\"], [0.4444444444444444, \"#bd3786\"], [0.5555555555555556, \"#d8576b\"], [0.6666666666666666, \"#ed7953\"], [0.7777777777777778, \"#fb9f3a\"], [0.8888888888888888, \"#fdca26\"], [1.0, \"#f0f921\"]], \"type\": \"heatmap\"}], \"heatmapgl\": [{\"colorbar\": {\"outlinewidth\": 0, \"ticks\": \"\"}, \"colorscale\": [[0.0, \"#0d0887\"], [0.1111111111111111, \"#46039f\"], [0.2222222222222222, \"#7201a8\"], [0.3333333333333333, \"#9c179e\"], [0.4444444444444444, \"#bd3786\"], [0.5555555555555556, \"#d8576b\"], [0.6666666666666666, \"#ed7953\"], [0.7777777777777778, \"#fb9f3a\"], [0.8888888888888888, \"#fdca26\"], [1.0, \"#f0f921\"]], \"type\": \"heatmapgl\"}], \"histogram\": [{\"marker\": {\"colorbar\": {\"outlinewidth\": 0, \"ticks\": \"\"}}, \"type\": \"histogram\"}], \"histogram2d\": [{\"colorbar\": {\"outlinewidth\": 0, \"ticks\": \"\"}, \"colorscale\": [[0.0, \"#0d0887\"], [0.1111111111111111, \"#46039f\"], [0.2222222222222222, \"#7201a8\"], [0.3333333333333333, \"#9c179e\"], [0.4444444444444444, \"#bd3786\"], [0.5555555555555556, \"#d8576b\"], [0.6666666666666666, \"#ed7953\"], [0.7777777777777778, \"#fb9f3a\"], [0.8888888888888888, \"#fdca26\"], [1.0, \"#f0f921\"]], \"type\": \"histogram2d\"}], \"histogram2dcontour\": [{\"colorbar\": {\"outlinewidth\": 0, \"ticks\": \"\"}, \"colorscale\": [[0.0, \"#0d0887\"], [0.1111111111111111, \"#46039f\"], [0.2222222222222222, \"#7201a8\"], [0.3333333333333333, \"#9c179e\"], [0.4444444444444444, \"#bd3786\"], [0.5555555555555556, \"#d8576b\"], [0.6666666666666666, \"#ed7953\"], [0.7777777777777778, \"#fb9f3a\"], [0.8888888888888888, \"#fdca26\"], [1.0, \"#f0f921\"]], \"type\": \"histogram2dcontour\"}], \"mesh3d\": [{\"colorbar\": {\"outlinewidth\": 0, \"ticks\": \"\"}, \"type\": \"mesh3d\"}], \"parcoords\": [{\"line\": {\"colorbar\": {\"outlinewidth\": 0, \"ticks\": \"\"}}, \"type\": \"parcoords\"}], \"pie\": [{\"automargin\": true, \"type\": \"pie\"}], \"scatter\": [{\"marker\": {\"colorbar\": {\"outlinewidth\": 0, \"ticks\": \"\"}}, \"type\": \"scatter\"}], \"scatter3d\": [{\"line\": {\"colorbar\": {\"outlinewidth\": 0, \"ticks\": \"\"}}, \"marker\": {\"colorbar\": {\"outlinewidth\": 0, \"ticks\": \"\"}}, \"type\": \"scatter3d\"}], \"scattercarpet\": [{\"marker\": {\"colorbar\": {\"outlinewidth\": 0, \"ticks\": \"\"}}, \"type\": \"scattercarpet\"}], \"scattergeo\": [{\"marker\": {\"colorbar\": {\"outlinewidth\": 0, \"ticks\": \"\"}}, \"type\": \"scattergeo\"}], \"scattergl\": [{\"marker\": {\"colorbar\": {\"outlinewidth\": 0, \"ticks\": \"\"}}, \"type\": \"scattergl\"}], \"scattermapbox\": [{\"marker\": {\"colorbar\": {\"outlinewidth\": 0, \"ticks\": \"\"}}, \"type\": \"scattermapbox\"}], \"scatterpolar\": [{\"marker\": {\"colorbar\": {\"outlinewidth\": 0, \"ticks\": \"\"}}, \"type\": \"scatterpolar\"}], \"scatterpolargl\": [{\"marker\": {\"colorbar\": {\"outlinewidth\": 0, \"ticks\": \"\"}}, \"type\": \"scatterpolargl\"}], \"scatterternary\": [{\"marker\": {\"colorbar\": {\"outlinewidth\": 0, \"ticks\": \"\"}}, \"type\": \"scatterternary\"}], \"surface\": [{\"colorbar\": {\"outlinewidth\": 0, \"ticks\": \"\"}, \"colorscale\": [[0.0, \"#0d0887\"], [0.1111111111111111, \"#46039f\"], [0.2222222222222222, \"#7201a8\"], [0.3333333333333333, \"#9c179e\"], [0.4444444444444444, \"#bd3786\"], [0.5555555555555556, \"#d8576b\"], [0.6666666666666666, \"#ed7953\"], [0.7777777777777778, \"#fb9f3a\"], [0.8888888888888888, \"#fdca26\"], [1.0, \"#f0f921\"]], \"type\": \"surface\"}], \"table\": [{\"cells\": {\"fill\": {\"color\": \"#EBF0F8\"}, \"line\": {\"color\": \"white\"}}, \"header\": {\"fill\": {\"color\": \"#C8D4E3\"}, \"line\": {\"color\": \"white\"}}, \"type\": \"table\"}]}, \"layout\": {\"annotationdefaults\": {\"arrowcolor\": \"#2a3f5f\", \"arrowhead\": 0, \"arrowwidth\": 1}, \"coloraxis\": {\"colorbar\": {\"outlinewidth\": 0, \"ticks\": \"\"}}, \"colorscale\": {\"diverging\": [[0, \"#8e0152\"], [0.1, \"#c51b7d\"], [0.2, \"#de77ae\"], [0.3, \"#f1b6da\"], [0.4, \"#fde0ef\"], [0.5, \"#f7f7f7\"], [0.6, \"#e6f5d0\"], [0.7, \"#b8e186\"], [0.8, \"#7fbc41\"], [0.9, \"#4d9221\"], [1, \"#276419\"]], \"sequential\": [[0.0, \"#0d0887\"], [0.1111111111111111, \"#46039f\"], [0.2222222222222222, \"#7201a8\"], [0.3333333333333333, \"#9c179e\"], [0.4444444444444444, \"#bd3786\"], [0.5555555555555556, \"#d8576b\"], [0.6666666666666666, \"#ed7953\"], [0.7777777777777778, \"#fb9f3a\"], [0.8888888888888888, \"#fdca26\"], [1.0, \"#f0f921\"]], \"sequentialminus\": [[0.0, \"#0d0887\"], [0.1111111111111111, \"#46039f\"], [0.2222222222222222, \"#7201a8\"], [0.3333333333333333, \"#9c179e\"], [0.4444444444444444, \"#bd3786\"], [0.5555555555555556, \"#d8576b\"], [0.6666666666666666, \"#ed7953\"], [0.7777777777777778, \"#fb9f3a\"], [0.8888888888888888, \"#fdca26\"], [1.0, \"#f0f921\"]]}, \"colorway\": [\"#636efa\", \"#EF553B\", \"#00cc96\", \"#ab63fa\", \"#FFA15A\", \"#19d3f3\", \"#FF6692\", \"#B6E880\", \"#FF97FF\", \"#FECB52\"], \"font\": {\"color\": \"#2a3f5f\"}, \"geo\": {\"bgcolor\": \"white\", \"lakecolor\": \"white\", \"landcolor\": \"#E5ECF6\", \"showlakes\": true, \"showland\": true, \"subunitcolor\": \"white\"}, \"hoverlabel\": {\"align\": \"left\"}, \"hovermode\": \"closest\", \"mapbox\": {\"style\": \"light\"}, \"paper_bgcolor\": \"white\", \"plot_bgcolor\": \"#E5ECF6\", \"polar\": {\"angularaxis\": {\"gridcolor\": \"white\", \"linecolor\": \"white\", \"ticks\": \"\"}, \"bgcolor\": \"#E5ECF6\", \"radialaxis\": {\"gridcolor\": \"white\", \"linecolor\": \"white\", \"ticks\": \"\"}}, \"scene\": {\"xaxis\": {\"backgroundcolor\": \"#E5ECF6\", \"gridcolor\": \"white\", \"gridwidth\": 2, \"linecolor\": \"white\", \"showbackground\": true, \"ticks\": \"\", \"zerolinecolor\": \"white\"}, \"yaxis\": {\"backgroundcolor\": \"#E5ECF6\", \"gridcolor\": \"white\", \"gridwidth\": 2, \"linecolor\": \"white\", \"showbackground\": true, \"ticks\": \"\", \"zerolinecolor\": \"white\"}, \"zaxis\": {\"backgroundcolor\": \"#E5ECF6\", \"gridcolor\": \"white\", \"gridwidth\": 2, \"linecolor\": \"white\", \"showbackground\": true, \"ticks\": \"\", \"zerolinecolor\": \"white\"}}, \"shapedefaults\": {\"line\": {\"color\": \"#2a3f5f\"}}, \"ternary\": {\"aaxis\": {\"gridcolor\": \"white\", \"linecolor\": \"white\", \"ticks\": \"\"}, \"baxis\": {\"gridcolor\": \"white\", \"linecolor\": \"white\", \"ticks\": \"\"}, \"bgcolor\": \"#E5ECF6\", \"caxis\": {\"gridcolor\": \"white\", \"linecolor\": \"white\", \"ticks\": \"\"}}, \"title\": {\"x\": 0.05}, \"xaxis\": {\"automargin\": true, \"gridcolor\": \"white\", \"linecolor\": \"white\", \"ticks\": \"\", \"title\": {\"standoff\": 15}, \"zerolinecolor\": \"white\", \"zerolinewidth\": 2}, \"yaxis\": {\"automargin\": true, \"gridcolor\": \"white\", \"linecolor\": \"white\", \"ticks\": \"\", \"title\": {\"standoff\": 15}, \"zerolinecolor\": \"white\", \"zerolinewidth\": 2}}}},\n",
       "                        {\"responsive\": true}\n",
       "                    ).then(function(){\n",
       "                            \n",
       "var gd = document.getElementById('373f8776-13e4-4357-8cbf-ccead4252145');\n",
       "var x = new MutationObserver(function (mutations, observer) {{\n",
       "        var display = window.getComputedStyle(gd).display;\n",
       "        if (!display || display === 'none') {{\n",
       "            console.log([gd, 'removed!']);\n",
       "            Plotly.purge(gd);\n",
       "            observer.disconnect();\n",
       "        }}\n",
       "}});\n",
       "\n",
       "// Listen for the removal of the full notebook cells\n",
       "var notebookContainer = gd.closest('#notebook-container');\n",
       "if (notebookContainer) {{\n",
       "    x.observe(notebookContainer, {childList: true});\n",
       "}}\n",
       "\n",
       "// Listen for the clearing of the current output cell\n",
       "var outputEl = gd.closest('.output');\n",
       "if (outputEl) {{\n",
       "    x.observe(outputEl, {childList: true});\n",
       "}}\n",
       "\n",
       "                        })\n",
       "                };\n",
       "                });\n",
       "            </script>\n",
       "        </div>"
      ]
     },
     "metadata": {},
     "output_type": "display_data"
    }
   ],
   "source": [
    "import plotly.express as px\n",
    "\n",
    "fig = px.scatter_3d(tocluster2, x=0,y=1,z=2,text=tocluster2['title'],hover_name=tocluster2['text'])\n",
    "\n",
    "fig.show()"
   ]
  },
  {
   "cell_type": "code",
   "execution_count": null,
   "metadata": {},
   "outputs": [],
   "source": []
  }
 ],
 "metadata": {
  "kernelspec": {
   "display_name": "Python 3",
   "language": "python",
   "name": "python3"
  },
  "language_info": {
   "codemirror_mode": {
    "name": "ipython",
    "version": 3
   },
   "file_extension": ".py",
   "mimetype": "text/x-python",
   "name": "python",
   "nbconvert_exporter": "python",
   "pygments_lexer": "ipython3",
   "version": "3.6.8"
  }
 },
 "nbformat": 4,
 "nbformat_minor": 4
}
