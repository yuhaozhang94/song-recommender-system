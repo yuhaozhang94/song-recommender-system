{
 "cells": [
  {
   "cell_type": "code",
   "execution_count": 15,
   "metadata": {},
   "outputs": [],
   "source": [
    "import pandas as pd\n",
    "from sklearn.cluster import KMeans\n",
    "from sklearn.metrics import pairwise_distances_argmin_min\n",
    "import matplotlib.pyplot as plt\n",
    "\n",
    "import joblib\n",
    "\n",
    "SEED = 2020\n",
    "sse = []\n",
    "users_spotify = pd.read_csv(\"./users_spotify_cluster.csv\")\n",
    "spotify_columns = ['spotify_danceability', 'spotify_energy', 'spotify_key',\n",
    "       'spotify_loudness', 'spotify_mode', 'spotify_speechiness',\n",
    "       'spotify_acousticness', 'spotify_instrumentalness', 'spotify_liveness',\n",
    "       'spotify_valence', 'spotify_tempo', 'spotify_time_signature']"
   ]
  },
  {
   "cell_type": "markdown",
   "metadata": {},
   "source": [
    "## KMeans Approach"
   ]
  },
  {
   "cell_type": "code",
   "execution_count": 4,
   "metadata": {},
   "outputs": [
    {
     "data": {
      "image/png": "[encoded data removed]",
      "text/plain": [
       "<Figure size 432x288 with 1 Axes>"
      ]
     },
     "metadata": {
      "needs_background": "light"
     },
     "output_type": "display_data"
    }
   ],
   "source": [
    "K = range(1,15)\n",
    "for k in K:\n",
    "    km = KMeans(n_clusters=k, random_state=SEED)\n",
    "    km = km.fit(users_spotify[spotify_columns])\n",
    "    sse.append(km.inertia_)\n",
    "    \n",
    "plt.plot(K, sse, 'bx-')\n",
    "plt.xlabel('k')\n",
    "plt.ylabel('Sum_of_squared_distances')\n",
    "plt.title('Elbow Method For Optimal k')\n",
    "plt.show()"
   ]
  },
  {
   "cell_type": "code",
   "execution_count": 16,
   "metadata": {},
   "outputs": [
    {
     "data": {
      "text/plain": [
       "['user_clustering.joblib']"
      ]
     },
     "execution_count": 16,
     "metadata": {},
     "output_type": "execute_result"
    }
   ],
   "source": [
    "km = KMeans(n_clusters=4, random_state=SEED)\n",
    "km = km.fit(users_spotify[spotify_columns])\n",
    "\n",
    "joblib.dump(km, \"user_clustering.joblib\")"
   ]
  },
  {
   "cell_type": "code",
   "execution_count": 7,
   "metadata": {},
   "outputs": [
    {
     "data": {
      "text/plain": [
       "array([[ 5.68867128e-01,  6.14895768e-01,  5.27252129e+00,\n",
       "        -8.75544883e+00,  6.61169064e-01,  8.01749490e-02,\n",
       "         2.89717951e-01,  1.40943241e-01,  1.99309207e-01,\n",
       "         4.97410558e-01,  1.11097923e+02,  3.91691614e+00],\n",
       "       [ 5.45004968e-01,  6.80592435e-01,  5.26006159e+00,\n",
       "        -7.83634351e+00,  6.73408727e-01,  7.17833413e-02,\n",
       "         2.19066968e-01,  1.35363642e-01,  2.02117623e-01,\n",
       "         5.01400879e-01,  1.26988586e+02,  3.92389083e+00],\n",
       "       [ 5.12926622e-01,  7.26347316e-01,  5.23747760e+00,\n",
       "        -7.19566474e+00,  6.72780455e-01,  7.41611668e-02,\n",
       "         1.74183157e-01,  1.19803169e-01,  2.08286867e-01,\n",
       "         4.93125078e-01,  1.36243425e+02,  3.92263886e+00],\n",
       "       [ 5.62370334e-01,  6.49749754e-01,  5.25723561e+00,\n",
       "        -8.26519143e+00,  6.71046786e-01,  7.32194115e-02,\n",
       "         2.51491664e-01,  1.38710394e-01,  1.99609312e-01,\n",
       "         5.04880217e-01,  1.19597030e+02,  3.92371182e+00]])"
      ]
     },
     "execution_count": 7,
     "metadata": {},
     "output_type": "execute_result"
    }
   ],
   "source": [
    "km.cluster_centers_"
   ]
  },
  {
   "cell_type": "code",
   "execution_count": 14,
   "metadata": {},
   "outputs": [
    {
     "data": {
      "text/plain": [
       "array([12674, 26614, 29986,  9183], dtype=int64)"
      ]
     },
     "execution_count": 14,
     "metadata": {},
     "output_type": "execute_result"
    }
   ],
   "source": [
    "closest, _ = pairwise_distances_argmin_min(km.cluster_centers_, users_spotify[spotify_columns])\n",
    "closest"
   ]
  },
  {
   "cell_type": "code",
   "execution_count": 13,
   "metadata": {},
   "outputs": [
    {
     "data": {
      "text/html": [
       "<div>\n",
       "<style scoped>\n",
       "    .dataframe tbody tr th:only-of-type {\n",
       "        vertical-align: middle;\n",
       "    }\n",
       "\n",
       "    .dataframe tbody tr th {\n",
       "        vertical-align: top;\n",
       "    }\n",
       "\n",
       "    .dataframe thead th {\n",
       "        text-align: right;\n",
       "    }\n",
       "</style>\n",
       "<table border=\"1\" class=\"dataframe\">\n",
       "  <thead>\n",
       "    <tr style=\"text-align: right;\">\n",
       "      <th></th>\n",
       "      <th>user_id</th>\n",
       "      <th>user_id_idx</th>\n",
       "      <th>spotify_danceability</th>\n",
       "      <th>spotify_energy</th>\n",
       "      <th>spotify_key</th>\n",
       "      <th>spotify_loudness</th>\n",
       "      <th>spotify_mode</th>\n",
       "      <th>spotify_speechiness</th>\n",
       "      <th>spotify_acousticness</th>\n",
       "      <th>spotify_instrumentalness</th>\n",
       "      <th>spotify_liveness</th>\n",
       "      <th>spotify_valence</th>\n",
       "      <th>spotify_tempo</th>\n",
       "      <th>spotify_time_signature</th>\n",
       "    </tr>\n",
       "  </thead>\n",
       "  <tbody>\n",
       "    <tr>\n",
       "      <th>12674</th>\n",
       "      <td>4d9adfae71c0e9dd92e3153398e46971b5ca6147</td>\n",
       "      <td>12675</td>\n",
       "      <td>0.661125</td>\n",
       "      <td>0.550438</td>\n",
       "      <td>5.375000</td>\n",
       "      <td>-8.733063</td>\n",
       "      <td>0.625000</td>\n",
       "      <td>0.063094</td>\n",
       "      <td>0.381292</td>\n",
       "      <td>0.078601</td>\n",
       "      <td>0.125400</td>\n",
       "      <td>0.599150</td>\n",
       "      <td>111.212688</td>\n",
       "      <td>4.000</td>\n",
       "    </tr>\n",
       "    <tr>\n",
       "      <th>26614</th>\n",
       "      <td>a32195a405ee637c92cf7cd82000d02e1d1dd4da</td>\n",
       "      <td>26617</td>\n",
       "      <td>0.525077</td>\n",
       "      <td>0.751462</td>\n",
       "      <td>5.153846</td>\n",
       "      <td>-7.718308</td>\n",
       "      <td>0.769231</td>\n",
       "      <td>0.071046</td>\n",
       "      <td>0.169013</td>\n",
       "      <td>0.095214</td>\n",
       "      <td>0.172877</td>\n",
       "      <td>0.505692</td>\n",
       "      <td>126.904231</td>\n",
       "      <td>4.000</td>\n",
       "    </tr>\n",
       "    <tr>\n",
       "      <th>29986</th>\n",
       "      <td>b79a4010ba71f8a0a17f892840c66d55f0c8ae04</td>\n",
       "      <td>29990</td>\n",
       "      <td>0.480059</td>\n",
       "      <td>0.695059</td>\n",
       "      <td>5.411765</td>\n",
       "      <td>-7.389176</td>\n",
       "      <td>0.647059</td>\n",
       "      <td>0.041171</td>\n",
       "      <td>0.177806</td>\n",
       "      <td>0.147730</td>\n",
       "      <td>0.142635</td>\n",
       "      <td>0.516353</td>\n",
       "      <td>136.179882</td>\n",
       "      <td>4.000</td>\n",
       "    </tr>\n",
       "    <tr>\n",
       "      <th>9183</th>\n",
       "      <td>38789df29f2d58136c11ec9417b8a5adf0017eb1</td>\n",
       "      <td>9183</td>\n",
       "      <td>0.599375</td>\n",
       "      <td>0.648625</td>\n",
       "      <td>5.375000</td>\n",
       "      <td>-8.193062</td>\n",
       "      <td>0.562500</td>\n",
       "      <td>0.061975</td>\n",
       "      <td>0.328203</td>\n",
       "      <td>0.186334</td>\n",
       "      <td>0.247394</td>\n",
       "      <td>0.534937</td>\n",
       "      <td>119.544313</td>\n",
       "      <td>3.875</td>\n",
       "    </tr>\n",
       "  </tbody>\n",
       "</table>\n",
       "</div>"
      ],
      "text/plain": [
       "                                        user_id  user_id_idx  \\\n",
       "12674  4d9adfae71c0e9dd92e3153398e46971b5ca6147        12675   \n",
       "26614  a32195a405ee637c92cf7cd82000d02e1d1dd4da        26617   \n",
       "29986  b79a4010ba71f8a0a17f892840c66d55f0c8ae04        29990   \n",
       "9183   38789df29f2d58136c11ec9417b8a5adf0017eb1         9183   \n",
       "\n",
       "       spotify_danceability  spotify_energy  spotify_key  spotify_loudness  \\\n",
       "12674              0.661125        0.550438     5.375000         -8.733063   \n",
       "26614              0.525077        0.751462     5.153846         -7.718308   \n",
       "29986              0.480059        0.695059     5.411765         -7.389176   \n",
       "9183               0.599375        0.648625     5.375000         -8.193062   \n",
       "\n",
       "       spotify_mode  spotify_speechiness  spotify_acousticness  \\\n",
       "12674      0.625000             0.063094              0.381292   \n",
       "26614      0.769231             0.071046              0.169013   \n",
       "29986      0.647059             0.041171              0.177806   \n",
       "9183       0.562500             0.061975              0.328203   \n",
       "\n",
       "       spotify_instrumentalness  spotify_liveness  spotify_valence  \\\n",
       "12674                  0.078601          0.125400         0.599150   \n",
       "26614                  0.095214          0.172877         0.505692   \n",
       "29986                  0.147730          0.142635         0.516353   \n",
       "9183                   0.186334          0.247394         0.534937   \n",
       "\n",
       "       spotify_tempo  spotify_time_signature  \n",
       "12674     111.212688                   4.000  \n",
       "26614     126.904231                   4.000  \n",
       "29986     136.179882                   4.000  \n",
       "9183      119.544313                   3.875  "
      ]
     },
     "execution_count": 13,
     "metadata": {},
     "output_type": "execute_result"
    }
   ],
   "source": [
    "users_spotify.iloc[closest]"
   ]
  },
  {
   "cell_type": "markdown",
   "metadata": {},
   "source": [
    "# Nearest neighbours approach"
   ]
  },
  {
   "cell_type": "code",
   "execution_count": 28,
   "metadata": {},
   "outputs": [
    {
     "name": "stdout",
     "output_type": "stream",
     "text": [
      "user_id                     00020e8ba3f9041deed64ec9c60b26ff6bf41c66\n",
      "user_id_idx                                                        0\n",
      "spotify_danceability                                        0.667684\n",
      "spotify_energy                                                 0.646\n",
      "spotify_key                                                  5.73684\n",
      "spotify_loudness                                            -9.72358\n",
      "spotify_mode                                                0.631579\n",
      "spotify_speechiness                                         0.158658\n",
      "spotify_acousticness                                        0.267152\n",
      "spotify_instrumentalness                                   0.0465396\n",
      "spotify_liveness                                            0.184974\n",
      "spotify_valence                                             0.593842\n",
      "spotify_tempo                                                126.797\n",
      "spotify_time_signature                                             4\n",
      "Name: 0, dtype: object\n"
     ]
    },
    {
     "data": {
      "text/html": [
       "<div>\n",
       "<style scoped>\n",
       "    .dataframe tbody tr th:only-of-type {\n",
       "        vertical-align: middle;\n",
       "    }\n",
       "\n",
       "    .dataframe tbody tr th {\n",
       "        vertical-align: top;\n",
       "    }\n",
       "\n",
       "    .dataframe thead th {\n",
       "        text-align: right;\n",
       "    }\n",
       "</style>\n",
       "<table border=\"1\" class=\"dataframe\">\n",
       "  <thead>\n",
       "    <tr style=\"text-align: right;\">\n",
       "      <th></th>\n",
       "      <th>user_id</th>\n",
       "      <th>user_id_idx</th>\n",
       "      <th>spotify_danceability</th>\n",
       "      <th>spotify_energy</th>\n",
       "      <th>spotify_key</th>\n",
       "      <th>spotify_loudness</th>\n",
       "      <th>spotify_mode</th>\n",
       "      <th>spotify_speechiness</th>\n",
       "      <th>spotify_acousticness</th>\n",
       "      <th>spotify_instrumentalness</th>\n",
       "      <th>spotify_liveness</th>\n",
       "      <th>spotify_valence</th>\n",
       "      <th>spotify_tempo</th>\n",
       "      <th>spotify_time_signature</th>\n",
       "    </tr>\n",
       "  </thead>\n",
       "  <tbody>\n",
       "    <tr>\n",
       "      <th>0</th>\n",
       "      <td>00020e8ba3f9041deed64ec9c60b26ff6bf41c66</td>\n",
       "      <td>0</td>\n",
       "      <td>0.667684</td>\n",
       "      <td>0.646000</td>\n",
       "      <td>5.736842</td>\n",
       "      <td>-9.723579</td>\n",
       "      <td>0.631579</td>\n",
       "      <td>0.158658</td>\n",
       "      <td>0.267152</td>\n",
       "      <td>0.046540</td>\n",
       "      <td>0.184974</td>\n",
       "      <td>0.593842</td>\n",
       "      <td>126.797211</td>\n",
       "      <td>4.000000</td>\n",
       "    </tr>\n",
       "    <tr>\n",
       "      <th>38262</th>\n",
       "      <td>e9be7dc31c5f9651bed36308ae4b8412d38abde4</td>\n",
       "      <td>38266</td>\n",
       "      <td>0.540333</td>\n",
       "      <td>0.597467</td>\n",
       "      <td>5.466667</td>\n",
       "      <td>-9.811267</td>\n",
       "      <td>0.666667</td>\n",
       "      <td>0.043853</td>\n",
       "      <td>0.226431</td>\n",
       "      <td>0.009511</td>\n",
       "      <td>0.218767</td>\n",
       "      <td>0.605067</td>\n",
       "      <td>126.642400</td>\n",
       "      <td>4.000000</td>\n",
       "    </tr>\n",
       "    <tr>\n",
       "      <th>14099</th>\n",
       "      <td>564004ddac4c508e36fc89e74d463a8559113cef</td>\n",
       "      <td>14100</td>\n",
       "      <td>0.593211</td>\n",
       "      <td>0.519684</td>\n",
       "      <td>5.789474</td>\n",
       "      <td>-9.611053</td>\n",
       "      <td>0.789474</td>\n",
       "      <td>0.077200</td>\n",
       "      <td>0.352807</td>\n",
       "      <td>0.053283</td>\n",
       "      <td>0.206205</td>\n",
       "      <td>0.482968</td>\n",
       "      <td>126.974526</td>\n",
       "      <td>3.842105</td>\n",
       "    </tr>\n",
       "    <tr>\n",
       "      <th>39629</th>\n",
       "      <td>f23cc1fe66ed7780d7b2eac021f013debc4efb83</td>\n",
       "      <td>39634</td>\n",
       "      <td>0.609278</td>\n",
       "      <td>0.590550</td>\n",
       "      <td>5.888889</td>\n",
       "      <td>-9.941722</td>\n",
       "      <td>0.722222</td>\n",
       "      <td>0.122828</td>\n",
       "      <td>0.288464</td>\n",
       "      <td>0.014552</td>\n",
       "      <td>0.194817</td>\n",
       "      <td>0.562111</td>\n",
       "      <td>126.540389</td>\n",
       "      <td>3.944444</td>\n",
       "    </tr>\n",
       "    <tr>\n",
       "      <th>24159</th>\n",
       "      <td>944bf0ef4827e3ac4bbe5f25fd1a5c0136266767</td>\n",
       "      <td>24162</td>\n",
       "      <td>0.581765</td>\n",
       "      <td>0.589865</td>\n",
       "      <td>5.647059</td>\n",
       "      <td>-9.789235</td>\n",
       "      <td>0.882353</td>\n",
       "      <td>0.066276</td>\n",
       "      <td>0.332204</td>\n",
       "      <td>0.213974</td>\n",
       "      <td>0.156018</td>\n",
       "      <td>0.395088</td>\n",
       "      <td>126.754706</td>\n",
       "      <td>4.000000</td>\n",
       "    </tr>\n",
       "  </tbody>\n",
       "</table>\n",
       "</div>"
      ],
      "text/plain": [
       "                                        user_id  user_id_idx  \\\n",
       "0      00020e8ba3f9041deed64ec9c60b26ff6bf41c66            0   \n",
       "38262  e9be7dc31c5f9651bed36308ae4b8412d38abde4        38266   \n",
       "14099  564004ddac4c508e36fc89e74d463a8559113cef        14100   \n",
       "39629  f23cc1fe66ed7780d7b2eac021f013debc4efb83        39634   \n",
       "24159  944bf0ef4827e3ac4bbe5f25fd1a5c0136266767        24162   \n",
       "\n",
       "       spotify_danceability  spotify_energy  spotify_key  spotify_loudness  \\\n",
       "0                  0.667684        0.646000     5.736842         -9.723579   \n",
       "38262              0.540333        0.597467     5.466667         -9.811267   \n",
       "14099              0.593211        0.519684     5.789474         -9.611053   \n",
       "39629              0.609278        0.590550     5.888889         -9.941722   \n",
       "24159              0.581765        0.589865     5.647059         -9.789235   \n",
       "\n",
       "       spotify_mode  spotify_speechiness  spotify_acousticness  \\\n",
       "0          0.631579             0.158658              0.267152   \n",
       "38262      0.666667             0.043853              0.226431   \n",
       "14099      0.789474             0.077200              0.352807   \n",
       "39629      0.722222             0.122828              0.288464   \n",
       "24159      0.882353             0.066276              0.332204   \n",
       "\n",
       "       spotify_instrumentalness  spotify_liveness  spotify_valence  \\\n",
       "0                      0.046540          0.184974         0.593842   \n",
       "38262                  0.009511          0.218767         0.605067   \n",
       "14099                  0.053283          0.206205         0.482968   \n",
       "39629                  0.014552          0.194817         0.562111   \n",
       "24159                  0.213974          0.156018         0.395088   \n",
       "\n",
       "       spotify_tempo  spotify_time_signature  \n",
       "0         126.797211                4.000000  \n",
       "38262     126.642400                4.000000  \n",
       "14099     126.974526                3.842105  \n",
       "39629     126.540389                3.944444  \n",
       "24159     126.754706                4.000000  "
      ]
     },
     "execution_count": 28,
     "metadata": {},
     "output_type": "execute_result"
    }
   ],
   "source": [
    "from sklearn.neighbors import NearestNeighbors\n",
    "\n",
    "number_of_neighbours = 5 # self is included\n",
    "user = users_spotify.iloc[0]\n",
    "\n",
    "knn = NearestNeighbors(n_neighbors=number_of_neighbours)\n",
    "knn.fit(users_spotify[spotify_columns])\n",
    "\n",
    "dist, indices = knn.kneighbors([user[spotify_columns]])\n",
    "\n",
    "print(user)\n",
    "users_spotify.iloc[indices[0]]"
   ]
  },
  {
   "cell_type": "code",
   "execution_count": null,
   "metadata": {},
   "outputs": [],
   "source": []
  },
  {
   "cell_type": "code",
   "execution_count": null,
   "metadata": {},
   "outputs": [],
   "source": []
  },
  {
   "cell_type": "markdown",
   "metadata": {},
   "source": [
    "## users_spotify"
   ]
  },
  {
   "cell_type": "code",
   "execution_count": null,
   "metadata": {},
   "outputs": [],
   "source": [
    "train = pd.read_csv(\"../experiments/triplets/train.csv\")\n",
    "test = pd.read_csv(\"../experiments/triplets/test.csv\")\n",
    "df = pd.concat([train, test])\n",
    "\n",
    "songs = pd.read_csv(\"./songs_artist.csv\")\n",
    "df = df.merge(songs, on=\"song_id\")\n",
    "df['user_id_idx'] = df['user_id_idx'].astype(str)\n",
    "\n",
    "spotify = pd.read_csv('./spotify.csv')"
   ]
  },
  {
   "cell_type": "code",
   "execution_count": null,
   "metadata": {},
   "outputs": [],
   "source": [
    "users_spotify = (\n",
    "    df\n",
    "    .sort_values('play_count',ascending = False)\n",
    "    .groupby('user_id')\n",
    "    .head(20) # get top 20 per user\n",
    "    .merge(spotify, on='song_id')\n",
    "    .groupby(['user_id', 'user_id_idx'])[spotify.columns[1:]]\n",
    "    .mean()\n",
    "    .reset_index()\n",
    ")\n",
    "users_spotify.to_csv(\"users_spotify_cluster.csv\", index=False)"
   ]
  }
 ],
 "metadata": {
  "kernelspec": {
   "display_name": "Python 3",
   "language": "python",
   "name": "python3"
  },
  "language_info": {
   "codemirror_mode": {
    "name": "ipython",
    "version": 3
   },
   "file_extension": ".py",
   "mimetype": "text/x-python",
   "name": "python",
   "nbconvert_exporter": "python",
   "pygments_lexer": "ipython3",
   "version": "3.6.10"
  }
 },
 "nbformat": 4,
 "nbformat_minor": 4
}
